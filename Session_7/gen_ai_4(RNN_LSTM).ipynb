{
  "nbformat": 4,
  "nbformat_minor": 0,
  "metadata": {
    "colab": {
      "provenance": []
    },
    "kernelspec": {
      "name": "python3",
      "display_name": "Python 3"
    },
    "language_info": {
      "name": "python"
    }
  },
  "cells": [
    {
      "cell_type": "code",
      "execution_count": null,
      "metadata": {
        "id": "Eui-WFGBKX0_"
      },
      "outputs": [],
      "source": [
        "import numpy as np\n",
        "import tensorflow\n",
        "from tensorflow.keras.preprocessing.text import Tokenizer\n",
        "from tensorflow.keras.preprocessing.sequence import pad_sequences\n",
        "from tensorflow.keras import models, layers"
      ]
    },
    {
      "cell_type": "code",
      "source": [
        "myfile = open('/content/IndiaUS.txt','r')   #Text file handling\n",
        "mytext = myfile.read()\n",
        "myfile.close()"
      ],
      "metadata": {
        "id": "N8EmPFu5MWf1"
      },
      "execution_count": null,
      "outputs": []
    },
    {
      "cell_type": "code",
      "source": [
        "print(mytext)"
      ],
      "metadata": {
        "colab": {
          "base_uri": "https://localhost:8080/"
        },
        "id": "3oF6biqaOCfK",
        "outputId": "3f0f718d-ceb4-4951-c2f6-c6b6deea75c6"
      },
      "execution_count": null,
      "outputs": [
        {
          "output_type": "stream",
          "name": "stdout",
          "text": [
            "Following a lavish state visit by Indian Prime Minister Narendra Modi to Washington, US President Joe Biden has called his country's partnership with India among the \"most consequential in the world\". The BBC's Vikas Pandey and Soutik Biswas explore the factors that contribute to the visit's potential in strengthening the ties between the two nations.\n",
            "\n",
            "The US's relationship with India - the world's most populous country - is \"stronger, closer and more dynamic than any time in history\", Mr Biden said at the completion of a pomp-filled state visit by Mr Modi to the White House.\n",
            "\n",
            "The remark may not be an exaggeration. \"This summit suggests that the relationship has been transformed. It underscores just how broad and deep it has become in a relatively short time,\" says Michael Kugelman of The Wilson Center, an American think-tank.\n",
            "\n",
            "A key reason is that Washington is keen to draw India closer so that it can act as a counterbalance to China's growing influence in the Indo-Pacific. India-US ties had not lived up to their promise following a landmark civilian nuclear deal in 2005 because a liability law passed by India three years later hobbled purchase of reactors.\n",
            "\n",
            "\"This followed a fading commitment to the relationship during [former prime minister] Manmohan Singh's second term as the leader of a coalition government. With Mr Modi there has been a lot more enthusiasm about embracing the US. Mr Biden has also given an overall broad directive to make it work,\" says Seema Sirohi, author of Friends With Benefits: The India-US Story.\n",
            "\n",
            "Ms Sirohi says the US put in a \"lot of effort to make Mr Modi's visit substantive and have a lot of deliverables\". Defence-industrial cooperation and technology topped the list. Consider this:\n",
            "\n",
            "General Electric and India's state-owned Hindustan Aeronautics Limited will make in India advanced fighter jet engines for the country's indigenous light combat aircraft. This means a \"greater transfer of US jet engine technology than ever before\" - a clear sign that Washington not only wants to sell arms to India but is also comfortable with sharing military technology.\n",
            "India will proceed with a $3bn purchase of the battle-tested MQ-9B Predator drones from General Atomics, which will also set up a facility in India. The drones will be assembled in India, which fits into Mr Modi's 'Make in India' campaign. The US supplies only 11% of India's arms - Russia is the biggest (45%) supplier - but hopes to become the primary provider in the coming years. Mr Kugelman says Washington's immediate goal is to \"strengthen India's military capacity to counter China\".\n",
            "Mr Modi wants to make India a semiconductor base. US memory chip giant Micron Technology will invest up to $825m to build a semiconductor assembly and test facility in India, creating thousands of jobs.\n",
            "US semiconductor equipment maker Lam Research will train 60,000 Indian engineers through a network of interconnected labs and research centres to speed up India's semiconductor education and workforce development. Also Applied Materials, the biggest maker of machines for producing semiconductors, will invest $400m to establish an engineering centre in India.\n",
            "\"It is all about the future now. Both sides are talking about cutting-edge technologies and how to seed and shape the future,\" says Ms Sirohi.\n",
            "\n",
            ": U.S. President Joe Biden and first lady Jill Biden welcome India Prime Minister Narendra Modi to the White House on June 21, 2023 in Washington, DC\n",
            "Mr Biden and Mrs Biden welcome Mr Modi to the White House\n",
            "The India-US relationship has seen many ups and downs since the US seriously began courting India - first under President Bill Clinton and then under the George Bush administration. The response from India was measured, never overeager or too forthcoming.\n",
            "\n",
            "The reason was the way India saw geopolitics and its own place in the global order. The strategy of nonalignment, started by India's first prime minister Jawaharlal Nehru, has always been deeply rooted into India's foreign policy.\n",
            "\n",
            "India never wanted to be seen in one camp or the other, or to be seen as junior strategic partner to a global superpower. Mr Modi has not left the ideals of what some describe as \"strategic altruism\" in Indian foreign policy.\n",
            "\n",
            "But Mr Modi is leading a different kind of India, one which has considerably more economic and geopolitical heft. He has owned the India-US relations - he formed close bonds with former presidents Barack Obama and Donald Trump and now with Mr Biden.\n",
            "\n",
            "But India's \"strategic autonomy\" has not been sacrificed. Washington would have wanted India to go a step further on Russia and probably take a harder public stand on China.\n",
            "\n",
            "But the Biden administration didn't seem disappointed as Mr Modi repeated his line that \"this was not the era of war\" without mentioning Russia. The Indian prime minister did speak about the importance of beefing up humanitarian assistance to Ukraine. He didn't mention China by name either but did talk about the importance of a free and prosperous Indo-Pacific.\n",
            "\n",
            "This is how far Mr Modi could have pushed his administration's policy without compromising on strategic autonomy. It may not have been the ideal way for Washington but it didn't come in the way of making Mr Modi's visit a success.\n",
            "\n",
            "The United States Air Force (USAF) and Indian Air Force (IAF) personnel are posing in front of a United States Air Force (USAF) F-15 Eagle fighter jet during the joint 'Exercise Cope India 2023' at the air force station in Kalaikunda, around 170 km west of Kolkata, on April 24th, 2023. \n",
            "US and Indian air force personnel pose in front of a US fighter jet during a joint exercise in India in April\n",
            "\"The two militaries are working more closely together. They now have arrangements in place where they could use each other's facilities for refuelling and maintenance purposes. They are holding joint exercises and they're sharing a lot more intelligence. Credit to Mr Modi for managing to really test the limits of strategic autonomy. In the sense that he is getting about as close as you can to a major power without signing on to a full-fledged alliance,\" Mr Kugelman says.\n",
            "\n",
            "India and the US have had major trade differences in recent years over tariffs. Trade relations particularly suffered during the Trump administration.\n",
            "\n",
            "The two sides were not expected to announce anything major in trade as it was understood that the discussions over that could continue later without overshadowing the visit.\n",
            "\n",
            "But surprisingly, the two sides announced that six separate trade disputes at the World Trade Organization were resolved, including one that involved tariffs.\n",
            "\n",
            "The US is now India's top trading partner at $130bn in goods and Delhi is Washington's eighth largest partner. While these numbers are impressive, analysts and policymakers feel there is a huge untapped potential. India is also a burgeoning market with an expanding middle class and it's been positioning itself as an alternative to China to become a manufacturing hub for the world.\n",
            "\n",
            "President Joe Biden and Indian Prime Minister Narendra Modi participate in an arrival ceremony on the South Lawn of the White House on Thursday, June 22, 2023 in Washington, DC. President Biden is the first U.S. President to invite Prime Minister Modi for an official state visit\n",
            "Some 2.7 million Indians live in the US\n",
            "Many global firms and nations are interested in the proposal as they look to free the global supply chain from China's dominance. In that context, the resolution of trade disputes will give further impetus to unlocking the full potential of India-US trade ties. Mr Modi has said that \"even sky is not the limit (for India-US) ties\".\n",
            "\n",
            "Critics in Washington have questioned India's \"democratic backsliding\" under Mr Modi and his Hindu nationalist Bharatiya Janata Party (BJP). Mr Obama, in a television interview this week, emphasised the significance of addressing the \"protection of the Muslim minority in a predominantly Hindu India\" during discussions between Mr Biden and Mr Modi. \"The progressives in the Democratic Party are disturbed by what is happening in India. The realists and centrists are all for strengthening the relationship because of the China factor,\" says Ms Sirohi.\n",
            "\n",
            "But on the whole, there is a bipartisan agreement to make the relationship deeper and broader. \"The India-US strategic partnership has certainly moved to the next level. It's one of mutual need and mutual benefit,\" says Ms Sirohi.\n"
          ]
        }
      ]
    },
    {
      "cell_type": "code",
      "source": [
        "#Tokenization & Integer encoding\n",
        "mytokenizer = Tokenizer()\n",
        "mytokenizer.fit_on_texts([mytext])"
      ],
      "metadata": {
        "id": "r8v7O4A_OdHo"
      },
      "execution_count": null,
      "outputs": []
    },
    {
      "cell_type": "code",
      "source": [
        "mytokenizer.word_index"
      ],
      "metadata": {
        "colab": {
          "base_uri": "https://localhost:8080/"
        },
        "id": "_813l06xP_oP",
        "outputId": "89a69b09-ab97-4999-c676-00478cceed62"
      },
      "execution_count": null,
      "outputs": [
        {
          "output_type": "execute_result",
          "data": {
            "text/plain": [
              "{'the': 1,\n",
              " 'to': 2,\n",
              " 'in': 3,\n",
              " 'a': 4,\n",
              " 'and': 5,\n",
              " 'india': 6,\n",
              " 'of': 7,\n",
              " 'mr': 8,\n",
              " 'us': 9,\n",
              " 'is': 10,\n",
              " 'modi': 11,\n",
              " 'has': 12,\n",
              " 'that': 13,\n",
              " 'biden': 14,\n",
              " 'as': 15,\n",
              " 'with': 16,\n",
              " 'not': 17,\n",
              " \"india's\": 18,\n",
              " 'for': 19,\n",
              " 'but': 20,\n",
              " 'on': 21,\n",
              " 'washington': 22,\n",
              " 'an': 23,\n",
              " 'it': 24,\n",
              " 'says': 25,\n",
              " 'will': 26,\n",
              " 'are': 27,\n",
              " 'indian': 28,\n",
              " 'prime': 29,\n",
              " 'minister': 30,\n",
              " 'this': 31,\n",
              " 'have': 32,\n",
              " 'trade': 33,\n",
              " 'visit': 34,\n",
              " 'by': 35,\n",
              " 'president': 36,\n",
              " 'relationship': 37,\n",
              " 'been': 38,\n",
              " 'about': 39,\n",
              " 'strategic': 40,\n",
              " 'more': 41,\n",
              " 'up': 42,\n",
              " 'during': 43,\n",
              " 'also': 44,\n",
              " 'make': 45,\n",
              " 'sirohi': 46,\n",
              " 'china': 47,\n",
              " 'air': 48,\n",
              " 'force': 49,\n",
              " 'state': 50,\n",
              " 'his': 51,\n",
              " 'ties': 52,\n",
              " 'two': 53,\n",
              " 'at': 54,\n",
              " 'white': 55,\n",
              " 'house': 56,\n",
              " 'be': 57,\n",
              " 'lot': 58,\n",
              " 'ms': 59,\n",
              " 'technology': 60,\n",
              " 'jet': 61,\n",
              " 'semiconductor': 62,\n",
              " 'now': 63,\n",
              " 'first': 64,\n",
              " 'was': 65,\n",
              " 'global': 66,\n",
              " 'one': 67,\n",
              " 'he': 68,\n",
              " 'without': 69,\n",
              " 'they': 70,\n",
              " 'narendra': 71,\n",
              " 'joe': 72,\n",
              " 'world': 73,\n",
              " 'potential': 74,\n",
              " 'how': 75,\n",
              " 'become': 76,\n",
              " 'kugelman': 77,\n",
              " 'years': 78,\n",
              " 'there': 79,\n",
              " \"modi's\": 80,\n",
              " 'fighter': 81,\n",
              " 'from': 82,\n",
              " 'which': 83,\n",
              " 'russia': 84,\n",
              " 'sides': 85,\n",
              " '2023': 86,\n",
              " 'seen': 87,\n",
              " 'under': 88,\n",
              " 'administration': 89,\n",
              " 'or': 90,\n",
              " 'way': 91,\n",
              " 'policy': 92,\n",
              " 'partner': 93,\n",
              " 'autonomy': 94,\n",
              " \"didn't\": 95,\n",
              " 'could': 96,\n",
              " 'joint': 97,\n",
              " 'major': 98,\n",
              " 'following': 99,\n",
              " \"country's\": 100,\n",
              " 'partnership': 101,\n",
              " 'most': 102,\n",
              " 'strengthening': 103,\n",
              " 'between': 104,\n",
              " 'nations': 105,\n",
              " 'closer': 106,\n",
              " 'than': 107,\n",
              " 'time': 108,\n",
              " 'said': 109,\n",
              " 'may': 110,\n",
              " 'broad': 111,\n",
              " 'reason': 112,\n",
              " 'can': 113,\n",
              " \"china's\": 114,\n",
              " 'indo': 115,\n",
              " 'pacific': 116,\n",
              " 'had': 117,\n",
              " 'because': 118,\n",
              " 'later': 119,\n",
              " 'purchase': 120,\n",
              " 'former': 121,\n",
              " 'general': 122,\n",
              " 'owned': 123,\n",
              " 'only': 124,\n",
              " 'wants': 125,\n",
              " 'arms': 126,\n",
              " 'sharing': 127,\n",
              " 'military': 128,\n",
              " 'drones': 129,\n",
              " 'facility': 130,\n",
              " 'into': 131,\n",
              " 'biggest': 132,\n",
              " \"washington's\": 133,\n",
              " 'invest': 134,\n",
              " 'test': 135,\n",
              " 'maker': 136,\n",
              " 'research': 137,\n",
              " 'all': 138,\n",
              " 'future': 139,\n",
              " 'u': 140,\n",
              " 's': 141,\n",
              " 'welcome': 142,\n",
              " 'june': 143,\n",
              " 'dc': 144,\n",
              " 'many': 145,\n",
              " 'never': 146,\n",
              " 'place': 147,\n",
              " 'foreign': 148,\n",
              " 'wanted': 149,\n",
              " 'what': 150,\n",
              " 'some': 151,\n",
              " 'relations': 152,\n",
              " 'close': 153,\n",
              " 'obama': 154,\n",
              " 'trump': 155,\n",
              " 'further': 156,\n",
              " 'did': 157,\n",
              " 'importance': 158,\n",
              " 'free': 159,\n",
              " 'united': 160,\n",
              " 'states': 161,\n",
              " 'usaf': 162,\n",
              " 'personnel': 163,\n",
              " 'front': 164,\n",
              " 'april': 165,\n",
              " 'full': 166,\n",
              " 'over': 167,\n",
              " 'tariffs': 168,\n",
              " 'were': 169,\n",
              " 'discussions': 170,\n",
              " 'disputes': 171,\n",
              " \"it's\": 172,\n",
              " 'democratic': 173,\n",
              " 'hindu': 174,\n",
              " 'party': 175,\n",
              " 'mutual': 176,\n",
              " 'lavish': 177,\n",
              " 'called': 178,\n",
              " 'among': 179,\n",
              " 'consequential': 180,\n",
              " \"bbc's\": 181,\n",
              " 'vikas': 182,\n",
              " 'pandey': 183,\n",
              " 'soutik': 184,\n",
              " 'biswas': 185,\n",
              " 'explore': 186,\n",
              " 'factors': 187,\n",
              " 'contribute': 188,\n",
              " \"visit's\": 189,\n",
              " \"us's\": 190,\n",
              " \"world's\": 191,\n",
              " 'populous': 192,\n",
              " 'country': 193,\n",
              " 'stronger': 194,\n",
              " 'dynamic': 195,\n",
              " 'any': 196,\n",
              " 'history': 197,\n",
              " 'completion': 198,\n",
              " 'pomp': 199,\n",
              " 'filled': 200,\n",
              " 'remark': 201,\n",
              " 'exaggeration': 202,\n",
              " 'summit': 203,\n",
              " 'suggests': 204,\n",
              " 'transformed': 205,\n",
              " 'underscores': 206,\n",
              " 'just': 207,\n",
              " 'deep': 208,\n",
              " 'relatively': 209,\n",
              " 'short': 210,\n",
              " 'michael': 211,\n",
              " 'wilson': 212,\n",
              " 'center': 213,\n",
              " 'american': 214,\n",
              " 'think': 215,\n",
              " 'tank': 216,\n",
              " 'key': 217,\n",
              " 'keen': 218,\n",
              " 'draw': 219,\n",
              " 'so': 220,\n",
              " 'act': 221,\n",
              " 'counterbalance': 222,\n",
              " 'growing': 223,\n",
              " 'influence': 224,\n",
              " 'lived': 225,\n",
              " 'their': 226,\n",
              " 'promise': 227,\n",
              " 'landmark': 228,\n",
              " 'civilian': 229,\n",
              " 'nuclear': 230,\n",
              " 'deal': 231,\n",
              " '2005': 232,\n",
              " 'liability': 233,\n",
              " 'law': 234,\n",
              " 'passed': 235,\n",
              " 'three': 236,\n",
              " 'hobbled': 237,\n",
              " 'reactors': 238,\n",
              " 'followed': 239,\n",
              " 'fading': 240,\n",
              " 'commitment': 241,\n",
              " 'manmohan': 242,\n",
              " \"singh's\": 243,\n",
              " 'second': 244,\n",
              " 'term': 245,\n",
              " 'leader': 246,\n",
              " 'coalition': 247,\n",
              " 'government': 248,\n",
              " 'enthusiasm': 249,\n",
              " 'embracing': 250,\n",
              " 'given': 251,\n",
              " 'overall': 252,\n",
              " 'directive': 253,\n",
              " 'work': 254,\n",
              " 'seema': 255,\n",
              " 'author': 256,\n",
              " 'friends': 257,\n",
              " 'benefits': 258,\n",
              " 'story': 259,\n",
              " 'put': 260,\n",
              " 'effort': 261,\n",
              " 'substantive': 262,\n",
              " 'deliverables': 263,\n",
              " 'defence': 264,\n",
              " 'industrial': 265,\n",
              " 'cooperation': 266,\n",
              " 'topped': 267,\n",
              " 'list': 268,\n",
              " 'consider': 269,\n",
              " 'electric': 270,\n",
              " 'hindustan': 271,\n",
              " 'aeronautics': 272,\n",
              " 'limited': 273,\n",
              " 'advanced': 274,\n",
              " 'engines': 275,\n",
              " 'indigenous': 276,\n",
              " 'light': 277,\n",
              " 'combat': 278,\n",
              " 'aircraft': 279,\n",
              " 'means': 280,\n",
              " 'greater': 281,\n",
              " 'transfer': 282,\n",
              " 'engine': 283,\n",
              " 'ever': 284,\n",
              " 'before': 285,\n",
              " 'clear': 286,\n",
              " 'sign': 287,\n",
              " 'sell': 288,\n",
              " 'comfortable': 289,\n",
              " 'proceed': 290,\n",
              " '3bn': 291,\n",
              " 'battle': 292,\n",
              " 'tested': 293,\n",
              " 'mq': 294,\n",
              " '9b': 295,\n",
              " 'predator': 296,\n",
              " 'atomics': 297,\n",
              " 'set': 298,\n",
              " 'assembled': 299,\n",
              " 'fits': 300,\n",
              " \"'make\": 301,\n",
              " \"india'\": 302,\n",
              " 'campaign': 303,\n",
              " 'supplies': 304,\n",
              " '11': 305,\n",
              " '45': 306,\n",
              " 'supplier': 307,\n",
              " 'hopes': 308,\n",
              " 'primary': 309,\n",
              " 'provider': 310,\n",
              " 'coming': 311,\n",
              " 'immediate': 312,\n",
              " 'goal': 313,\n",
              " 'strengthen': 314,\n",
              " 'capacity': 315,\n",
              " 'counter': 316,\n",
              " 'base': 317,\n",
              " 'memory': 318,\n",
              " 'chip': 319,\n",
              " 'giant': 320,\n",
              " 'micron': 321,\n",
              " '825m': 322,\n",
              " 'build': 323,\n",
              " 'assembly': 324,\n",
              " 'creating': 325,\n",
              " 'thousands': 326,\n",
              " 'jobs': 327,\n",
              " 'equipment': 328,\n",
              " 'lam': 329,\n",
              " 'train': 330,\n",
              " '60': 331,\n",
              " '000': 332,\n",
              " 'engineers': 333,\n",
              " 'through': 334,\n",
              " 'network': 335,\n",
              " 'interconnected': 336,\n",
              " 'labs': 337,\n",
              " 'centres': 338,\n",
              " 'speed': 339,\n",
              " 'education': 340,\n",
              " 'workforce': 341,\n",
              " 'development': 342,\n",
              " 'applied': 343,\n",
              " 'materials': 344,\n",
              " 'machines': 345,\n",
              " 'producing': 346,\n",
              " 'semiconductors': 347,\n",
              " '400m': 348,\n",
              " 'establish': 349,\n",
              " 'engineering': 350,\n",
              " 'centre': 351,\n",
              " 'both': 352,\n",
              " 'talking': 353,\n",
              " 'cutting': 354,\n",
              " 'edge': 355,\n",
              " 'technologies': 356,\n",
              " 'seed': 357,\n",
              " 'shape': 358,\n",
              " 'lady': 359,\n",
              " 'jill': 360,\n",
              " '21': 361,\n",
              " 'mrs': 362,\n",
              " 'ups': 363,\n",
              " 'downs': 364,\n",
              " 'since': 365,\n",
              " 'seriously': 366,\n",
              " 'began': 367,\n",
              " 'courting': 368,\n",
              " 'bill': 369,\n",
              " 'clinton': 370,\n",
              " 'then': 371,\n",
              " 'george': 372,\n",
              " 'bush': 373,\n",
              " 'response': 374,\n",
              " 'measured': 375,\n",
              " 'overeager': 376,\n",
              " 'too': 377,\n",
              " 'forthcoming': 378,\n",
              " 'saw': 379,\n",
              " 'geopolitics': 380,\n",
              " 'its': 381,\n",
              " 'own': 382,\n",
              " 'order': 383,\n",
              " 'strategy': 384,\n",
              " 'nonalignment': 385,\n",
              " 'started': 386,\n",
              " 'jawaharlal': 387,\n",
              " 'nehru': 388,\n",
              " 'always': 389,\n",
              " 'deeply': 390,\n",
              " 'rooted': 391,\n",
              " 'camp': 392,\n",
              " 'other': 393,\n",
              " 'junior': 394,\n",
              " 'superpower': 395,\n",
              " 'left': 396,\n",
              " 'ideals': 397,\n",
              " 'describe': 398,\n",
              " 'altruism': 399,\n",
              " 'leading': 400,\n",
              " 'different': 401,\n",
              " 'kind': 402,\n",
              " 'considerably': 403,\n",
              " 'economic': 404,\n",
              " 'geopolitical': 405,\n",
              " 'heft': 406,\n",
              " 'formed': 407,\n",
              " 'bonds': 408,\n",
              " 'presidents': 409,\n",
              " 'barack': 410,\n",
              " 'donald': 411,\n",
              " 'sacrificed': 412,\n",
              " 'would': 413,\n",
              " 'go': 414,\n",
              " 'step': 415,\n",
              " 'probably': 416,\n",
              " 'take': 417,\n",
              " 'harder': 418,\n",
              " 'public': 419,\n",
              " 'stand': 420,\n",
              " 'seem': 421,\n",
              " 'disappointed': 422,\n",
              " 'repeated': 423,\n",
              " 'line': 424,\n",
              " 'era': 425,\n",
              " 'war': 426,\n",
              " 'mentioning': 427,\n",
              " 'speak': 428,\n",
              " 'beefing': 429,\n",
              " 'humanitarian': 430,\n",
              " 'assistance': 431,\n",
              " 'ukraine': 432,\n",
              " 'mention': 433,\n",
              " 'name': 434,\n",
              " 'either': 435,\n",
              " 'talk': 436,\n",
              " 'prosperous': 437,\n",
              " 'far': 438,\n",
              " 'pushed': 439,\n",
              " \"administration's\": 440,\n",
              " 'compromising': 441,\n",
              " 'ideal': 442,\n",
              " 'come': 443,\n",
              " 'making': 444,\n",
              " 'success': 445,\n",
              " 'iaf': 446,\n",
              " 'posing': 447,\n",
              " 'f': 448,\n",
              " '15': 449,\n",
              " 'eagle': 450,\n",
              " \"'exercise\": 451,\n",
              " 'cope': 452,\n",
              " \"2023'\": 453,\n",
              " 'station': 454,\n",
              " 'kalaikunda': 455,\n",
              " 'around': 456,\n",
              " '170': 457,\n",
              " 'km': 458,\n",
              " 'west': 459,\n",
              " 'kolkata': 460,\n",
              " '24th': 461,\n",
              " 'pose': 462,\n",
              " 'exercise': 463,\n",
              " 'militaries': 464,\n",
              " 'working': 465,\n",
              " 'closely': 466,\n",
              " 'together': 467,\n",
              " 'arrangements': 468,\n",
              " 'where': 469,\n",
              " 'use': 470,\n",
              " 'each': 471,\n",
              " \"other's\": 472,\n",
              " 'facilities': 473,\n",
              " 'refuelling': 474,\n",
              " 'maintenance': 475,\n",
              " 'purposes': 476,\n",
              " 'holding': 477,\n",
              " 'exercises': 478,\n",
              " \"they're\": 479,\n",
              " 'intelligence': 480,\n",
              " 'credit': 481,\n",
              " 'managing': 482,\n",
              " 'really': 483,\n",
              " 'limits': 484,\n",
              " 'sense': 485,\n",
              " 'getting': 486,\n",
              " 'you': 487,\n",
              " 'power': 488,\n",
              " 'signing': 489,\n",
              " 'fledged': 490,\n",
              " 'alliance': 491,\n",
              " 'differences': 492,\n",
              " 'recent': 493,\n",
              " 'particularly': 494,\n",
              " 'suffered': 495,\n",
              " 'expected': 496,\n",
              " 'announce': 497,\n",
              " 'anything': 498,\n",
              " 'understood': 499,\n",
              " 'continue': 500,\n",
              " 'overshadowing': 501,\n",
              " 'surprisingly': 502,\n",
              " 'announced': 503,\n",
              " 'six': 504,\n",
              " 'separate': 505,\n",
              " 'organization': 506,\n",
              " 'resolved': 507,\n",
              " 'including': 508,\n",
              " 'involved': 509,\n",
              " 'top': 510,\n",
              " 'trading': 511,\n",
              " '130bn': 512,\n",
              " 'goods': 513,\n",
              " 'delhi': 514,\n",
              " 'eighth': 515,\n",
              " 'largest': 516,\n",
              " 'while': 517,\n",
              " 'these': 518,\n",
              " 'numbers': 519,\n",
              " 'impressive': 520,\n",
              " 'analysts': 521,\n",
              " 'policymakers': 522,\n",
              " 'feel': 523,\n",
              " 'huge': 524,\n",
              " 'untapped': 525,\n",
              " 'burgeoning': 526,\n",
              " 'market': 527,\n",
              " 'expanding': 528,\n",
              " 'middle': 529,\n",
              " 'class': 530,\n",
              " 'positioning': 531,\n",
              " 'itself': 532,\n",
              " 'alternative': 533,\n",
              " 'manufacturing': 534,\n",
              " 'hub': 535,\n",
              " 'participate': 536,\n",
              " 'arrival': 537,\n",
              " 'ceremony': 538,\n",
              " 'south': 539,\n",
              " 'lawn': 540,\n",
              " 'thursday': 541,\n",
              " '22': 542,\n",
              " 'invite': 543,\n",
              " 'official': 544,\n",
              " '2': 545,\n",
              " '7': 546,\n",
              " 'million': 547,\n",
              " 'indians': 548,\n",
              " 'live': 549,\n",
              " 'firms': 550,\n",
              " 'interested': 551,\n",
              " 'proposal': 552,\n",
              " 'look': 553,\n",
              " 'supply': 554,\n",
              " 'chain': 555,\n",
              " 'dominance': 556,\n",
              " 'context': 557,\n",
              " 'resolution': 558,\n",
              " 'give': 559,\n",
              " 'impetus': 560,\n",
              " 'unlocking': 561,\n",
              " 'even': 562,\n",
              " 'sky': 563,\n",
              " 'limit': 564,\n",
              " 'critics': 565,\n",
              " 'questioned': 566,\n",
              " 'backsliding': 567,\n",
              " 'nationalist': 568,\n",
              " 'bharatiya': 569,\n",
              " 'janata': 570,\n",
              " 'bjp': 571,\n",
              " 'television': 572,\n",
              " 'interview': 573,\n",
              " 'week': 574,\n",
              " 'emphasised': 575,\n",
              " 'significance': 576,\n",
              " 'addressing': 577,\n",
              " 'protection': 578,\n",
              " 'muslim': 579,\n",
              " 'minority': 580,\n",
              " 'predominantly': 581,\n",
              " 'progressives': 582,\n",
              " 'disturbed': 583,\n",
              " 'happening': 584,\n",
              " 'realists': 585,\n",
              " 'centrists': 586,\n",
              " 'factor': 587,\n",
              " 'whole': 588,\n",
              " 'bipartisan': 589,\n",
              " 'agreement': 590,\n",
              " 'deeper': 591,\n",
              " 'broader': 592,\n",
              " 'certainly': 593,\n",
              " 'moved': 594,\n",
              " 'next': 595,\n",
              " 'level': 596,\n",
              " 'need': 597,\n",
              " 'benefit': 598}"
            ]
          },
          "metadata": {},
          "execution_count": 5
        }
      ]
    },
    {
      "cell_type": "code",
      "source": [
        "total_words = len(mytokenizer.word_index) + 1\n",
        "print(total_words)"
      ],
      "metadata": {
        "colab": {
          "base_uri": "https://localhost:8080/"
        },
        "id": "4WLnpBGZQE7a",
        "outputId": "1b660921-48bb-4097-d4cd-8159bc79fa74"
      },
      "execution_count": null,
      "outputs": [
        {
          "output_type": "stream",
          "name": "stdout",
          "text": [
            "599\n"
          ]
        }
      ]
    },
    {
      "cell_type": "code",
      "source": [
        "mytext.split('\\n')"
      ],
      "metadata": {
        "colab": {
          "base_uri": "https://localhost:8080/"
        },
        "id": "cQQ2YoTLQ8Y5",
        "outputId": "3a12ee36-3c82-45db-a8e3-366c6795409f"
      },
      "execution_count": null,
      "outputs": [
        {
          "output_type": "execute_result",
          "data": {
            "text/plain": [
              "['Following a lavish state visit by Indian Prime Minister Narendra Modi to Washington, US President Joe Biden has called his country\\'s partnership with India among the \"most consequential in the world\". The BBC\\'s Vikas Pandey and Soutik Biswas explore the factors that contribute to the visit\\'s potential in strengthening the ties between the two nations.',\n",
              " '',\n",
              " 'The US\\'s relationship with India - the world\\'s most populous country - is \"stronger, closer and more dynamic than any time in history\", Mr Biden said at the completion of a pomp-filled state visit by Mr Modi to the White House.',\n",
              " '',\n",
              " 'The remark may not be an exaggeration. \"This summit suggests that the relationship has been transformed. It underscores just how broad and deep it has become in a relatively short time,\" says Michael Kugelman of The Wilson Center, an American think-tank.',\n",
              " '',\n",
              " \"A key reason is that Washington is keen to draw India closer so that it can act as a counterbalance to China's growing influence in the Indo-Pacific. India-US ties had not lived up to their promise following a landmark civilian nuclear deal in 2005 because a liability law passed by India three years later hobbled purchase of reactors.\",\n",
              " '',\n",
              " '\"This followed a fading commitment to the relationship during [former prime minister] Manmohan Singh\\'s second term as the leader of a coalition government. With Mr Modi there has been a lot more enthusiasm about embracing the US. Mr Biden has also given an overall broad directive to make it work,\" says Seema Sirohi, author of Friends With Benefits: The India-US Story.',\n",
              " '',\n",
              " 'Ms Sirohi says the US put in a \"lot of effort to make Mr Modi\\'s visit substantive and have a lot of deliverables\". Defence-industrial cooperation and technology topped the list. Consider this:',\n",
              " '',\n",
              " 'General Electric and India\\'s state-owned Hindustan Aeronautics Limited will make in India advanced fighter jet engines for the country\\'s indigenous light combat aircraft. This means a \"greater transfer of US jet engine technology than ever before\" - a clear sign that Washington not only wants to sell arms to India but is also comfortable with sharing military technology.',\n",
              " 'India will proceed with a $3bn purchase of the battle-tested MQ-9B Predator drones from General Atomics, which will also set up a facility in India. The drones will be assembled in India, which fits into Mr Modi\\'s \\'Make in India\\' campaign. The US supplies only 11% of India\\'s arms - Russia is the biggest (45%) supplier - but hopes to become the primary provider in the coming years. Mr Kugelman says Washington\\'s immediate goal is to \"strengthen India\\'s military capacity to counter China\".',\n",
              " 'Mr Modi wants to make India a semiconductor base. US memory chip giant Micron Technology will invest up to $825m to build a semiconductor assembly and test facility in India, creating thousands of jobs.',\n",
              " \"US semiconductor equipment maker Lam Research will train 60,000 Indian engineers through a network of interconnected labs and research centres to speed up India's semiconductor education and workforce development. Also Applied Materials, the biggest maker of machines for producing semiconductors, will invest $400m to establish an engineering centre in India.\",\n",
              " '\"It is all about the future now. Both sides are talking about cutting-edge technologies and how to seed and shape the future,\" says Ms Sirohi.',\n",
              " '',\n",
              " ': U.S. President Joe Biden and first lady Jill Biden welcome India Prime Minister Narendra Modi to the White House on June 21, 2023 in Washington, DC',\n",
              " 'Mr Biden and Mrs Biden welcome Mr Modi to the White House',\n",
              " 'The India-US relationship has seen many ups and downs since the US seriously began courting India - first under President Bill Clinton and then under the George Bush administration. The response from India was measured, never overeager or too forthcoming.',\n",
              " '',\n",
              " \"The reason was the way India saw geopolitics and its own place in the global order. The strategy of nonalignment, started by India's first prime minister Jawaharlal Nehru, has always been deeply rooted into India's foreign policy.\",\n",
              " '',\n",
              " 'India never wanted to be seen in one camp or the other, or to be seen as junior strategic partner to a global superpower. Mr Modi has not left the ideals of what some describe as \"strategic altruism\" in Indian foreign policy.',\n",
              " '',\n",
              " 'But Mr Modi is leading a different kind of India, one which has considerably more economic and geopolitical heft. He has owned the India-US relations - he formed close bonds with former presidents Barack Obama and Donald Trump and now with Mr Biden.',\n",
              " '',\n",
              " 'But India\\'s \"strategic autonomy\" has not been sacrificed. Washington would have wanted India to go a step further on Russia and probably take a harder public stand on China.',\n",
              " '',\n",
              " 'But the Biden administration didn\\'t seem disappointed as Mr Modi repeated his line that \"this was not the era of war\" without mentioning Russia. The Indian prime minister did speak about the importance of beefing up humanitarian assistance to Ukraine. He didn\\'t mention China by name either but did talk about the importance of a free and prosperous Indo-Pacific.',\n",
              " '',\n",
              " \"This is how far Mr Modi could have pushed his administration's policy without compromising on strategic autonomy. It may not have been the ideal way for Washington but it didn't come in the way of making Mr Modi's visit a success.\",\n",
              " '',\n",
              " \"The United States Air Force (USAF) and Indian Air Force (IAF) personnel are posing in front of a United States Air Force (USAF) F-15 Eagle fighter jet during the joint 'Exercise Cope India 2023' at the air force station in Kalaikunda, around 170 km west of Kolkata, on April 24th, 2023. \",\n",
              " 'US and Indian air force personnel pose in front of a US fighter jet during a joint exercise in India in April',\n",
              " '\"The two militaries are working more closely together. They now have arrangements in place where they could use each other\\'s facilities for refuelling and maintenance purposes. They are holding joint exercises and they\\'re sharing a lot more intelligence. Credit to Mr Modi for managing to really test the limits of strategic autonomy. In the sense that he is getting about as close as you can to a major power without signing on to a full-fledged alliance,\" Mr Kugelman says.',\n",
              " '',\n",
              " 'India and the US have had major trade differences in recent years over tariffs. Trade relations particularly suffered during the Trump administration.',\n",
              " '',\n",
              " 'The two sides were not expected to announce anything major in trade as it was understood that the discussions over that could continue later without overshadowing the visit.',\n",
              " '',\n",
              " 'But surprisingly, the two sides announced that six separate trade disputes at the World Trade Organization were resolved, including one that involved tariffs.',\n",
              " '',\n",
              " \"The US is now India's top trading partner at $130bn in goods and Delhi is Washington's eighth largest partner. While these numbers are impressive, analysts and policymakers feel there is a huge untapped potential. India is also a burgeoning market with an expanding middle class and it's been positioning itself as an alternative to China to become a manufacturing hub for the world.\",\n",
              " '',\n",
              " 'President Joe Biden and Indian Prime Minister Narendra Modi participate in an arrival ceremony on the South Lawn of the White House on Thursday, June 22, 2023 in Washington, DC. President Biden is the first U.S. President to invite Prime Minister Modi for an official state visit',\n",
              " 'Some 2.7 million Indians live in the US',\n",
              " 'Many global firms and nations are interested in the proposal as they look to free the global supply chain from China\\'s dominance. In that context, the resolution of trade disputes will give further impetus to unlocking the full potential of India-US trade ties. Mr Modi has said that \"even sky is not the limit (for India-US) ties\".',\n",
              " '',\n",
              " 'Critics in Washington have questioned India\\'s \"democratic backsliding\" under Mr Modi and his Hindu nationalist Bharatiya Janata Party (BJP). Mr Obama, in a television interview this week, emphasised the significance of addressing the \"protection of the Muslim minority in a predominantly Hindu India\" during discussions between Mr Biden and Mr Modi. \"The progressives in the Democratic Party are disturbed by what is happening in India. The realists and centrists are all for strengthening the relationship because of the China factor,\" says Ms Sirohi.',\n",
              " '',\n",
              " 'But on the whole, there is a bipartisan agreement to make the relationship deeper and broader. \"The India-US strategic partnership has certainly moved to the next level. It\\'s one of mutual need and mutual benefit,\" says Ms Sirohi.']"
            ]
          },
          "metadata": {},
          "execution_count": 7
        }
      ]
    },
    {
      "cell_type": "code",
      "source": [
        "a = [[2]]\n",
        "print(a[0])"
      ],
      "metadata": {
        "colab": {
          "base_uri": "https://localhost:8080/"
        },
        "id": "xfkC-HChR0tE",
        "outputId": "8cc26750-f19d-4df0-b5f3-2dec9eab5352"
      },
      "execution_count": null,
      "outputs": [
        {
          "output_type": "stream",
          "name": "stdout",
          "text": [
            "[2]\n"
          ]
        }
      ]
    },
    {
      "cell_type": "code",
      "source": [
        "my_input_sequences = []\n",
        "\n",
        "for line in mytext.split('\\n'):\n",
        "  #print(line)\n",
        "  #print(mytokenizer.texts_to_sequences([line])[0])\n",
        "  token_list = (mytokenizer.texts_to_sequences([line])[0])\n",
        "  #print(token_list)\n",
        "  #print(len(token_list))\n",
        "  for i in range(1,len(token_list)):\n",
        "    #print(token_list[0:i+1])\n",
        "    my_n_gram_sequences = token_list[0:i+1]\n",
        "    my_input_sequences.append(my_n_gram_sequences)"
      ],
      "metadata": {
        "id": "nMlm8vREQPtr"
      },
      "execution_count": null,
      "outputs": []
    },
    {
      "cell_type": "code",
      "source": [
        "print(my_input_sequences)"
      ],
      "metadata": {
        "colab": {
          "base_uri": "https://localhost:8080/"
        },
        "id": "SyfTGMnRQbPN",
        "outputId": "56d4aaf7-945f-490a-c909-9b685575805f"
      },
      "execution_count": null,
      "outputs": [
        {
          "output_type": "stream",
          "name": "stdout",
          "text": [
            "[[99, 4], [99, 4, 177], [99, 4, 177, 50], [99, 4, 177, 50, 34], [99, 4, 177, 50, 34, 35], [99, 4, 177, 50, 34, 35, 28], [99, 4, 177, 50, 34, 35, 28, 29], [99, 4, 177, 50, 34, 35, 28, 29, 30], [99, 4, 177, 50, 34, 35, 28, 29, 30, 71], [99, 4, 177, 50, 34, 35, 28, 29, 30, 71, 11], [99, 4, 177, 50, 34, 35, 28, 29, 30, 71, 11, 2], [99, 4, 177, 50, 34, 35, 28, 29, 30, 71, 11, 2, 22], [99, 4, 177, 50, 34, 35, 28, 29, 30, 71, 11, 2, 22, 9], [99, 4, 177, 50, 34, 35, 28, 29, 30, 71, 11, 2, 22, 9, 36], [99, 4, 177, 50, 34, 35, 28, 29, 30, 71, 11, 2, 22, 9, 36, 72], [99, 4, 177, 50, 34, 35, 28, 29, 30, 71, 11, 2, 22, 9, 36, 72, 14], [99, 4, 177, 50, 34, 35, 28, 29, 30, 71, 11, 2, 22, 9, 36, 72, 14, 12], [99, 4, 177, 50, 34, 35, 28, 29, 30, 71, 11, 2, 22, 9, 36, 72, 14, 12, 178], [99, 4, 177, 50, 34, 35, 28, 29, 30, 71, 11, 2, 22, 9, 36, 72, 14, 12, 178, 51], [99, 4, 177, 50, 34, 35, 28, 29, 30, 71, 11, 2, 22, 9, 36, 72, 14, 12, 178, 51, 100], [99, 4, 177, 50, 34, 35, 28, 29, 30, 71, 11, 2, 22, 9, 36, 72, 14, 12, 178, 51, 100, 101], [99, 4, 177, 50, 34, 35, 28, 29, 30, 71, 11, 2, 22, 9, 36, 72, 14, 12, 178, 51, 100, 101, 16], [99, 4, 177, 50, 34, 35, 28, 29, 30, 71, 11, 2, 22, 9, 36, 72, 14, 12, 178, 51, 100, 101, 16, 6], [99, 4, 177, 50, 34, 35, 28, 29, 30, 71, 11, 2, 22, 9, 36, 72, 14, 12, 178, 51, 100, 101, 16, 6, 179], [99, 4, 177, 50, 34, 35, 28, 29, 30, 71, 11, 2, 22, 9, 36, 72, 14, 12, 178, 51, 100, 101, 16, 6, 179, 1], [99, 4, 177, 50, 34, 35, 28, 29, 30, 71, 11, 2, 22, 9, 36, 72, 14, 12, 178, 51, 100, 101, 16, 6, 179, 1, 102], [99, 4, 177, 50, 34, 35, 28, 29, 30, 71, 11, 2, 22, 9, 36, 72, 14, 12, 178, 51, 100, 101, 16, 6, 179, 1, 102, 180], [99, 4, 177, 50, 34, 35, 28, 29, 30, 71, 11, 2, 22, 9, 36, 72, 14, 12, 178, 51, 100, 101, 16, 6, 179, 1, 102, 180, 3], [99, 4, 177, 50, 34, 35, 28, 29, 30, 71, 11, 2, 22, 9, 36, 72, 14, 12, 178, 51, 100, 101, 16, 6, 179, 1, 102, 180, 3, 1], [99, 4, 177, 50, 34, 35, 28, 29, 30, 71, 11, 2, 22, 9, 36, 72, 14, 12, 178, 51, 100, 101, 16, 6, 179, 1, 102, 180, 3, 1, 73], [99, 4, 177, 50, 34, 35, 28, 29, 30, 71, 11, 2, 22, 9, 36, 72, 14, 12, 178, 51, 100, 101, 16, 6, 179, 1, 102, 180, 3, 1, 73, 1], [99, 4, 177, 50, 34, 35, 28, 29, 30, 71, 11, 2, 22, 9, 36, 72, 14, 12, 178, 51, 100, 101, 16, 6, 179, 1, 102, 180, 3, 1, 73, 1, 181], [99, 4, 177, 50, 34, 35, 28, 29, 30, 71, 11, 2, 22, 9, 36, 72, 14, 12, 178, 51, 100, 101, 16, 6, 179, 1, 102, 180, 3, 1, 73, 1, 181, 182], [99, 4, 177, 50, 34, 35, 28, 29, 30, 71, 11, 2, 22, 9, 36, 72, 14, 12, 178, 51, 100, 101, 16, 6, 179, 1, 102, 180, 3, 1, 73, 1, 181, 182, 183], [99, 4, 177, 50, 34, 35, 28, 29, 30, 71, 11, 2, 22, 9, 36, 72, 14, 12, 178, 51, 100, 101, 16, 6, 179, 1, 102, 180, 3, 1, 73, 1, 181, 182, 183, 5], [99, 4, 177, 50, 34, 35, 28, 29, 30, 71, 11, 2, 22, 9, 36, 72, 14, 12, 178, 51, 100, 101, 16, 6, 179, 1, 102, 180, 3, 1, 73, 1, 181, 182, 183, 5, 184], [99, 4, 177, 50, 34, 35, 28, 29, 30, 71, 11, 2, 22, 9, 36, 72, 14, 12, 178, 51, 100, 101, 16, 6, 179, 1, 102, 180, 3, 1, 73, 1, 181, 182, 183, 5, 184, 185], [99, 4, 177, 50, 34, 35, 28, 29, 30, 71, 11, 2, 22, 9, 36, 72, 14, 12, 178, 51, 100, 101, 16, 6, 179, 1, 102, 180, 3, 1, 73, 1, 181, 182, 183, 5, 184, 185, 186], [99, 4, 177, 50, 34, 35, 28, 29, 30, 71, 11, 2, 22, 9, 36, 72, 14, 12, 178, 51, 100, 101, 16, 6, 179, 1, 102, 180, 3, 1, 73, 1, 181, 182, 183, 5, 184, 185, 186, 1], [99, 4, 177, 50, 34, 35, 28, 29, 30, 71, 11, 2, 22, 9, 36, 72, 14, 12, 178, 51, 100, 101, 16, 6, 179, 1, 102, 180, 3, 1, 73, 1, 181, 182, 183, 5, 184, 185, 186, 1, 187], [99, 4, 177, 50, 34, 35, 28, 29, 30, 71, 11, 2, 22, 9, 36, 72, 14, 12, 178, 51, 100, 101, 16, 6, 179, 1, 102, 180, 3, 1, 73, 1, 181, 182, 183, 5, 184, 185, 186, 1, 187, 13], [99, 4, 177, 50, 34, 35, 28, 29, 30, 71, 11, 2, 22, 9, 36, 72, 14, 12, 178, 51, 100, 101, 16, 6, 179, 1, 102, 180, 3, 1, 73, 1, 181, 182, 183, 5, 184, 185, 186, 1, 187, 13, 188], [99, 4, 177, 50, 34, 35, 28, 29, 30, 71, 11, 2, 22, 9, 36, 72, 14, 12, 178, 51, 100, 101, 16, 6, 179, 1, 102, 180, 3, 1, 73, 1, 181, 182, 183, 5, 184, 185, 186, 1, 187, 13, 188, 2], [99, 4, 177, 50, 34, 35, 28, 29, 30, 71, 11, 2, 22, 9, 36, 72, 14, 12, 178, 51, 100, 101, 16, 6, 179, 1, 102, 180, 3, 1, 73, 1, 181, 182, 183, 5, 184, 185, 186, 1, 187, 13, 188, 2, 1], [99, 4, 177, 50, 34, 35, 28, 29, 30, 71, 11, 2, 22, 9, 36, 72, 14, 12, 178, 51, 100, 101, 16, 6, 179, 1, 102, 180, 3, 1, 73, 1, 181, 182, 183, 5, 184, 185, 186, 1, 187, 13, 188, 2, 1, 189], [99, 4, 177, 50, 34, 35, 28, 29, 30, 71, 11, 2, 22, 9, 36, 72, 14, 12, 178, 51, 100, 101, 16, 6, 179, 1, 102, 180, 3, 1, 73, 1, 181, 182, 183, 5, 184, 185, 186, 1, 187, 13, 188, 2, 1, 189, 74], [99, 4, 177, 50, 34, 35, 28, 29, 30, 71, 11, 2, 22, 9, 36, 72, 14, 12, 178, 51, 100, 101, 16, 6, 179, 1, 102, 180, 3, 1, 73, 1, 181, 182, 183, 5, 184, 185, 186, 1, 187, 13, 188, 2, 1, 189, 74, 3], [99, 4, 177, 50, 34, 35, 28, 29, 30, 71, 11, 2, 22, 9, 36, 72, 14, 12, 178, 51, 100, 101, 16, 6, 179, 1, 102, 180, 3, 1, 73, 1, 181, 182, 183, 5, 184, 185, 186, 1, 187, 13, 188, 2, 1, 189, 74, 3, 103], [99, 4, 177, 50, 34, 35, 28, 29, 30, 71, 11, 2, 22, 9, 36, 72, 14, 12, 178, 51, 100, 101, 16, 6, 179, 1, 102, 180, 3, 1, 73, 1, 181, 182, 183, 5, 184, 185, 186, 1, 187, 13, 188, 2, 1, 189, 74, 3, 103, 1], [99, 4, 177, 50, 34, 35, 28, 29, 30, 71, 11, 2, 22, 9, 36, 72, 14, 12, 178, 51, 100, 101, 16, 6, 179, 1, 102, 180, 3, 1, 73, 1, 181, 182, 183, 5, 184, 185, 186, 1, 187, 13, 188, 2, 1, 189, 74, 3, 103, 1, 52], [99, 4, 177, 50, 34, 35, 28, 29, 30, 71, 11, 2, 22, 9, 36, 72, 14, 12, 178, 51, 100, 101, 16, 6, 179, 1, 102, 180, 3, 1, 73, 1, 181, 182, 183, 5, 184, 185, 186, 1, 187, 13, 188, 2, 1, 189, 74, 3, 103, 1, 52, 104], [99, 4, 177, 50, 34, 35, 28, 29, 30, 71, 11, 2, 22, 9, 36, 72, 14, 12, 178, 51, 100, 101, 16, 6, 179, 1, 102, 180, 3, 1, 73, 1, 181, 182, 183, 5, 184, 185, 186, 1, 187, 13, 188, 2, 1, 189, 74, 3, 103, 1, 52, 104, 1], [99, 4, 177, 50, 34, 35, 28, 29, 30, 71, 11, 2, 22, 9, 36, 72, 14, 12, 178, 51, 100, 101, 16, 6, 179, 1, 102, 180, 3, 1, 73, 1, 181, 182, 183, 5, 184, 185, 186, 1, 187, 13, 188, 2, 1, 189, 74, 3, 103, 1, 52, 104, 1, 53], [99, 4, 177, 50, 34, 35, 28, 29, 30, 71, 11, 2, 22, 9, 36, 72, 14, 12, 178, 51, 100, 101, 16, 6, 179, 1, 102, 180, 3, 1, 73, 1, 181, 182, 183, 5, 184, 185, 186, 1, 187, 13, 188, 2, 1, 189, 74, 3, 103, 1, 52, 104, 1, 53, 105], [1, 190], [1, 190, 37], [1, 190, 37, 16], [1, 190, 37, 16, 6], [1, 190, 37, 16, 6, 1], [1, 190, 37, 16, 6, 1, 191], [1, 190, 37, 16, 6, 1, 191, 102], [1, 190, 37, 16, 6, 1, 191, 102, 192], [1, 190, 37, 16, 6, 1, 191, 102, 192, 193], [1, 190, 37, 16, 6, 1, 191, 102, 192, 193, 10], [1, 190, 37, 16, 6, 1, 191, 102, 192, 193, 10, 194], [1, 190, 37, 16, 6, 1, 191, 102, 192, 193, 10, 194, 106], [1, 190, 37, 16, 6, 1, 191, 102, 192, 193, 10, 194, 106, 5], [1, 190, 37, 16, 6, 1, 191, 102, 192, 193, 10, 194, 106, 5, 41], [1, 190, 37, 16, 6, 1, 191, 102, 192, 193, 10, 194, 106, 5, 41, 195], [1, 190, 37, 16, 6, 1, 191, 102, 192, 193, 10, 194, 106, 5, 41, 195, 107], [1, 190, 37, 16, 6, 1, 191, 102, 192, 193, 10, 194, 106, 5, 41, 195, 107, 196], [1, 190, 37, 16, 6, 1, 191, 102, 192, 193, 10, 194, 106, 5, 41, 195, 107, 196, 108], [1, 190, 37, 16, 6, 1, 191, 102, 192, 193, 10, 194, 106, 5, 41, 195, 107, 196, 108, 3], [1, 190, 37, 16, 6, 1, 191, 102, 192, 193, 10, 194, 106, 5, 41, 195, 107, 196, 108, 3, 197], [1, 190, 37, 16, 6, 1, 191, 102, 192, 193, 10, 194, 106, 5, 41, 195, 107, 196, 108, 3, 197, 8], [1, 190, 37, 16, 6, 1, 191, 102, 192, 193, 10, 194, 106, 5, 41, 195, 107, 196, 108, 3, 197, 8, 14], [1, 190, 37, 16, 6, 1, 191, 102, 192, 193, 10, 194, 106, 5, 41, 195, 107, 196, 108, 3, 197, 8, 14, 109], [1, 190, 37, 16, 6, 1, 191, 102, 192, 193, 10, 194, 106, 5, 41, 195, 107, 196, 108, 3, 197, 8, 14, 109, 54], [1, 190, 37, 16, 6, 1, 191, 102, 192, 193, 10, 194, 106, 5, 41, 195, 107, 196, 108, 3, 197, 8, 14, 109, 54, 1], [1, 190, 37, 16, 6, 1, 191, 102, 192, 193, 10, 194, 106, 5, 41, 195, 107, 196, 108, 3, 197, 8, 14, 109, 54, 1, 198], [1, 190, 37, 16, 6, 1, 191, 102, 192, 193, 10, 194, 106, 5, 41, 195, 107, 196, 108, 3, 197, 8, 14, 109, 54, 1, 198, 7], [1, 190, 37, 16, 6, 1, 191, 102, 192, 193, 10, 194, 106, 5, 41, 195, 107, 196, 108, 3, 197, 8, 14, 109, 54, 1, 198, 7, 4], [1, 190, 37, 16, 6, 1, 191, 102, 192, 193, 10, 194, 106, 5, 41, 195, 107, 196, 108, 3, 197, 8, 14, 109, 54, 1, 198, 7, 4, 199], [1, 190, 37, 16, 6, 1, 191, 102, 192, 193, 10, 194, 106, 5, 41, 195, 107, 196, 108, 3, 197, 8, 14, 109, 54, 1, 198, 7, 4, 199, 200], [1, 190, 37, 16, 6, 1, 191, 102, 192, 193, 10, 194, 106, 5, 41, 195, 107, 196, 108, 3, 197, 8, 14, 109, 54, 1, 198, 7, 4, 199, 200, 50], [1, 190, 37, 16, 6, 1, 191, 102, 192, 193, 10, 194, 106, 5, 41, 195, 107, 196, 108, 3, 197, 8, 14, 109, 54, 1, 198, 7, 4, 199, 200, 50, 34], [1, 190, 37, 16, 6, 1, 191, 102, 192, 193, 10, 194, 106, 5, 41, 195, 107, 196, 108, 3, 197, 8, 14, 109, 54, 1, 198, 7, 4, 199, 200, 50, 34, 35], [1, 190, 37, 16, 6, 1, 191, 102, 192, 193, 10, 194, 106, 5, 41, 195, 107, 196, 108, 3, 197, 8, 14, 109, 54, 1, 198, 7, 4, 199, 200, 50, 34, 35, 8], [1, 190, 37, 16, 6, 1, 191, 102, 192, 193, 10, 194, 106, 5, 41, 195, 107, 196, 108, 3, 197, 8, 14, 109, 54, 1, 198, 7, 4, 199, 200, 50, 34, 35, 8, 11], [1, 190, 37, 16, 6, 1, 191, 102, 192, 193, 10, 194, 106, 5, 41, 195, 107, 196, 108, 3, 197, 8, 14, 109, 54, 1, 198, 7, 4, 199, 200, 50, 34, 35, 8, 11, 2], [1, 190, 37, 16, 6, 1, 191, 102, 192, 193, 10, 194, 106, 5, 41, 195, 107, 196, 108, 3, 197, 8, 14, 109, 54, 1, 198, 7, 4, 199, 200, 50, 34, 35, 8, 11, 2, 1], [1, 190, 37, 16, 6, 1, 191, 102, 192, 193, 10, 194, 106, 5, 41, 195, 107, 196, 108, 3, 197, 8, 14, 109, 54, 1, 198, 7, 4, 199, 200, 50, 34, 35, 8, 11, 2, 1, 55], [1, 190, 37, 16, 6, 1, 191, 102, 192, 193, 10, 194, 106, 5, 41, 195, 107, 196, 108, 3, 197, 8, 14, 109, 54, 1, 198, 7, 4, 199, 200, 50, 34, 35, 8, 11, 2, 1, 55, 56], [1, 201], [1, 201, 110], [1, 201, 110, 17], [1, 201, 110, 17, 57], [1, 201, 110, 17, 57, 23], [1, 201, 110, 17, 57, 23, 202], [1, 201, 110, 17, 57, 23, 202, 31], [1, 201, 110, 17, 57, 23, 202, 31, 203], [1, 201, 110, 17, 57, 23, 202, 31, 203, 204], [1, 201, 110, 17, 57, 23, 202, 31, 203, 204, 13], [1, 201, 110, 17, 57, 23, 202, 31, 203, 204, 13, 1], [1, 201, 110, 17, 57, 23, 202, 31, 203, 204, 13, 1, 37], [1, 201, 110, 17, 57, 23, 202, 31, 203, 204, 13, 1, 37, 12], [1, 201, 110, 17, 57, 23, 202, 31, 203, 204, 13, 1, 37, 12, 38], [1, 201, 110, 17, 57, 23, 202, 31, 203, 204, 13, 1, 37, 12, 38, 205], [1, 201, 110, 17, 57, 23, 202, 31, 203, 204, 13, 1, 37, 12, 38, 205, 24], [1, 201, 110, 17, 57, 23, 202, 31, 203, 204, 13, 1, 37, 12, 38, 205, 24, 206], [1, 201, 110, 17, 57, 23, 202, 31, 203, 204, 13, 1, 37, 12, 38, 205, 24, 206, 207], [1, 201, 110, 17, 57, 23, 202, 31, 203, 204, 13, 1, 37, 12, 38, 205, 24, 206, 207, 75], [1, 201, 110, 17, 57, 23, 202, 31, 203, 204, 13, 1, 37, 12, 38, 205, 24, 206, 207, 75, 111], [1, 201, 110, 17, 57, 23, 202, 31, 203, 204, 13, 1, 37, 12, 38, 205, 24, 206, 207, 75, 111, 5], [1, 201, 110, 17, 57, 23, 202, 31, 203, 204, 13, 1, 37, 12, 38, 205, 24, 206, 207, 75, 111, 5, 208], [1, 201, 110, 17, 57, 23, 202, 31, 203, 204, 13, 1, 37, 12, 38, 205, 24, 206, 207, 75, 111, 5, 208, 24], [1, 201, 110, 17, 57, 23, 202, 31, 203, 204, 13, 1, 37, 12, 38, 205, 24, 206, 207, 75, 111, 5, 208, 24, 12], [1, 201, 110, 17, 57, 23, 202, 31, 203, 204, 13, 1, 37, 12, 38, 205, 24, 206, 207, 75, 111, 5, 208, 24, 12, 76], [1, 201, 110, 17, 57, 23, 202, 31, 203, 204, 13, 1, 37, 12, 38, 205, 24, 206, 207, 75, 111, 5, 208, 24, 12, 76, 3], [1, 201, 110, 17, 57, 23, 202, 31, 203, 204, 13, 1, 37, 12, 38, 205, 24, 206, 207, 75, 111, 5, 208, 24, 12, 76, 3, 4], [1, 201, 110, 17, 57, 23, 202, 31, 203, 204, 13, 1, 37, 12, 38, 205, 24, 206, 207, 75, 111, 5, 208, 24, 12, 76, 3, 4, 209], [1, 201, 110, 17, 57, 23, 202, 31, 203, 204, 13, 1, 37, 12, 38, 205, 24, 206, 207, 75, 111, 5, 208, 24, 12, 76, 3, 4, 209, 210], [1, 201, 110, 17, 57, 23, 202, 31, 203, 204, 13, 1, 37, 12, 38, 205, 24, 206, 207, 75, 111, 5, 208, 24, 12, 76, 3, 4, 209, 210, 108], [1, 201, 110, 17, 57, 23, 202, 31, 203, 204, 13, 1, 37, 12, 38, 205, 24, 206, 207, 75, 111, 5, 208, 24, 12, 76, 3, 4, 209, 210, 108, 25], [1, 201, 110, 17, 57, 23, 202, 31, 203, 204, 13, 1, 37, 12, 38, 205, 24, 206, 207, 75, 111, 5, 208, 24, 12, 76, 3, 4, 209, 210, 108, 25, 211], [1, 201, 110, 17, 57, 23, 202, 31, 203, 204, 13, 1, 37, 12, 38, 205, 24, 206, 207, 75, 111, 5, 208, 24, 12, 76, 3, 4, 209, 210, 108, 25, 211, 77], [1, 201, 110, 17, 57, 23, 202, 31, 203, 204, 13, 1, 37, 12, 38, 205, 24, 206, 207, 75, 111, 5, 208, 24, 12, 76, 3, 4, 209, 210, 108, 25, 211, 77, 7], [1, 201, 110, 17, 57, 23, 202, 31, 203, 204, 13, 1, 37, 12, 38, 205, 24, 206, 207, 75, 111, 5, 208, 24, 12, 76, 3, 4, 209, 210, 108, 25, 211, 77, 7, 1], [1, 201, 110, 17, 57, 23, 202, 31, 203, 204, 13, 1, 37, 12, 38, 205, 24, 206, 207, 75, 111, 5, 208, 24, 12, 76, 3, 4, 209, 210, 108, 25, 211, 77, 7, 1, 212], [1, 201, 110, 17, 57, 23, 202, 31, 203, 204, 13, 1, 37, 12, 38, 205, 24, 206, 207, 75, 111, 5, 208, 24, 12, 76, 3, 4, 209, 210, 108, 25, 211, 77, 7, 1, 212, 213], [1, 201, 110, 17, 57, 23, 202, 31, 203, 204, 13, 1, 37, 12, 38, 205, 24, 206, 207, 75, 111, 5, 208, 24, 12, 76, 3, 4, 209, 210, 108, 25, 211, 77, 7, 1, 212, 213, 23], [1, 201, 110, 17, 57, 23, 202, 31, 203, 204, 13, 1, 37, 12, 38, 205, 24, 206, 207, 75, 111, 5, 208, 24, 12, 76, 3, 4, 209, 210, 108, 25, 211, 77, 7, 1, 212, 213, 23, 214], [1, 201, 110, 17, 57, 23, 202, 31, 203, 204, 13, 1, 37, 12, 38, 205, 24, 206, 207, 75, 111, 5, 208, 24, 12, 76, 3, 4, 209, 210, 108, 25, 211, 77, 7, 1, 212, 213, 23, 214, 215], [1, 201, 110, 17, 57, 23, 202, 31, 203, 204, 13, 1, 37, 12, 38, 205, 24, 206, 207, 75, 111, 5, 208, 24, 12, 76, 3, 4, 209, 210, 108, 25, 211, 77, 7, 1, 212, 213, 23, 214, 215, 216], [4, 217], [4, 217, 112], [4, 217, 112, 10], [4, 217, 112, 10, 13], [4, 217, 112, 10, 13, 22], [4, 217, 112, 10, 13, 22, 10], [4, 217, 112, 10, 13, 22, 10, 218], [4, 217, 112, 10, 13, 22, 10, 218, 2], [4, 217, 112, 10, 13, 22, 10, 218, 2, 219], [4, 217, 112, 10, 13, 22, 10, 218, 2, 219, 6], [4, 217, 112, 10, 13, 22, 10, 218, 2, 219, 6, 106], [4, 217, 112, 10, 13, 22, 10, 218, 2, 219, 6, 106, 220], [4, 217, 112, 10, 13, 22, 10, 218, 2, 219, 6, 106, 220, 13], [4, 217, 112, 10, 13, 22, 10, 218, 2, 219, 6, 106, 220, 13, 24], [4, 217, 112, 10, 13, 22, 10, 218, 2, 219, 6, 106, 220, 13, 24, 113], [4, 217, 112, 10, 13, 22, 10, 218, 2, 219, 6, 106, 220, 13, 24, 113, 221], [4, 217, 112, 10, 13, 22, 10, 218, 2, 219, 6, 106, 220, 13, 24, 113, 221, 15], [4, 217, 112, 10, 13, 22, 10, 218, 2, 219, 6, 106, 220, 13, 24, 113, 221, 15, 4], [4, 217, 112, 10, 13, 22, 10, 218, 2, 219, 6, 106, 220, 13, 24, 113, 221, 15, 4, 222], [4, 217, 112, 10, 13, 22, 10, 218, 2, 219, 6, 106, 220, 13, 24, 113, 221, 15, 4, 222, 2], [4, 217, 112, 10, 13, 22, 10, 218, 2, 219, 6, 106, 220, 13, 24, 113, 221, 15, 4, 222, 2, 114], [4, 217, 112, 10, 13, 22, 10, 218, 2, 219, 6, 106, 220, 13, 24, 113, 221, 15, 4, 222, 2, 114, 223], [4, 217, 112, 10, 13, 22, 10, 218, 2, 219, 6, 106, 220, 13, 24, 113, 221, 15, 4, 222, 2, 114, 223, 224], [4, 217, 112, 10, 13, 22, 10, 218, 2, 219, 6, 106, 220, 13, 24, 113, 221, 15, 4, 222, 2, 114, 223, 224, 3], [4, 217, 112, 10, 13, 22, 10, 218, 2, 219, 6, 106, 220, 13, 24, 113, 221, 15, 4, 222, 2, 114, 223, 224, 3, 1], [4, 217, 112, 10, 13, 22, 10, 218, 2, 219, 6, 106, 220, 13, 24, 113, 221, 15, 4, 222, 2, 114, 223, 224, 3, 1, 115], [4, 217, 112, 10, 13, 22, 10, 218, 2, 219, 6, 106, 220, 13, 24, 113, 221, 15, 4, 222, 2, 114, 223, 224, 3, 1, 115, 116], [4, 217, 112, 10, 13, 22, 10, 218, 2, 219, 6, 106, 220, 13, 24, 113, 221, 15, 4, 222, 2, 114, 223, 224, 3, 1, 115, 116, 6], [4, 217, 112, 10, 13, 22, 10, 218, 2, 219, 6, 106, 220, 13, 24, 113, 221, 15, 4, 222, 2, 114, 223, 224, 3, 1, 115, 116, 6, 9], [4, 217, 112, 10, 13, 22, 10, 218, 2, 219, 6, 106, 220, 13, 24, 113, 221, 15, 4, 222, 2, 114, 223, 224, 3, 1, 115, 116, 6, 9, 52], [4, 217, 112, 10, 13, 22, 10, 218, 2, 219, 6, 106, 220, 13, 24, 113, 221, 15, 4, 222, 2, 114, 223, 224, 3, 1, 115, 116, 6, 9, 52, 117], [4, 217, 112, 10, 13, 22, 10, 218, 2, 219, 6, 106, 220, 13, 24, 113, 221, 15, 4, 222, 2, 114, 223, 224, 3, 1, 115, 116, 6, 9, 52, 117, 17], [4, 217, 112, 10, 13, 22, 10, 218, 2, 219, 6, 106, 220, 13, 24, 113, 221, 15, 4, 222, 2, 114, 223, 224, 3, 1, 115, 116, 6, 9, 52, 117, 17, 225], [4, 217, 112, 10, 13, 22, 10, 218, 2, 219, 6, 106, 220, 13, 24, 113, 221, 15, 4, 222, 2, 114, 223, 224, 3, 1, 115, 116, 6, 9, 52, 117, 17, 225, 42], [4, 217, 112, 10, 13, 22, 10, 218, 2, 219, 6, 106, 220, 13, 24, 113, 221, 15, 4, 222, 2, 114, 223, 224, 3, 1, 115, 116, 6, 9, 52, 117, 17, 225, 42, 2], [4, 217, 112, 10, 13, 22, 10, 218, 2, 219, 6, 106, 220, 13, 24, 113, 221, 15, 4, 222, 2, 114, 223, 224, 3, 1, 115, 116, 6, 9, 52, 117, 17, 225, 42, 2, 226], [4, 217, 112, 10, 13, 22, 10, 218, 2, 219, 6, 106, 220, 13, 24, 113, 221, 15, 4, 222, 2, 114, 223, 224, 3, 1, 115, 116, 6, 9, 52, 117, 17, 225, 42, 2, 226, 227], [4, 217, 112, 10, 13, 22, 10, 218, 2, 219, 6, 106, 220, 13, 24, 113, 221, 15, 4, 222, 2, 114, 223, 224, 3, 1, 115, 116, 6, 9, 52, 117, 17, 225, 42, 2, 226, 227, 99], [4, 217, 112, 10, 13, 22, 10, 218, 2, 219, 6, 106, 220, 13, 24, 113, 221, 15, 4, 222, 2, 114, 223, 224, 3, 1, 115, 116, 6, 9, 52, 117, 17, 225, 42, 2, 226, 227, 99, 4], [4, 217, 112, 10, 13, 22, 10, 218, 2, 219, 6, 106, 220, 13, 24, 113, 221, 15, 4, 222, 2, 114, 223, 224, 3, 1, 115, 116, 6, 9, 52, 117, 17, 225, 42, 2, 226, 227, 99, 4, 228], [4, 217, 112, 10, 13, 22, 10, 218, 2, 219, 6, 106, 220, 13, 24, 113, 221, 15, 4, 222, 2, 114, 223, 224, 3, 1, 115, 116, 6, 9, 52, 117, 17, 225, 42, 2, 226, 227, 99, 4, 228, 229], [4, 217, 112, 10, 13, 22, 10, 218, 2, 219, 6, 106, 220, 13, 24, 113, 221, 15, 4, 222, 2, 114, 223, 224, 3, 1, 115, 116, 6, 9, 52, 117, 17, 225, 42, 2, 226, 227, 99, 4, 228, 229, 230], [4, 217, 112, 10, 13, 22, 10, 218, 2, 219, 6, 106, 220, 13, 24, 113, 221, 15, 4, 222, 2, 114, 223, 224, 3, 1, 115, 116, 6, 9, 52, 117, 17, 225, 42, 2, 226, 227, 99, 4, 228, 229, 230, 231], [4, 217, 112, 10, 13, 22, 10, 218, 2, 219, 6, 106, 220, 13, 24, 113, 221, 15, 4, 222, 2, 114, 223, 224, 3, 1, 115, 116, 6, 9, 52, 117, 17, 225, 42, 2, 226, 227, 99, 4, 228, 229, 230, 231, 3], [4, 217, 112, 10, 13, 22, 10, 218, 2, 219, 6, 106, 220, 13, 24, 113, 221, 15, 4, 222, 2, 114, 223, 224, 3, 1, 115, 116, 6, 9, 52, 117, 17, 225, 42, 2, 226, 227, 99, 4, 228, 229, 230, 231, 3, 232], [4, 217, 112, 10, 13, 22, 10, 218, 2, 219, 6, 106, 220, 13, 24, 113, 221, 15, 4, 222, 2, 114, 223, 224, 3, 1, 115, 116, 6, 9, 52, 117, 17, 225, 42, 2, 226, 227, 99, 4, 228, 229, 230, 231, 3, 232, 118], [4, 217, 112, 10, 13, 22, 10, 218, 2, 219, 6, 106, 220, 13, 24, 113, 221, 15, 4, 222, 2, 114, 223, 224, 3, 1, 115, 116, 6, 9, 52, 117, 17, 225, 42, 2, 226, 227, 99, 4, 228, 229, 230, 231, 3, 232, 118, 4], [4, 217, 112, 10, 13, 22, 10, 218, 2, 219, 6, 106, 220, 13, 24, 113, 221, 15, 4, 222, 2, 114, 223, 224, 3, 1, 115, 116, 6, 9, 52, 117, 17, 225, 42, 2, 226, 227, 99, 4, 228, 229, 230, 231, 3, 232, 118, 4, 233], [4, 217, 112, 10, 13, 22, 10, 218, 2, 219, 6, 106, 220, 13, 24, 113, 221, 15, 4, 222, 2, 114, 223, 224, 3, 1, 115, 116, 6, 9, 52, 117, 17, 225, 42, 2, 226, 227, 99, 4, 228, 229, 230, 231, 3, 232, 118, 4, 233, 234], [4, 217, 112, 10, 13, 22, 10, 218, 2, 219, 6, 106, 220, 13, 24, 113, 221, 15, 4, 222, 2, 114, 223, 224, 3, 1, 115, 116, 6, 9, 52, 117, 17, 225, 42, 2, 226, 227, 99, 4, 228, 229, 230, 231, 3, 232, 118, 4, 233, 234, 235], [4, 217, 112, 10, 13, 22, 10, 218, 2, 219, 6, 106, 220, 13, 24, 113, 221, 15, 4, 222, 2, 114, 223, 224, 3, 1, 115, 116, 6, 9, 52, 117, 17, 225, 42, 2, 226, 227, 99, 4, 228, 229, 230, 231, 3, 232, 118, 4, 233, 234, 235, 35], [4, 217, 112, 10, 13, 22, 10, 218, 2, 219, 6, 106, 220, 13, 24, 113, 221, 15, 4, 222, 2, 114, 223, 224, 3, 1, 115, 116, 6, 9, 52, 117, 17, 225, 42, 2, 226, 227, 99, 4, 228, 229, 230, 231, 3, 232, 118, 4, 233, 234, 235, 35, 6], [4, 217, 112, 10, 13, 22, 10, 218, 2, 219, 6, 106, 220, 13, 24, 113, 221, 15, 4, 222, 2, 114, 223, 224, 3, 1, 115, 116, 6, 9, 52, 117, 17, 225, 42, 2, 226, 227, 99, 4, 228, 229, 230, 231, 3, 232, 118, 4, 233, 234, 235, 35, 6, 236], [4, 217, 112, 10, 13, 22, 10, 218, 2, 219, 6, 106, 220, 13, 24, 113, 221, 15, 4, 222, 2, 114, 223, 224, 3, 1, 115, 116, 6, 9, 52, 117, 17, 225, 42, 2, 226, 227, 99, 4, 228, 229, 230, 231, 3, 232, 118, 4, 233, 234, 235, 35, 6, 236, 78], [4, 217, 112, 10, 13, 22, 10, 218, 2, 219, 6, 106, 220, 13, 24, 113, 221, 15, 4, 222, 2, 114, 223, 224, 3, 1, 115, 116, 6, 9, 52, 117, 17, 225, 42, 2, 226, 227, 99, 4, 228, 229, 230, 231, 3, 232, 118, 4, 233, 234, 235, 35, 6, 236, 78, 119], [4, 217, 112, 10, 13, 22, 10, 218, 2, 219, 6, 106, 220, 13, 24, 113, 221, 15, 4, 222, 2, 114, 223, 224, 3, 1, 115, 116, 6, 9, 52, 117, 17, 225, 42, 2, 226, 227, 99, 4, 228, 229, 230, 231, 3, 232, 118, 4, 233, 234, 235, 35, 6, 236, 78, 119, 237], [4, 217, 112, 10, 13, 22, 10, 218, 2, 219, 6, 106, 220, 13, 24, 113, 221, 15, 4, 222, 2, 114, 223, 224, 3, 1, 115, 116, 6, 9, 52, 117, 17, 225, 42, 2, 226, 227, 99, 4, 228, 229, 230, 231, 3, 232, 118, 4, 233, 234, 235, 35, 6, 236, 78, 119, 237, 120], [4, 217, 112, 10, 13, 22, 10, 218, 2, 219, 6, 106, 220, 13, 24, 113, 221, 15, 4, 222, 2, 114, 223, 224, 3, 1, 115, 116, 6, 9, 52, 117, 17, 225, 42, 2, 226, 227, 99, 4, 228, 229, 230, 231, 3, 232, 118, 4, 233, 234, 235, 35, 6, 236, 78, 119, 237, 120, 7], [4, 217, 112, 10, 13, 22, 10, 218, 2, 219, 6, 106, 220, 13, 24, 113, 221, 15, 4, 222, 2, 114, 223, 224, 3, 1, 115, 116, 6, 9, 52, 117, 17, 225, 42, 2, 226, 227, 99, 4, 228, 229, 230, 231, 3, 232, 118, 4, 233, 234, 235, 35, 6, 236, 78, 119, 237, 120, 7, 238], [31, 239], [31, 239, 4], [31, 239, 4, 240], [31, 239, 4, 240, 241], [31, 239, 4, 240, 241, 2], [31, 239, 4, 240, 241, 2, 1], [31, 239, 4, 240, 241, 2, 1, 37], [31, 239, 4, 240, 241, 2, 1, 37, 43], [31, 239, 4, 240, 241, 2, 1, 37, 43, 121], [31, 239, 4, 240, 241, 2, 1, 37, 43, 121, 29], [31, 239, 4, 240, 241, 2, 1, 37, 43, 121, 29, 30], [31, 239, 4, 240, 241, 2, 1, 37, 43, 121, 29, 30, 242], [31, 239, 4, 240, 241, 2, 1, 37, 43, 121, 29, 30, 242, 243], [31, 239, 4, 240, 241, 2, 1, 37, 43, 121, 29, 30, 242, 243, 244], [31, 239, 4, 240, 241, 2, 1, 37, 43, 121, 29, 30, 242, 243, 244, 245], [31, 239, 4, 240, 241, 2, 1, 37, 43, 121, 29, 30, 242, 243, 244, 245, 15], [31, 239, 4, 240, 241, 2, 1, 37, 43, 121, 29, 30, 242, 243, 244, 245, 15, 1], [31, 239, 4, 240, 241, 2, 1, 37, 43, 121, 29, 30, 242, 243, 244, 245, 15, 1, 246], [31, 239, 4, 240, 241, 2, 1, 37, 43, 121, 29, 30, 242, 243, 244, 245, 15, 1, 246, 7], [31, 239, 4, 240, 241, 2, 1, 37, 43, 121, 29, 30, 242, 243, 244, 245, 15, 1, 246, 7, 4], [31, 239, 4, 240, 241, 2, 1, 37, 43, 121, 29, 30, 242, 243, 244, 245, 15, 1, 246, 7, 4, 247], [31, 239, 4, 240, 241, 2, 1, 37, 43, 121, 29, 30, 242, 243, 244, 245, 15, 1, 246, 7, 4, 247, 248], [31, 239, 4, 240, 241, 2, 1, 37, 43, 121, 29, 30, 242, 243, 244, 245, 15, 1, 246, 7, 4, 247, 248, 16], [31, 239, 4, 240, 241, 2, 1, 37, 43, 121, 29, 30, 242, 243, 244, 245, 15, 1, 246, 7, 4, 247, 248, 16, 8], [31, 239, 4, 240, 241, 2, 1, 37, 43, 121, 29, 30, 242, 243, 244, 245, 15, 1, 246, 7, 4, 247, 248, 16, 8, 11], [31, 239, 4, 240, 241, 2, 1, 37, 43, 121, 29, 30, 242, 243, 244, 245, 15, 1, 246, 7, 4, 247, 248, 16, 8, 11, 79], [31, 239, 4, 240, 241, 2, 1, 37, 43, 121, 29, 30, 242, 243, 244, 245, 15, 1, 246, 7, 4, 247, 248, 16, 8, 11, 79, 12], [31, 239, 4, 240, 241, 2, 1, 37, 43, 121, 29, 30, 242, 243, 244, 245, 15, 1, 246, 7, 4, 247, 248, 16, 8, 11, 79, 12, 38], [31, 239, 4, 240, 241, 2, 1, 37, 43, 121, 29, 30, 242, 243, 244, 245, 15, 1, 246, 7, 4, 247, 248, 16, 8, 11, 79, 12, 38, 4], [31, 239, 4, 240, 241, 2, 1, 37, 43, 121, 29, 30, 242, 243, 244, 245, 15, 1, 246, 7, 4, 247, 248, 16, 8, 11, 79, 12, 38, 4, 58], [31, 239, 4, 240, 241, 2, 1, 37, 43, 121, 29, 30, 242, 243, 244, 245, 15, 1, 246, 7, 4, 247, 248, 16, 8, 11, 79, 12, 38, 4, 58, 41], [31, 239, 4, 240, 241, 2, 1, 37, 43, 121, 29, 30, 242, 243, 244, 245, 15, 1, 246, 7, 4, 247, 248, 16, 8, 11, 79, 12, 38, 4, 58, 41, 249], [31, 239, 4, 240, 241, 2, 1, 37, 43, 121, 29, 30, 242, 243, 244, 245, 15, 1, 246, 7, 4, 247, 248, 16, 8, 11, 79, 12, 38, 4, 58, 41, 249, 39], [31, 239, 4, 240, 241, 2, 1, 37, 43, 121, 29, 30, 242, 243, 244, 245, 15, 1, 246, 7, 4, 247, 248, 16, 8, 11, 79, 12, 38, 4, 58, 41, 249, 39, 250], [31, 239, 4, 240, 241, 2, 1, 37, 43, 121, 29, 30, 242, 243, 244, 245, 15, 1, 246, 7, 4, 247, 248, 16, 8, 11, 79, 12, 38, 4, 58, 41, 249, 39, 250, 1], [31, 239, 4, 240, 241, 2, 1, 37, 43, 121, 29, 30, 242, 243, 244, 245, 15, 1, 246, 7, 4, 247, 248, 16, 8, 11, 79, 12, 38, 4, 58, 41, 249, 39, 250, 1, 9], [31, 239, 4, 240, 241, 2, 1, 37, 43, 121, 29, 30, 242, 243, 244, 245, 15, 1, 246, 7, 4, 247, 248, 16, 8, 11, 79, 12, 38, 4, 58, 41, 249, 39, 250, 1, 9, 8], [31, 239, 4, 240, 241, 2, 1, 37, 43, 121, 29, 30, 242, 243, 244, 245, 15, 1, 246, 7, 4, 247, 248, 16, 8, 11, 79, 12, 38, 4, 58, 41, 249, 39, 250, 1, 9, 8, 14], [31, 239, 4, 240, 241, 2, 1, 37, 43, 121, 29, 30, 242, 243, 244, 245, 15, 1, 246, 7, 4, 247, 248, 16, 8, 11, 79, 12, 38, 4, 58, 41, 249, 39, 250, 1, 9, 8, 14, 12], [31, 239, 4, 240, 241, 2, 1, 37, 43, 121, 29, 30, 242, 243, 244, 245, 15, 1, 246, 7, 4, 247, 248, 16, 8, 11, 79, 12, 38, 4, 58, 41, 249, 39, 250, 1, 9, 8, 14, 12, 44], [31, 239, 4, 240, 241, 2, 1, 37, 43, 121, 29, 30, 242, 243, 244, 245, 15, 1, 246, 7, 4, 247, 248, 16, 8, 11, 79, 12, 38, 4, 58, 41, 249, 39, 250, 1, 9, 8, 14, 12, 44, 251], [31, 239, 4, 240, 241, 2, 1, 37, 43, 121, 29, 30, 242, 243, 244, 245, 15, 1, 246, 7, 4, 247, 248, 16, 8, 11, 79, 12, 38, 4, 58, 41, 249, 39, 250, 1, 9, 8, 14, 12, 44, 251, 23], [31, 239, 4, 240, 241, 2, 1, 37, 43, 121, 29, 30, 242, 243, 244, 245, 15, 1, 246, 7, 4, 247, 248, 16, 8, 11, 79, 12, 38, 4, 58, 41, 249, 39, 250, 1, 9, 8, 14, 12, 44, 251, 23, 252], [31, 239, 4, 240, 241, 2, 1, 37, 43, 121, 29, 30, 242, 243, 244, 245, 15, 1, 246, 7, 4, 247, 248, 16, 8, 11, 79, 12, 38, 4, 58, 41, 249, 39, 250, 1, 9, 8, 14, 12, 44, 251, 23, 252, 111], [31, 239, 4, 240, 241, 2, 1, 37, 43, 121, 29, 30, 242, 243, 244, 245, 15, 1, 246, 7, 4, 247, 248, 16, 8, 11, 79, 12, 38, 4, 58, 41, 249, 39, 250, 1, 9, 8, 14, 12, 44, 251, 23, 252, 111, 253], [31, 239, 4, 240, 241, 2, 1, 37, 43, 121, 29, 30, 242, 243, 244, 245, 15, 1, 246, 7, 4, 247, 248, 16, 8, 11, 79, 12, 38, 4, 58, 41, 249, 39, 250, 1, 9, 8, 14, 12, 44, 251, 23, 252, 111, 253, 2], [31, 239, 4, 240, 241, 2, 1, 37, 43, 121, 29, 30, 242, 243, 244, 245, 15, 1, 246, 7, 4, 247, 248, 16, 8, 11, 79, 12, 38, 4, 58, 41, 249, 39, 250, 1, 9, 8, 14, 12, 44, 251, 23, 252, 111, 253, 2, 45], [31, 239, 4, 240, 241, 2, 1, 37, 43, 121, 29, 30, 242, 243, 244, 245, 15, 1, 246, 7, 4, 247, 248, 16, 8, 11, 79, 12, 38, 4, 58, 41, 249, 39, 250, 1, 9, 8, 14, 12, 44, 251, 23, 252, 111, 253, 2, 45, 24], [31, 239, 4, 240, 241, 2, 1, 37, 43, 121, 29, 30, 242, 243, 244, 245, 15, 1, 246, 7, 4, 247, 248, 16, 8, 11, 79, 12, 38, 4, 58, 41, 249, 39, 250, 1, 9, 8, 14, 12, 44, 251, 23, 252, 111, 253, 2, 45, 24, 254], [31, 239, 4, 240, 241, 2, 1, 37, 43, 121, 29, 30, 242, 243, 244, 245, 15, 1, 246, 7, 4, 247, 248, 16, 8, 11, 79, 12, 38, 4, 58, 41, 249, 39, 250, 1, 9, 8, 14, 12, 44, 251, 23, 252, 111, 253, 2, 45, 24, 254, 25], [31, 239, 4, 240, 241, 2, 1, 37, 43, 121, 29, 30, 242, 243, 244, 245, 15, 1, 246, 7, 4, 247, 248, 16, 8, 11, 79, 12, 38, 4, 58, 41, 249, 39, 250, 1, 9, 8, 14, 12, 44, 251, 23, 252, 111, 253, 2, 45, 24, 254, 25, 255], [31, 239, 4, 240, 241, 2, 1, 37, 43, 121, 29, 30, 242, 243, 244, 245, 15, 1, 246, 7, 4, 247, 248, 16, 8, 11, 79, 12, 38, 4, 58, 41, 249, 39, 250, 1, 9, 8, 14, 12, 44, 251, 23, 252, 111, 253, 2, 45, 24, 254, 25, 255, 46], [31, 239, 4, 240, 241, 2, 1, 37, 43, 121, 29, 30, 242, 243, 244, 245, 15, 1, 246, 7, 4, 247, 248, 16, 8, 11, 79, 12, 38, 4, 58, 41, 249, 39, 250, 1, 9, 8, 14, 12, 44, 251, 23, 252, 111, 253, 2, 45, 24, 254, 25, 255, 46, 256], [31, 239, 4, 240, 241, 2, 1, 37, 43, 121, 29, 30, 242, 243, 244, 245, 15, 1, 246, 7, 4, 247, 248, 16, 8, 11, 79, 12, 38, 4, 58, 41, 249, 39, 250, 1, 9, 8, 14, 12, 44, 251, 23, 252, 111, 253, 2, 45, 24, 254, 25, 255, 46, 256, 7], [31, 239, 4, 240, 241, 2, 1, 37, 43, 121, 29, 30, 242, 243, 244, 245, 15, 1, 246, 7, 4, 247, 248, 16, 8, 11, 79, 12, 38, 4, 58, 41, 249, 39, 250, 1, 9, 8, 14, 12, 44, 251, 23, 252, 111, 253, 2, 45, 24, 254, 25, 255, 46, 256, 7, 257], [31, 239, 4, 240, 241, 2, 1, 37, 43, 121, 29, 30, 242, 243, 244, 245, 15, 1, 246, 7, 4, 247, 248, 16, 8, 11, 79, 12, 38, 4, 58, 41, 249, 39, 250, 1, 9, 8, 14, 12, 44, 251, 23, 252, 111, 253, 2, 45, 24, 254, 25, 255, 46, 256, 7, 257, 16], [31, 239, 4, 240, 241, 2, 1, 37, 43, 121, 29, 30, 242, 243, 244, 245, 15, 1, 246, 7, 4, 247, 248, 16, 8, 11, 79, 12, 38, 4, 58, 41, 249, 39, 250, 1, 9, 8, 14, 12, 44, 251, 23, 252, 111, 253, 2, 45, 24, 254, 25, 255, 46, 256, 7, 257, 16, 258], [31, 239, 4, 240, 241, 2, 1, 37, 43, 121, 29, 30, 242, 243, 244, 245, 15, 1, 246, 7, 4, 247, 248, 16, 8, 11, 79, 12, 38, 4, 58, 41, 249, 39, 250, 1, 9, 8, 14, 12, 44, 251, 23, 252, 111, 253, 2, 45, 24, 254, 25, 255, 46, 256, 7, 257, 16, 258, 1], [31, 239, 4, 240, 241, 2, 1, 37, 43, 121, 29, 30, 242, 243, 244, 245, 15, 1, 246, 7, 4, 247, 248, 16, 8, 11, 79, 12, 38, 4, 58, 41, 249, 39, 250, 1, 9, 8, 14, 12, 44, 251, 23, 252, 111, 253, 2, 45, 24, 254, 25, 255, 46, 256, 7, 257, 16, 258, 1, 6], [31, 239, 4, 240, 241, 2, 1, 37, 43, 121, 29, 30, 242, 243, 244, 245, 15, 1, 246, 7, 4, 247, 248, 16, 8, 11, 79, 12, 38, 4, 58, 41, 249, 39, 250, 1, 9, 8, 14, 12, 44, 251, 23, 252, 111, 253, 2, 45, 24, 254, 25, 255, 46, 256, 7, 257, 16, 258, 1, 6, 9], [31, 239, 4, 240, 241, 2, 1, 37, 43, 121, 29, 30, 242, 243, 244, 245, 15, 1, 246, 7, 4, 247, 248, 16, 8, 11, 79, 12, 38, 4, 58, 41, 249, 39, 250, 1, 9, 8, 14, 12, 44, 251, 23, 252, 111, 253, 2, 45, 24, 254, 25, 255, 46, 256, 7, 257, 16, 258, 1, 6, 9, 259], [59, 46], [59, 46, 25], [59, 46, 25, 1], [59, 46, 25, 1, 9], [59, 46, 25, 1, 9, 260], [59, 46, 25, 1, 9, 260, 3], [59, 46, 25, 1, 9, 260, 3, 4], [59, 46, 25, 1, 9, 260, 3, 4, 58], [59, 46, 25, 1, 9, 260, 3, 4, 58, 7], [59, 46, 25, 1, 9, 260, 3, 4, 58, 7, 261], [59, 46, 25, 1, 9, 260, 3, 4, 58, 7, 261, 2], [59, 46, 25, 1, 9, 260, 3, 4, 58, 7, 261, 2, 45], [59, 46, 25, 1, 9, 260, 3, 4, 58, 7, 261, 2, 45, 8], [59, 46, 25, 1, 9, 260, 3, 4, 58, 7, 261, 2, 45, 8, 80], [59, 46, 25, 1, 9, 260, 3, 4, 58, 7, 261, 2, 45, 8, 80, 34], [59, 46, 25, 1, 9, 260, 3, 4, 58, 7, 261, 2, 45, 8, 80, 34, 262], [59, 46, 25, 1, 9, 260, 3, 4, 58, 7, 261, 2, 45, 8, 80, 34, 262, 5], [59, 46, 25, 1, 9, 260, 3, 4, 58, 7, 261, 2, 45, 8, 80, 34, 262, 5, 32], [59, 46, 25, 1, 9, 260, 3, 4, 58, 7, 261, 2, 45, 8, 80, 34, 262, 5, 32, 4], [59, 46, 25, 1, 9, 260, 3, 4, 58, 7, 261, 2, 45, 8, 80, 34, 262, 5, 32, 4, 58], [59, 46, 25, 1, 9, 260, 3, 4, 58, 7, 261, 2, 45, 8, 80, 34, 262, 5, 32, 4, 58, 7], [59, 46, 25, 1, 9, 260, 3, 4, 58, 7, 261, 2, 45, 8, 80, 34, 262, 5, 32, 4, 58, 7, 263], [59, 46, 25, 1, 9, 260, 3, 4, 58, 7, 261, 2, 45, 8, 80, 34, 262, 5, 32, 4, 58, 7, 263, 264], [59, 46, 25, 1, 9, 260, 3, 4, 58, 7, 261, 2, 45, 8, 80, 34, 262, 5, 32, 4, 58, 7, 263, 264, 265], [59, 46, 25, 1, 9, 260, 3, 4, 58, 7, 261, 2, 45, 8, 80, 34, 262, 5, 32, 4, 58, 7, 263, 264, 265, 266], [59, 46, 25, 1, 9, 260, 3, 4, 58, 7, 261, 2, 45, 8, 80, 34, 262, 5, 32, 4, 58, 7, 263, 264, 265, 266, 5], [59, 46, 25, 1, 9, 260, 3, 4, 58, 7, 261, 2, 45, 8, 80, 34, 262, 5, 32, 4, 58, 7, 263, 264, 265, 266, 5, 60], [59, 46, 25, 1, 9, 260, 3, 4, 58, 7, 261, 2, 45, 8, 80, 34, 262, 5, 32, 4, 58, 7, 263, 264, 265, 266, 5, 60, 267], [59, 46, 25, 1, 9, 260, 3, 4, 58, 7, 261, 2, 45, 8, 80, 34, 262, 5, 32, 4, 58, 7, 263, 264, 265, 266, 5, 60, 267, 1], [59, 46, 25, 1, 9, 260, 3, 4, 58, 7, 261, 2, 45, 8, 80, 34, 262, 5, 32, 4, 58, 7, 263, 264, 265, 266, 5, 60, 267, 1, 268], [59, 46, 25, 1, 9, 260, 3, 4, 58, 7, 261, 2, 45, 8, 80, 34, 262, 5, 32, 4, 58, 7, 263, 264, 265, 266, 5, 60, 267, 1, 268, 269], [59, 46, 25, 1, 9, 260, 3, 4, 58, 7, 261, 2, 45, 8, 80, 34, 262, 5, 32, 4, 58, 7, 263, 264, 265, 266, 5, 60, 267, 1, 268, 269, 31], [122, 270], [122, 270, 5], [122, 270, 5, 18], [122, 270, 5, 18, 50], [122, 270, 5, 18, 50, 123], [122, 270, 5, 18, 50, 123, 271], [122, 270, 5, 18, 50, 123, 271, 272], [122, 270, 5, 18, 50, 123, 271, 272, 273], [122, 270, 5, 18, 50, 123, 271, 272, 273, 26], [122, 270, 5, 18, 50, 123, 271, 272, 273, 26, 45], [122, 270, 5, 18, 50, 123, 271, 272, 273, 26, 45, 3], [122, 270, 5, 18, 50, 123, 271, 272, 273, 26, 45, 3, 6], [122, 270, 5, 18, 50, 123, 271, 272, 273, 26, 45, 3, 6, 274], [122, 270, 5, 18, 50, 123, 271, 272, 273, 26, 45, 3, 6, 274, 81], [122, 270, 5, 18, 50, 123, 271, 272, 273, 26, 45, 3, 6, 274, 81, 61], [122, 270, 5, 18, 50, 123, 271, 272, 273, 26, 45, 3, 6, 274, 81, 61, 275], [122, 270, 5, 18, 50, 123, 271, 272, 273, 26, 45, 3, 6, 274, 81, 61, 275, 19], [122, 270, 5, 18, 50, 123, 271, 272, 273, 26, 45, 3, 6, 274, 81, 61, 275, 19, 1], [122, 270, 5, 18, 50, 123, 271, 272, 273, 26, 45, 3, 6, 274, 81, 61, 275, 19, 1, 100], [122, 270, 5, 18, 50, 123, 271, 272, 273, 26, 45, 3, 6, 274, 81, 61, 275, 19, 1, 100, 276], [122, 270, 5, 18, 50, 123, 271, 272, 273, 26, 45, 3, 6, 274, 81, 61, 275, 19, 1, 100, 276, 277], [122, 270, 5, 18, 50, 123, 271, 272, 273, 26, 45, 3, 6, 274, 81, 61, 275, 19, 1, 100, 276, 277, 278], [122, 270, 5, 18, 50, 123, 271, 272, 273, 26, 45, 3, 6, 274, 81, 61, 275, 19, 1, 100, 276, 277, 278, 279], [122, 270, 5, 18, 50, 123, 271, 272, 273, 26, 45, 3, 6, 274, 81, 61, 275, 19, 1, 100, 276, 277, 278, 279, 31], [122, 270, 5, 18, 50, 123, 271, 272, 273, 26, 45, 3, 6, 274, 81, 61, 275, 19, 1, 100, 276, 277, 278, 279, 31, 280], [122, 270, 5, 18, 50, 123, 271, 272, 273, 26, 45, 3, 6, 274, 81, 61, 275, 19, 1, 100, 276, 277, 278, 279, 31, 280, 4], [122, 270, 5, 18, 50, 123, 271, 272, 273, 26, 45, 3, 6, 274, 81, 61, 275, 19, 1, 100, 276, 277, 278, 279, 31, 280, 4, 281], [122, 270, 5, 18, 50, 123, 271, 272, 273, 26, 45, 3, 6, 274, 81, 61, 275, 19, 1, 100, 276, 277, 278, 279, 31, 280, 4, 281, 282], [122, 270, 5, 18, 50, 123, 271, 272, 273, 26, 45, 3, 6, 274, 81, 61, 275, 19, 1, 100, 276, 277, 278, 279, 31, 280, 4, 281, 282, 7], [122, 270, 5, 18, 50, 123, 271, 272, 273, 26, 45, 3, 6, 274, 81, 61, 275, 19, 1, 100, 276, 277, 278, 279, 31, 280, 4, 281, 282, 7, 9], [122, 270, 5, 18, 50, 123, 271, 272, 273, 26, 45, 3, 6, 274, 81, 61, 275, 19, 1, 100, 276, 277, 278, 279, 31, 280, 4, 281, 282, 7, 9, 61], [122, 270, 5, 18, 50, 123, 271, 272, 273, 26, 45, 3, 6, 274, 81, 61, 275, 19, 1, 100, 276, 277, 278, 279, 31, 280, 4, 281, 282, 7, 9, 61, 283], [122, 270, 5, 18, 50, 123, 271, 272, 273, 26, 45, 3, 6, 274, 81, 61, 275, 19, 1, 100, 276, 277, 278, 279, 31, 280, 4, 281, 282, 7, 9, 61, 283, 60], [122, 270, 5, 18, 50, 123, 271, 272, 273, 26, 45, 3, 6, 274, 81, 61, 275, 19, 1, 100, 276, 277, 278, 279, 31, 280, 4, 281, 282, 7, 9, 61, 283, 60, 107], [122, 270, 5, 18, 50, 123, 271, 272, 273, 26, 45, 3, 6, 274, 81, 61, 275, 19, 1, 100, 276, 277, 278, 279, 31, 280, 4, 281, 282, 7, 9, 61, 283, 60, 107, 284], [122, 270, 5, 18, 50, 123, 271, 272, 273, 26, 45, 3, 6, 274, 81, 61, 275, 19, 1, 100, 276, 277, 278, 279, 31, 280, 4, 281, 282, 7, 9, 61, 283, 60, 107, 284, 285], [122, 270, 5, 18, 50, 123, 271, 272, 273, 26, 45, 3, 6, 274, 81, 61, 275, 19, 1, 100, 276, 277, 278, 279, 31, 280, 4, 281, 282, 7, 9, 61, 283, 60, 107, 284, 285, 4], [122, 270, 5, 18, 50, 123, 271, 272, 273, 26, 45, 3, 6, 274, 81, 61, 275, 19, 1, 100, 276, 277, 278, 279, 31, 280, 4, 281, 282, 7, 9, 61, 283, 60, 107, 284, 285, 4, 286], [122, 270, 5, 18, 50, 123, 271, 272, 273, 26, 45, 3, 6, 274, 81, 61, 275, 19, 1, 100, 276, 277, 278, 279, 31, 280, 4, 281, 282, 7, 9, 61, 283, 60, 107, 284, 285, 4, 286, 287], [122, 270, 5, 18, 50, 123, 271, 272, 273, 26, 45, 3, 6, 274, 81, 61, 275, 19, 1, 100, 276, 277, 278, 279, 31, 280, 4, 281, 282, 7, 9, 61, 283, 60, 107, 284, 285, 4, 286, 287, 13], [122, 270, 5, 18, 50, 123, 271, 272, 273, 26, 45, 3, 6, 274, 81, 61, 275, 19, 1, 100, 276, 277, 278, 279, 31, 280, 4, 281, 282, 7, 9, 61, 283, 60, 107, 284, 285, 4, 286, 287, 13, 22], [122, 270, 5, 18, 50, 123, 271, 272, 273, 26, 45, 3, 6, 274, 81, 61, 275, 19, 1, 100, 276, 277, 278, 279, 31, 280, 4, 281, 282, 7, 9, 61, 283, 60, 107, 284, 285, 4, 286, 287, 13, 22, 17], [122, 270, 5, 18, 50, 123, 271, 272, 273, 26, 45, 3, 6, 274, 81, 61, 275, 19, 1, 100, 276, 277, 278, 279, 31, 280, 4, 281, 282, 7, 9, 61, 283, 60, 107, 284, 285, 4, 286, 287, 13, 22, 17, 124], [122, 270, 5, 18, 50, 123, 271, 272, 273, 26, 45, 3, 6, 274, 81, 61, 275, 19, 1, 100, 276, 277, 278, 279, 31, 280, 4, 281, 282, 7, 9, 61, 283, 60, 107, 284, 285, 4, 286, 287, 13, 22, 17, 124, 125], [122, 270, 5, 18, 50, 123, 271, 272, 273, 26, 45, 3, 6, 274, 81, 61, 275, 19, 1, 100, 276, 277, 278, 279, 31, 280, 4, 281, 282, 7, 9, 61, 283, 60, 107, 284, 285, 4, 286, 287, 13, 22, 17, 124, 125, 2], [122, 270, 5, 18, 50, 123, 271, 272, 273, 26, 45, 3, 6, 274, 81, 61, 275, 19, 1, 100, 276, 277, 278, 279, 31, 280, 4, 281, 282, 7, 9, 61, 283, 60, 107, 284, 285, 4, 286, 287, 13, 22, 17, 124, 125, 2, 288], [122, 270, 5, 18, 50, 123, 271, 272, 273, 26, 45, 3, 6, 274, 81, 61, 275, 19, 1, 100, 276, 277, 278, 279, 31, 280, 4, 281, 282, 7, 9, 61, 283, 60, 107, 284, 285, 4, 286, 287, 13, 22, 17, 124, 125, 2, 288, 126], [122, 270, 5, 18, 50, 123, 271, 272, 273, 26, 45, 3, 6, 274, 81, 61, 275, 19, 1, 100, 276, 277, 278, 279, 31, 280, 4, 281, 282, 7, 9, 61, 283, 60, 107, 284, 285, 4, 286, 287, 13, 22, 17, 124, 125, 2, 288, 126, 2], [122, 270, 5, 18, 50, 123, 271, 272, 273, 26, 45, 3, 6, 274, 81, 61, 275, 19, 1, 100, 276, 277, 278, 279, 31, 280, 4, 281, 282, 7, 9, 61, 283, 60, 107, 284, 285, 4, 286, 287, 13, 22, 17, 124, 125, 2, 288, 126, 2, 6], [122, 270, 5, 18, 50, 123, 271, 272, 273, 26, 45, 3, 6, 274, 81, 61, 275, 19, 1, 100, 276, 277, 278, 279, 31, 280, 4, 281, 282, 7, 9, 61, 283, 60, 107, 284, 285, 4, 286, 287, 13, 22, 17, 124, 125, 2, 288, 126, 2, 6, 20], [122, 270, 5, 18, 50, 123, 271, 272, 273, 26, 45, 3, 6, 274, 81, 61, 275, 19, 1, 100, 276, 277, 278, 279, 31, 280, 4, 281, 282, 7, 9, 61, 283, 60, 107, 284, 285, 4, 286, 287, 13, 22, 17, 124, 125, 2, 288, 126, 2, 6, 20, 10], [122, 270, 5, 18, 50, 123, 271, 272, 273, 26, 45, 3, 6, 274, 81, 61, 275, 19, 1, 100, 276, 277, 278, 279, 31, 280, 4, 281, 282, 7, 9, 61, 283, 60, 107, 284, 285, 4, 286, 287, 13, 22, 17, 124, 125, 2, 288, 126, 2, 6, 20, 10, 44], [122, 270, 5, 18, 50, 123, 271, 272, 273, 26, 45, 3, 6, 274, 81, 61, 275, 19, 1, 100, 276, 277, 278, 279, 31, 280, 4, 281, 282, 7, 9, 61, 283, 60, 107, 284, 285, 4, 286, 287, 13, 22, 17, 124, 125, 2, 288, 126, 2, 6, 20, 10, 44, 289], [122, 270, 5, 18, 50, 123, 271, 272, 273, 26, 45, 3, 6, 274, 81, 61, 275, 19, 1, 100, 276, 277, 278, 279, 31, 280, 4, 281, 282, 7, 9, 61, 283, 60, 107, 284, 285, 4, 286, 287, 13, 22, 17, 124, 125, 2, 288, 126, 2, 6, 20, 10, 44, 289, 16], [122, 270, 5, 18, 50, 123, 271, 272, 273, 26, 45, 3, 6, 274, 81, 61, 275, 19, 1, 100, 276, 277, 278, 279, 31, 280, 4, 281, 282, 7, 9, 61, 283, 60, 107, 284, 285, 4, 286, 287, 13, 22, 17, 124, 125, 2, 288, 126, 2, 6, 20, 10, 44, 289, 16, 127], [122, 270, 5, 18, 50, 123, 271, 272, 273, 26, 45, 3, 6, 274, 81, 61, 275, 19, 1, 100, 276, 277, 278, 279, 31, 280, 4, 281, 282, 7, 9, 61, 283, 60, 107, 284, 285, 4, 286, 287, 13, 22, 17, 124, 125, 2, 288, 126, 2, 6, 20, 10, 44, 289, 16, 127, 128], [122, 270, 5, 18, 50, 123, 271, 272, 273, 26, 45, 3, 6, 274, 81, 61, 275, 19, 1, 100, 276, 277, 278, 279, 31, 280, 4, 281, 282, 7, 9, 61, 283, 60, 107, 284, 285, 4, 286, 287, 13, 22, 17, 124, 125, 2, 288, 126, 2, 6, 20, 10, 44, 289, 16, 127, 128, 60], [6, 26], [6, 26, 290], [6, 26, 290, 16], [6, 26, 290, 16, 4], [6, 26, 290, 16, 4, 291], [6, 26, 290, 16, 4, 291, 120], [6, 26, 290, 16, 4, 291, 120, 7], [6, 26, 290, 16, 4, 291, 120, 7, 1], [6, 26, 290, 16, 4, 291, 120, 7, 1, 292], [6, 26, 290, 16, 4, 291, 120, 7, 1, 292, 293], [6, 26, 290, 16, 4, 291, 120, 7, 1, 292, 293, 294], [6, 26, 290, 16, 4, 291, 120, 7, 1, 292, 293, 294, 295], [6, 26, 290, 16, 4, 291, 120, 7, 1, 292, 293, 294, 295, 296], [6, 26, 290, 16, 4, 291, 120, 7, 1, 292, 293, 294, 295, 296, 129], [6, 26, 290, 16, 4, 291, 120, 7, 1, 292, 293, 294, 295, 296, 129, 82], [6, 26, 290, 16, 4, 291, 120, 7, 1, 292, 293, 294, 295, 296, 129, 82, 122], [6, 26, 290, 16, 4, 291, 120, 7, 1, 292, 293, 294, 295, 296, 129, 82, 122, 297], [6, 26, 290, 16, 4, 291, 120, 7, 1, 292, 293, 294, 295, 296, 129, 82, 122, 297, 83], [6, 26, 290, 16, 4, 291, 120, 7, 1, 292, 293, 294, 295, 296, 129, 82, 122, 297, 83, 26], [6, 26, 290, 16, 4, 291, 120, 7, 1, 292, 293, 294, 295, 296, 129, 82, 122, 297, 83, 26, 44], [6, 26, 290, 16, 4, 291, 120, 7, 1, 292, 293, 294, 295, 296, 129, 82, 122, 297, 83, 26, 44, 298], [6, 26, 290, 16, 4, 291, 120, 7, 1, 292, 293, 294, 295, 296, 129, 82, 122, 297, 83, 26, 44, 298, 42], [6, 26, 290, 16, 4, 291, 120, 7, 1, 292, 293, 294, 295, 296, 129, 82, 122, 297, 83, 26, 44, 298, 42, 4], [6, 26, 290, 16, 4, 291, 120, 7, 1, 292, 293, 294, 295, 296, 129, 82, 122, 297, 83, 26, 44, 298, 42, 4, 130], [6, 26, 290, 16, 4, 291, 120, 7, 1, 292, 293, 294, 295, 296, 129, 82, 122, 297, 83, 26, 44, 298, 42, 4, 130, 3], [6, 26, 290, 16, 4, 291, 120, 7, 1, 292, 293, 294, 295, 296, 129, 82, 122, 297, 83, 26, 44, 298, 42, 4, 130, 3, 6], [6, 26, 290, 16, 4, 291, 120, 7, 1, 292, 293, 294, 295, 296, 129, 82, 122, 297, 83, 26, 44, 298, 42, 4, 130, 3, 6, 1], [6, 26, 290, 16, 4, 291, 120, 7, 1, 292, 293, 294, 295, 296, 129, 82, 122, 297, 83, 26, 44, 298, 42, 4, 130, 3, 6, 1, 129], [6, 26, 290, 16, 4, 291, 120, 7, 1, 292, 293, 294, 295, 296, 129, 82, 122, 297, 83, 26, 44, 298, 42, 4, 130, 3, 6, 1, 129, 26], [6, 26, 290, 16, 4, 291, 120, 7, 1, 292, 293, 294, 295, 296, 129, 82, 122, 297, 83, 26, 44, 298, 42, 4, 130, 3, 6, 1, 129, 26, 57], [6, 26, 290, 16, 4, 291, 120, 7, 1, 292, 293, 294, 295, 296, 129, 82, 122, 297, 83, 26, 44, 298, 42, 4, 130, 3, 6, 1, 129, 26, 57, 299], [6, 26, 290, 16, 4, 291, 120, 7, 1, 292, 293, 294, 295, 296, 129, 82, 122, 297, 83, 26, 44, 298, 42, 4, 130, 3, 6, 1, 129, 26, 57, 299, 3], [6, 26, 290, 16, 4, 291, 120, 7, 1, 292, 293, 294, 295, 296, 129, 82, 122, 297, 83, 26, 44, 298, 42, 4, 130, 3, 6, 1, 129, 26, 57, 299, 3, 6], [6, 26, 290, 16, 4, 291, 120, 7, 1, 292, 293, 294, 295, 296, 129, 82, 122, 297, 83, 26, 44, 298, 42, 4, 130, 3, 6, 1, 129, 26, 57, 299, 3, 6, 83], [6, 26, 290, 16, 4, 291, 120, 7, 1, 292, 293, 294, 295, 296, 129, 82, 122, 297, 83, 26, 44, 298, 42, 4, 130, 3, 6, 1, 129, 26, 57, 299, 3, 6, 83, 300], [6, 26, 290, 16, 4, 291, 120, 7, 1, 292, 293, 294, 295, 296, 129, 82, 122, 297, 83, 26, 44, 298, 42, 4, 130, 3, 6, 1, 129, 26, 57, 299, 3, 6, 83, 300, 131], [6, 26, 290, 16, 4, 291, 120, 7, 1, 292, 293, 294, 295, 296, 129, 82, 122, 297, 83, 26, 44, 298, 42, 4, 130, 3, 6, 1, 129, 26, 57, 299, 3, 6, 83, 300, 131, 8], [6, 26, 290, 16, 4, 291, 120, 7, 1, 292, 293, 294, 295, 296, 129, 82, 122, 297, 83, 26, 44, 298, 42, 4, 130, 3, 6, 1, 129, 26, 57, 299, 3, 6, 83, 300, 131, 8, 80], [6, 26, 290, 16, 4, 291, 120, 7, 1, 292, 293, 294, 295, 296, 129, 82, 122, 297, 83, 26, 44, 298, 42, 4, 130, 3, 6, 1, 129, 26, 57, 299, 3, 6, 83, 300, 131, 8, 80, 301], [6, 26, 290, 16, 4, 291, 120, 7, 1, 292, 293, 294, 295, 296, 129, 82, 122, 297, 83, 26, 44, 298, 42, 4, 130, 3, 6, 1, 129, 26, 57, 299, 3, 6, 83, 300, 131, 8, 80, 301, 3], [6, 26, 290, 16, 4, 291, 120, 7, 1, 292, 293, 294, 295, 296, 129, 82, 122, 297, 83, 26, 44, 298, 42, 4, 130, 3, 6, 1, 129, 26, 57, 299, 3, 6, 83, 300, 131, 8, 80, 301, 3, 302], [6, 26, 290, 16, 4, 291, 120, 7, 1, 292, 293, 294, 295, 296, 129, 82, 122, 297, 83, 26, 44, 298, 42, 4, 130, 3, 6, 1, 129, 26, 57, 299, 3, 6, 83, 300, 131, 8, 80, 301, 3, 302, 303], [6, 26, 290, 16, 4, 291, 120, 7, 1, 292, 293, 294, 295, 296, 129, 82, 122, 297, 83, 26, 44, 298, 42, 4, 130, 3, 6, 1, 129, 26, 57, 299, 3, 6, 83, 300, 131, 8, 80, 301, 3, 302, 303, 1], [6, 26, 290, 16, 4, 291, 120, 7, 1, 292, 293, 294, 295, 296, 129, 82, 122, 297, 83, 26, 44, 298, 42, 4, 130, 3, 6, 1, 129, 26, 57, 299, 3, 6, 83, 300, 131, 8, 80, 301, 3, 302, 303, 1, 9], [6, 26, 290, 16, 4, 291, 120, 7, 1, 292, 293, 294, 295, 296, 129, 82, 122, 297, 83, 26, 44, 298, 42, 4, 130, 3, 6, 1, 129, 26, 57, 299, 3, 6, 83, 300, 131, 8, 80, 301, 3, 302, 303, 1, 9, 304], [6, 26, 290, 16, 4, 291, 120, 7, 1, 292, 293, 294, 295, 296, 129, 82, 122, 297, 83, 26, 44, 298, 42, 4, 130, 3, 6, 1, 129, 26, 57, 299, 3, 6, 83, 300, 131, 8, 80, 301, 3, 302, 303, 1, 9, 304, 124], [6, 26, 290, 16, 4, 291, 120, 7, 1, 292, 293, 294, 295, 296, 129, 82, 122, 297, 83, 26, 44, 298, 42, 4, 130, 3, 6, 1, 129, 26, 57, 299, 3, 6, 83, 300, 131, 8, 80, 301, 3, 302, 303, 1, 9, 304, 124, 305], [6, 26, 290, 16, 4, 291, 120, 7, 1, 292, 293, 294, 295, 296, 129, 82, 122, 297, 83, 26, 44, 298, 42, 4, 130, 3, 6, 1, 129, 26, 57, 299, 3, 6, 83, 300, 131, 8, 80, 301, 3, 302, 303, 1, 9, 304, 124, 305, 7], [6, 26, 290, 16, 4, 291, 120, 7, 1, 292, 293, 294, 295, 296, 129, 82, 122, 297, 83, 26, 44, 298, 42, 4, 130, 3, 6, 1, 129, 26, 57, 299, 3, 6, 83, 300, 131, 8, 80, 301, 3, 302, 303, 1, 9, 304, 124, 305, 7, 18], [6, 26, 290, 16, 4, 291, 120, 7, 1, 292, 293, 294, 295, 296, 129, 82, 122, 297, 83, 26, 44, 298, 42, 4, 130, 3, 6, 1, 129, 26, 57, 299, 3, 6, 83, 300, 131, 8, 80, 301, 3, 302, 303, 1, 9, 304, 124, 305, 7, 18, 126], [6, 26, 290, 16, 4, 291, 120, 7, 1, 292, 293, 294, 295, 296, 129, 82, 122, 297, 83, 26, 44, 298, 42, 4, 130, 3, 6, 1, 129, 26, 57, 299, 3, 6, 83, 300, 131, 8, 80, 301, 3, 302, 303, 1, 9, 304, 124, 305, 7, 18, 126, 84], [6, 26, 290, 16, 4, 291, 120, 7, 1, 292, 293, 294, 295, 296, 129, 82, 122, 297, 83, 26, 44, 298, 42, 4, 130, 3, 6, 1, 129, 26, 57, 299, 3, 6, 83, 300, 131, 8, 80, 301, 3, 302, 303, 1, 9, 304, 124, 305, 7, 18, 126, 84, 10], [6, 26, 290, 16, 4, 291, 120, 7, 1, 292, 293, 294, 295, 296, 129, 82, 122, 297, 83, 26, 44, 298, 42, 4, 130, 3, 6, 1, 129, 26, 57, 299, 3, 6, 83, 300, 131, 8, 80, 301, 3, 302, 303, 1, 9, 304, 124, 305, 7, 18, 126, 84, 10, 1], [6, 26, 290, 16, 4, 291, 120, 7, 1, 292, 293, 294, 295, 296, 129, 82, 122, 297, 83, 26, 44, 298, 42, 4, 130, 3, 6, 1, 129, 26, 57, 299, 3, 6, 83, 300, 131, 8, 80, 301, 3, 302, 303, 1, 9, 304, 124, 305, 7, 18, 126, 84, 10, 1, 132], [6, 26, 290, 16, 4, 291, 120, 7, 1, 292, 293, 294, 295, 296, 129, 82, 122, 297, 83, 26, 44, 298, 42, 4, 130, 3, 6, 1, 129, 26, 57, 299, 3, 6, 83, 300, 131, 8, 80, 301, 3, 302, 303, 1, 9, 304, 124, 305, 7, 18, 126, 84, 10, 1, 132, 306], [6, 26, 290, 16, 4, 291, 120, 7, 1, 292, 293, 294, 295, 296, 129, 82, 122, 297, 83, 26, 44, 298, 42, 4, 130, 3, 6, 1, 129, 26, 57, 299, 3, 6, 83, 300, 131, 8, 80, 301, 3, 302, 303, 1, 9, 304, 124, 305, 7, 18, 126, 84, 10, 1, 132, 306, 307], [6, 26, 290, 16, 4, 291, 120, 7, 1, 292, 293, 294, 295, 296, 129, 82, 122, 297, 83, 26, 44, 298, 42, 4, 130, 3, 6, 1, 129, 26, 57, 299, 3, 6, 83, 300, 131, 8, 80, 301, 3, 302, 303, 1, 9, 304, 124, 305, 7, 18, 126, 84, 10, 1, 132, 306, 307, 20], [6, 26, 290, 16, 4, 291, 120, 7, 1, 292, 293, 294, 295, 296, 129, 82, 122, 297, 83, 26, 44, 298, 42, 4, 130, 3, 6, 1, 129, 26, 57, 299, 3, 6, 83, 300, 131, 8, 80, 301, 3, 302, 303, 1, 9, 304, 124, 305, 7, 18, 126, 84, 10, 1, 132, 306, 307, 20, 308], [6, 26, 290, 16, 4, 291, 120, 7, 1, 292, 293, 294, 295, 296, 129, 82, 122, 297, 83, 26, 44, 298, 42, 4, 130, 3, 6, 1, 129, 26, 57, 299, 3, 6, 83, 300, 131, 8, 80, 301, 3, 302, 303, 1, 9, 304, 124, 305, 7, 18, 126, 84, 10, 1, 132, 306, 307, 20, 308, 2], [6, 26, 290, 16, 4, 291, 120, 7, 1, 292, 293, 294, 295, 296, 129, 82, 122, 297, 83, 26, 44, 298, 42, 4, 130, 3, 6, 1, 129, 26, 57, 299, 3, 6, 83, 300, 131, 8, 80, 301, 3, 302, 303, 1, 9, 304, 124, 305, 7, 18, 126, 84, 10, 1, 132, 306, 307, 20, 308, 2, 76], [6, 26, 290, 16, 4, 291, 120, 7, 1, 292, 293, 294, 295, 296, 129, 82, 122, 297, 83, 26, 44, 298, 42, 4, 130, 3, 6, 1, 129, 26, 57, 299, 3, 6, 83, 300, 131, 8, 80, 301, 3, 302, 303, 1, 9, 304, 124, 305, 7, 18, 126, 84, 10, 1, 132, 306, 307, 20, 308, 2, 76, 1], [6, 26, 290, 16, 4, 291, 120, 7, 1, 292, 293, 294, 295, 296, 129, 82, 122, 297, 83, 26, 44, 298, 42, 4, 130, 3, 6, 1, 129, 26, 57, 299, 3, 6, 83, 300, 131, 8, 80, 301, 3, 302, 303, 1, 9, 304, 124, 305, 7, 18, 126, 84, 10, 1, 132, 306, 307, 20, 308, 2, 76, 1, 309], [6, 26, 290, 16, 4, 291, 120, 7, 1, 292, 293, 294, 295, 296, 129, 82, 122, 297, 83, 26, 44, 298, 42, 4, 130, 3, 6, 1, 129, 26, 57, 299, 3, 6, 83, 300, 131, 8, 80, 301, 3, 302, 303, 1, 9, 304, 124, 305, 7, 18, 126, 84, 10, 1, 132, 306, 307, 20, 308, 2, 76, 1, 309, 310], [6, 26, 290, 16, 4, 291, 120, 7, 1, 292, 293, 294, 295, 296, 129, 82, 122, 297, 83, 26, 44, 298, 42, 4, 130, 3, 6, 1, 129, 26, 57, 299, 3, 6, 83, 300, 131, 8, 80, 301, 3, 302, 303, 1, 9, 304, 124, 305, 7, 18, 126, 84, 10, 1, 132, 306, 307, 20, 308, 2, 76, 1, 309, 310, 3], [6, 26, 290, 16, 4, 291, 120, 7, 1, 292, 293, 294, 295, 296, 129, 82, 122, 297, 83, 26, 44, 298, 42, 4, 130, 3, 6, 1, 129, 26, 57, 299, 3, 6, 83, 300, 131, 8, 80, 301, 3, 302, 303, 1, 9, 304, 124, 305, 7, 18, 126, 84, 10, 1, 132, 306, 307, 20, 308, 2, 76, 1, 309, 310, 3, 1], [6, 26, 290, 16, 4, 291, 120, 7, 1, 292, 293, 294, 295, 296, 129, 82, 122, 297, 83, 26, 44, 298, 42, 4, 130, 3, 6, 1, 129, 26, 57, 299, 3, 6, 83, 300, 131, 8, 80, 301, 3, 302, 303, 1, 9, 304, 124, 305, 7, 18, 126, 84, 10, 1, 132, 306, 307, 20, 308, 2, 76, 1, 309, 310, 3, 1, 311], [6, 26, 290, 16, 4, 291, 120, 7, 1, 292, 293, 294, 295, 296, 129, 82, 122, 297, 83, 26, 44, 298, 42, 4, 130, 3, 6, 1, 129, 26, 57, 299, 3, 6, 83, 300, 131, 8, 80, 301, 3, 302, 303, 1, 9, 304, 124, 305, 7, 18, 126, 84, 10, 1, 132, 306, 307, 20, 308, 2, 76, 1, 309, 310, 3, 1, 311, 78], [6, 26, 290, 16, 4, 291, 120, 7, 1, 292, 293, 294, 295, 296, 129, 82, 122, 297, 83, 26, 44, 298, 42, 4, 130, 3, 6, 1, 129, 26, 57, 299, 3, 6, 83, 300, 131, 8, 80, 301, 3, 302, 303, 1, 9, 304, 124, 305, 7, 18, 126, 84, 10, 1, 132, 306, 307, 20, 308, 2, 76, 1, 309, 310, 3, 1, 311, 78, 8], [6, 26, 290, 16, 4, 291, 120, 7, 1, 292, 293, 294, 295, 296, 129, 82, 122, 297, 83, 26, 44, 298, 42, 4, 130, 3, 6, 1, 129, 26, 57, 299, 3, 6, 83, 300, 131, 8, 80, 301, 3, 302, 303, 1, 9, 304, 124, 305, 7, 18, 126, 84, 10, 1, 132, 306, 307, 20, 308, 2, 76, 1, 309, 310, 3, 1, 311, 78, 8, 77], [6, 26, 290, 16, 4, 291, 120, 7, 1, 292, 293, 294, 295, 296, 129, 82, 122, 297, 83, 26, 44, 298, 42, 4, 130, 3, 6, 1, 129, 26, 57, 299, 3, 6, 83, 300, 131, 8, 80, 301, 3, 302, 303, 1, 9, 304, 124, 305, 7, 18, 126, 84, 10, 1, 132, 306, 307, 20, 308, 2, 76, 1, 309, 310, 3, 1, 311, 78, 8, 77, 25], [6, 26, 290, 16, 4, 291, 120, 7, 1, 292, 293, 294, 295, 296, 129, 82, 122, 297, 83, 26, 44, 298, 42, 4, 130, 3, 6, 1, 129, 26, 57, 299, 3, 6, 83, 300, 131, 8, 80, 301, 3, 302, 303, 1, 9, 304, 124, 305, 7, 18, 126, 84, 10, 1, 132, 306, 307, 20, 308, 2, 76, 1, 309, 310, 3, 1, 311, 78, 8, 77, 25, 133], [6, 26, 290, 16, 4, 291, 120, 7, 1, 292, 293, 294, 295, 296, 129, 82, 122, 297, 83, 26, 44, 298, 42, 4, 130, 3, 6, 1, 129, 26, 57, 299, 3, 6, 83, 300, 131, 8, 80, 301, 3, 302, 303, 1, 9, 304, 124, 305, 7, 18, 126, 84, 10, 1, 132, 306, 307, 20, 308, 2, 76, 1, 309, 310, 3, 1, 311, 78, 8, 77, 25, 133, 312], [6, 26, 290, 16, 4, 291, 120, 7, 1, 292, 293, 294, 295, 296, 129, 82, 122, 297, 83, 26, 44, 298, 42, 4, 130, 3, 6, 1, 129, 26, 57, 299, 3, 6, 83, 300, 131, 8, 80, 301, 3, 302, 303, 1, 9, 304, 124, 305, 7, 18, 126, 84, 10, 1, 132, 306, 307, 20, 308, 2, 76, 1, 309, 310, 3, 1, 311, 78, 8, 77, 25, 133, 312, 313], [6, 26, 290, 16, 4, 291, 120, 7, 1, 292, 293, 294, 295, 296, 129, 82, 122, 297, 83, 26, 44, 298, 42, 4, 130, 3, 6, 1, 129, 26, 57, 299, 3, 6, 83, 300, 131, 8, 80, 301, 3, 302, 303, 1, 9, 304, 124, 305, 7, 18, 126, 84, 10, 1, 132, 306, 307, 20, 308, 2, 76, 1, 309, 310, 3, 1, 311, 78, 8, 77, 25, 133, 312, 313, 10], [6, 26, 290, 16, 4, 291, 120, 7, 1, 292, 293, 294, 295, 296, 129, 82, 122, 297, 83, 26, 44, 298, 42, 4, 130, 3, 6, 1, 129, 26, 57, 299, 3, 6, 83, 300, 131, 8, 80, 301, 3, 302, 303, 1, 9, 304, 124, 305, 7, 18, 126, 84, 10, 1, 132, 306, 307, 20, 308, 2, 76, 1, 309, 310, 3, 1, 311, 78, 8, 77, 25, 133, 312, 313, 10, 2], [6, 26, 290, 16, 4, 291, 120, 7, 1, 292, 293, 294, 295, 296, 129, 82, 122, 297, 83, 26, 44, 298, 42, 4, 130, 3, 6, 1, 129, 26, 57, 299, 3, 6, 83, 300, 131, 8, 80, 301, 3, 302, 303, 1, 9, 304, 124, 305, 7, 18, 126, 84, 10, 1, 132, 306, 307, 20, 308, 2, 76, 1, 309, 310, 3, 1, 311, 78, 8, 77, 25, 133, 312, 313, 10, 2, 314], [6, 26, 290, 16, 4, 291, 120, 7, 1, 292, 293, 294, 295, 296, 129, 82, 122, 297, 83, 26, 44, 298, 42, 4, 130, 3, 6, 1, 129, 26, 57, 299, 3, 6, 83, 300, 131, 8, 80, 301, 3, 302, 303, 1, 9, 304, 124, 305, 7, 18, 126, 84, 10, 1, 132, 306, 307, 20, 308, 2, 76, 1, 309, 310, 3, 1, 311, 78, 8, 77, 25, 133, 312, 313, 10, 2, 314, 18], [6, 26, 290, 16, 4, 291, 120, 7, 1, 292, 293, 294, 295, 296, 129, 82, 122, 297, 83, 26, 44, 298, 42, 4, 130, 3, 6, 1, 129, 26, 57, 299, 3, 6, 83, 300, 131, 8, 80, 301, 3, 302, 303, 1, 9, 304, 124, 305, 7, 18, 126, 84, 10, 1, 132, 306, 307, 20, 308, 2, 76, 1, 309, 310, 3, 1, 311, 78, 8, 77, 25, 133, 312, 313, 10, 2, 314, 18, 128], [6, 26, 290, 16, 4, 291, 120, 7, 1, 292, 293, 294, 295, 296, 129, 82, 122, 297, 83, 26, 44, 298, 42, 4, 130, 3, 6, 1, 129, 26, 57, 299, 3, 6, 83, 300, 131, 8, 80, 301, 3, 302, 303, 1, 9, 304, 124, 305, 7, 18, 126, 84, 10, 1, 132, 306, 307, 20, 308, 2, 76, 1, 309, 310, 3, 1, 311, 78, 8, 77, 25, 133, 312, 313, 10, 2, 314, 18, 128, 315], [6, 26, 290, 16, 4, 291, 120, 7, 1, 292, 293, 294, 295, 296, 129, 82, 122, 297, 83, 26, 44, 298, 42, 4, 130, 3, 6, 1, 129, 26, 57, 299, 3, 6, 83, 300, 131, 8, 80, 301, 3, 302, 303, 1, 9, 304, 124, 305, 7, 18, 126, 84, 10, 1, 132, 306, 307, 20, 308, 2, 76, 1, 309, 310, 3, 1, 311, 78, 8, 77, 25, 133, 312, 313, 10, 2, 314, 18, 128, 315, 2], [6, 26, 290, 16, 4, 291, 120, 7, 1, 292, 293, 294, 295, 296, 129, 82, 122, 297, 83, 26, 44, 298, 42, 4, 130, 3, 6, 1, 129, 26, 57, 299, 3, 6, 83, 300, 131, 8, 80, 301, 3, 302, 303, 1, 9, 304, 124, 305, 7, 18, 126, 84, 10, 1, 132, 306, 307, 20, 308, 2, 76, 1, 309, 310, 3, 1, 311, 78, 8, 77, 25, 133, 312, 313, 10, 2, 314, 18, 128, 315, 2, 316], [6, 26, 290, 16, 4, 291, 120, 7, 1, 292, 293, 294, 295, 296, 129, 82, 122, 297, 83, 26, 44, 298, 42, 4, 130, 3, 6, 1, 129, 26, 57, 299, 3, 6, 83, 300, 131, 8, 80, 301, 3, 302, 303, 1, 9, 304, 124, 305, 7, 18, 126, 84, 10, 1, 132, 306, 307, 20, 308, 2, 76, 1, 309, 310, 3, 1, 311, 78, 8, 77, 25, 133, 312, 313, 10, 2, 314, 18, 128, 315, 2, 316, 47], [8, 11], [8, 11, 125], [8, 11, 125, 2], [8, 11, 125, 2, 45], [8, 11, 125, 2, 45, 6], [8, 11, 125, 2, 45, 6, 4], [8, 11, 125, 2, 45, 6, 4, 62], [8, 11, 125, 2, 45, 6, 4, 62, 317], [8, 11, 125, 2, 45, 6, 4, 62, 317, 9], [8, 11, 125, 2, 45, 6, 4, 62, 317, 9, 318], [8, 11, 125, 2, 45, 6, 4, 62, 317, 9, 318, 319], [8, 11, 125, 2, 45, 6, 4, 62, 317, 9, 318, 319, 320], [8, 11, 125, 2, 45, 6, 4, 62, 317, 9, 318, 319, 320, 321], [8, 11, 125, 2, 45, 6, 4, 62, 317, 9, 318, 319, 320, 321, 60], [8, 11, 125, 2, 45, 6, 4, 62, 317, 9, 318, 319, 320, 321, 60, 26], [8, 11, 125, 2, 45, 6, 4, 62, 317, 9, 318, 319, 320, 321, 60, 26, 134], [8, 11, 125, 2, 45, 6, 4, 62, 317, 9, 318, 319, 320, 321, 60, 26, 134, 42], [8, 11, 125, 2, 45, 6, 4, 62, 317, 9, 318, 319, 320, 321, 60, 26, 134, 42, 2], [8, 11, 125, 2, 45, 6, 4, 62, 317, 9, 318, 319, 320, 321, 60, 26, 134, 42, 2, 322], [8, 11, 125, 2, 45, 6, 4, 62, 317, 9, 318, 319, 320, 321, 60, 26, 134, 42, 2, 322, 2], [8, 11, 125, 2, 45, 6, 4, 62, 317, 9, 318, 319, 320, 321, 60, 26, 134, 42, 2, 322, 2, 323], [8, 11, 125, 2, 45, 6, 4, 62, 317, 9, 318, 319, 320, 321, 60, 26, 134, 42, 2, 322, 2, 323, 4], [8, 11, 125, 2, 45, 6, 4, 62, 317, 9, 318, 319, 320, 321, 60, 26, 134, 42, 2, 322, 2, 323, 4, 62], [8, 11, 125, 2, 45, 6, 4, 62, 317, 9, 318, 319, 320, 321, 60, 26, 134, 42, 2, 322, 2, 323, 4, 62, 324], [8, 11, 125, 2, 45, 6, 4, 62, 317, 9, 318, 319, 320, 321, 60, 26, 134, 42, 2, 322, 2, 323, 4, 62, 324, 5], [8, 11, 125, 2, 45, 6, 4, 62, 317, 9, 318, 319, 320, 321, 60, 26, 134, 42, 2, 322, 2, 323, 4, 62, 324, 5, 135], [8, 11, 125, 2, 45, 6, 4, 62, 317, 9, 318, 319, 320, 321, 60, 26, 134, 42, 2, 322, 2, 323, 4, 62, 324, 5, 135, 130], [8, 11, 125, 2, 45, 6, 4, 62, 317, 9, 318, 319, 320, 321, 60, 26, 134, 42, 2, 322, 2, 323, 4, 62, 324, 5, 135, 130, 3], [8, 11, 125, 2, 45, 6, 4, 62, 317, 9, 318, 319, 320, 321, 60, 26, 134, 42, 2, 322, 2, 323, 4, 62, 324, 5, 135, 130, 3, 6], [8, 11, 125, 2, 45, 6, 4, 62, 317, 9, 318, 319, 320, 321, 60, 26, 134, 42, 2, 322, 2, 323, 4, 62, 324, 5, 135, 130, 3, 6, 325], [8, 11, 125, 2, 45, 6, 4, 62, 317, 9, 318, 319, 320, 321, 60, 26, 134, 42, 2, 322, 2, 323, 4, 62, 324, 5, 135, 130, 3, 6, 325, 326], [8, 11, 125, 2, 45, 6, 4, 62, 317, 9, 318, 319, 320, 321, 60, 26, 134, 42, 2, 322, 2, 323, 4, 62, 324, 5, 135, 130, 3, 6, 325, 326, 7], [8, 11, 125, 2, 45, 6, 4, 62, 317, 9, 318, 319, 320, 321, 60, 26, 134, 42, 2, 322, 2, 323, 4, 62, 324, 5, 135, 130, 3, 6, 325, 326, 7, 327], [9, 62], [9, 62, 328], [9, 62, 328, 136], [9, 62, 328, 136, 329], [9, 62, 328, 136, 329, 137], [9, 62, 328, 136, 329, 137, 26], [9, 62, 328, 136, 329, 137, 26, 330], [9, 62, 328, 136, 329, 137, 26, 330, 331], [9, 62, 328, 136, 329, 137, 26, 330, 331, 332], [9, 62, 328, 136, 329, 137, 26, 330, 331, 332, 28], [9, 62, 328, 136, 329, 137, 26, 330, 331, 332, 28, 333], [9, 62, 328, 136, 329, 137, 26, 330, 331, 332, 28, 333, 334], [9, 62, 328, 136, 329, 137, 26, 330, 331, 332, 28, 333, 334, 4], [9, 62, 328, 136, 329, 137, 26, 330, 331, 332, 28, 333, 334, 4, 335], [9, 62, 328, 136, 329, 137, 26, 330, 331, 332, 28, 333, 334, 4, 335, 7], [9, 62, 328, 136, 329, 137, 26, 330, 331, 332, 28, 333, 334, 4, 335, 7, 336], [9, 62, 328, 136, 329, 137, 26, 330, 331, 332, 28, 333, 334, 4, 335, 7, 336, 337], [9, 62, 328, 136, 329, 137, 26, 330, 331, 332, 28, 333, 334, 4, 335, 7, 336, 337, 5], [9, 62, 328, 136, 329, 137, 26, 330, 331, 332, 28, 333, 334, 4, 335, 7, 336, 337, 5, 137], [9, 62, 328, 136, 329, 137, 26, 330, 331, 332, 28, 333, 334, 4, 335, 7, 336, 337, 5, 137, 338], [9, 62, 328, 136, 329, 137, 26, 330, 331, 332, 28, 333, 334, 4, 335, 7, 336, 337, 5, 137, 338, 2], [9, 62, 328, 136, 329, 137, 26, 330, 331, 332, 28, 333, 334, 4, 335, 7, 336, 337, 5, 137, 338, 2, 339], [9, 62, 328, 136, 329, 137, 26, 330, 331, 332, 28, 333, 334, 4, 335, 7, 336, 337, 5, 137, 338, 2, 339, 42], [9, 62, 328, 136, 329, 137, 26, 330, 331, 332, 28, 333, 334, 4, 335, 7, 336, 337, 5, 137, 338, 2, 339, 42, 18], [9, 62, 328, 136, 329, 137, 26, 330, 331, 332, 28, 333, 334, 4, 335, 7, 336, 337, 5, 137, 338, 2, 339, 42, 18, 62], [9, 62, 328, 136, 329, 137, 26, 330, 331, 332, 28, 333, 334, 4, 335, 7, 336, 337, 5, 137, 338, 2, 339, 42, 18, 62, 340], [9, 62, 328, 136, 329, 137, 26, 330, 331, 332, 28, 333, 334, 4, 335, 7, 336, 337, 5, 137, 338, 2, 339, 42, 18, 62, 340, 5], [9, 62, 328, 136, 329, 137, 26, 330, 331, 332, 28, 333, 334, 4, 335, 7, 336, 337, 5, 137, 338, 2, 339, 42, 18, 62, 340, 5, 341], [9, 62, 328, 136, 329, 137, 26, 330, 331, 332, 28, 333, 334, 4, 335, 7, 336, 337, 5, 137, 338, 2, 339, 42, 18, 62, 340, 5, 341, 342], [9, 62, 328, 136, 329, 137, 26, 330, 331, 332, 28, 333, 334, 4, 335, 7, 336, 337, 5, 137, 338, 2, 339, 42, 18, 62, 340, 5, 341, 342, 44], [9, 62, 328, 136, 329, 137, 26, 330, 331, 332, 28, 333, 334, 4, 335, 7, 336, 337, 5, 137, 338, 2, 339, 42, 18, 62, 340, 5, 341, 342, 44, 343], [9, 62, 328, 136, 329, 137, 26, 330, 331, 332, 28, 333, 334, 4, 335, 7, 336, 337, 5, 137, 338, 2, 339, 42, 18, 62, 340, 5, 341, 342, 44, 343, 344], [9, 62, 328, 136, 329, 137, 26, 330, 331, 332, 28, 333, 334, 4, 335, 7, 336, 337, 5, 137, 338, 2, 339, 42, 18, 62, 340, 5, 341, 342, 44, 343, 344, 1], [9, 62, 328, 136, 329, 137, 26, 330, 331, 332, 28, 333, 334, 4, 335, 7, 336, 337, 5, 137, 338, 2, 339, 42, 18, 62, 340, 5, 341, 342, 44, 343, 344, 1, 132], [9, 62, 328, 136, 329, 137, 26, 330, 331, 332, 28, 333, 334, 4, 335, 7, 336, 337, 5, 137, 338, 2, 339, 42, 18, 62, 340, 5, 341, 342, 44, 343, 344, 1, 132, 136], [9, 62, 328, 136, 329, 137, 26, 330, 331, 332, 28, 333, 334, 4, 335, 7, 336, 337, 5, 137, 338, 2, 339, 42, 18, 62, 340, 5, 341, 342, 44, 343, 344, 1, 132, 136, 7], [9, 62, 328, 136, 329, 137, 26, 330, 331, 332, 28, 333, 334, 4, 335, 7, 336, 337, 5, 137, 338, 2, 339, 42, 18, 62, 340, 5, 341, 342, 44, 343, 344, 1, 132, 136, 7, 345], [9, 62, 328, 136, 329, 137, 26, 330, 331, 332, 28, 333, 334, 4, 335, 7, 336, 337, 5, 137, 338, 2, 339, 42, 18, 62, 340, 5, 341, 342, 44, 343, 344, 1, 132, 136, 7, 345, 19], [9, 62, 328, 136, 329, 137, 26, 330, 331, 332, 28, 333, 334, 4, 335, 7, 336, 337, 5, 137, 338, 2, 339, 42, 18, 62, 340, 5, 341, 342, 44, 343, 344, 1, 132, 136, 7, 345, 19, 346], [9, 62, 328, 136, 329, 137, 26, 330, 331, 332, 28, 333, 334, 4, 335, 7, 336, 337, 5, 137, 338, 2, 339, 42, 18, 62, 340, 5, 341, 342, 44, 343, 344, 1, 132, 136, 7, 345, 19, 346, 347], [9, 62, 328, 136, 329, 137, 26, 330, 331, 332, 28, 333, 334, 4, 335, 7, 336, 337, 5, 137, 338, 2, 339, 42, 18, 62, 340, 5, 341, 342, 44, 343, 344, 1, 132, 136, 7, 345, 19, 346, 347, 26], [9, 62, 328, 136, 329, 137, 26, 330, 331, 332, 28, 333, 334, 4, 335, 7, 336, 337, 5, 137, 338, 2, 339, 42, 18, 62, 340, 5, 341, 342, 44, 343, 344, 1, 132, 136, 7, 345, 19, 346, 347, 26, 134], [9, 62, 328, 136, 329, 137, 26, 330, 331, 332, 28, 333, 334, 4, 335, 7, 336, 337, 5, 137, 338, 2, 339, 42, 18, 62, 340, 5, 341, 342, 44, 343, 344, 1, 132, 136, 7, 345, 19, 346, 347, 26, 134, 348], [9, 62, 328, 136, 329, 137, 26, 330, 331, 332, 28, 333, 334, 4, 335, 7, 336, 337, 5, 137, 338, 2, 339, 42, 18, 62, 340, 5, 341, 342, 44, 343, 344, 1, 132, 136, 7, 345, 19, 346, 347, 26, 134, 348, 2], [9, 62, 328, 136, 329, 137, 26, 330, 331, 332, 28, 333, 334, 4, 335, 7, 336, 337, 5, 137, 338, 2, 339, 42, 18, 62, 340, 5, 341, 342, 44, 343, 344, 1, 132, 136, 7, 345, 19, 346, 347, 26, 134, 348, 2, 349], [9, 62, 328, 136, 329, 137, 26, 330, 331, 332, 28, 333, 334, 4, 335, 7, 336, 337, 5, 137, 338, 2, 339, 42, 18, 62, 340, 5, 341, 342, 44, 343, 344, 1, 132, 136, 7, 345, 19, 346, 347, 26, 134, 348, 2, 349, 23], [9, 62, 328, 136, 329, 137, 26, 330, 331, 332, 28, 333, 334, 4, 335, 7, 336, 337, 5, 137, 338, 2, 339, 42, 18, 62, 340, 5, 341, 342, 44, 343, 344, 1, 132, 136, 7, 345, 19, 346, 347, 26, 134, 348, 2, 349, 23, 350], [9, 62, 328, 136, 329, 137, 26, 330, 331, 332, 28, 333, 334, 4, 335, 7, 336, 337, 5, 137, 338, 2, 339, 42, 18, 62, 340, 5, 341, 342, 44, 343, 344, 1, 132, 136, 7, 345, 19, 346, 347, 26, 134, 348, 2, 349, 23, 350, 351], [9, 62, 328, 136, 329, 137, 26, 330, 331, 332, 28, 333, 334, 4, 335, 7, 336, 337, 5, 137, 338, 2, 339, 42, 18, 62, 340, 5, 341, 342, 44, 343, 344, 1, 132, 136, 7, 345, 19, 346, 347, 26, 134, 348, 2, 349, 23, 350, 351, 3], [9, 62, 328, 136, 329, 137, 26, 330, 331, 332, 28, 333, 334, 4, 335, 7, 336, 337, 5, 137, 338, 2, 339, 42, 18, 62, 340, 5, 341, 342, 44, 343, 344, 1, 132, 136, 7, 345, 19, 346, 347, 26, 134, 348, 2, 349, 23, 350, 351, 3, 6], [24, 10], [24, 10, 138], [24, 10, 138, 39], [24, 10, 138, 39, 1], [24, 10, 138, 39, 1, 139], [24, 10, 138, 39, 1, 139, 63], [24, 10, 138, 39, 1, 139, 63, 352], [24, 10, 138, 39, 1, 139, 63, 352, 85], [24, 10, 138, 39, 1, 139, 63, 352, 85, 27], [24, 10, 138, 39, 1, 139, 63, 352, 85, 27, 353], [24, 10, 138, 39, 1, 139, 63, 352, 85, 27, 353, 39], [24, 10, 138, 39, 1, 139, 63, 352, 85, 27, 353, 39, 354], [24, 10, 138, 39, 1, 139, 63, 352, 85, 27, 353, 39, 354, 355], [24, 10, 138, 39, 1, 139, 63, 352, 85, 27, 353, 39, 354, 355, 356], [24, 10, 138, 39, 1, 139, 63, 352, 85, 27, 353, 39, 354, 355, 356, 5], [24, 10, 138, 39, 1, 139, 63, 352, 85, 27, 353, 39, 354, 355, 356, 5, 75], [24, 10, 138, 39, 1, 139, 63, 352, 85, 27, 353, 39, 354, 355, 356, 5, 75, 2], [24, 10, 138, 39, 1, 139, 63, 352, 85, 27, 353, 39, 354, 355, 356, 5, 75, 2, 357], [24, 10, 138, 39, 1, 139, 63, 352, 85, 27, 353, 39, 354, 355, 356, 5, 75, 2, 357, 5], [24, 10, 138, 39, 1, 139, 63, 352, 85, 27, 353, 39, 354, 355, 356, 5, 75, 2, 357, 5, 358], [24, 10, 138, 39, 1, 139, 63, 352, 85, 27, 353, 39, 354, 355, 356, 5, 75, 2, 357, 5, 358, 1], [24, 10, 138, 39, 1, 139, 63, 352, 85, 27, 353, 39, 354, 355, 356, 5, 75, 2, 357, 5, 358, 1, 139], [24, 10, 138, 39, 1, 139, 63, 352, 85, 27, 353, 39, 354, 355, 356, 5, 75, 2, 357, 5, 358, 1, 139, 25], [24, 10, 138, 39, 1, 139, 63, 352, 85, 27, 353, 39, 354, 355, 356, 5, 75, 2, 357, 5, 358, 1, 139, 25, 59], [24, 10, 138, 39, 1, 139, 63, 352, 85, 27, 353, 39, 354, 355, 356, 5, 75, 2, 357, 5, 358, 1, 139, 25, 59, 46], [140, 141], [140, 141, 36], [140, 141, 36, 72], [140, 141, 36, 72, 14], [140, 141, 36, 72, 14, 5], [140, 141, 36, 72, 14, 5, 64], [140, 141, 36, 72, 14, 5, 64, 359], [140, 141, 36, 72, 14, 5, 64, 359, 360], [140, 141, 36, 72, 14, 5, 64, 359, 360, 14], [140, 141, 36, 72, 14, 5, 64, 359, 360, 14, 142], [140, 141, 36, 72, 14, 5, 64, 359, 360, 14, 142, 6], [140, 141, 36, 72, 14, 5, 64, 359, 360, 14, 142, 6, 29], [140, 141, 36, 72, 14, 5, 64, 359, 360, 14, 142, 6, 29, 30], [140, 141, 36, 72, 14, 5, 64, 359, 360, 14, 142, 6, 29, 30, 71], [140, 141, 36, 72, 14, 5, 64, 359, 360, 14, 142, 6, 29, 30, 71, 11], [140, 141, 36, 72, 14, 5, 64, 359, 360, 14, 142, 6, 29, 30, 71, 11, 2], [140, 141, 36, 72, 14, 5, 64, 359, 360, 14, 142, 6, 29, 30, 71, 11, 2, 1], [140, 141, 36, 72, 14, 5, 64, 359, 360, 14, 142, 6, 29, 30, 71, 11, 2, 1, 55], [140, 141, 36, 72, 14, 5, 64, 359, 360, 14, 142, 6, 29, 30, 71, 11, 2, 1, 55, 56], [140, 141, 36, 72, 14, 5, 64, 359, 360, 14, 142, 6, 29, 30, 71, 11, 2, 1, 55, 56, 21], [140, 141, 36, 72, 14, 5, 64, 359, 360, 14, 142, 6, 29, 30, 71, 11, 2, 1, 55, 56, 21, 143], [140, 141, 36, 72, 14, 5, 64, 359, 360, 14, 142, 6, 29, 30, 71, 11, 2, 1, 55, 56, 21, 143, 361], [140, 141, 36, 72, 14, 5, 64, 359, 360, 14, 142, 6, 29, 30, 71, 11, 2, 1, 55, 56, 21, 143, 361, 86], [140, 141, 36, 72, 14, 5, 64, 359, 360, 14, 142, 6, 29, 30, 71, 11, 2, 1, 55, 56, 21, 143, 361, 86, 3], [140, 141, 36, 72, 14, 5, 64, 359, 360, 14, 142, 6, 29, 30, 71, 11, 2, 1, 55, 56, 21, 143, 361, 86, 3, 22], [140, 141, 36, 72, 14, 5, 64, 359, 360, 14, 142, 6, 29, 30, 71, 11, 2, 1, 55, 56, 21, 143, 361, 86, 3, 22, 144], [8, 14], [8, 14, 5], [8, 14, 5, 362], [8, 14, 5, 362, 14], [8, 14, 5, 362, 14, 142], [8, 14, 5, 362, 14, 142, 8], [8, 14, 5, 362, 14, 142, 8, 11], [8, 14, 5, 362, 14, 142, 8, 11, 2], [8, 14, 5, 362, 14, 142, 8, 11, 2, 1], [8, 14, 5, 362, 14, 142, 8, 11, 2, 1, 55], [8, 14, 5, 362, 14, 142, 8, 11, 2, 1, 55, 56], [1, 6], [1, 6, 9], [1, 6, 9, 37], [1, 6, 9, 37, 12], [1, 6, 9, 37, 12, 87], [1, 6, 9, 37, 12, 87, 145], [1, 6, 9, 37, 12, 87, 145, 363], [1, 6, 9, 37, 12, 87, 145, 363, 5], [1, 6, 9, 37, 12, 87, 145, 363, 5, 364], [1, 6, 9, 37, 12, 87, 145, 363, 5, 364, 365], [1, 6, 9, 37, 12, 87, 145, 363, 5, 364, 365, 1], [1, 6, 9, 37, 12, 87, 145, 363, 5, 364, 365, 1, 9], [1, 6, 9, 37, 12, 87, 145, 363, 5, 364, 365, 1, 9, 366], [1, 6, 9, 37, 12, 87, 145, 363, 5, 364, 365, 1, 9, 366, 367], [1, 6, 9, 37, 12, 87, 145, 363, 5, 364, 365, 1, 9, 366, 367, 368], [1, 6, 9, 37, 12, 87, 145, 363, 5, 364, 365, 1, 9, 366, 367, 368, 6], [1, 6, 9, 37, 12, 87, 145, 363, 5, 364, 365, 1, 9, 366, 367, 368, 6, 64], [1, 6, 9, 37, 12, 87, 145, 363, 5, 364, 365, 1, 9, 366, 367, 368, 6, 64, 88], [1, 6, 9, 37, 12, 87, 145, 363, 5, 364, 365, 1, 9, 366, 367, 368, 6, 64, 88, 36], [1, 6, 9, 37, 12, 87, 145, 363, 5, 364, 365, 1, 9, 366, 367, 368, 6, 64, 88, 36, 369], [1, 6, 9, 37, 12, 87, 145, 363, 5, 364, 365, 1, 9, 366, 367, 368, 6, 64, 88, 36, 369, 370], [1, 6, 9, 37, 12, 87, 145, 363, 5, 364, 365, 1, 9, 366, 367, 368, 6, 64, 88, 36, 369, 370, 5], [1, 6, 9, 37, 12, 87, 145, 363, 5, 364, 365, 1, 9, 366, 367, 368, 6, 64, 88, 36, 369, 370, 5, 371], [1, 6, 9, 37, 12, 87, 145, 363, 5, 364, 365, 1, 9, 366, 367, 368, 6, 64, 88, 36, 369, 370, 5, 371, 88], [1, 6, 9, 37, 12, 87, 145, 363, 5, 364, 365, 1, 9, 366, 367, 368, 6, 64, 88, 36, 369, 370, 5, 371, 88, 1], [1, 6, 9, 37, 12, 87, 145, 363, 5, 364, 365, 1, 9, 366, 367, 368, 6, 64, 88, 36, 369, 370, 5, 371, 88, 1, 372], [1, 6, 9, 37, 12, 87, 145, 363, 5, 364, 365, 1, 9, 366, 367, 368, 6, 64, 88, 36, 369, 370, 5, 371, 88, 1, 372, 373], [1, 6, 9, 37, 12, 87, 145, 363, 5, 364, 365, 1, 9, 366, 367, 368, 6, 64, 88, 36, 369, 370, 5, 371, 88, 1, 372, 373, 89], [1, 6, 9, 37, 12, 87, 145, 363, 5, 364, 365, 1, 9, 366, 367, 368, 6, 64, 88, 36, 369, 370, 5, 371, 88, 1, 372, 373, 89, 1], [1, 6, 9, 37, 12, 87, 145, 363, 5, 364, 365, 1, 9, 366, 367, 368, 6, 64, 88, 36, 369, 370, 5, 371, 88, 1, 372, 373, 89, 1, 374], [1, 6, 9, 37, 12, 87, 145, 363, 5, 364, 365, 1, 9, 366, 367, 368, 6, 64, 88, 36, 369, 370, 5, 371, 88, 1, 372, 373, 89, 1, 374, 82], [1, 6, 9, 37, 12, 87, 145, 363, 5, 364, 365, 1, 9, 366, 367, 368, 6, 64, 88, 36, 369, 370, 5, 371, 88, 1, 372, 373, 89, 1, 374, 82, 6], [1, 6, 9, 37, 12, 87, 145, 363, 5, 364, 365, 1, 9, 366, 367, 368, 6, 64, 88, 36, 369, 370, 5, 371, 88, 1, 372, 373, 89, 1, 374, 82, 6, 65], [1, 6, 9, 37, 12, 87, 145, 363, 5, 364, 365, 1, 9, 366, 367, 368, 6, 64, 88, 36, 369, 370, 5, 371, 88, 1, 372, 373, 89, 1, 374, 82, 6, 65, 375], [1, 6, 9, 37, 12, 87, 145, 363, 5, 364, 365, 1, 9, 366, 367, 368, 6, 64, 88, 36, 369, 370, 5, 371, 88, 1, 372, 373, 89, 1, 374, 82, 6, 65, 375, 146], [1, 6, 9, 37, 12, 87, 145, 363, 5, 364, 365, 1, 9, 366, 367, 368, 6, 64, 88, 36, 369, 370, 5, 371, 88, 1, 372, 373, 89, 1, 374, 82, 6, 65, 375, 146, 376], [1, 6, 9, 37, 12, 87, 145, 363, 5, 364, 365, 1, 9, 366, 367, 368, 6, 64, 88, 36, 369, 370, 5, 371, 88, 1, 372, 373, 89, 1, 374, 82, 6, 65, 375, 146, 376, 90], [1, 6, 9, 37, 12, 87, 145, 363, 5, 364, 365, 1, 9, 366, 367, 368, 6, 64, 88, 36, 369, 370, 5, 371, 88, 1, 372, 373, 89, 1, 374, 82, 6, 65, 375, 146, 376, 90, 377], [1, 6, 9, 37, 12, 87, 145, 363, 5, 364, 365, 1, 9, 366, 367, 368, 6, 64, 88, 36, 369, 370, 5, 371, 88, 1, 372, 373, 89, 1, 374, 82, 6, 65, 375, 146, 376, 90, 377, 378], [1, 112], [1, 112, 65], [1, 112, 65, 1], [1, 112, 65, 1, 91], [1, 112, 65, 1, 91, 6], [1, 112, 65, 1, 91, 6, 379], [1, 112, 65, 1, 91, 6, 379, 380], [1, 112, 65, 1, 91, 6, 379, 380, 5], [1, 112, 65, 1, 91, 6, 379, 380, 5, 381], [1, 112, 65, 1, 91, 6, 379, 380, 5, 381, 382], [1, 112, 65, 1, 91, 6, 379, 380, 5, 381, 382, 147], [1, 112, 65, 1, 91, 6, 379, 380, 5, 381, 382, 147, 3], [1, 112, 65, 1, 91, 6, 379, 380, 5, 381, 382, 147, 3, 1], [1, 112, 65, 1, 91, 6, 379, 380, 5, 381, 382, 147, 3, 1, 66], [1, 112, 65, 1, 91, 6, 379, 380, 5, 381, 382, 147, 3, 1, 66, 383], [1, 112, 65, 1, 91, 6, 379, 380, 5, 381, 382, 147, 3, 1, 66, 383, 1], [1, 112, 65, 1, 91, 6, 379, 380, 5, 381, 382, 147, 3, 1, 66, 383, 1, 384], [1, 112, 65, 1, 91, 6, 379, 380, 5, 381, 382, 147, 3, 1, 66, 383, 1, 384, 7], [1, 112, 65, 1, 91, 6, 379, 380, 5, 381, 382, 147, 3, 1, 66, 383, 1, 384, 7, 385], [1, 112, 65, 1, 91, 6, 379, 380, 5, 381, 382, 147, 3, 1, 66, 383, 1, 384, 7, 385, 386], [1, 112, 65, 1, 91, 6, 379, 380, 5, 381, 382, 147, 3, 1, 66, 383, 1, 384, 7, 385, 386, 35], [1, 112, 65, 1, 91, 6, 379, 380, 5, 381, 382, 147, 3, 1, 66, 383, 1, 384, 7, 385, 386, 35, 18], [1, 112, 65, 1, 91, 6, 379, 380, 5, 381, 382, 147, 3, 1, 66, 383, 1, 384, 7, 385, 386, 35, 18, 64], [1, 112, 65, 1, 91, 6, 379, 380, 5, 381, 382, 147, 3, 1, 66, 383, 1, 384, 7, 385, 386, 35, 18, 64, 29], [1, 112, 65, 1, 91, 6, 379, 380, 5, 381, 382, 147, 3, 1, 66, 383, 1, 384, 7, 385, 386, 35, 18, 64, 29, 30], [1, 112, 65, 1, 91, 6, 379, 380, 5, 381, 382, 147, 3, 1, 66, 383, 1, 384, 7, 385, 386, 35, 18, 64, 29, 30, 387], [1, 112, 65, 1, 91, 6, 379, 380, 5, 381, 382, 147, 3, 1, 66, 383, 1, 384, 7, 385, 386, 35, 18, 64, 29, 30, 387, 388], [1, 112, 65, 1, 91, 6, 379, 380, 5, 381, 382, 147, 3, 1, 66, 383, 1, 384, 7, 385, 386, 35, 18, 64, 29, 30, 387, 388, 12], [1, 112, 65, 1, 91, 6, 379, 380, 5, 381, 382, 147, 3, 1, 66, 383, 1, 384, 7, 385, 386, 35, 18, 64, 29, 30, 387, 388, 12, 389], [1, 112, 65, 1, 91, 6, 379, 380, 5, 381, 382, 147, 3, 1, 66, 383, 1, 384, 7, 385, 386, 35, 18, 64, 29, 30, 387, 388, 12, 389, 38], [1, 112, 65, 1, 91, 6, 379, 380, 5, 381, 382, 147, 3, 1, 66, 383, 1, 384, 7, 385, 386, 35, 18, 64, 29, 30, 387, 388, 12, 389, 38, 390], [1, 112, 65, 1, 91, 6, 379, 380, 5, 381, 382, 147, 3, 1, 66, 383, 1, 384, 7, 385, 386, 35, 18, 64, 29, 30, 387, 388, 12, 389, 38, 390, 391], [1, 112, 65, 1, 91, 6, 379, 380, 5, 381, 382, 147, 3, 1, 66, 383, 1, 384, 7, 385, 386, 35, 18, 64, 29, 30, 387, 388, 12, 389, 38, 390, 391, 131], [1, 112, 65, 1, 91, 6, 379, 380, 5, 381, 382, 147, 3, 1, 66, 383, 1, 384, 7, 385, 386, 35, 18, 64, 29, 30, 387, 388, 12, 389, 38, 390, 391, 131, 18], [1, 112, 65, 1, 91, 6, 379, 380, 5, 381, 382, 147, 3, 1, 66, 383, 1, 384, 7, 385, 386, 35, 18, 64, 29, 30, 387, 388, 12, 389, 38, 390, 391, 131, 18, 148], [1, 112, 65, 1, 91, 6, 379, 380, 5, 381, 382, 147, 3, 1, 66, 383, 1, 384, 7, 385, 386, 35, 18, 64, 29, 30, 387, 388, 12, 389, 38, 390, 391, 131, 18, 148, 92], [6, 146], [6, 146, 149], [6, 146, 149, 2], [6, 146, 149, 2, 57], [6, 146, 149, 2, 57, 87], [6, 146, 149, 2, 57, 87, 3], [6, 146, 149, 2, 57, 87, 3, 67], [6, 146, 149, 2, 57, 87, 3, 67, 392], [6, 146, 149, 2, 57, 87, 3, 67, 392, 90], [6, 146, 149, 2, 57, 87, 3, 67, 392, 90, 1], [6, 146, 149, 2, 57, 87, 3, 67, 392, 90, 1, 393], [6, 146, 149, 2, 57, 87, 3, 67, 392, 90, 1, 393, 90], [6, 146, 149, 2, 57, 87, 3, 67, 392, 90, 1, 393, 90, 2], [6, 146, 149, 2, 57, 87, 3, 67, 392, 90, 1, 393, 90, 2, 57], [6, 146, 149, 2, 57, 87, 3, 67, 392, 90, 1, 393, 90, 2, 57, 87], [6, 146, 149, 2, 57, 87, 3, 67, 392, 90, 1, 393, 90, 2, 57, 87, 15], [6, 146, 149, 2, 57, 87, 3, 67, 392, 90, 1, 393, 90, 2, 57, 87, 15, 394], [6, 146, 149, 2, 57, 87, 3, 67, 392, 90, 1, 393, 90, 2, 57, 87, 15, 394, 40], [6, 146, 149, 2, 57, 87, 3, 67, 392, 90, 1, 393, 90, 2, 57, 87, 15, 394, 40, 93], [6, 146, 149, 2, 57, 87, 3, 67, 392, 90, 1, 393, 90, 2, 57, 87, 15, 394, 40, 93, 2], [6, 146, 149, 2, 57, 87, 3, 67, 392, 90, 1, 393, 90, 2, 57, 87, 15, 394, 40, 93, 2, 4], [6, 146, 149, 2, 57, 87, 3, 67, 392, 90, 1, 393, 90, 2, 57, 87, 15, 394, 40, 93, 2, 4, 66], [6, 146, 149, 2, 57, 87, 3, 67, 392, 90, 1, 393, 90, 2, 57, 87, 15, 394, 40, 93, 2, 4, 66, 395], [6, 146, 149, 2, 57, 87, 3, 67, 392, 90, 1, 393, 90, 2, 57, 87, 15, 394, 40, 93, 2, 4, 66, 395, 8], [6, 146, 149, 2, 57, 87, 3, 67, 392, 90, 1, 393, 90, 2, 57, 87, 15, 394, 40, 93, 2, 4, 66, 395, 8, 11], [6, 146, 149, 2, 57, 87, 3, 67, 392, 90, 1, 393, 90, 2, 57, 87, 15, 394, 40, 93, 2, 4, 66, 395, 8, 11, 12], [6, 146, 149, 2, 57, 87, 3, 67, 392, 90, 1, 393, 90, 2, 57, 87, 15, 394, 40, 93, 2, 4, 66, 395, 8, 11, 12, 17], [6, 146, 149, 2, 57, 87, 3, 67, 392, 90, 1, 393, 90, 2, 57, 87, 15, 394, 40, 93, 2, 4, 66, 395, 8, 11, 12, 17, 396], [6, 146, 149, 2, 57, 87, 3, 67, 392, 90, 1, 393, 90, 2, 57, 87, 15, 394, 40, 93, 2, 4, 66, 395, 8, 11, 12, 17, 396, 1], [6, 146, 149, 2, 57, 87, 3, 67, 392, 90, 1, 393, 90, 2, 57, 87, 15, 394, 40, 93, 2, 4, 66, 395, 8, 11, 12, 17, 396, 1, 397], [6, 146, 149, 2, 57, 87, 3, 67, 392, 90, 1, 393, 90, 2, 57, 87, 15, 394, 40, 93, 2, 4, 66, 395, 8, 11, 12, 17, 396, 1, 397, 7], [6, 146, 149, 2, 57, 87, 3, 67, 392, 90, 1, 393, 90, 2, 57, 87, 15, 394, 40, 93, 2, 4, 66, 395, 8, 11, 12, 17, 396, 1, 397, 7, 150], [6, 146, 149, 2, 57, 87, 3, 67, 392, 90, 1, 393, 90, 2, 57, 87, 15, 394, 40, 93, 2, 4, 66, 395, 8, 11, 12, 17, 396, 1, 397, 7, 150, 151], [6, 146, 149, 2, 57, 87, 3, 67, 392, 90, 1, 393, 90, 2, 57, 87, 15, 394, 40, 93, 2, 4, 66, 395, 8, 11, 12, 17, 396, 1, 397, 7, 150, 151, 398], [6, 146, 149, 2, 57, 87, 3, 67, 392, 90, 1, 393, 90, 2, 57, 87, 15, 394, 40, 93, 2, 4, 66, 395, 8, 11, 12, 17, 396, 1, 397, 7, 150, 151, 398, 15], [6, 146, 149, 2, 57, 87, 3, 67, 392, 90, 1, 393, 90, 2, 57, 87, 15, 394, 40, 93, 2, 4, 66, 395, 8, 11, 12, 17, 396, 1, 397, 7, 150, 151, 398, 15, 40], [6, 146, 149, 2, 57, 87, 3, 67, 392, 90, 1, 393, 90, 2, 57, 87, 15, 394, 40, 93, 2, 4, 66, 395, 8, 11, 12, 17, 396, 1, 397, 7, 150, 151, 398, 15, 40, 399], [6, 146, 149, 2, 57, 87, 3, 67, 392, 90, 1, 393, 90, 2, 57, 87, 15, 394, 40, 93, 2, 4, 66, 395, 8, 11, 12, 17, 396, 1, 397, 7, 150, 151, 398, 15, 40, 399, 3], [6, 146, 149, 2, 57, 87, 3, 67, 392, 90, 1, 393, 90, 2, 57, 87, 15, 394, 40, 93, 2, 4, 66, 395, 8, 11, 12, 17, 396, 1, 397, 7, 150, 151, 398, 15, 40, 399, 3, 28], [6, 146, 149, 2, 57, 87, 3, 67, 392, 90, 1, 393, 90, 2, 57, 87, 15, 394, 40, 93, 2, 4, 66, 395, 8, 11, 12, 17, 396, 1, 397, 7, 150, 151, 398, 15, 40, 399, 3, 28, 148], [6, 146, 149, 2, 57, 87, 3, 67, 392, 90, 1, 393, 90, 2, 57, 87, 15, 394, 40, 93, 2, 4, 66, 395, 8, 11, 12, 17, 396, 1, 397, 7, 150, 151, 398, 15, 40, 399, 3, 28, 148, 92], [20, 8], [20, 8, 11], [20, 8, 11, 10], [20, 8, 11, 10, 400], [20, 8, 11, 10, 400, 4], [20, 8, 11, 10, 400, 4, 401], [20, 8, 11, 10, 400, 4, 401, 402], [20, 8, 11, 10, 400, 4, 401, 402, 7], [20, 8, 11, 10, 400, 4, 401, 402, 7, 6], [20, 8, 11, 10, 400, 4, 401, 402, 7, 6, 67], [20, 8, 11, 10, 400, 4, 401, 402, 7, 6, 67, 83], [20, 8, 11, 10, 400, 4, 401, 402, 7, 6, 67, 83, 12], [20, 8, 11, 10, 400, 4, 401, 402, 7, 6, 67, 83, 12, 403], [20, 8, 11, 10, 400, 4, 401, 402, 7, 6, 67, 83, 12, 403, 41], [20, 8, 11, 10, 400, 4, 401, 402, 7, 6, 67, 83, 12, 403, 41, 404], [20, 8, 11, 10, 400, 4, 401, 402, 7, 6, 67, 83, 12, 403, 41, 404, 5], [20, 8, 11, 10, 400, 4, 401, 402, 7, 6, 67, 83, 12, 403, 41, 404, 5, 405], [20, 8, 11, 10, 400, 4, 401, 402, 7, 6, 67, 83, 12, 403, 41, 404, 5, 405, 406], [20, 8, 11, 10, 400, 4, 401, 402, 7, 6, 67, 83, 12, 403, 41, 404, 5, 405, 406, 68], [20, 8, 11, 10, 400, 4, 401, 402, 7, 6, 67, 83, 12, 403, 41, 404, 5, 405, 406, 68, 12], [20, 8, 11, 10, 400, 4, 401, 402, 7, 6, 67, 83, 12, 403, 41, 404, 5, 405, 406, 68, 12, 123], [20, 8, 11, 10, 400, 4, 401, 402, 7, 6, 67, 83, 12, 403, 41, 404, 5, 405, 406, 68, 12, 123, 1], [20, 8, 11, 10, 400, 4, 401, 402, 7, 6, 67, 83, 12, 403, 41, 404, 5, 405, 406, 68, 12, 123, 1, 6], [20, 8, 11, 10, 400, 4, 401, 402, 7, 6, 67, 83, 12, 403, 41, 404, 5, 405, 406, 68, 12, 123, 1, 6, 9], [20, 8, 11, 10, 400, 4, 401, 402, 7, 6, 67, 83, 12, 403, 41, 404, 5, 405, 406, 68, 12, 123, 1, 6, 9, 152], [20, 8, 11, 10, 400, 4, 401, 402, 7, 6, 67, 83, 12, 403, 41, 404, 5, 405, 406, 68, 12, 123, 1, 6, 9, 152, 68], [20, 8, 11, 10, 400, 4, 401, 402, 7, 6, 67, 83, 12, 403, 41, 404, 5, 405, 406, 68, 12, 123, 1, 6, 9, 152, 68, 407], [20, 8, 11, 10, 400, 4, 401, 402, 7, 6, 67, 83, 12, 403, 41, 404, 5, 405, 406, 68, 12, 123, 1, 6, 9, 152, 68, 407, 153], [20, 8, 11, 10, 400, 4, 401, 402, 7, 6, 67, 83, 12, 403, 41, 404, 5, 405, 406, 68, 12, 123, 1, 6, 9, 152, 68, 407, 153, 408], [20, 8, 11, 10, 400, 4, 401, 402, 7, 6, 67, 83, 12, 403, 41, 404, 5, 405, 406, 68, 12, 123, 1, 6, 9, 152, 68, 407, 153, 408, 16], [20, 8, 11, 10, 400, 4, 401, 402, 7, 6, 67, 83, 12, 403, 41, 404, 5, 405, 406, 68, 12, 123, 1, 6, 9, 152, 68, 407, 153, 408, 16, 121], [20, 8, 11, 10, 400, 4, 401, 402, 7, 6, 67, 83, 12, 403, 41, 404, 5, 405, 406, 68, 12, 123, 1, 6, 9, 152, 68, 407, 153, 408, 16, 121, 409], [20, 8, 11, 10, 400, 4, 401, 402, 7, 6, 67, 83, 12, 403, 41, 404, 5, 405, 406, 68, 12, 123, 1, 6, 9, 152, 68, 407, 153, 408, 16, 121, 409, 410], [20, 8, 11, 10, 400, 4, 401, 402, 7, 6, 67, 83, 12, 403, 41, 404, 5, 405, 406, 68, 12, 123, 1, 6, 9, 152, 68, 407, 153, 408, 16, 121, 409, 410, 154], [20, 8, 11, 10, 400, 4, 401, 402, 7, 6, 67, 83, 12, 403, 41, 404, 5, 405, 406, 68, 12, 123, 1, 6, 9, 152, 68, 407, 153, 408, 16, 121, 409, 410, 154, 5], [20, 8, 11, 10, 400, 4, 401, 402, 7, 6, 67, 83, 12, 403, 41, 404, 5, 405, 406, 68, 12, 123, 1, 6, 9, 152, 68, 407, 153, 408, 16, 121, 409, 410, 154, 5, 411], [20, 8, 11, 10, 400, 4, 401, 402, 7, 6, 67, 83, 12, 403, 41, 404, 5, 405, 406, 68, 12, 123, 1, 6, 9, 152, 68, 407, 153, 408, 16, 121, 409, 410, 154, 5, 411, 155], [20, 8, 11, 10, 400, 4, 401, 402, 7, 6, 67, 83, 12, 403, 41, 404, 5, 405, 406, 68, 12, 123, 1, 6, 9, 152, 68, 407, 153, 408, 16, 121, 409, 410, 154, 5, 411, 155, 5], [20, 8, 11, 10, 400, 4, 401, 402, 7, 6, 67, 83, 12, 403, 41, 404, 5, 405, 406, 68, 12, 123, 1, 6, 9, 152, 68, 407, 153, 408, 16, 121, 409, 410, 154, 5, 411, 155, 5, 63], [20, 8, 11, 10, 400, 4, 401, 402, 7, 6, 67, 83, 12, 403, 41, 404, 5, 405, 406, 68, 12, 123, 1, 6, 9, 152, 68, 407, 153, 408, 16, 121, 409, 410, 154, 5, 411, 155, 5, 63, 16], [20, 8, 11, 10, 400, 4, 401, 402, 7, 6, 67, 83, 12, 403, 41, 404, 5, 405, 406, 68, 12, 123, 1, 6, 9, 152, 68, 407, 153, 408, 16, 121, 409, 410, 154, 5, 411, 155, 5, 63, 16, 8], [20, 8, 11, 10, 400, 4, 401, 402, 7, 6, 67, 83, 12, 403, 41, 404, 5, 405, 406, 68, 12, 123, 1, 6, 9, 152, 68, 407, 153, 408, 16, 121, 409, 410, 154, 5, 411, 155, 5, 63, 16, 8, 14], [20, 18], [20, 18, 40], [20, 18, 40, 94], [20, 18, 40, 94, 12], [20, 18, 40, 94, 12, 17], [20, 18, 40, 94, 12, 17, 38], [20, 18, 40, 94, 12, 17, 38, 412], [20, 18, 40, 94, 12, 17, 38, 412, 22], [20, 18, 40, 94, 12, 17, 38, 412, 22, 413], [20, 18, 40, 94, 12, 17, 38, 412, 22, 413, 32], [20, 18, 40, 94, 12, 17, 38, 412, 22, 413, 32, 149], [20, 18, 40, 94, 12, 17, 38, 412, 22, 413, 32, 149, 6], [20, 18, 40, 94, 12, 17, 38, 412, 22, 413, 32, 149, 6, 2], [20, 18, 40, 94, 12, 17, 38, 412, 22, 413, 32, 149, 6, 2, 414], [20, 18, 40, 94, 12, 17, 38, 412, 22, 413, 32, 149, 6, 2, 414, 4], [20, 18, 40, 94, 12, 17, 38, 412, 22, 413, 32, 149, 6, 2, 414, 4, 415], [20, 18, 40, 94, 12, 17, 38, 412, 22, 413, 32, 149, 6, 2, 414, 4, 415, 156], [20, 18, 40, 94, 12, 17, 38, 412, 22, 413, 32, 149, 6, 2, 414, 4, 415, 156, 21], [20, 18, 40, 94, 12, 17, 38, 412, 22, 413, 32, 149, 6, 2, 414, 4, 415, 156, 21, 84], [20, 18, 40, 94, 12, 17, 38, 412, 22, 413, 32, 149, 6, 2, 414, 4, 415, 156, 21, 84, 5], [20, 18, 40, 94, 12, 17, 38, 412, 22, 413, 32, 149, 6, 2, 414, 4, 415, 156, 21, 84, 5, 416], [20, 18, 40, 94, 12, 17, 38, 412, 22, 413, 32, 149, 6, 2, 414, 4, 415, 156, 21, 84, 5, 416, 417], [20, 18, 40, 94, 12, 17, 38, 412, 22, 413, 32, 149, 6, 2, 414, 4, 415, 156, 21, 84, 5, 416, 417, 4], [20, 18, 40, 94, 12, 17, 38, 412, 22, 413, 32, 149, 6, 2, 414, 4, 415, 156, 21, 84, 5, 416, 417, 4, 418], [20, 18, 40, 94, 12, 17, 38, 412, 22, 413, 32, 149, 6, 2, 414, 4, 415, 156, 21, 84, 5, 416, 417, 4, 418, 419], [20, 18, 40, 94, 12, 17, 38, 412, 22, 413, 32, 149, 6, 2, 414, 4, 415, 156, 21, 84, 5, 416, 417, 4, 418, 419, 420], [20, 18, 40, 94, 12, 17, 38, 412, 22, 413, 32, 149, 6, 2, 414, 4, 415, 156, 21, 84, 5, 416, 417, 4, 418, 419, 420, 21], [20, 18, 40, 94, 12, 17, 38, 412, 22, 413, 32, 149, 6, 2, 414, 4, 415, 156, 21, 84, 5, 416, 417, 4, 418, 419, 420, 21, 47], [20, 1], [20, 1, 14], [20, 1, 14, 89], [20, 1, 14, 89, 95], [20, 1, 14, 89, 95, 421], [20, 1, 14, 89, 95, 421, 422], [20, 1, 14, 89, 95, 421, 422, 15], [20, 1, 14, 89, 95, 421, 422, 15, 8], [20, 1, 14, 89, 95, 421, 422, 15, 8, 11], [20, 1, 14, 89, 95, 421, 422, 15, 8, 11, 423], [20, 1, 14, 89, 95, 421, 422, 15, 8, 11, 423, 51], [20, 1, 14, 89, 95, 421, 422, 15, 8, 11, 423, 51, 424], [20, 1, 14, 89, 95, 421, 422, 15, 8, 11, 423, 51, 424, 13], [20, 1, 14, 89, 95, 421, 422, 15, 8, 11, 423, 51, 424, 13, 31], [20, 1, 14, 89, 95, 421, 422, 15, 8, 11, 423, 51, 424, 13, 31, 65], [20, 1, 14, 89, 95, 421, 422, 15, 8, 11, 423, 51, 424, 13, 31, 65, 17], [20, 1, 14, 89, 95, 421, 422, 15, 8, 11, 423, 51, 424, 13, 31, 65, 17, 1], [20, 1, 14, 89, 95, 421, 422, 15, 8, 11, 423, 51, 424, 13, 31, 65, 17, 1, 425], [20, 1, 14, 89, 95, 421, 422, 15, 8, 11, 423, 51, 424, 13, 31, 65, 17, 1, 425, 7], [20, 1, 14, 89, 95, 421, 422, 15, 8, 11, 423, 51, 424, 13, 31, 65, 17, 1, 425, 7, 426], [20, 1, 14, 89, 95, 421, 422, 15, 8, 11, 423, 51, 424, 13, 31, 65, 17, 1, 425, 7, 426, 69], [20, 1, 14, 89, 95, 421, 422, 15, 8, 11, 423, 51, 424, 13, 31, 65, 17, 1, 425, 7, 426, 69, 427], [20, 1, 14, 89, 95, 421, 422, 15, 8, 11, 423, 51, 424, 13, 31, 65, 17, 1, 425, 7, 426, 69, 427, 84], [20, 1, 14, 89, 95, 421, 422, 15, 8, 11, 423, 51, 424, 13, 31, 65, 17, 1, 425, 7, 426, 69, 427, 84, 1], [20, 1, 14, 89, 95, 421, 422, 15, 8, 11, 423, 51, 424, 13, 31, 65, 17, 1, 425, 7, 426, 69, 427, 84, 1, 28], [20, 1, 14, 89, 95, 421, 422, 15, 8, 11, 423, 51, 424, 13, 31, 65, 17, 1, 425, 7, 426, 69, 427, 84, 1, 28, 29], [20, 1, 14, 89, 95, 421, 422, 15, 8, 11, 423, 51, 424, 13, 31, 65, 17, 1, 425, 7, 426, 69, 427, 84, 1, 28, 29, 30], [20, 1, 14, 89, 95, 421, 422, 15, 8, 11, 423, 51, 424, 13, 31, 65, 17, 1, 425, 7, 426, 69, 427, 84, 1, 28, 29, 30, 157], [20, 1, 14, 89, 95, 421, 422, 15, 8, 11, 423, 51, 424, 13, 31, 65, 17, 1, 425, 7, 426, 69, 427, 84, 1, 28, 29, 30, 157, 428], [20, 1, 14, 89, 95, 421, 422, 15, 8, 11, 423, 51, 424, 13, 31, 65, 17, 1, 425, 7, 426, 69, 427, 84, 1, 28, 29, 30, 157, 428, 39], [20, 1, 14, 89, 95, 421, 422, 15, 8, 11, 423, 51, 424, 13, 31, 65, 17, 1, 425, 7, 426, 69, 427, 84, 1, 28, 29, 30, 157, 428, 39, 1], [20, 1, 14, 89, 95, 421, 422, 15, 8, 11, 423, 51, 424, 13, 31, 65, 17, 1, 425, 7, 426, 69, 427, 84, 1, 28, 29, 30, 157, 428, 39, 1, 158], [20, 1, 14, 89, 95, 421, 422, 15, 8, 11, 423, 51, 424, 13, 31, 65, 17, 1, 425, 7, 426, 69, 427, 84, 1, 28, 29, 30, 157, 428, 39, 1, 158, 7], [20, 1, 14, 89, 95, 421, 422, 15, 8, 11, 423, 51, 424, 13, 31, 65, 17, 1, 425, 7, 426, 69, 427, 84, 1, 28, 29, 30, 157, 428, 39, 1, 158, 7, 429], [20, 1, 14, 89, 95, 421, 422, 15, 8, 11, 423, 51, 424, 13, 31, 65, 17, 1, 425, 7, 426, 69, 427, 84, 1, 28, 29, 30, 157, 428, 39, 1, 158, 7, 429, 42], [20, 1, 14, 89, 95, 421, 422, 15, 8, 11, 423, 51, 424, 13, 31, 65, 17, 1, 425, 7, 426, 69, 427, 84, 1, 28, 29, 30, 157, 428, 39, 1, 158, 7, 429, 42, 430], [20, 1, 14, 89, 95, 421, 422, 15, 8, 11, 423, 51, 424, 13, 31, 65, 17, 1, 425, 7, 426, 69, 427, 84, 1, 28, 29, 30, 157, 428, 39, 1, 158, 7, 429, 42, 430, 431], [20, 1, 14, 89, 95, 421, 422, 15, 8, 11, 423, 51, 424, 13, 31, 65, 17, 1, 425, 7, 426, 69, 427, 84, 1, 28, 29, 30, 157, 428, 39, 1, 158, 7, 429, 42, 430, 431, 2], [20, 1, 14, 89, 95, 421, 422, 15, 8, 11, 423, 51, 424, 13, 31, 65, 17, 1, 425, 7, 426, 69, 427, 84, 1, 28, 29, 30, 157, 428, 39, 1, 158, 7, 429, 42, 430, 431, 2, 432], [20, 1, 14, 89, 95, 421, 422, 15, 8, 11, 423, 51, 424, 13, 31, 65, 17, 1, 425, 7, 426, 69, 427, 84, 1, 28, 29, 30, 157, 428, 39, 1, 158, 7, 429, 42, 430, 431, 2, 432, 68], [20, 1, 14, 89, 95, 421, 422, 15, 8, 11, 423, 51, 424, 13, 31, 65, 17, 1, 425, 7, 426, 69, 427, 84, 1, 28, 29, 30, 157, 428, 39, 1, 158, 7, 429, 42, 430, 431, 2, 432, 68, 95], [20, 1, 14, 89, 95, 421, 422, 15, 8, 11, 423, 51, 424, 13, 31, 65, 17, 1, 425, 7, 426, 69, 427, 84, 1, 28, 29, 30, 157, 428, 39, 1, 158, 7, 429, 42, 430, 431, 2, 432, 68, 95, 433], [20, 1, 14, 89, 95, 421, 422, 15, 8, 11, 423, 51, 424, 13, 31, 65, 17, 1, 425, 7, 426, 69, 427, 84, 1, 28, 29, 30, 157, 428, 39, 1, 158, 7, 429, 42, 430, 431, 2, 432, 68, 95, 433, 47], [20, 1, 14, 89, 95, 421, 422, 15, 8, 11, 423, 51, 424, 13, 31, 65, 17, 1, 425, 7, 426, 69, 427, 84, 1, 28, 29, 30, 157, 428, 39, 1, 158, 7, 429, 42, 430, 431, 2, 432, 68, 95, 433, 47, 35], [20, 1, 14, 89, 95, 421, 422, 15, 8, 11, 423, 51, 424, 13, 31, 65, 17, 1, 425, 7, 426, 69, 427, 84, 1, 28, 29, 30, 157, 428, 39, 1, 158, 7, 429, 42, 430, 431, 2, 432, 68, 95, 433, 47, 35, 434], [20, 1, 14, 89, 95, 421, 422, 15, 8, 11, 423, 51, 424, 13, 31, 65, 17, 1, 425, 7, 426, 69, 427, 84, 1, 28, 29, 30, 157, 428, 39, 1, 158, 7, 429, 42, 430, 431, 2, 432, 68, 95, 433, 47, 35, 434, 435], [20, 1, 14, 89, 95, 421, 422, 15, 8, 11, 423, 51, 424, 13, 31, 65, 17, 1, 425, 7, 426, 69, 427, 84, 1, 28, 29, 30, 157, 428, 39, 1, 158, 7, 429, 42, 430, 431, 2, 432, 68, 95, 433, 47, 35, 434, 435, 20], [20, 1, 14, 89, 95, 421, 422, 15, 8, 11, 423, 51, 424, 13, 31, 65, 17, 1, 425, 7, 426, 69, 427, 84, 1, 28, 29, 30, 157, 428, 39, 1, 158, 7, 429, 42, 430, 431, 2, 432, 68, 95, 433, 47, 35, 434, 435, 20, 157], [20, 1, 14, 89, 95, 421, 422, 15, 8, 11, 423, 51, 424, 13, 31, 65, 17, 1, 425, 7, 426, 69, 427, 84, 1, 28, 29, 30, 157, 428, 39, 1, 158, 7, 429, 42, 430, 431, 2, 432, 68, 95, 433, 47, 35, 434, 435, 20, 157, 436], [20, 1, 14, 89, 95, 421, 422, 15, 8, 11, 423, 51, 424, 13, 31, 65, 17, 1, 425, 7, 426, 69, 427, 84, 1, 28, 29, 30, 157, 428, 39, 1, 158, 7, 429, 42, 430, 431, 2, 432, 68, 95, 433, 47, 35, 434, 435, 20, 157, 436, 39], [20, 1, 14, 89, 95, 421, 422, 15, 8, 11, 423, 51, 424, 13, 31, 65, 17, 1, 425, 7, 426, 69, 427, 84, 1, 28, 29, 30, 157, 428, 39, 1, 158, 7, 429, 42, 430, 431, 2, 432, 68, 95, 433, 47, 35, 434, 435, 20, 157, 436, 39, 1], [20, 1, 14, 89, 95, 421, 422, 15, 8, 11, 423, 51, 424, 13, 31, 65, 17, 1, 425, 7, 426, 69, 427, 84, 1, 28, 29, 30, 157, 428, 39, 1, 158, 7, 429, 42, 430, 431, 2, 432, 68, 95, 433, 47, 35, 434, 435, 20, 157, 436, 39, 1, 158], [20, 1, 14, 89, 95, 421, 422, 15, 8, 11, 423, 51, 424, 13, 31, 65, 17, 1, 425, 7, 426, 69, 427, 84, 1, 28, 29, 30, 157, 428, 39, 1, 158, 7, 429, 42, 430, 431, 2, 432, 68, 95, 433, 47, 35, 434, 435, 20, 157, 436, 39, 1, 158, 7], [20, 1, 14, 89, 95, 421, 422, 15, 8, 11, 423, 51, 424, 13, 31, 65, 17, 1, 425, 7, 426, 69, 427, 84, 1, 28, 29, 30, 157, 428, 39, 1, 158, 7, 429, 42, 430, 431, 2, 432, 68, 95, 433, 47, 35, 434, 435, 20, 157, 436, 39, 1, 158, 7, 4], [20, 1, 14, 89, 95, 421, 422, 15, 8, 11, 423, 51, 424, 13, 31, 65, 17, 1, 425, 7, 426, 69, 427, 84, 1, 28, 29, 30, 157, 428, 39, 1, 158, 7, 429, 42, 430, 431, 2, 432, 68, 95, 433, 47, 35, 434, 435, 20, 157, 436, 39, 1, 158, 7, 4, 159], [20, 1, 14, 89, 95, 421, 422, 15, 8, 11, 423, 51, 424, 13, 31, 65, 17, 1, 425, 7, 426, 69, 427, 84, 1, 28, 29, 30, 157, 428, 39, 1, 158, 7, 429, 42, 430, 431, 2, 432, 68, 95, 433, 47, 35, 434, 435, 20, 157, 436, 39, 1, 158, 7, 4, 159, 5], [20, 1, 14, 89, 95, 421, 422, 15, 8, 11, 423, 51, 424, 13, 31, 65, 17, 1, 425, 7, 426, 69, 427, 84, 1, 28, 29, 30, 157, 428, 39, 1, 158, 7, 429, 42, 430, 431, 2, 432, 68, 95, 433, 47, 35, 434, 435, 20, 157, 436, 39, 1, 158, 7, 4, 159, 5, 437], [20, 1, 14, 89, 95, 421, 422, 15, 8, 11, 423, 51, 424, 13, 31, 65, 17, 1, 425, 7, 426, 69, 427, 84, 1, 28, 29, 30, 157, 428, 39, 1, 158, 7, 429, 42, 430, 431, 2, 432, 68, 95, 433, 47, 35, 434, 435, 20, 157, 436, 39, 1, 158, 7, 4, 159, 5, 437, 115], [20, 1, 14, 89, 95, 421, 422, 15, 8, 11, 423, 51, 424, 13, 31, 65, 17, 1, 425, 7, 426, 69, 427, 84, 1, 28, 29, 30, 157, 428, 39, 1, 158, 7, 429, 42, 430, 431, 2, 432, 68, 95, 433, 47, 35, 434, 435, 20, 157, 436, 39, 1, 158, 7, 4, 159, 5, 437, 115, 116], [31, 10], [31, 10, 75], [31, 10, 75, 438], [31, 10, 75, 438, 8], [31, 10, 75, 438, 8, 11], [31, 10, 75, 438, 8, 11, 96], [31, 10, 75, 438, 8, 11, 96, 32], [31, 10, 75, 438, 8, 11, 96, 32, 439], [31, 10, 75, 438, 8, 11, 96, 32, 439, 51], [31, 10, 75, 438, 8, 11, 96, 32, 439, 51, 440], [31, 10, 75, 438, 8, 11, 96, 32, 439, 51, 440, 92], [31, 10, 75, 438, 8, 11, 96, 32, 439, 51, 440, 92, 69], [31, 10, 75, 438, 8, 11, 96, 32, 439, 51, 440, 92, 69, 441], [31, 10, 75, 438, 8, 11, 96, 32, 439, 51, 440, 92, 69, 441, 21], [31, 10, 75, 438, 8, 11, 96, 32, 439, 51, 440, 92, 69, 441, 21, 40], [31, 10, 75, 438, 8, 11, 96, 32, 439, 51, 440, 92, 69, 441, 21, 40, 94], [31, 10, 75, 438, 8, 11, 96, 32, 439, 51, 440, 92, 69, 441, 21, 40, 94, 24], [31, 10, 75, 438, 8, 11, 96, 32, 439, 51, 440, 92, 69, 441, 21, 40, 94, 24, 110], [31, 10, 75, 438, 8, 11, 96, 32, 439, 51, 440, 92, 69, 441, 21, 40, 94, 24, 110, 17], [31, 10, 75, 438, 8, 11, 96, 32, 439, 51, 440, 92, 69, 441, 21, 40, 94, 24, 110, 17, 32], [31, 10, 75, 438, 8, 11, 96, 32, 439, 51, 440, 92, 69, 441, 21, 40, 94, 24, 110, 17, 32, 38], [31, 10, 75, 438, 8, 11, 96, 32, 439, 51, 440, 92, 69, 441, 21, 40, 94, 24, 110, 17, 32, 38, 1], [31, 10, 75, 438, 8, 11, 96, 32, 439, 51, 440, 92, 69, 441, 21, 40, 94, 24, 110, 17, 32, 38, 1, 442], [31, 10, 75, 438, 8, 11, 96, 32, 439, 51, 440, 92, 69, 441, 21, 40, 94, 24, 110, 17, 32, 38, 1, 442, 91], [31, 10, 75, 438, 8, 11, 96, 32, 439, 51, 440, 92, 69, 441, 21, 40, 94, 24, 110, 17, 32, 38, 1, 442, 91, 19], [31, 10, 75, 438, 8, 11, 96, 32, 439, 51, 440, 92, 69, 441, 21, 40, 94, 24, 110, 17, 32, 38, 1, 442, 91, 19, 22], [31, 10, 75, 438, 8, 11, 96, 32, 439, 51, 440, 92, 69, 441, 21, 40, 94, 24, 110, 17, 32, 38, 1, 442, 91, 19, 22, 20], [31, 10, 75, 438, 8, 11, 96, 32, 439, 51, 440, 92, 69, 441, 21, 40, 94, 24, 110, 17, 32, 38, 1, 442, 91, 19, 22, 20, 24], [31, 10, 75, 438, 8, 11, 96, 32, 439, 51, 440, 92, 69, 441, 21, 40, 94, 24, 110, 17, 32, 38, 1, 442, 91, 19, 22, 20, 24, 95], [31, 10, 75, 438, 8, 11, 96, 32, 439, 51, 440, 92, 69, 441, 21, 40, 94, 24, 110, 17, 32, 38, 1, 442, 91, 19, 22, 20, 24, 95, 443], [31, 10, 75, 438, 8, 11, 96, 32, 439, 51, 440, 92, 69, 441, 21, 40, 94, 24, 110, 17, 32, 38, 1, 442, 91, 19, 22, 20, 24, 95, 443, 3], [31, 10, 75, 438, 8, 11, 96, 32, 439, 51, 440, 92, 69, 441, 21, 40, 94, 24, 110, 17, 32, 38, 1, 442, 91, 19, 22, 20, 24, 95, 443, 3, 1], [31, 10, 75, 438, 8, 11, 96, 32, 439, 51, 440, 92, 69, 441, 21, 40, 94, 24, 110, 17, 32, 38, 1, 442, 91, 19, 22, 20, 24, 95, 443, 3, 1, 91], [31, 10, 75, 438, 8, 11, 96, 32, 439, 51, 440, 92, 69, 441, 21, 40, 94, 24, 110, 17, 32, 38, 1, 442, 91, 19, 22, 20, 24, 95, 443, 3, 1, 91, 7], [31, 10, 75, 438, 8, 11, 96, 32, 439, 51, 440, 92, 69, 441, 21, 40, 94, 24, 110, 17, 32, 38, 1, 442, 91, 19, 22, 20, 24, 95, 443, 3, 1, 91, 7, 444], [31, 10, 75, 438, 8, 11, 96, 32, 439, 51, 440, 92, 69, 441, 21, 40, 94, 24, 110, 17, 32, 38, 1, 442, 91, 19, 22, 20, 24, 95, 443, 3, 1, 91, 7, 444, 8], [31, 10, 75, 438, 8, 11, 96, 32, 439, 51, 440, 92, 69, 441, 21, 40, 94, 24, 110, 17, 32, 38, 1, 442, 91, 19, 22, 20, 24, 95, 443, 3, 1, 91, 7, 444, 8, 80], [31, 10, 75, 438, 8, 11, 96, 32, 439, 51, 440, 92, 69, 441, 21, 40, 94, 24, 110, 17, 32, 38, 1, 442, 91, 19, 22, 20, 24, 95, 443, 3, 1, 91, 7, 444, 8, 80, 34], [31, 10, 75, 438, 8, 11, 96, 32, 439, 51, 440, 92, 69, 441, 21, 40, 94, 24, 110, 17, 32, 38, 1, 442, 91, 19, 22, 20, 24, 95, 443, 3, 1, 91, 7, 444, 8, 80, 34, 4], [31, 10, 75, 438, 8, 11, 96, 32, 439, 51, 440, 92, 69, 441, 21, 40, 94, 24, 110, 17, 32, 38, 1, 442, 91, 19, 22, 20, 24, 95, 443, 3, 1, 91, 7, 444, 8, 80, 34, 4, 445], [1, 160], [1, 160, 161], [1, 160, 161, 48], [1, 160, 161, 48, 49], [1, 160, 161, 48, 49, 162], [1, 160, 161, 48, 49, 162, 5], [1, 160, 161, 48, 49, 162, 5, 28], [1, 160, 161, 48, 49, 162, 5, 28, 48], [1, 160, 161, 48, 49, 162, 5, 28, 48, 49], [1, 160, 161, 48, 49, 162, 5, 28, 48, 49, 446], [1, 160, 161, 48, 49, 162, 5, 28, 48, 49, 446, 163], [1, 160, 161, 48, 49, 162, 5, 28, 48, 49, 446, 163, 27], [1, 160, 161, 48, 49, 162, 5, 28, 48, 49, 446, 163, 27, 447], [1, 160, 161, 48, 49, 162, 5, 28, 48, 49, 446, 163, 27, 447, 3], [1, 160, 161, 48, 49, 162, 5, 28, 48, 49, 446, 163, 27, 447, 3, 164], [1, 160, 161, 48, 49, 162, 5, 28, 48, 49, 446, 163, 27, 447, 3, 164, 7], [1, 160, 161, 48, 49, 162, 5, 28, 48, 49, 446, 163, 27, 447, 3, 164, 7, 4], [1, 160, 161, 48, 49, 162, 5, 28, 48, 49, 446, 163, 27, 447, 3, 164, 7, 4, 160], [1, 160, 161, 48, 49, 162, 5, 28, 48, 49, 446, 163, 27, 447, 3, 164, 7, 4, 160, 161], [1, 160, 161, 48, 49, 162, 5, 28, 48, 49, 446, 163, 27, 447, 3, 164, 7, 4, 160, 161, 48], [1, 160, 161, 48, 49, 162, 5, 28, 48, 49, 446, 163, 27, 447, 3, 164, 7, 4, 160, 161, 48, 49], [1, 160, 161, 48, 49, 162, 5, 28, 48, 49, 446, 163, 27, 447, 3, 164, 7, 4, 160, 161, 48, 49, 162], [1, 160, 161, 48, 49, 162, 5, 28, 48, 49, 446, 163, 27, 447, 3, 164, 7, 4, 160, 161, 48, 49, 162, 448], [1, 160, 161, 48, 49, 162, 5, 28, 48, 49, 446, 163, 27, 447, 3, 164, 7, 4, 160, 161, 48, 49, 162, 448, 449], [1, 160, 161, 48, 49, 162, 5, 28, 48, 49, 446, 163, 27, 447, 3, 164, 7, 4, 160, 161, 48, 49, 162, 448, 449, 450], [1, 160, 161, 48, 49, 162, 5, 28, 48, 49, 446, 163, 27, 447, 3, 164, 7, 4, 160, 161, 48, 49, 162, 448, 449, 450, 81], [1, 160, 161, 48, 49, 162, 5, 28, 48, 49, 446, 163, 27, 447, 3, 164, 7, 4, 160, 161, 48, 49, 162, 448, 449, 450, 81, 61], [1, 160, 161, 48, 49, 162, 5, 28, 48, 49, 446, 163, 27, 447, 3, 164, 7, 4, 160, 161, 48, 49, 162, 448, 449, 450, 81, 61, 43], [1, 160, 161, 48, 49, 162, 5, 28, 48, 49, 446, 163, 27, 447, 3, 164, 7, 4, 160, 161, 48, 49, 162, 448, 449, 450, 81, 61, 43, 1], [1, 160, 161, 48, 49, 162, 5, 28, 48, 49, 446, 163, 27, 447, 3, 164, 7, 4, 160, 161, 48, 49, 162, 448, 449, 450, 81, 61, 43, 1, 97], [1, 160, 161, 48, 49, 162, 5, 28, 48, 49, 446, 163, 27, 447, 3, 164, 7, 4, 160, 161, 48, 49, 162, 448, 449, 450, 81, 61, 43, 1, 97, 451], [1, 160, 161, 48, 49, 162, 5, 28, 48, 49, 446, 163, 27, 447, 3, 164, 7, 4, 160, 161, 48, 49, 162, 448, 449, 450, 81, 61, 43, 1, 97, 451, 452], [1, 160, 161, 48, 49, 162, 5, 28, 48, 49, 446, 163, 27, 447, 3, 164, 7, 4, 160, 161, 48, 49, 162, 448, 449, 450, 81, 61, 43, 1, 97, 451, 452, 6], [1, 160, 161, 48, 49, 162, 5, 28, 48, 49, 446, 163, 27, 447, 3, 164, 7, 4, 160, 161, 48, 49, 162, 448, 449, 450, 81, 61, 43, 1, 97, 451, 452, 6, 453], [1, 160, 161, 48, 49, 162, 5, 28, 48, 49, 446, 163, 27, 447, 3, 164, 7, 4, 160, 161, 48, 49, 162, 448, 449, 450, 81, 61, 43, 1, 97, 451, 452, 6, 453, 54], [1, 160, 161, 48, 49, 162, 5, 28, 48, 49, 446, 163, 27, 447, 3, 164, 7, 4, 160, 161, 48, 49, 162, 448, 449, 450, 81, 61, 43, 1, 97, 451, 452, 6, 453, 54, 1], [1, 160, 161, 48, 49, 162, 5, 28, 48, 49, 446, 163, 27, 447, 3, 164, 7, 4, 160, 161, 48, 49, 162, 448, 449, 450, 81, 61, 43, 1, 97, 451, 452, 6, 453, 54, 1, 48], [1, 160, 161, 48, 49, 162, 5, 28, 48, 49, 446, 163, 27, 447, 3, 164, 7, 4, 160, 161, 48, 49, 162, 448, 449, 450, 81, 61, 43, 1, 97, 451, 452, 6, 453, 54, 1, 48, 49], [1, 160, 161, 48, 49, 162, 5, 28, 48, 49, 446, 163, 27, 447, 3, 164, 7, 4, 160, 161, 48, 49, 162, 448, 449, 450, 81, 61, 43, 1, 97, 451, 452, 6, 453, 54, 1, 48, 49, 454], [1, 160, 161, 48, 49, 162, 5, 28, 48, 49, 446, 163, 27, 447, 3, 164, 7, 4, 160, 161, 48, 49, 162, 448, 449, 450, 81, 61, 43, 1, 97, 451, 452, 6, 453, 54, 1, 48, 49, 454, 3], [1, 160, 161, 48, 49, 162, 5, 28, 48, 49, 446, 163, 27, 447, 3, 164, 7, 4, 160, 161, 48, 49, 162, 448, 449, 450, 81, 61, 43, 1, 97, 451, 452, 6, 453, 54, 1, 48, 49, 454, 3, 455], [1, 160, 161, 48, 49, 162, 5, 28, 48, 49, 446, 163, 27, 447, 3, 164, 7, 4, 160, 161, 48, 49, 162, 448, 449, 450, 81, 61, 43, 1, 97, 451, 452, 6, 453, 54, 1, 48, 49, 454, 3, 455, 456], [1, 160, 161, 48, 49, 162, 5, 28, 48, 49, 446, 163, 27, 447, 3, 164, 7, 4, 160, 161, 48, 49, 162, 448, 449, 450, 81, 61, 43, 1, 97, 451, 452, 6, 453, 54, 1, 48, 49, 454, 3, 455, 456, 457], [1, 160, 161, 48, 49, 162, 5, 28, 48, 49, 446, 163, 27, 447, 3, 164, 7, 4, 160, 161, 48, 49, 162, 448, 449, 450, 81, 61, 43, 1, 97, 451, 452, 6, 453, 54, 1, 48, 49, 454, 3, 455, 456, 457, 458], [1, 160, 161, 48, 49, 162, 5, 28, 48, 49, 446, 163, 27, 447, 3, 164, 7, 4, 160, 161, 48, 49, 162, 448, 449, 450, 81, 61, 43, 1, 97, 451, 452, 6, 453, 54, 1, 48, 49, 454, 3, 455, 456, 457, 458, 459], [1, 160, 161, 48, 49, 162, 5, 28, 48, 49, 446, 163, 27, 447, 3, 164, 7, 4, 160, 161, 48, 49, 162, 448, 449, 450, 81, 61, 43, 1, 97, 451, 452, 6, 453, 54, 1, 48, 49, 454, 3, 455, 456, 457, 458, 459, 7], [1, 160, 161, 48, 49, 162, 5, 28, 48, 49, 446, 163, 27, 447, 3, 164, 7, 4, 160, 161, 48, 49, 162, 448, 449, 450, 81, 61, 43, 1, 97, 451, 452, 6, 453, 54, 1, 48, 49, 454, 3, 455, 456, 457, 458, 459, 7, 460], [1, 160, 161, 48, 49, 162, 5, 28, 48, 49, 446, 163, 27, 447, 3, 164, 7, 4, 160, 161, 48, 49, 162, 448, 449, 450, 81, 61, 43, 1, 97, 451, 452, 6, 453, 54, 1, 48, 49, 454, 3, 455, 456, 457, 458, 459, 7, 460, 21], [1, 160, 161, 48, 49, 162, 5, 28, 48, 49, 446, 163, 27, 447, 3, 164, 7, 4, 160, 161, 48, 49, 162, 448, 449, 450, 81, 61, 43, 1, 97, 451, 452, 6, 453, 54, 1, 48, 49, 454, 3, 455, 456, 457, 458, 459, 7, 460, 21, 165], [1, 160, 161, 48, 49, 162, 5, 28, 48, 49, 446, 163, 27, 447, 3, 164, 7, 4, 160, 161, 48, 49, 162, 448, 449, 450, 81, 61, 43, 1, 97, 451, 452, 6, 453, 54, 1, 48, 49, 454, 3, 455, 456, 457, 458, 459, 7, 460, 21, 165, 461], [1, 160, 161, 48, 49, 162, 5, 28, 48, 49, 446, 163, 27, 447, 3, 164, 7, 4, 160, 161, 48, 49, 162, 448, 449, 450, 81, 61, 43, 1, 97, 451, 452, 6, 453, 54, 1, 48, 49, 454, 3, 455, 456, 457, 458, 459, 7, 460, 21, 165, 461, 86], [9, 5], [9, 5, 28], [9, 5, 28, 48], [9, 5, 28, 48, 49], [9, 5, 28, 48, 49, 163], [9, 5, 28, 48, 49, 163, 462], [9, 5, 28, 48, 49, 163, 462, 3], [9, 5, 28, 48, 49, 163, 462, 3, 164], [9, 5, 28, 48, 49, 163, 462, 3, 164, 7], [9, 5, 28, 48, 49, 163, 462, 3, 164, 7, 4], [9, 5, 28, 48, 49, 163, 462, 3, 164, 7, 4, 9], [9, 5, 28, 48, 49, 163, 462, 3, 164, 7, 4, 9, 81], [9, 5, 28, 48, 49, 163, 462, 3, 164, 7, 4, 9, 81, 61], [9, 5, 28, 48, 49, 163, 462, 3, 164, 7, 4, 9, 81, 61, 43], [9, 5, 28, 48, 49, 163, 462, 3, 164, 7, 4, 9, 81, 61, 43, 4], [9, 5, 28, 48, 49, 163, 462, 3, 164, 7, 4, 9, 81, 61, 43, 4, 97], [9, 5, 28, 48, 49, 163, 462, 3, 164, 7, 4, 9, 81, 61, 43, 4, 97, 463], [9, 5, 28, 48, 49, 163, 462, 3, 164, 7, 4, 9, 81, 61, 43, 4, 97, 463, 3], [9, 5, 28, 48, 49, 163, 462, 3, 164, 7, 4, 9, 81, 61, 43, 4, 97, 463, 3, 6], [9, 5, 28, 48, 49, 163, 462, 3, 164, 7, 4, 9, 81, 61, 43, 4, 97, 463, 3, 6, 3], [9, 5, 28, 48, 49, 163, 462, 3, 164, 7, 4, 9, 81, 61, 43, 4, 97, 463, 3, 6, 3, 165], [1, 53], [1, 53, 464], [1, 53, 464, 27], [1, 53, 464, 27, 465], [1, 53, 464, 27, 465, 41], [1, 53, 464, 27, 465, 41, 466], [1, 53, 464, 27, 465, 41, 466, 467], [1, 53, 464, 27, 465, 41, 466, 467, 70], [1, 53, 464, 27, 465, 41, 466, 467, 70, 63], [1, 53, 464, 27, 465, 41, 466, 467, 70, 63, 32], [1, 53, 464, 27, 465, 41, 466, 467, 70, 63, 32, 468], [1, 53, 464, 27, 465, 41, 466, 467, 70, 63, 32, 468, 3], [1, 53, 464, 27, 465, 41, 466, 467, 70, 63, 32, 468, 3, 147], [1, 53, 464, 27, 465, 41, 466, 467, 70, 63, 32, 468, 3, 147, 469], [1, 53, 464, 27, 465, 41, 466, 467, 70, 63, 32, 468, 3, 147, 469, 70], [1, 53, 464, 27, 465, 41, 466, 467, 70, 63, 32, 468, 3, 147, 469, 70, 96], [1, 53, 464, 27, 465, 41, 466, 467, 70, 63, 32, 468, 3, 147, 469, 70, 96, 470], [1, 53, 464, 27, 465, 41, 466, 467, 70, 63, 32, 468, 3, 147, 469, 70, 96, 470, 471], [1, 53, 464, 27, 465, 41, 466, 467, 70, 63, 32, 468, 3, 147, 469, 70, 96, 470, 471, 472], [1, 53, 464, 27, 465, 41, 466, 467, 70, 63, 32, 468, 3, 147, 469, 70, 96, 470, 471, 472, 473], [1, 53, 464, 27, 465, 41, 466, 467, 70, 63, 32, 468, 3, 147, 469, 70, 96, 470, 471, 472, 473, 19], [1, 53, 464, 27, 465, 41, 466, 467, 70, 63, 32, 468, 3, 147, 469, 70, 96, 470, 471, 472, 473, 19, 474], [1, 53, 464, 27, 465, 41, 466, 467, 70, 63, 32, 468, 3, 147, 469, 70, 96, 470, 471, 472, 473, 19, 474, 5], [1, 53, 464, 27, 465, 41, 466, 467, 70, 63, 32, 468, 3, 147, 469, 70, 96, 470, 471, 472, 473, 19, 474, 5, 475], [1, 53, 464, 27, 465, 41, 466, 467, 70, 63, 32, 468, 3, 147, 469, 70, 96, 470, 471, 472, 473, 19, 474, 5, 475, 476], [1, 53, 464, 27, 465, 41, 466, 467, 70, 63, 32, 468, 3, 147, 469, 70, 96, 470, 471, 472, 473, 19, 474, 5, 475, 476, 70], [1, 53, 464, 27, 465, 41, 466, 467, 70, 63, 32, 468, 3, 147, 469, 70, 96, 470, 471, 472, 473, 19, 474, 5, 475, 476, 70, 27], [1, 53, 464, 27, 465, 41, 466, 467, 70, 63, 32, 468, 3, 147, 469, 70, 96, 470, 471, 472, 473, 19, 474, 5, 475, 476, 70, 27, 477], [1, 53, 464, 27, 465, 41, 466, 467, 70, 63, 32, 468, 3, 147, 469, 70, 96, 470, 471, 472, 473, 19, 474, 5, 475, 476, 70, 27, 477, 97], [1, 53, 464, 27, 465, 41, 466, 467, 70, 63, 32, 468, 3, 147, 469, 70, 96, 470, 471, 472, 473, 19, 474, 5, 475, 476, 70, 27, 477, 97, 478], [1, 53, 464, 27, 465, 41, 466, 467, 70, 63, 32, 468, 3, 147, 469, 70, 96, 470, 471, 472, 473, 19, 474, 5, 475, 476, 70, 27, 477, 97, 478, 5], [1, 53, 464, 27, 465, 41, 466, 467, 70, 63, 32, 468, 3, 147, 469, 70, 96, 470, 471, 472, 473, 19, 474, 5, 475, 476, 70, 27, 477, 97, 478, 5, 479], [1, 53, 464, 27, 465, 41, 466, 467, 70, 63, 32, 468, 3, 147, 469, 70, 96, 470, 471, 472, 473, 19, 474, 5, 475, 476, 70, 27, 477, 97, 478, 5, 479, 127], [1, 53, 464, 27, 465, 41, 466, 467, 70, 63, 32, 468, 3, 147, 469, 70, 96, 470, 471, 472, 473, 19, 474, 5, 475, 476, 70, 27, 477, 97, 478, 5, 479, 127, 4], [1, 53, 464, 27, 465, 41, 466, 467, 70, 63, 32, 468, 3, 147, 469, 70, 96, 470, 471, 472, 473, 19, 474, 5, 475, 476, 70, 27, 477, 97, 478, 5, 479, 127, 4, 58], [1, 53, 464, 27, 465, 41, 466, 467, 70, 63, 32, 468, 3, 147, 469, 70, 96, 470, 471, 472, 473, 19, 474, 5, 475, 476, 70, 27, 477, 97, 478, 5, 479, 127, 4, 58, 41], [1, 53, 464, 27, 465, 41, 466, 467, 70, 63, 32, 468, 3, 147, 469, 70, 96, 470, 471, 472, 473, 19, 474, 5, 475, 476, 70, 27, 477, 97, 478, 5, 479, 127, 4, 58, 41, 480], [1, 53, 464, 27, 465, 41, 466, 467, 70, 63, 32, 468, 3, 147, 469, 70, 96, 470, 471, 472, 473, 19, 474, 5, 475, 476, 70, 27, 477, 97, 478, 5, 479, 127, 4, 58, 41, 480, 481], [1, 53, 464, 27, 465, 41, 466, 467, 70, 63, 32, 468, 3, 147, 469, 70, 96, 470, 471, 472, 473, 19, 474, 5, 475, 476, 70, 27, 477, 97, 478, 5, 479, 127, 4, 58, 41, 480, 481, 2], [1, 53, 464, 27, 465, 41, 466, 467, 70, 63, 32, 468, 3, 147, 469, 70, 96, 470, 471, 472, 473, 19, 474, 5, 475, 476, 70, 27, 477, 97, 478, 5, 479, 127, 4, 58, 41, 480, 481, 2, 8], [1, 53, 464, 27, 465, 41, 466, 467, 70, 63, 32, 468, 3, 147, 469, 70, 96, 470, 471, 472, 473, 19, 474, 5, 475, 476, 70, 27, 477, 97, 478, 5, 479, 127, 4, 58, 41, 480, 481, 2, 8, 11], [1, 53, 464, 27, 465, 41, 466, 467, 70, 63, 32, 468, 3, 147, 469, 70, 96, 470, 471, 472, 473, 19, 474, 5, 475, 476, 70, 27, 477, 97, 478, 5, 479, 127, 4, 58, 41, 480, 481, 2, 8, 11, 19], [1, 53, 464, 27, 465, 41, 466, 467, 70, 63, 32, 468, 3, 147, 469, 70, 96, 470, 471, 472, 473, 19, 474, 5, 475, 476, 70, 27, 477, 97, 478, 5, 479, 127, 4, 58, 41, 480, 481, 2, 8, 11, 19, 482], [1, 53, 464, 27, 465, 41, 466, 467, 70, 63, 32, 468, 3, 147, 469, 70, 96, 470, 471, 472, 473, 19, 474, 5, 475, 476, 70, 27, 477, 97, 478, 5, 479, 127, 4, 58, 41, 480, 481, 2, 8, 11, 19, 482, 2], [1, 53, 464, 27, 465, 41, 466, 467, 70, 63, 32, 468, 3, 147, 469, 70, 96, 470, 471, 472, 473, 19, 474, 5, 475, 476, 70, 27, 477, 97, 478, 5, 479, 127, 4, 58, 41, 480, 481, 2, 8, 11, 19, 482, 2, 483], [1, 53, 464, 27, 465, 41, 466, 467, 70, 63, 32, 468, 3, 147, 469, 70, 96, 470, 471, 472, 473, 19, 474, 5, 475, 476, 70, 27, 477, 97, 478, 5, 479, 127, 4, 58, 41, 480, 481, 2, 8, 11, 19, 482, 2, 483, 135], [1, 53, 464, 27, 465, 41, 466, 467, 70, 63, 32, 468, 3, 147, 469, 70, 96, 470, 471, 472, 473, 19, 474, 5, 475, 476, 70, 27, 477, 97, 478, 5, 479, 127, 4, 58, 41, 480, 481, 2, 8, 11, 19, 482, 2, 483, 135, 1], [1, 53, 464, 27, 465, 41, 466, 467, 70, 63, 32, 468, 3, 147, 469, 70, 96, 470, 471, 472, 473, 19, 474, 5, 475, 476, 70, 27, 477, 97, 478, 5, 479, 127, 4, 58, 41, 480, 481, 2, 8, 11, 19, 482, 2, 483, 135, 1, 484], [1, 53, 464, 27, 465, 41, 466, 467, 70, 63, 32, 468, 3, 147, 469, 70, 96, 470, 471, 472, 473, 19, 474, 5, 475, 476, 70, 27, 477, 97, 478, 5, 479, 127, 4, 58, 41, 480, 481, 2, 8, 11, 19, 482, 2, 483, 135, 1, 484, 7], [1, 53, 464, 27, 465, 41, 466, 467, 70, 63, 32, 468, 3, 147, 469, 70, 96, 470, 471, 472, 473, 19, 474, 5, 475, 476, 70, 27, 477, 97, 478, 5, 479, 127, 4, 58, 41, 480, 481, 2, 8, 11, 19, 482, 2, 483, 135, 1, 484, 7, 40], [1, 53, 464, 27, 465, 41, 466, 467, 70, 63, 32, 468, 3, 147, 469, 70, 96, 470, 471, 472, 473, 19, 474, 5, 475, 476, 70, 27, 477, 97, 478, 5, 479, 127, 4, 58, 41, 480, 481, 2, 8, 11, 19, 482, 2, 483, 135, 1, 484, 7, 40, 94], [1, 53, 464, 27, 465, 41, 466, 467, 70, 63, 32, 468, 3, 147, 469, 70, 96, 470, 471, 472, 473, 19, 474, 5, 475, 476, 70, 27, 477, 97, 478, 5, 479, 127, 4, 58, 41, 480, 481, 2, 8, 11, 19, 482, 2, 483, 135, 1, 484, 7, 40, 94, 3], [1, 53, 464, 27, 465, 41, 466, 467, 70, 63, 32, 468, 3, 147, 469, 70, 96, 470, 471, 472, 473, 19, 474, 5, 475, 476, 70, 27, 477, 97, 478, 5, 479, 127, 4, 58, 41, 480, 481, 2, 8, 11, 19, 482, 2, 483, 135, 1, 484, 7, 40, 94, 3, 1], [1, 53, 464, 27, 465, 41, 466, 467, 70, 63, 32, 468, 3, 147, 469, 70, 96, 470, 471, 472, 473, 19, 474, 5, 475, 476, 70, 27, 477, 97, 478, 5, 479, 127, 4, 58, 41, 480, 481, 2, 8, 11, 19, 482, 2, 483, 135, 1, 484, 7, 40, 94, 3, 1, 485], [1, 53, 464, 27, 465, 41, 466, 467, 70, 63, 32, 468, 3, 147, 469, 70, 96, 470, 471, 472, 473, 19, 474, 5, 475, 476, 70, 27, 477, 97, 478, 5, 479, 127, 4, 58, 41, 480, 481, 2, 8, 11, 19, 482, 2, 483, 135, 1, 484, 7, 40, 94, 3, 1, 485, 13], [1, 53, 464, 27, 465, 41, 466, 467, 70, 63, 32, 468, 3, 147, 469, 70, 96, 470, 471, 472, 473, 19, 474, 5, 475, 476, 70, 27, 477, 97, 478, 5, 479, 127, 4, 58, 41, 480, 481, 2, 8, 11, 19, 482, 2, 483, 135, 1, 484, 7, 40, 94, 3, 1, 485, 13, 68], [1, 53, 464, 27, 465, 41, 466, 467, 70, 63, 32, 468, 3, 147, 469, 70, 96, 470, 471, 472, 473, 19, 474, 5, 475, 476, 70, 27, 477, 97, 478, 5, 479, 127, 4, 58, 41, 480, 481, 2, 8, 11, 19, 482, 2, 483, 135, 1, 484, 7, 40, 94, 3, 1, 485, 13, 68, 10], [1, 53, 464, 27, 465, 41, 466, 467, 70, 63, 32, 468, 3, 147, 469, 70, 96, 470, 471, 472, 473, 19, 474, 5, 475, 476, 70, 27, 477, 97, 478, 5, 479, 127, 4, 58, 41, 480, 481, 2, 8, 11, 19, 482, 2, 483, 135, 1, 484, 7, 40, 94, 3, 1, 485, 13, 68, 10, 486], [1, 53, 464, 27, 465, 41, 466, 467, 70, 63, 32, 468, 3, 147, 469, 70, 96, 470, 471, 472, 473, 19, 474, 5, 475, 476, 70, 27, 477, 97, 478, 5, 479, 127, 4, 58, 41, 480, 481, 2, 8, 11, 19, 482, 2, 483, 135, 1, 484, 7, 40, 94, 3, 1, 485, 13, 68, 10, 486, 39], [1, 53, 464, 27, 465, 41, 466, 467, 70, 63, 32, 468, 3, 147, 469, 70, 96, 470, 471, 472, 473, 19, 474, 5, 475, 476, 70, 27, 477, 97, 478, 5, 479, 127, 4, 58, 41, 480, 481, 2, 8, 11, 19, 482, 2, 483, 135, 1, 484, 7, 40, 94, 3, 1, 485, 13, 68, 10, 486, 39, 15], [1, 53, 464, 27, 465, 41, 466, 467, 70, 63, 32, 468, 3, 147, 469, 70, 96, 470, 471, 472, 473, 19, 474, 5, 475, 476, 70, 27, 477, 97, 478, 5, 479, 127, 4, 58, 41, 480, 481, 2, 8, 11, 19, 482, 2, 483, 135, 1, 484, 7, 40, 94, 3, 1, 485, 13, 68, 10, 486, 39, 15, 153], [1, 53, 464, 27, 465, 41, 466, 467, 70, 63, 32, 468, 3, 147, 469, 70, 96, 470, 471, 472, 473, 19, 474, 5, 475, 476, 70, 27, 477, 97, 478, 5, 479, 127, 4, 58, 41, 480, 481, 2, 8, 11, 19, 482, 2, 483, 135, 1, 484, 7, 40, 94, 3, 1, 485, 13, 68, 10, 486, 39, 15, 153, 15], [1, 53, 464, 27, 465, 41, 466, 467, 70, 63, 32, 468, 3, 147, 469, 70, 96, 470, 471, 472, 473, 19, 474, 5, 475, 476, 70, 27, 477, 97, 478, 5, 479, 127, 4, 58, 41, 480, 481, 2, 8, 11, 19, 482, 2, 483, 135, 1, 484, 7, 40, 94, 3, 1, 485, 13, 68, 10, 486, 39, 15, 153, 15, 487], [1, 53, 464, 27, 465, 41, 466, 467, 70, 63, 32, 468, 3, 147, 469, 70, 96, 470, 471, 472, 473, 19, 474, 5, 475, 476, 70, 27, 477, 97, 478, 5, 479, 127, 4, 58, 41, 480, 481, 2, 8, 11, 19, 482, 2, 483, 135, 1, 484, 7, 40, 94, 3, 1, 485, 13, 68, 10, 486, 39, 15, 153, 15, 487, 113], [1, 53, 464, 27, 465, 41, 466, 467, 70, 63, 32, 468, 3, 147, 469, 70, 96, 470, 471, 472, 473, 19, 474, 5, 475, 476, 70, 27, 477, 97, 478, 5, 479, 127, 4, 58, 41, 480, 481, 2, 8, 11, 19, 482, 2, 483, 135, 1, 484, 7, 40, 94, 3, 1, 485, 13, 68, 10, 486, 39, 15, 153, 15, 487, 113, 2], [1, 53, 464, 27, 465, 41, 466, 467, 70, 63, 32, 468, 3, 147, 469, 70, 96, 470, 471, 472, 473, 19, 474, 5, 475, 476, 70, 27, 477, 97, 478, 5, 479, 127, 4, 58, 41, 480, 481, 2, 8, 11, 19, 482, 2, 483, 135, 1, 484, 7, 40, 94, 3, 1, 485, 13, 68, 10, 486, 39, 15, 153, 15, 487, 113, 2, 4], [1, 53, 464, 27, 465, 41, 466, 467, 70, 63, 32, 468, 3, 147, 469, 70, 96, 470, 471, 472, 473, 19, 474, 5, 475, 476, 70, 27, 477, 97, 478, 5, 479, 127, 4, 58, 41, 480, 481, 2, 8, 11, 19, 482, 2, 483, 135, 1, 484, 7, 40, 94, 3, 1, 485, 13, 68, 10, 486, 39, 15, 153, 15, 487, 113, 2, 4, 98], [1, 53, 464, 27, 465, 41, 466, 467, 70, 63, 32, 468, 3, 147, 469, 70, 96, 470, 471, 472, 473, 19, 474, 5, 475, 476, 70, 27, 477, 97, 478, 5, 479, 127, 4, 58, 41, 480, 481, 2, 8, 11, 19, 482, 2, 483, 135, 1, 484, 7, 40, 94, 3, 1, 485, 13, 68, 10, 486, 39, 15, 153, 15, 487, 113, 2, 4, 98, 488], [1, 53, 464, 27, 465, 41, 466, 467, 70, 63, 32, 468, 3, 147, 469, 70, 96, 470, 471, 472, 473, 19, 474, 5, 475, 476, 70, 27, 477, 97, 478, 5, 479, 127, 4, 58, 41, 480, 481, 2, 8, 11, 19, 482, 2, 483, 135, 1, 484, 7, 40, 94, 3, 1, 485, 13, 68, 10, 486, 39, 15, 153, 15, 487, 113, 2, 4, 98, 488, 69], [1, 53, 464, 27, 465, 41, 466, 467, 70, 63, 32, 468, 3, 147, 469, 70, 96, 470, 471, 472, 473, 19, 474, 5, 475, 476, 70, 27, 477, 97, 478, 5, 479, 127, 4, 58, 41, 480, 481, 2, 8, 11, 19, 482, 2, 483, 135, 1, 484, 7, 40, 94, 3, 1, 485, 13, 68, 10, 486, 39, 15, 153, 15, 487, 113, 2, 4, 98, 488, 69, 489], [1, 53, 464, 27, 465, 41, 466, 467, 70, 63, 32, 468, 3, 147, 469, 70, 96, 470, 471, 472, 473, 19, 474, 5, 475, 476, 70, 27, 477, 97, 478, 5, 479, 127, 4, 58, 41, 480, 481, 2, 8, 11, 19, 482, 2, 483, 135, 1, 484, 7, 40, 94, 3, 1, 485, 13, 68, 10, 486, 39, 15, 153, 15, 487, 113, 2, 4, 98, 488, 69, 489, 21], [1, 53, 464, 27, 465, 41, 466, 467, 70, 63, 32, 468, 3, 147, 469, 70, 96, 470, 471, 472, 473, 19, 474, 5, 475, 476, 70, 27, 477, 97, 478, 5, 479, 127, 4, 58, 41, 480, 481, 2, 8, 11, 19, 482, 2, 483, 135, 1, 484, 7, 40, 94, 3, 1, 485, 13, 68, 10, 486, 39, 15, 153, 15, 487, 113, 2, 4, 98, 488, 69, 489, 21, 2], [1, 53, 464, 27, 465, 41, 466, 467, 70, 63, 32, 468, 3, 147, 469, 70, 96, 470, 471, 472, 473, 19, 474, 5, 475, 476, 70, 27, 477, 97, 478, 5, 479, 127, 4, 58, 41, 480, 481, 2, 8, 11, 19, 482, 2, 483, 135, 1, 484, 7, 40, 94, 3, 1, 485, 13, 68, 10, 486, 39, 15, 153, 15, 487, 113, 2, 4, 98, 488, 69, 489, 21, 2, 4], [1, 53, 464, 27, 465, 41, 466, 467, 70, 63, 32, 468, 3, 147, 469, 70, 96, 470, 471, 472, 473, 19, 474, 5, 475, 476, 70, 27, 477, 97, 478, 5, 479, 127, 4, 58, 41, 480, 481, 2, 8, 11, 19, 482, 2, 483, 135, 1, 484, 7, 40, 94, 3, 1, 485, 13, 68, 10, 486, 39, 15, 153, 15, 487, 113, 2, 4, 98, 488, 69, 489, 21, 2, 4, 166], [1, 53, 464, 27, 465, 41, 466, 467, 70, 63, 32, 468, 3, 147, 469, 70, 96, 470, 471, 472, 473, 19, 474, 5, 475, 476, 70, 27, 477, 97, 478, 5, 479, 127, 4, 58, 41, 480, 481, 2, 8, 11, 19, 482, 2, 483, 135, 1, 484, 7, 40, 94, 3, 1, 485, 13, 68, 10, 486, 39, 15, 153, 15, 487, 113, 2, 4, 98, 488, 69, 489, 21, 2, 4, 166, 490], [1, 53, 464, 27, 465, 41, 466, 467, 70, 63, 32, 468, 3, 147, 469, 70, 96, 470, 471, 472, 473, 19, 474, 5, 475, 476, 70, 27, 477, 97, 478, 5, 479, 127, 4, 58, 41, 480, 481, 2, 8, 11, 19, 482, 2, 483, 135, 1, 484, 7, 40, 94, 3, 1, 485, 13, 68, 10, 486, 39, 15, 153, 15, 487, 113, 2, 4, 98, 488, 69, 489, 21, 2, 4, 166, 490, 491], [1, 53, 464, 27, 465, 41, 466, 467, 70, 63, 32, 468, 3, 147, 469, 70, 96, 470, 471, 472, 473, 19, 474, 5, 475, 476, 70, 27, 477, 97, 478, 5, 479, 127, 4, 58, 41, 480, 481, 2, 8, 11, 19, 482, 2, 483, 135, 1, 484, 7, 40, 94, 3, 1, 485, 13, 68, 10, 486, 39, 15, 153, 15, 487, 113, 2, 4, 98, 488, 69, 489, 21, 2, 4, 166, 490, 491, 8], [1, 53, 464, 27, 465, 41, 466, 467, 70, 63, 32, 468, 3, 147, 469, 70, 96, 470, 471, 472, 473, 19, 474, 5, 475, 476, 70, 27, 477, 97, 478, 5, 479, 127, 4, 58, 41, 480, 481, 2, 8, 11, 19, 482, 2, 483, 135, 1, 484, 7, 40, 94, 3, 1, 485, 13, 68, 10, 486, 39, 15, 153, 15, 487, 113, 2, 4, 98, 488, 69, 489, 21, 2, 4, 166, 490, 491, 8, 77], [1, 53, 464, 27, 465, 41, 466, 467, 70, 63, 32, 468, 3, 147, 469, 70, 96, 470, 471, 472, 473, 19, 474, 5, 475, 476, 70, 27, 477, 97, 478, 5, 479, 127, 4, 58, 41, 480, 481, 2, 8, 11, 19, 482, 2, 483, 135, 1, 484, 7, 40, 94, 3, 1, 485, 13, 68, 10, 486, 39, 15, 153, 15, 487, 113, 2, 4, 98, 488, 69, 489, 21, 2, 4, 166, 490, 491, 8, 77, 25], [6, 5], [6, 5, 1], [6, 5, 1, 9], [6, 5, 1, 9, 32], [6, 5, 1, 9, 32, 117], [6, 5, 1, 9, 32, 117, 98], [6, 5, 1, 9, 32, 117, 98, 33], [6, 5, 1, 9, 32, 117, 98, 33, 492], [6, 5, 1, 9, 32, 117, 98, 33, 492, 3], [6, 5, 1, 9, 32, 117, 98, 33, 492, 3, 493], [6, 5, 1, 9, 32, 117, 98, 33, 492, 3, 493, 78], [6, 5, 1, 9, 32, 117, 98, 33, 492, 3, 493, 78, 167], [6, 5, 1, 9, 32, 117, 98, 33, 492, 3, 493, 78, 167, 168], [6, 5, 1, 9, 32, 117, 98, 33, 492, 3, 493, 78, 167, 168, 33], [6, 5, 1, 9, 32, 117, 98, 33, 492, 3, 493, 78, 167, 168, 33, 152], [6, 5, 1, 9, 32, 117, 98, 33, 492, 3, 493, 78, 167, 168, 33, 152, 494], [6, 5, 1, 9, 32, 117, 98, 33, 492, 3, 493, 78, 167, 168, 33, 152, 494, 495], [6, 5, 1, 9, 32, 117, 98, 33, 492, 3, 493, 78, 167, 168, 33, 152, 494, 495, 43], [6, 5, 1, 9, 32, 117, 98, 33, 492, 3, 493, 78, 167, 168, 33, 152, 494, 495, 43, 1], [6, 5, 1, 9, 32, 117, 98, 33, 492, 3, 493, 78, 167, 168, 33, 152, 494, 495, 43, 1, 155], [6, 5, 1, 9, 32, 117, 98, 33, 492, 3, 493, 78, 167, 168, 33, 152, 494, 495, 43, 1, 155, 89], [1, 53], [1, 53, 85], [1, 53, 85, 169], [1, 53, 85, 169, 17], [1, 53, 85, 169, 17, 496], [1, 53, 85, 169, 17, 496, 2], [1, 53, 85, 169, 17, 496, 2, 497], [1, 53, 85, 169, 17, 496, 2, 497, 498], [1, 53, 85, 169, 17, 496, 2, 497, 498, 98], [1, 53, 85, 169, 17, 496, 2, 497, 498, 98, 3], [1, 53, 85, 169, 17, 496, 2, 497, 498, 98, 3, 33], [1, 53, 85, 169, 17, 496, 2, 497, 498, 98, 3, 33, 15], [1, 53, 85, 169, 17, 496, 2, 497, 498, 98, 3, 33, 15, 24], [1, 53, 85, 169, 17, 496, 2, 497, 498, 98, 3, 33, 15, 24, 65], [1, 53, 85, 169, 17, 496, 2, 497, 498, 98, 3, 33, 15, 24, 65, 499], [1, 53, 85, 169, 17, 496, 2, 497, 498, 98, 3, 33, 15, 24, 65, 499, 13], [1, 53, 85, 169, 17, 496, 2, 497, 498, 98, 3, 33, 15, 24, 65, 499, 13, 1], [1, 53, 85, 169, 17, 496, 2, 497, 498, 98, 3, 33, 15, 24, 65, 499, 13, 1, 170], [1, 53, 85, 169, 17, 496, 2, 497, 498, 98, 3, 33, 15, 24, 65, 499, 13, 1, 170, 167], [1, 53, 85, 169, 17, 496, 2, 497, 498, 98, 3, 33, 15, 24, 65, 499, 13, 1, 170, 167, 13], [1, 53, 85, 169, 17, 496, 2, 497, 498, 98, 3, 33, 15, 24, 65, 499, 13, 1, 170, 167, 13, 96], [1, 53, 85, 169, 17, 496, 2, 497, 498, 98, 3, 33, 15, 24, 65, 499, 13, 1, 170, 167, 13, 96, 500], [1, 53, 85, 169, 17, 496, 2, 497, 498, 98, 3, 33, 15, 24, 65, 499, 13, 1, 170, 167, 13, 96, 500, 119], [1, 53, 85, 169, 17, 496, 2, 497, 498, 98, 3, 33, 15, 24, 65, 499, 13, 1, 170, 167, 13, 96, 500, 119, 69], [1, 53, 85, 169, 17, 496, 2, 497, 498, 98, 3, 33, 15, 24, 65, 499, 13, 1, 170, 167, 13, 96, 500, 119, 69, 501], [1, 53, 85, 169, 17, 496, 2, 497, 498, 98, 3, 33, 15, 24, 65, 499, 13, 1, 170, 167, 13, 96, 500, 119, 69, 501, 1], [1, 53, 85, 169, 17, 496, 2, 497, 498, 98, 3, 33, 15, 24, 65, 499, 13, 1, 170, 167, 13, 96, 500, 119, 69, 501, 1, 34], [20, 502], [20, 502, 1], [20, 502, 1, 53], [20, 502, 1, 53, 85], [20, 502, 1, 53, 85, 503], [20, 502, 1, 53, 85, 503, 13], [20, 502, 1, 53, 85, 503, 13, 504], [20, 502, 1, 53, 85, 503, 13, 504, 505], [20, 502, 1, 53, 85, 503, 13, 504, 505, 33], [20, 502, 1, 53, 85, 503, 13, 504, 505, 33, 171], [20, 502, 1, 53, 85, 503, 13, 504, 505, 33, 171, 54], [20, 502, 1, 53, 85, 503, 13, 504, 505, 33, 171, 54, 1], [20, 502, 1, 53, 85, 503, 13, 504, 505, 33, 171, 54, 1, 73], [20, 502, 1, 53, 85, 503, 13, 504, 505, 33, 171, 54, 1, 73, 33], [20, 502, 1, 53, 85, 503, 13, 504, 505, 33, 171, 54, 1, 73, 33, 506], [20, 502, 1, 53, 85, 503, 13, 504, 505, 33, 171, 54, 1, 73, 33, 506, 169], [20, 502, 1, 53, 85, 503, 13, 504, 505, 33, 171, 54, 1, 73, 33, 506, 169, 507], [20, 502, 1, 53, 85, 503, 13, 504, 505, 33, 171, 54, 1, 73, 33, 506, 169, 507, 508], [20, 502, 1, 53, 85, 503, 13, 504, 505, 33, 171, 54, 1, 73, 33, 506, 169, 507, 508, 67], [20, 502, 1, 53, 85, 503, 13, 504, 505, 33, 171, 54, 1, 73, 33, 506, 169, 507, 508, 67, 13], [20, 502, 1, 53, 85, 503, 13, 504, 505, 33, 171, 54, 1, 73, 33, 506, 169, 507, 508, 67, 13, 509], [20, 502, 1, 53, 85, 503, 13, 504, 505, 33, 171, 54, 1, 73, 33, 506, 169, 507, 508, 67, 13, 509, 168], [1, 9], [1, 9, 10], [1, 9, 10, 63], [1, 9, 10, 63, 18], [1, 9, 10, 63, 18, 510], [1, 9, 10, 63, 18, 510, 511], [1, 9, 10, 63, 18, 510, 511, 93], [1, 9, 10, 63, 18, 510, 511, 93, 54], [1, 9, 10, 63, 18, 510, 511, 93, 54, 512], [1, 9, 10, 63, 18, 510, 511, 93, 54, 512, 3], [1, 9, 10, 63, 18, 510, 511, 93, 54, 512, 3, 513], [1, 9, 10, 63, 18, 510, 511, 93, 54, 512, 3, 513, 5], [1, 9, 10, 63, 18, 510, 511, 93, 54, 512, 3, 513, 5, 514], [1, 9, 10, 63, 18, 510, 511, 93, 54, 512, 3, 513, 5, 514, 10], [1, 9, 10, 63, 18, 510, 511, 93, 54, 512, 3, 513, 5, 514, 10, 133], [1, 9, 10, 63, 18, 510, 511, 93, 54, 512, 3, 513, 5, 514, 10, 133, 515], [1, 9, 10, 63, 18, 510, 511, 93, 54, 512, 3, 513, 5, 514, 10, 133, 515, 516], [1, 9, 10, 63, 18, 510, 511, 93, 54, 512, 3, 513, 5, 514, 10, 133, 515, 516, 93], [1, 9, 10, 63, 18, 510, 511, 93, 54, 512, 3, 513, 5, 514, 10, 133, 515, 516, 93, 517], [1, 9, 10, 63, 18, 510, 511, 93, 54, 512, 3, 513, 5, 514, 10, 133, 515, 516, 93, 517, 518], [1, 9, 10, 63, 18, 510, 511, 93, 54, 512, 3, 513, 5, 514, 10, 133, 515, 516, 93, 517, 518, 519], [1, 9, 10, 63, 18, 510, 511, 93, 54, 512, 3, 513, 5, 514, 10, 133, 515, 516, 93, 517, 518, 519, 27], [1, 9, 10, 63, 18, 510, 511, 93, 54, 512, 3, 513, 5, 514, 10, 133, 515, 516, 93, 517, 518, 519, 27, 520], [1, 9, 10, 63, 18, 510, 511, 93, 54, 512, 3, 513, 5, 514, 10, 133, 515, 516, 93, 517, 518, 519, 27, 520, 521], [1, 9, 10, 63, 18, 510, 511, 93, 54, 512, 3, 513, 5, 514, 10, 133, 515, 516, 93, 517, 518, 519, 27, 520, 521, 5], [1, 9, 10, 63, 18, 510, 511, 93, 54, 512, 3, 513, 5, 514, 10, 133, 515, 516, 93, 517, 518, 519, 27, 520, 521, 5, 522], [1, 9, 10, 63, 18, 510, 511, 93, 54, 512, 3, 513, 5, 514, 10, 133, 515, 516, 93, 517, 518, 519, 27, 520, 521, 5, 522, 523], [1, 9, 10, 63, 18, 510, 511, 93, 54, 512, 3, 513, 5, 514, 10, 133, 515, 516, 93, 517, 518, 519, 27, 520, 521, 5, 522, 523, 79], [1, 9, 10, 63, 18, 510, 511, 93, 54, 512, 3, 513, 5, 514, 10, 133, 515, 516, 93, 517, 518, 519, 27, 520, 521, 5, 522, 523, 79, 10], [1, 9, 10, 63, 18, 510, 511, 93, 54, 512, 3, 513, 5, 514, 10, 133, 515, 516, 93, 517, 518, 519, 27, 520, 521, 5, 522, 523, 79, 10, 4], [1, 9, 10, 63, 18, 510, 511, 93, 54, 512, 3, 513, 5, 514, 10, 133, 515, 516, 93, 517, 518, 519, 27, 520, 521, 5, 522, 523, 79, 10, 4, 524], [1, 9, 10, 63, 18, 510, 511, 93, 54, 512, 3, 513, 5, 514, 10, 133, 515, 516, 93, 517, 518, 519, 27, 520, 521, 5, 522, 523, 79, 10, 4, 524, 525], [1, 9, 10, 63, 18, 510, 511, 93, 54, 512, 3, 513, 5, 514, 10, 133, 515, 516, 93, 517, 518, 519, 27, 520, 521, 5, 522, 523, 79, 10, 4, 524, 525, 74], [1, 9, 10, 63, 18, 510, 511, 93, 54, 512, 3, 513, 5, 514, 10, 133, 515, 516, 93, 517, 518, 519, 27, 520, 521, 5, 522, 523, 79, 10, 4, 524, 525, 74, 6], [1, 9, 10, 63, 18, 510, 511, 93, 54, 512, 3, 513, 5, 514, 10, 133, 515, 516, 93, 517, 518, 519, 27, 520, 521, 5, 522, 523, 79, 10, 4, 524, 525, 74, 6, 10], [1, 9, 10, 63, 18, 510, 511, 93, 54, 512, 3, 513, 5, 514, 10, 133, 515, 516, 93, 517, 518, 519, 27, 520, 521, 5, 522, 523, 79, 10, 4, 524, 525, 74, 6, 10, 44], [1, 9, 10, 63, 18, 510, 511, 93, 54, 512, 3, 513, 5, 514, 10, 133, 515, 516, 93, 517, 518, 519, 27, 520, 521, 5, 522, 523, 79, 10, 4, 524, 525, 74, 6, 10, 44, 4], [1, 9, 10, 63, 18, 510, 511, 93, 54, 512, 3, 513, 5, 514, 10, 133, 515, 516, 93, 517, 518, 519, 27, 520, 521, 5, 522, 523, 79, 10, 4, 524, 525, 74, 6, 10, 44, 4, 526], [1, 9, 10, 63, 18, 510, 511, 93, 54, 512, 3, 513, 5, 514, 10, 133, 515, 516, 93, 517, 518, 519, 27, 520, 521, 5, 522, 523, 79, 10, 4, 524, 525, 74, 6, 10, 44, 4, 526, 527], [1, 9, 10, 63, 18, 510, 511, 93, 54, 512, 3, 513, 5, 514, 10, 133, 515, 516, 93, 517, 518, 519, 27, 520, 521, 5, 522, 523, 79, 10, 4, 524, 525, 74, 6, 10, 44, 4, 526, 527, 16], [1, 9, 10, 63, 18, 510, 511, 93, 54, 512, 3, 513, 5, 514, 10, 133, 515, 516, 93, 517, 518, 519, 27, 520, 521, 5, 522, 523, 79, 10, 4, 524, 525, 74, 6, 10, 44, 4, 526, 527, 16, 23], [1, 9, 10, 63, 18, 510, 511, 93, 54, 512, 3, 513, 5, 514, 10, 133, 515, 516, 93, 517, 518, 519, 27, 520, 521, 5, 522, 523, 79, 10, 4, 524, 525, 74, 6, 10, 44, 4, 526, 527, 16, 23, 528], [1, 9, 10, 63, 18, 510, 511, 93, 54, 512, 3, 513, 5, 514, 10, 133, 515, 516, 93, 517, 518, 519, 27, 520, 521, 5, 522, 523, 79, 10, 4, 524, 525, 74, 6, 10, 44, 4, 526, 527, 16, 23, 528, 529], [1, 9, 10, 63, 18, 510, 511, 93, 54, 512, 3, 513, 5, 514, 10, 133, 515, 516, 93, 517, 518, 519, 27, 520, 521, 5, 522, 523, 79, 10, 4, 524, 525, 74, 6, 10, 44, 4, 526, 527, 16, 23, 528, 529, 530], [1, 9, 10, 63, 18, 510, 511, 93, 54, 512, 3, 513, 5, 514, 10, 133, 515, 516, 93, 517, 518, 519, 27, 520, 521, 5, 522, 523, 79, 10, 4, 524, 525, 74, 6, 10, 44, 4, 526, 527, 16, 23, 528, 529, 530, 5], [1, 9, 10, 63, 18, 510, 511, 93, 54, 512, 3, 513, 5, 514, 10, 133, 515, 516, 93, 517, 518, 519, 27, 520, 521, 5, 522, 523, 79, 10, 4, 524, 525, 74, 6, 10, 44, 4, 526, 527, 16, 23, 528, 529, 530, 5, 172], [1, 9, 10, 63, 18, 510, 511, 93, 54, 512, 3, 513, 5, 514, 10, 133, 515, 516, 93, 517, 518, 519, 27, 520, 521, 5, 522, 523, 79, 10, 4, 524, 525, 74, 6, 10, 44, 4, 526, 527, 16, 23, 528, 529, 530, 5, 172, 38], [1, 9, 10, 63, 18, 510, 511, 93, 54, 512, 3, 513, 5, 514, 10, 133, 515, 516, 93, 517, 518, 519, 27, 520, 521, 5, 522, 523, 79, 10, 4, 524, 525, 74, 6, 10, 44, 4, 526, 527, 16, 23, 528, 529, 530, 5, 172, 38, 531], [1, 9, 10, 63, 18, 510, 511, 93, 54, 512, 3, 513, 5, 514, 10, 133, 515, 516, 93, 517, 518, 519, 27, 520, 521, 5, 522, 523, 79, 10, 4, 524, 525, 74, 6, 10, 44, 4, 526, 527, 16, 23, 528, 529, 530, 5, 172, 38, 531, 532], [1, 9, 10, 63, 18, 510, 511, 93, 54, 512, 3, 513, 5, 514, 10, 133, 515, 516, 93, 517, 518, 519, 27, 520, 521, 5, 522, 523, 79, 10, 4, 524, 525, 74, 6, 10, 44, 4, 526, 527, 16, 23, 528, 529, 530, 5, 172, 38, 531, 532, 15], [1, 9, 10, 63, 18, 510, 511, 93, 54, 512, 3, 513, 5, 514, 10, 133, 515, 516, 93, 517, 518, 519, 27, 520, 521, 5, 522, 523, 79, 10, 4, 524, 525, 74, 6, 10, 44, 4, 526, 527, 16, 23, 528, 529, 530, 5, 172, 38, 531, 532, 15, 23], [1, 9, 10, 63, 18, 510, 511, 93, 54, 512, 3, 513, 5, 514, 10, 133, 515, 516, 93, 517, 518, 519, 27, 520, 521, 5, 522, 523, 79, 10, 4, 524, 525, 74, 6, 10, 44, 4, 526, 527, 16, 23, 528, 529, 530, 5, 172, 38, 531, 532, 15, 23, 533], [1, 9, 10, 63, 18, 510, 511, 93, 54, 512, 3, 513, 5, 514, 10, 133, 515, 516, 93, 517, 518, 519, 27, 520, 521, 5, 522, 523, 79, 10, 4, 524, 525, 74, 6, 10, 44, 4, 526, 527, 16, 23, 528, 529, 530, 5, 172, 38, 531, 532, 15, 23, 533, 2], [1, 9, 10, 63, 18, 510, 511, 93, 54, 512, 3, 513, 5, 514, 10, 133, 515, 516, 93, 517, 518, 519, 27, 520, 521, 5, 522, 523, 79, 10, 4, 524, 525, 74, 6, 10, 44, 4, 526, 527, 16, 23, 528, 529, 530, 5, 172, 38, 531, 532, 15, 23, 533, 2, 47], [1, 9, 10, 63, 18, 510, 511, 93, 54, 512, 3, 513, 5, 514, 10, 133, 515, 516, 93, 517, 518, 519, 27, 520, 521, 5, 522, 523, 79, 10, 4, 524, 525, 74, 6, 10, 44, 4, 526, 527, 16, 23, 528, 529, 530, 5, 172, 38, 531, 532, 15, 23, 533, 2, 47, 2], [1, 9, 10, 63, 18, 510, 511, 93, 54, 512, 3, 513, 5, 514, 10, 133, 515, 516, 93, 517, 518, 519, 27, 520, 521, 5, 522, 523, 79, 10, 4, 524, 525, 74, 6, 10, 44, 4, 526, 527, 16, 23, 528, 529, 530, 5, 172, 38, 531, 532, 15, 23, 533, 2, 47, 2, 76], [1, 9, 10, 63, 18, 510, 511, 93, 54, 512, 3, 513, 5, 514, 10, 133, 515, 516, 93, 517, 518, 519, 27, 520, 521, 5, 522, 523, 79, 10, 4, 524, 525, 74, 6, 10, 44, 4, 526, 527, 16, 23, 528, 529, 530, 5, 172, 38, 531, 532, 15, 23, 533, 2, 47, 2, 76, 4], [1, 9, 10, 63, 18, 510, 511, 93, 54, 512, 3, 513, 5, 514, 10, 133, 515, 516, 93, 517, 518, 519, 27, 520, 521, 5, 522, 523, 79, 10, 4, 524, 525, 74, 6, 10, 44, 4, 526, 527, 16, 23, 528, 529, 530, 5, 172, 38, 531, 532, 15, 23, 533, 2, 47, 2, 76, 4, 534], [1, 9, 10, 63, 18, 510, 511, 93, 54, 512, 3, 513, 5, 514, 10, 133, 515, 516, 93, 517, 518, 519, 27, 520, 521, 5, 522, 523, 79, 10, 4, 524, 525, 74, 6, 10, 44, 4, 526, 527, 16, 23, 528, 529, 530, 5, 172, 38, 531, 532, 15, 23, 533, 2, 47, 2, 76, 4, 534, 535], [1, 9, 10, 63, 18, 510, 511, 93, 54, 512, 3, 513, 5, 514, 10, 133, 515, 516, 93, 517, 518, 519, 27, 520, 521, 5, 522, 523, 79, 10, 4, 524, 525, 74, 6, 10, 44, 4, 526, 527, 16, 23, 528, 529, 530, 5, 172, 38, 531, 532, 15, 23, 533, 2, 47, 2, 76, 4, 534, 535, 19], [1, 9, 10, 63, 18, 510, 511, 93, 54, 512, 3, 513, 5, 514, 10, 133, 515, 516, 93, 517, 518, 519, 27, 520, 521, 5, 522, 523, 79, 10, 4, 524, 525, 74, 6, 10, 44, 4, 526, 527, 16, 23, 528, 529, 530, 5, 172, 38, 531, 532, 15, 23, 533, 2, 47, 2, 76, 4, 534, 535, 19, 1], [1, 9, 10, 63, 18, 510, 511, 93, 54, 512, 3, 513, 5, 514, 10, 133, 515, 516, 93, 517, 518, 519, 27, 520, 521, 5, 522, 523, 79, 10, 4, 524, 525, 74, 6, 10, 44, 4, 526, 527, 16, 23, 528, 529, 530, 5, 172, 38, 531, 532, 15, 23, 533, 2, 47, 2, 76, 4, 534, 535, 19, 1, 73], [36, 72], [36, 72, 14], [36, 72, 14, 5], [36, 72, 14, 5, 28], [36, 72, 14, 5, 28, 29], [36, 72, 14, 5, 28, 29, 30], [36, 72, 14, 5, 28, 29, 30, 71], [36, 72, 14, 5, 28, 29, 30, 71, 11], [36, 72, 14, 5, 28, 29, 30, 71, 11, 536], [36, 72, 14, 5, 28, 29, 30, 71, 11, 536, 3], [36, 72, 14, 5, 28, 29, 30, 71, 11, 536, 3, 23], [36, 72, 14, 5, 28, 29, 30, 71, 11, 536, 3, 23, 537], [36, 72, 14, 5, 28, 29, 30, 71, 11, 536, 3, 23, 537, 538], [36, 72, 14, 5, 28, 29, 30, 71, 11, 536, 3, 23, 537, 538, 21], [36, 72, 14, 5, 28, 29, 30, 71, 11, 536, 3, 23, 537, 538, 21, 1], [36, 72, 14, 5, 28, 29, 30, 71, 11, 536, 3, 23, 537, 538, 21, 1, 539], [36, 72, 14, 5, 28, 29, 30, 71, 11, 536, 3, 23, 537, 538, 21, 1, 539, 540], [36, 72, 14, 5, 28, 29, 30, 71, 11, 536, 3, 23, 537, 538, 21, 1, 539, 540, 7], [36, 72, 14, 5, 28, 29, 30, 71, 11, 536, 3, 23, 537, 538, 21, 1, 539, 540, 7, 1], [36, 72, 14, 5, 28, 29, 30, 71, 11, 536, 3, 23, 537, 538, 21, 1, 539, 540, 7, 1, 55], [36, 72, 14, 5, 28, 29, 30, 71, 11, 536, 3, 23, 537, 538, 21, 1, 539, 540, 7, 1, 55, 56], [36, 72, 14, 5, 28, 29, 30, 71, 11, 536, 3, 23, 537, 538, 21, 1, 539, 540, 7, 1, 55, 56, 21], [36, 72, 14, 5, 28, 29, 30, 71, 11, 536, 3, 23, 537, 538, 21, 1, 539, 540, 7, 1, 55, 56, 21, 541], [36, 72, 14, 5, 28, 29, 30, 71, 11, 536, 3, 23, 537, 538, 21, 1, 539, 540, 7, 1, 55, 56, 21, 541, 143], [36, 72, 14, 5, 28, 29, 30, 71, 11, 536, 3, 23, 537, 538, 21, 1, 539, 540, 7, 1, 55, 56, 21, 541, 143, 542], [36, 72, 14, 5, 28, 29, 30, 71, 11, 536, 3, 23, 537, 538, 21, 1, 539, 540, 7, 1, 55, 56, 21, 541, 143, 542, 86], [36, 72, 14, 5, 28, 29, 30, 71, 11, 536, 3, 23, 537, 538, 21, 1, 539, 540, 7, 1, 55, 56, 21, 541, 143, 542, 86, 3], [36, 72, 14, 5, 28, 29, 30, 71, 11, 536, 3, 23, 537, 538, 21, 1, 539, 540, 7, 1, 55, 56, 21, 541, 143, 542, 86, 3, 22], [36, 72, 14, 5, 28, 29, 30, 71, 11, 536, 3, 23, 537, 538, 21, 1, 539, 540, 7, 1, 55, 56, 21, 541, 143, 542, 86, 3, 22, 144], [36, 72, 14, 5, 28, 29, 30, 71, 11, 536, 3, 23, 537, 538, 21, 1, 539, 540, 7, 1, 55, 56, 21, 541, 143, 542, 86, 3, 22, 144, 36], [36, 72, 14, 5, 28, 29, 30, 71, 11, 536, 3, 23, 537, 538, 21, 1, 539, 540, 7, 1, 55, 56, 21, 541, 143, 542, 86, 3, 22, 144, 36, 14], [36, 72, 14, 5, 28, 29, 30, 71, 11, 536, 3, 23, 537, 538, 21, 1, 539, 540, 7, 1, 55, 56, 21, 541, 143, 542, 86, 3, 22, 144, 36, 14, 10], [36, 72, 14, 5, 28, 29, 30, 71, 11, 536, 3, 23, 537, 538, 21, 1, 539, 540, 7, 1, 55, 56, 21, 541, 143, 542, 86, 3, 22, 144, 36, 14, 10, 1], [36, 72, 14, 5, 28, 29, 30, 71, 11, 536, 3, 23, 537, 538, 21, 1, 539, 540, 7, 1, 55, 56, 21, 541, 143, 542, 86, 3, 22, 144, 36, 14, 10, 1, 64], [36, 72, 14, 5, 28, 29, 30, 71, 11, 536, 3, 23, 537, 538, 21, 1, 539, 540, 7, 1, 55, 56, 21, 541, 143, 542, 86, 3, 22, 144, 36, 14, 10, 1, 64, 140], [36, 72, 14, 5, 28, 29, 30, 71, 11, 536, 3, 23, 537, 538, 21, 1, 539, 540, 7, 1, 55, 56, 21, 541, 143, 542, 86, 3, 22, 144, 36, 14, 10, 1, 64, 140, 141], [36, 72, 14, 5, 28, 29, 30, 71, 11, 536, 3, 23, 537, 538, 21, 1, 539, 540, 7, 1, 55, 56, 21, 541, 143, 542, 86, 3, 22, 144, 36, 14, 10, 1, 64, 140, 141, 36], [36, 72, 14, 5, 28, 29, 30, 71, 11, 536, 3, 23, 537, 538, 21, 1, 539, 540, 7, 1, 55, 56, 21, 541, 143, 542, 86, 3, 22, 144, 36, 14, 10, 1, 64, 140, 141, 36, 2], [36, 72, 14, 5, 28, 29, 30, 71, 11, 536, 3, 23, 537, 538, 21, 1, 539, 540, 7, 1, 55, 56, 21, 541, 143, 542, 86, 3, 22, 144, 36, 14, 10, 1, 64, 140, 141, 36, 2, 543], [36, 72, 14, 5, 28, 29, 30, 71, 11, 536, 3, 23, 537, 538, 21, 1, 539, 540, 7, 1, 55, 56, 21, 541, 143, 542, 86, 3, 22, 144, 36, 14, 10, 1, 64, 140, 141, 36, 2, 543, 29], [36, 72, 14, 5, 28, 29, 30, 71, 11, 536, 3, 23, 537, 538, 21, 1, 539, 540, 7, 1, 55, 56, 21, 541, 143, 542, 86, 3, 22, 144, 36, 14, 10, 1, 64, 140, 141, 36, 2, 543, 29, 30], [36, 72, 14, 5, 28, 29, 30, 71, 11, 536, 3, 23, 537, 538, 21, 1, 539, 540, 7, 1, 55, 56, 21, 541, 143, 542, 86, 3, 22, 144, 36, 14, 10, 1, 64, 140, 141, 36, 2, 543, 29, 30, 11], [36, 72, 14, 5, 28, 29, 30, 71, 11, 536, 3, 23, 537, 538, 21, 1, 539, 540, 7, 1, 55, 56, 21, 541, 143, 542, 86, 3, 22, 144, 36, 14, 10, 1, 64, 140, 141, 36, 2, 543, 29, 30, 11, 19], [36, 72, 14, 5, 28, 29, 30, 71, 11, 536, 3, 23, 537, 538, 21, 1, 539, 540, 7, 1, 55, 56, 21, 541, 143, 542, 86, 3, 22, 144, 36, 14, 10, 1, 64, 140, 141, 36, 2, 543, 29, 30, 11, 19, 23], [36, 72, 14, 5, 28, 29, 30, 71, 11, 536, 3, 23, 537, 538, 21, 1, 539, 540, 7, 1, 55, 56, 21, 541, 143, 542, 86, 3, 22, 144, 36, 14, 10, 1, 64, 140, 141, 36, 2, 543, 29, 30, 11, 19, 23, 544], [36, 72, 14, 5, 28, 29, 30, 71, 11, 536, 3, 23, 537, 538, 21, 1, 539, 540, 7, 1, 55, 56, 21, 541, 143, 542, 86, 3, 22, 144, 36, 14, 10, 1, 64, 140, 141, 36, 2, 543, 29, 30, 11, 19, 23, 544, 50], [36, 72, 14, 5, 28, 29, 30, 71, 11, 536, 3, 23, 537, 538, 21, 1, 539, 540, 7, 1, 55, 56, 21, 541, 143, 542, 86, 3, 22, 144, 36, 14, 10, 1, 64, 140, 141, 36, 2, 543, 29, 30, 11, 19, 23, 544, 50, 34], [151, 545], [151, 545, 546], [151, 545, 546, 547], [151, 545, 546, 547, 548], [151, 545, 546, 547, 548, 549], [151, 545, 546, 547, 548, 549, 3], [151, 545, 546, 547, 548, 549, 3, 1], [151, 545, 546, 547, 548, 549, 3, 1, 9], [145, 66], [145, 66, 550], [145, 66, 550, 5], [145, 66, 550, 5, 105], [145, 66, 550, 5, 105, 27], [145, 66, 550, 5, 105, 27, 551], [145, 66, 550, 5, 105, 27, 551, 3], [145, 66, 550, 5, 105, 27, 551, 3, 1], [145, 66, 550, 5, 105, 27, 551, 3, 1, 552], [145, 66, 550, 5, 105, 27, 551, 3, 1, 552, 15], [145, 66, 550, 5, 105, 27, 551, 3, 1, 552, 15, 70], [145, 66, 550, 5, 105, 27, 551, 3, 1, 552, 15, 70, 553], [145, 66, 550, 5, 105, 27, 551, 3, 1, 552, 15, 70, 553, 2], [145, 66, 550, 5, 105, 27, 551, 3, 1, 552, 15, 70, 553, 2, 159], [145, 66, 550, 5, 105, 27, 551, 3, 1, 552, 15, 70, 553, 2, 159, 1], [145, 66, 550, 5, 105, 27, 551, 3, 1, 552, 15, 70, 553, 2, 159, 1, 66], [145, 66, 550, 5, 105, 27, 551, 3, 1, 552, 15, 70, 553, 2, 159, 1, 66, 554], [145, 66, 550, 5, 105, 27, 551, 3, 1, 552, 15, 70, 553, 2, 159, 1, 66, 554, 555], [145, 66, 550, 5, 105, 27, 551, 3, 1, 552, 15, 70, 553, 2, 159, 1, 66, 554, 555, 82], [145, 66, 550, 5, 105, 27, 551, 3, 1, 552, 15, 70, 553, 2, 159, 1, 66, 554, 555, 82, 114], [145, 66, 550, 5, 105, 27, 551, 3, 1, 552, 15, 70, 553, 2, 159, 1, 66, 554, 555, 82, 114, 556], [145, 66, 550, 5, 105, 27, 551, 3, 1, 552, 15, 70, 553, 2, 159, 1, 66, 554, 555, 82, 114, 556, 3], [145, 66, 550, 5, 105, 27, 551, 3, 1, 552, 15, 70, 553, 2, 159, 1, 66, 554, 555, 82, 114, 556, 3, 13], [145, 66, 550, 5, 105, 27, 551, 3, 1, 552, 15, 70, 553, 2, 159, 1, 66, 554, 555, 82, 114, 556, 3, 13, 557], [145, 66, 550, 5, 105, 27, 551, 3, 1, 552, 15, 70, 553, 2, 159, 1, 66, 554, 555, 82, 114, 556, 3, 13, 557, 1], [145, 66, 550, 5, 105, 27, 551, 3, 1, 552, 15, 70, 553, 2, 159, 1, 66, 554, 555, 82, 114, 556, 3, 13, 557, 1, 558], [145, 66, 550, 5, 105, 27, 551, 3, 1, 552, 15, 70, 553, 2, 159, 1, 66, 554, 555, 82, 114, 556, 3, 13, 557, 1, 558, 7], [145, 66, 550, 5, 105, 27, 551, 3, 1, 552, 15, 70, 553, 2, 159, 1, 66, 554, 555, 82, 114, 556, 3, 13, 557, 1, 558, 7, 33], [145, 66, 550, 5, 105, 27, 551, 3, 1, 552, 15, 70, 553, 2, 159, 1, 66, 554, 555, 82, 114, 556, 3, 13, 557, 1, 558, 7, 33, 171], [145, 66, 550, 5, 105, 27, 551, 3, 1, 552, 15, 70, 553, 2, 159, 1, 66, 554, 555, 82, 114, 556, 3, 13, 557, 1, 558, 7, 33, 171, 26], [145, 66, 550, 5, 105, 27, 551, 3, 1, 552, 15, 70, 553, 2, 159, 1, 66, 554, 555, 82, 114, 556, 3, 13, 557, 1, 558, 7, 33, 171, 26, 559], [145, 66, 550, 5, 105, 27, 551, 3, 1, 552, 15, 70, 553, 2, 159, 1, 66, 554, 555, 82, 114, 556, 3, 13, 557, 1, 558, 7, 33, 171, 26, 559, 156], [145, 66, 550, 5, 105, 27, 551, 3, 1, 552, 15, 70, 553, 2, 159, 1, 66, 554, 555, 82, 114, 556, 3, 13, 557, 1, 558, 7, 33, 171, 26, 559, 156, 560], [145, 66, 550, 5, 105, 27, 551, 3, 1, 552, 15, 70, 553, 2, 159, 1, 66, 554, 555, 82, 114, 556, 3, 13, 557, 1, 558, 7, 33, 171, 26, 559, 156, 560, 2], [145, 66, 550, 5, 105, 27, 551, 3, 1, 552, 15, 70, 553, 2, 159, 1, 66, 554, 555, 82, 114, 556, 3, 13, 557, 1, 558, 7, 33, 171, 26, 559, 156, 560, 2, 561], [145, 66, 550, 5, 105, 27, 551, 3, 1, 552, 15, 70, 553, 2, 159, 1, 66, 554, 555, 82, 114, 556, 3, 13, 557, 1, 558, 7, 33, 171, 26, 559, 156, 560, 2, 561, 1], [145, 66, 550, 5, 105, 27, 551, 3, 1, 552, 15, 70, 553, 2, 159, 1, 66, 554, 555, 82, 114, 556, 3, 13, 557, 1, 558, 7, 33, 171, 26, 559, 156, 560, 2, 561, 1, 166], [145, 66, 550, 5, 105, 27, 551, 3, 1, 552, 15, 70, 553, 2, 159, 1, 66, 554, 555, 82, 114, 556, 3, 13, 557, 1, 558, 7, 33, 171, 26, 559, 156, 560, 2, 561, 1, 166, 74], [145, 66, 550, 5, 105, 27, 551, 3, 1, 552, 15, 70, 553, 2, 159, 1, 66, 554, 555, 82, 114, 556, 3, 13, 557, 1, 558, 7, 33, 171, 26, 559, 156, 560, 2, 561, 1, 166, 74, 7], [145, 66, 550, 5, 105, 27, 551, 3, 1, 552, 15, 70, 553, 2, 159, 1, 66, 554, 555, 82, 114, 556, 3, 13, 557, 1, 558, 7, 33, 171, 26, 559, 156, 560, 2, 561, 1, 166, 74, 7, 6], [145, 66, 550, 5, 105, 27, 551, 3, 1, 552, 15, 70, 553, 2, 159, 1, 66, 554, 555, 82, 114, 556, 3, 13, 557, 1, 558, 7, 33, 171, 26, 559, 156, 560, 2, 561, 1, 166, 74, 7, 6, 9], [145, 66, 550, 5, 105, 27, 551, 3, 1, 552, 15, 70, 553, 2, 159, 1, 66, 554, 555, 82, 114, 556, 3, 13, 557, 1, 558, 7, 33, 171, 26, 559, 156, 560, 2, 561, 1, 166, 74, 7, 6, 9, 33], [145, 66, 550, 5, 105, 27, 551, 3, 1, 552, 15, 70, 553, 2, 159, 1, 66, 554, 555, 82, 114, 556, 3, 13, 557, 1, 558, 7, 33, 171, 26, 559, 156, 560, 2, 561, 1, 166, 74, 7, 6, 9, 33, 52], [145, 66, 550, 5, 105, 27, 551, 3, 1, 552, 15, 70, 553, 2, 159, 1, 66, 554, 555, 82, 114, 556, 3, 13, 557, 1, 558, 7, 33, 171, 26, 559, 156, 560, 2, 561, 1, 166, 74, 7, 6, 9, 33, 52, 8], [145, 66, 550, 5, 105, 27, 551, 3, 1, 552, 15, 70, 553, 2, 159, 1, 66, 554, 555, 82, 114, 556, 3, 13, 557, 1, 558, 7, 33, 171, 26, 559, 156, 560, 2, 561, 1, 166, 74, 7, 6, 9, 33, 52, 8, 11], [145, 66, 550, 5, 105, 27, 551, 3, 1, 552, 15, 70, 553, 2, 159, 1, 66, 554, 555, 82, 114, 556, 3, 13, 557, 1, 558, 7, 33, 171, 26, 559, 156, 560, 2, 561, 1, 166, 74, 7, 6, 9, 33, 52, 8, 11, 12], [145, 66, 550, 5, 105, 27, 551, 3, 1, 552, 15, 70, 553, 2, 159, 1, 66, 554, 555, 82, 114, 556, 3, 13, 557, 1, 558, 7, 33, 171, 26, 559, 156, 560, 2, 561, 1, 166, 74, 7, 6, 9, 33, 52, 8, 11, 12, 109], [145, 66, 550, 5, 105, 27, 551, 3, 1, 552, 15, 70, 553, 2, 159, 1, 66, 554, 555, 82, 114, 556, 3, 13, 557, 1, 558, 7, 33, 171, 26, 559, 156, 560, 2, 561, 1, 166, 74, 7, 6, 9, 33, 52, 8, 11, 12, 109, 13], [145, 66, 550, 5, 105, 27, 551, 3, 1, 552, 15, 70, 553, 2, 159, 1, 66, 554, 555, 82, 114, 556, 3, 13, 557, 1, 558, 7, 33, 171, 26, 559, 156, 560, 2, 561, 1, 166, 74, 7, 6, 9, 33, 52, 8, 11, 12, 109, 13, 562], [145, 66, 550, 5, 105, 27, 551, 3, 1, 552, 15, 70, 553, 2, 159, 1, 66, 554, 555, 82, 114, 556, 3, 13, 557, 1, 558, 7, 33, 171, 26, 559, 156, 560, 2, 561, 1, 166, 74, 7, 6, 9, 33, 52, 8, 11, 12, 109, 13, 562, 563], [145, 66, 550, 5, 105, 27, 551, 3, 1, 552, 15, 70, 553, 2, 159, 1, 66, 554, 555, 82, 114, 556, 3, 13, 557, 1, 558, 7, 33, 171, 26, 559, 156, 560, 2, 561, 1, 166, 74, 7, 6, 9, 33, 52, 8, 11, 12, 109, 13, 562, 563, 10], [145, 66, 550, 5, 105, 27, 551, 3, 1, 552, 15, 70, 553, 2, 159, 1, 66, 554, 555, 82, 114, 556, 3, 13, 557, 1, 558, 7, 33, 171, 26, 559, 156, 560, 2, 561, 1, 166, 74, 7, 6, 9, 33, 52, 8, 11, 12, 109, 13, 562, 563, 10, 17], [145, 66, 550, 5, 105, 27, 551, 3, 1, 552, 15, 70, 553, 2, 159, 1, 66, 554, 555, 82, 114, 556, 3, 13, 557, 1, 558, 7, 33, 171, 26, 559, 156, 560, 2, 561, 1, 166, 74, 7, 6, 9, 33, 52, 8, 11, 12, 109, 13, 562, 563, 10, 17, 1], [145, 66, 550, 5, 105, 27, 551, 3, 1, 552, 15, 70, 553, 2, 159, 1, 66, 554, 555, 82, 114, 556, 3, 13, 557, 1, 558, 7, 33, 171, 26, 559, 156, 560, 2, 561, 1, 166, 74, 7, 6, 9, 33, 52, 8, 11, 12, 109, 13, 562, 563, 10, 17, 1, 564], [145, 66, 550, 5, 105, 27, 551, 3, 1, 552, 15, 70, 553, 2, 159, 1, 66, 554, 555, 82, 114, 556, 3, 13, 557, 1, 558, 7, 33, 171, 26, 559, 156, 560, 2, 561, 1, 166, 74, 7, 6, 9, 33, 52, 8, 11, 12, 109, 13, 562, 563, 10, 17, 1, 564, 19], [145, 66, 550, 5, 105, 27, 551, 3, 1, 552, 15, 70, 553, 2, 159, 1, 66, 554, 555, 82, 114, 556, 3, 13, 557, 1, 558, 7, 33, 171, 26, 559, 156, 560, 2, 561, 1, 166, 74, 7, 6, 9, 33, 52, 8, 11, 12, 109, 13, 562, 563, 10, 17, 1, 564, 19, 6], [145, 66, 550, 5, 105, 27, 551, 3, 1, 552, 15, 70, 553, 2, 159, 1, 66, 554, 555, 82, 114, 556, 3, 13, 557, 1, 558, 7, 33, 171, 26, 559, 156, 560, 2, 561, 1, 166, 74, 7, 6, 9, 33, 52, 8, 11, 12, 109, 13, 562, 563, 10, 17, 1, 564, 19, 6, 9], [145, 66, 550, 5, 105, 27, 551, 3, 1, 552, 15, 70, 553, 2, 159, 1, 66, 554, 555, 82, 114, 556, 3, 13, 557, 1, 558, 7, 33, 171, 26, 559, 156, 560, 2, 561, 1, 166, 74, 7, 6, 9, 33, 52, 8, 11, 12, 109, 13, 562, 563, 10, 17, 1, 564, 19, 6, 9, 52], [565, 3], [565, 3, 22], [565, 3, 22, 32], [565, 3, 22, 32, 566], [565, 3, 22, 32, 566, 18], [565, 3, 22, 32, 566, 18, 173], [565, 3, 22, 32, 566, 18, 173, 567], [565, 3, 22, 32, 566, 18, 173, 567, 88], [565, 3, 22, 32, 566, 18, 173, 567, 88, 8], [565, 3, 22, 32, 566, 18, 173, 567, 88, 8, 11], [565, 3, 22, 32, 566, 18, 173, 567, 88, 8, 11, 5], [565, 3, 22, 32, 566, 18, 173, 567, 88, 8, 11, 5, 51], [565, 3, 22, 32, 566, 18, 173, 567, 88, 8, 11, 5, 51, 174], [565, 3, 22, 32, 566, 18, 173, 567, 88, 8, 11, 5, 51, 174, 568], [565, 3, 22, 32, 566, 18, 173, 567, 88, 8, 11, 5, 51, 174, 568, 569], [565, 3, 22, 32, 566, 18, 173, 567, 88, 8, 11, 5, 51, 174, 568, 569, 570], [565, 3, 22, 32, 566, 18, 173, 567, 88, 8, 11, 5, 51, 174, 568, 569, 570, 175], [565, 3, 22, 32, 566, 18, 173, 567, 88, 8, 11, 5, 51, 174, 568, 569, 570, 175, 571], [565, 3, 22, 32, 566, 18, 173, 567, 88, 8, 11, 5, 51, 174, 568, 569, 570, 175, 571, 8], [565, 3, 22, 32, 566, 18, 173, 567, 88, 8, 11, 5, 51, 174, 568, 569, 570, 175, 571, 8, 154], [565, 3, 22, 32, 566, 18, 173, 567, 88, 8, 11, 5, 51, 174, 568, 569, 570, 175, 571, 8, 154, 3], [565, 3, 22, 32, 566, 18, 173, 567, 88, 8, 11, 5, 51, 174, 568, 569, 570, 175, 571, 8, 154, 3, 4], [565, 3, 22, 32, 566, 18, 173, 567, 88, 8, 11, 5, 51, 174, 568, 569, 570, 175, 571, 8, 154, 3, 4, 572], [565, 3, 22, 32, 566, 18, 173, 567, 88, 8, 11, 5, 51, 174, 568, 569, 570, 175, 571, 8, 154, 3, 4, 572, 573], [565, 3, 22, 32, 566, 18, 173, 567, 88, 8, 11, 5, 51, 174, 568, 569, 570, 175, 571, 8, 154, 3, 4, 572, 573, 31], [565, 3, 22, 32, 566, 18, 173, 567, 88, 8, 11, 5, 51, 174, 568, 569, 570, 175, 571, 8, 154, 3, 4, 572, 573, 31, 574], [565, 3, 22, 32, 566, 18, 173, 567, 88, 8, 11, 5, 51, 174, 568, 569, 570, 175, 571, 8, 154, 3, 4, 572, 573, 31, 574, 575], [565, 3, 22, 32, 566, 18, 173, 567, 88, 8, 11, 5, 51, 174, 568, 569, 570, 175, 571, 8, 154, 3, 4, 572, 573, 31, 574, 575, 1], [565, 3, 22, 32, 566, 18, 173, 567, 88, 8, 11, 5, 51, 174, 568, 569, 570, 175, 571, 8, 154, 3, 4, 572, 573, 31, 574, 575, 1, 576], [565, 3, 22, 32, 566, 18, 173, 567, 88, 8, 11, 5, 51, 174, 568, 569, 570, 175, 571, 8, 154, 3, 4, 572, 573, 31, 574, 575, 1, 576, 7], [565, 3, 22, 32, 566, 18, 173, 567, 88, 8, 11, 5, 51, 174, 568, 569, 570, 175, 571, 8, 154, 3, 4, 572, 573, 31, 574, 575, 1, 576, 7, 577], [565, 3, 22, 32, 566, 18, 173, 567, 88, 8, 11, 5, 51, 174, 568, 569, 570, 175, 571, 8, 154, 3, 4, 572, 573, 31, 574, 575, 1, 576, 7, 577, 1], [565, 3, 22, 32, 566, 18, 173, 567, 88, 8, 11, 5, 51, 174, 568, 569, 570, 175, 571, 8, 154, 3, 4, 572, 573, 31, 574, 575, 1, 576, 7, 577, 1, 578], [565, 3, 22, 32, 566, 18, 173, 567, 88, 8, 11, 5, 51, 174, 568, 569, 570, 175, 571, 8, 154, 3, 4, 572, 573, 31, 574, 575, 1, 576, 7, 577, 1, 578, 7], [565, 3, 22, 32, 566, 18, 173, 567, 88, 8, 11, 5, 51, 174, 568, 569, 570, 175, 571, 8, 154, 3, 4, 572, 573, 31, 574, 575, 1, 576, 7, 577, 1, 578, 7, 1], [565, 3, 22, 32, 566, 18, 173, 567, 88, 8, 11, 5, 51, 174, 568, 569, 570, 175, 571, 8, 154, 3, 4, 572, 573, 31, 574, 575, 1, 576, 7, 577, 1, 578, 7, 1, 579], [565, 3, 22, 32, 566, 18, 173, 567, 88, 8, 11, 5, 51, 174, 568, 569, 570, 175, 571, 8, 154, 3, 4, 572, 573, 31, 574, 575, 1, 576, 7, 577, 1, 578, 7, 1, 579, 580], [565, 3, 22, 32, 566, 18, 173, 567, 88, 8, 11, 5, 51, 174, 568, 569, 570, 175, 571, 8, 154, 3, 4, 572, 573, 31, 574, 575, 1, 576, 7, 577, 1, 578, 7, 1, 579, 580, 3], [565, 3, 22, 32, 566, 18, 173, 567, 88, 8, 11, 5, 51, 174, 568, 569, 570, 175, 571, 8, 154, 3, 4, 572, 573, 31, 574, 575, 1, 576, 7, 577, 1, 578, 7, 1, 579, 580, 3, 4], [565, 3, 22, 32, 566, 18, 173, 567, 88, 8, 11, 5, 51, 174, 568, 569, 570, 175, 571, 8, 154, 3, 4, 572, 573, 31, 574, 575, 1, 576, 7, 577, 1, 578, 7, 1, 579, 580, 3, 4, 581], [565, 3, 22, 32, 566, 18, 173, 567, 88, 8, 11, 5, 51, 174, 568, 569, 570, 175, 571, 8, 154, 3, 4, 572, 573, 31, 574, 575, 1, 576, 7, 577, 1, 578, 7, 1, 579, 580, 3, 4, 581, 174], [565, 3, 22, 32, 566, 18, 173, 567, 88, 8, 11, 5, 51, 174, 568, 569, 570, 175, 571, 8, 154, 3, 4, 572, 573, 31, 574, 575, 1, 576, 7, 577, 1, 578, 7, 1, 579, 580, 3, 4, 581, 174, 6], [565, 3, 22, 32, 566, 18, 173, 567, 88, 8, 11, 5, 51, 174, 568, 569, 570, 175, 571, 8, 154, 3, 4, 572, 573, 31, 574, 575, 1, 576, 7, 577, 1, 578, 7, 1, 579, 580, 3, 4, 581, 174, 6, 43], [565, 3, 22, 32, 566, 18, 173, 567, 88, 8, 11, 5, 51, 174, 568, 569, 570, 175, 571, 8, 154, 3, 4, 572, 573, 31, 574, 575, 1, 576, 7, 577, 1, 578, 7, 1, 579, 580, 3, 4, 581, 174, 6, 43, 170], [565, 3, 22, 32, 566, 18, 173, 567, 88, 8, 11, 5, 51, 174, 568, 569, 570, 175, 571, 8, 154, 3, 4, 572, 573, 31, 574, 575, 1, 576, 7, 577, 1, 578, 7, 1, 579, 580, 3, 4, 581, 174, 6, 43, 170, 104], [565, 3, 22, 32, 566, 18, 173, 567, 88, 8, 11, 5, 51, 174, 568, 569, 570, 175, 571, 8, 154, 3, 4, 572, 573, 31, 574, 575, 1, 576, 7, 577, 1, 578, 7, 1, 579, 580, 3, 4, 581, 174, 6, 43, 170, 104, 8], [565, 3, 22, 32, 566, 18, 173, 567, 88, 8, 11, 5, 51, 174, 568, 569, 570, 175, 571, 8, 154, 3, 4, 572, 573, 31, 574, 575, 1, 576, 7, 577, 1, 578, 7, 1, 579, 580, 3, 4, 581, 174, 6, 43, 170, 104, 8, 14], [565, 3, 22, 32, 566, 18, 173, 567, 88, 8, 11, 5, 51, 174, 568, 569, 570, 175, 571, 8, 154, 3, 4, 572, 573, 31, 574, 575, 1, 576, 7, 577, 1, 578, 7, 1, 579, 580, 3, 4, 581, 174, 6, 43, 170, 104, 8, 14, 5], [565, 3, 22, 32, 566, 18, 173, 567, 88, 8, 11, 5, 51, 174, 568, 569, 570, 175, 571, 8, 154, 3, 4, 572, 573, 31, 574, 575, 1, 576, 7, 577, 1, 578, 7, 1, 579, 580, 3, 4, 581, 174, 6, 43, 170, 104, 8, 14, 5, 8], [565, 3, 22, 32, 566, 18, 173, 567, 88, 8, 11, 5, 51, 174, 568, 569, 570, 175, 571, 8, 154, 3, 4, 572, 573, 31, 574, 575, 1, 576, 7, 577, 1, 578, 7, 1, 579, 580, 3, 4, 581, 174, 6, 43, 170, 104, 8, 14, 5, 8, 11], [565, 3, 22, 32, 566, 18, 173, 567, 88, 8, 11, 5, 51, 174, 568, 569, 570, 175, 571, 8, 154, 3, 4, 572, 573, 31, 574, 575, 1, 576, 7, 577, 1, 578, 7, 1, 579, 580, 3, 4, 581, 174, 6, 43, 170, 104, 8, 14, 5, 8, 11, 1], [565, 3, 22, 32, 566, 18, 173, 567, 88, 8, 11, 5, 51, 174, 568, 569, 570, 175, 571, 8, 154, 3, 4, 572, 573, 31, 574, 575, 1, 576, 7, 577, 1, 578, 7, 1, 579, 580, 3, 4, 581, 174, 6, 43, 170, 104, 8, 14, 5, 8, 11, 1, 582], [565, 3, 22, 32, 566, 18, 173, 567, 88, 8, 11, 5, 51, 174, 568, 569, 570, 175, 571, 8, 154, 3, 4, 572, 573, 31, 574, 575, 1, 576, 7, 577, 1, 578, 7, 1, 579, 580, 3, 4, 581, 174, 6, 43, 170, 104, 8, 14, 5, 8, 11, 1, 582, 3], [565, 3, 22, 32, 566, 18, 173, 567, 88, 8, 11, 5, 51, 174, 568, 569, 570, 175, 571, 8, 154, 3, 4, 572, 573, 31, 574, 575, 1, 576, 7, 577, 1, 578, 7, 1, 579, 580, 3, 4, 581, 174, 6, 43, 170, 104, 8, 14, 5, 8, 11, 1, 582, 3, 1], [565, 3, 22, 32, 566, 18, 173, 567, 88, 8, 11, 5, 51, 174, 568, 569, 570, 175, 571, 8, 154, 3, 4, 572, 573, 31, 574, 575, 1, 576, 7, 577, 1, 578, 7, 1, 579, 580, 3, 4, 581, 174, 6, 43, 170, 104, 8, 14, 5, 8, 11, 1, 582, 3, 1, 173], [565, 3, 22, 32, 566, 18, 173, 567, 88, 8, 11, 5, 51, 174, 568, 569, 570, 175, 571, 8, 154, 3, 4, 572, 573, 31, 574, 575, 1, 576, 7, 577, 1, 578, 7, 1, 579, 580, 3, 4, 581, 174, 6, 43, 170, 104, 8, 14, 5, 8, 11, 1, 582, 3, 1, 173, 175], [565, 3, 22, 32, 566, 18, 173, 567, 88, 8, 11, 5, 51, 174, 568, 569, 570, 175, 571, 8, 154, 3, 4, 572, 573, 31, 574, 575, 1, 576, 7, 577, 1, 578, 7, 1, 579, 580, 3, 4, 581, 174, 6, 43, 170, 104, 8, 14, 5, 8, 11, 1, 582, 3, 1, 173, 175, 27], [565, 3, 22, 32, 566, 18, 173, 567, 88, 8, 11, 5, 51, 174, 568, 569, 570, 175, 571, 8, 154, 3, 4, 572, 573, 31, 574, 575, 1, 576, 7, 577, 1, 578, 7, 1, 579, 580, 3, 4, 581, 174, 6, 43, 170, 104, 8, 14, 5, 8, 11, 1, 582, 3, 1, 173, 175, 27, 583], [565, 3, 22, 32, 566, 18, 173, 567, 88, 8, 11, 5, 51, 174, 568, 569, 570, 175, 571, 8, 154, 3, 4, 572, 573, 31, 574, 575, 1, 576, 7, 577, 1, 578, 7, 1, 579, 580, 3, 4, 581, 174, 6, 43, 170, 104, 8, 14, 5, 8, 11, 1, 582, 3, 1, 173, 175, 27, 583, 35], [565, 3, 22, 32, 566, 18, 173, 567, 88, 8, 11, 5, 51, 174, 568, 569, 570, 175, 571, 8, 154, 3, 4, 572, 573, 31, 574, 575, 1, 576, 7, 577, 1, 578, 7, 1, 579, 580, 3, 4, 581, 174, 6, 43, 170, 104, 8, 14, 5, 8, 11, 1, 582, 3, 1, 173, 175, 27, 583, 35, 150], [565, 3, 22, 32, 566, 18, 173, 567, 88, 8, 11, 5, 51, 174, 568, 569, 570, 175, 571, 8, 154, 3, 4, 572, 573, 31, 574, 575, 1, 576, 7, 577, 1, 578, 7, 1, 579, 580, 3, 4, 581, 174, 6, 43, 170, 104, 8, 14, 5, 8, 11, 1, 582, 3, 1, 173, 175, 27, 583, 35, 150, 10], [565, 3, 22, 32, 566, 18, 173, 567, 88, 8, 11, 5, 51, 174, 568, 569, 570, 175, 571, 8, 154, 3, 4, 572, 573, 31, 574, 575, 1, 576, 7, 577, 1, 578, 7, 1, 579, 580, 3, 4, 581, 174, 6, 43, 170, 104, 8, 14, 5, 8, 11, 1, 582, 3, 1, 173, 175, 27, 583, 35, 150, 10, 584], [565, 3, 22, 32, 566, 18, 173, 567, 88, 8, 11, 5, 51, 174, 568, 569, 570, 175, 571, 8, 154, 3, 4, 572, 573, 31, 574, 575, 1, 576, 7, 577, 1, 578, 7, 1, 579, 580, 3, 4, 581, 174, 6, 43, 170, 104, 8, 14, 5, 8, 11, 1, 582, 3, 1, 173, 175, 27, 583, 35, 150, 10, 584, 3], [565, 3, 22, 32, 566, 18, 173, 567, 88, 8, 11, 5, 51, 174, 568, 569, 570, 175, 571, 8, 154, 3, 4, 572, 573, 31, 574, 575, 1, 576, 7, 577, 1, 578, 7, 1, 579, 580, 3, 4, 581, 174, 6, 43, 170, 104, 8, 14, 5, 8, 11, 1, 582, 3, 1, 173, 175, 27, 583, 35, 150, 10, 584, 3, 6], [565, 3, 22, 32, 566, 18, 173, 567, 88, 8, 11, 5, 51, 174, 568, 569, 570, 175, 571, 8, 154, 3, 4, 572, 573, 31, 574, 575, 1, 576, 7, 577, 1, 578, 7, 1, 579, 580, 3, 4, 581, 174, 6, 43, 170, 104, 8, 14, 5, 8, 11, 1, 582, 3, 1, 173, 175, 27, 583, 35, 150, 10, 584, 3, 6, 1], [565, 3, 22, 32, 566, 18, 173, 567, 88, 8, 11, 5, 51, 174, 568, 569, 570, 175, 571, 8, 154, 3, 4, 572, 573, 31, 574, 575, 1, 576, 7, 577, 1, 578, 7, 1, 579, 580, 3, 4, 581, 174, 6, 43, 170, 104, 8, 14, 5, 8, 11, 1, 582, 3, 1, 173, 175, 27, 583, 35, 150, 10, 584, 3, 6, 1, 585], [565, 3, 22, 32, 566, 18, 173, 567, 88, 8, 11, 5, 51, 174, 568, 569, 570, 175, 571, 8, 154, 3, 4, 572, 573, 31, 574, 575, 1, 576, 7, 577, 1, 578, 7, 1, 579, 580, 3, 4, 581, 174, 6, 43, 170, 104, 8, 14, 5, 8, 11, 1, 582, 3, 1, 173, 175, 27, 583, 35, 150, 10, 584, 3, 6, 1, 585, 5], [565, 3, 22, 32, 566, 18, 173, 567, 88, 8, 11, 5, 51, 174, 568, 569, 570, 175, 571, 8, 154, 3, 4, 572, 573, 31, 574, 575, 1, 576, 7, 577, 1, 578, 7, 1, 579, 580, 3, 4, 581, 174, 6, 43, 170, 104, 8, 14, 5, 8, 11, 1, 582, 3, 1, 173, 175, 27, 583, 35, 150, 10, 584, 3, 6, 1, 585, 5, 586], [565, 3, 22, 32, 566, 18, 173, 567, 88, 8, 11, 5, 51, 174, 568, 569, 570, 175, 571, 8, 154, 3, 4, 572, 573, 31, 574, 575, 1, 576, 7, 577, 1, 578, 7, 1, 579, 580, 3, 4, 581, 174, 6, 43, 170, 104, 8, 14, 5, 8, 11, 1, 582, 3, 1, 173, 175, 27, 583, 35, 150, 10, 584, 3, 6, 1, 585, 5, 586, 27], [565, 3, 22, 32, 566, 18, 173, 567, 88, 8, 11, 5, 51, 174, 568, 569, 570, 175, 571, 8, 154, 3, 4, 572, 573, 31, 574, 575, 1, 576, 7, 577, 1, 578, 7, 1, 579, 580, 3, 4, 581, 174, 6, 43, 170, 104, 8, 14, 5, 8, 11, 1, 582, 3, 1, 173, 175, 27, 583, 35, 150, 10, 584, 3, 6, 1, 585, 5, 586, 27, 138], [565, 3, 22, 32, 566, 18, 173, 567, 88, 8, 11, 5, 51, 174, 568, 569, 570, 175, 571, 8, 154, 3, 4, 572, 573, 31, 574, 575, 1, 576, 7, 577, 1, 578, 7, 1, 579, 580, 3, 4, 581, 174, 6, 43, 170, 104, 8, 14, 5, 8, 11, 1, 582, 3, 1, 173, 175, 27, 583, 35, 150, 10, 584, 3, 6, 1, 585, 5, 586, 27, 138, 19], [565, 3, 22, 32, 566, 18, 173, 567, 88, 8, 11, 5, 51, 174, 568, 569, 570, 175, 571, 8, 154, 3, 4, 572, 573, 31, 574, 575, 1, 576, 7, 577, 1, 578, 7, 1, 579, 580, 3, 4, 581, 174, 6, 43, 170, 104, 8, 14, 5, 8, 11, 1, 582, 3, 1, 173, 175, 27, 583, 35, 150, 10, 584, 3, 6, 1, 585, 5, 586, 27, 138, 19, 103], [565, 3, 22, 32, 566, 18, 173, 567, 88, 8, 11, 5, 51, 174, 568, 569, 570, 175, 571, 8, 154, 3, 4, 572, 573, 31, 574, 575, 1, 576, 7, 577, 1, 578, 7, 1, 579, 580, 3, 4, 581, 174, 6, 43, 170, 104, 8, 14, 5, 8, 11, 1, 582, 3, 1, 173, 175, 27, 583, 35, 150, 10, 584, 3, 6, 1, 585, 5, 586, 27, 138, 19, 103, 1], [565, 3, 22, 32, 566, 18, 173, 567, 88, 8, 11, 5, 51, 174, 568, 569, 570, 175, 571, 8, 154, 3, 4, 572, 573, 31, 574, 575, 1, 576, 7, 577, 1, 578, 7, 1, 579, 580, 3, 4, 581, 174, 6, 43, 170, 104, 8, 14, 5, 8, 11, 1, 582, 3, 1, 173, 175, 27, 583, 35, 150, 10, 584, 3, 6, 1, 585, 5, 586, 27, 138, 19, 103, 1, 37], [565, 3, 22, 32, 566, 18, 173, 567, 88, 8, 11, 5, 51, 174, 568, 569, 570, 175, 571, 8, 154, 3, 4, 572, 573, 31, 574, 575, 1, 576, 7, 577, 1, 578, 7, 1, 579, 580, 3, 4, 581, 174, 6, 43, 170, 104, 8, 14, 5, 8, 11, 1, 582, 3, 1, 173, 175, 27, 583, 35, 150, 10, 584, 3, 6, 1, 585, 5, 586, 27, 138, 19, 103, 1, 37, 118], [565, 3, 22, 32, 566, 18, 173, 567, 88, 8, 11, 5, 51, 174, 568, 569, 570, 175, 571, 8, 154, 3, 4, 572, 573, 31, 574, 575, 1, 576, 7, 577, 1, 578, 7, 1, 579, 580, 3, 4, 581, 174, 6, 43, 170, 104, 8, 14, 5, 8, 11, 1, 582, 3, 1, 173, 175, 27, 583, 35, 150, 10, 584, 3, 6, 1, 585, 5, 586, 27, 138, 19, 103, 1, 37, 118, 7], [565, 3, 22, 32, 566, 18, 173, 567, 88, 8, 11, 5, 51, 174, 568, 569, 570, 175, 571, 8, 154, 3, 4, 572, 573, 31, 574, 575, 1, 576, 7, 577, 1, 578, 7, 1, 579, 580, 3, 4, 581, 174, 6, 43, 170, 104, 8, 14, 5, 8, 11, 1, 582, 3, 1, 173, 175, 27, 583, 35, 150, 10, 584, 3, 6, 1, 585, 5, 586, 27, 138, 19, 103, 1, 37, 118, 7, 1], [565, 3, 22, 32, 566, 18, 173, 567, 88, 8, 11, 5, 51, 174, 568, 569, 570, 175, 571, 8, 154, 3, 4, 572, 573, 31, 574, 575, 1, 576, 7, 577, 1, 578, 7, 1, 579, 580, 3, 4, 581, 174, 6, 43, 170, 104, 8, 14, 5, 8, 11, 1, 582, 3, 1, 173, 175, 27, 583, 35, 150, 10, 584, 3, 6, 1, 585, 5, 586, 27, 138, 19, 103, 1, 37, 118, 7, 1, 47], [565, 3, 22, 32, 566, 18, 173, 567, 88, 8, 11, 5, 51, 174, 568, 569, 570, 175, 571, 8, 154, 3, 4, 572, 573, 31, 574, 575, 1, 576, 7, 577, 1, 578, 7, 1, 579, 580, 3, 4, 581, 174, 6, 43, 170, 104, 8, 14, 5, 8, 11, 1, 582, 3, 1, 173, 175, 27, 583, 35, 150, 10, 584, 3, 6, 1, 585, 5, 586, 27, 138, 19, 103, 1, 37, 118, 7, 1, 47, 587], [565, 3, 22, 32, 566, 18, 173, 567, 88, 8, 11, 5, 51, 174, 568, 569, 570, 175, 571, 8, 154, 3, 4, 572, 573, 31, 574, 575, 1, 576, 7, 577, 1, 578, 7, 1, 579, 580, 3, 4, 581, 174, 6, 43, 170, 104, 8, 14, 5, 8, 11, 1, 582, 3, 1, 173, 175, 27, 583, 35, 150, 10, 584, 3, 6, 1, 585, 5, 586, 27, 138, 19, 103, 1, 37, 118, 7, 1, 47, 587, 25], [565, 3, 22, 32, 566, 18, 173, 567, 88, 8, 11, 5, 51, 174, 568, 569, 570, 175, 571, 8, 154, 3, 4, 572, 573, 31, 574, 575, 1, 576, 7, 577, 1, 578, 7, 1, 579, 580, 3, 4, 581, 174, 6, 43, 170, 104, 8, 14, 5, 8, 11, 1, 582, 3, 1, 173, 175, 27, 583, 35, 150, 10, 584, 3, 6, 1, 585, 5, 586, 27, 138, 19, 103, 1, 37, 118, 7, 1, 47, 587, 25, 59], [565, 3, 22, 32, 566, 18, 173, 567, 88, 8, 11, 5, 51, 174, 568, 569, 570, 175, 571, 8, 154, 3, 4, 572, 573, 31, 574, 575, 1, 576, 7, 577, 1, 578, 7, 1, 579, 580, 3, 4, 581, 174, 6, 43, 170, 104, 8, 14, 5, 8, 11, 1, 582, 3, 1, 173, 175, 27, 583, 35, 150, 10, 584, 3, 6, 1, 585, 5, 586, 27, 138, 19, 103, 1, 37, 118, 7, 1, 47, 587, 25, 59, 46], [20, 21], [20, 21, 1], [20, 21, 1, 588], [20, 21, 1, 588, 79], [20, 21, 1, 588, 79, 10], [20, 21, 1, 588, 79, 10, 4], [20, 21, 1, 588, 79, 10, 4, 589], [20, 21, 1, 588, 79, 10, 4, 589, 590], [20, 21, 1, 588, 79, 10, 4, 589, 590, 2], [20, 21, 1, 588, 79, 10, 4, 589, 590, 2, 45], [20, 21, 1, 588, 79, 10, 4, 589, 590, 2, 45, 1], [20, 21, 1, 588, 79, 10, 4, 589, 590, 2, 45, 1, 37], [20, 21, 1, 588, 79, 10, 4, 589, 590, 2, 45, 1, 37, 591], [20, 21, 1, 588, 79, 10, 4, 589, 590, 2, 45, 1, 37, 591, 5], [20, 21, 1, 588, 79, 10, 4, 589, 590, 2, 45, 1, 37, 591, 5, 592], [20, 21, 1, 588, 79, 10, 4, 589, 590, 2, 45, 1, 37, 591, 5, 592, 1], [20, 21, 1, 588, 79, 10, 4, 589, 590, 2, 45, 1, 37, 591, 5, 592, 1, 6], [20, 21, 1, 588, 79, 10, 4, 589, 590, 2, 45, 1, 37, 591, 5, 592, 1, 6, 9], [20, 21, 1, 588, 79, 10, 4, 589, 590, 2, 45, 1, 37, 591, 5, 592, 1, 6, 9, 40], [20, 21, 1, 588, 79, 10, 4, 589, 590, 2, 45, 1, 37, 591, 5, 592, 1, 6, 9, 40, 101], [20, 21, 1, 588, 79, 10, 4, 589, 590, 2, 45, 1, 37, 591, 5, 592, 1, 6, 9, 40, 101, 12], [20, 21, 1, 588, 79, 10, 4, 589, 590, 2, 45, 1, 37, 591, 5, 592, 1, 6, 9, 40, 101, 12, 593], [20, 21, 1, 588, 79, 10, 4, 589, 590, 2, 45, 1, 37, 591, 5, 592, 1, 6, 9, 40, 101, 12, 593, 594], [20, 21, 1, 588, 79, 10, 4, 589, 590, 2, 45, 1, 37, 591, 5, 592, 1, 6, 9, 40, 101, 12, 593, 594, 2], [20, 21, 1, 588, 79, 10, 4, 589, 590, 2, 45, 1, 37, 591, 5, 592, 1, 6, 9, 40, 101, 12, 593, 594, 2, 1], [20, 21, 1, 588, 79, 10, 4, 589, 590, 2, 45, 1, 37, 591, 5, 592, 1, 6, 9, 40, 101, 12, 593, 594, 2, 1, 595], [20, 21, 1, 588, 79, 10, 4, 589, 590, 2, 45, 1, 37, 591, 5, 592, 1, 6, 9, 40, 101, 12, 593, 594, 2, 1, 595, 596], [20, 21, 1, 588, 79, 10, 4, 589, 590, 2, 45, 1, 37, 591, 5, 592, 1, 6, 9, 40, 101, 12, 593, 594, 2, 1, 595, 596, 172], [20, 21, 1, 588, 79, 10, 4, 589, 590, 2, 45, 1, 37, 591, 5, 592, 1, 6, 9, 40, 101, 12, 593, 594, 2, 1, 595, 596, 172, 67], [20, 21, 1, 588, 79, 10, 4, 589, 590, 2, 45, 1, 37, 591, 5, 592, 1, 6, 9, 40, 101, 12, 593, 594, 2, 1, 595, 596, 172, 67, 7], [20, 21, 1, 588, 79, 10, 4, 589, 590, 2, 45, 1, 37, 591, 5, 592, 1, 6, 9, 40, 101, 12, 593, 594, 2, 1, 595, 596, 172, 67, 7, 176], [20, 21, 1, 588, 79, 10, 4, 589, 590, 2, 45, 1, 37, 591, 5, 592, 1, 6, 9, 40, 101, 12, 593, 594, 2, 1, 595, 596, 172, 67, 7, 176, 597], [20, 21, 1, 588, 79, 10, 4, 589, 590, 2, 45, 1, 37, 591, 5, 592, 1, 6, 9, 40, 101, 12, 593, 594, 2, 1, 595, 596, 172, 67, 7, 176, 597, 5], [20, 21, 1, 588, 79, 10, 4, 589, 590, 2, 45, 1, 37, 591, 5, 592, 1, 6, 9, 40, 101, 12, 593, 594, 2, 1, 595, 596, 172, 67, 7, 176, 597, 5, 176], [20, 21, 1, 588, 79, 10, 4, 589, 590, 2, 45, 1, 37, 591, 5, 592, 1, 6, 9, 40, 101, 12, 593, 594, 2, 1, 595, 596, 172, 67, 7, 176, 597, 5, 176, 598], [20, 21, 1, 588, 79, 10, 4, 589, 590, 2, 45, 1, 37, 591, 5, 592, 1, 6, 9, 40, 101, 12, 593, 594, 2, 1, 595, 596, 172, 67, 7, 176, 597, 5, 176, 598, 25], [20, 21, 1, 588, 79, 10, 4, 589, 590, 2, 45, 1, 37, 591, 5, 592, 1, 6, 9, 40, 101, 12, 593, 594, 2, 1, 595, 596, 172, 67, 7, 176, 597, 5, 176, 598, 25, 59], [20, 21, 1, 588, 79, 10, 4, 589, 590, 2, 45, 1, 37, 591, 5, 592, 1, 6, 9, 40, 101, 12, 593, 594, 2, 1, 595, 596, 172, 67, 7, 176, 597, 5, 176, 598, 25, 59, 46]]\n"
          ]
        }
      ]
    },
    {
      "cell_type": "code",
      "source": [
        "max_seq_len = max([len(seq) for seq in my_input_sequences])\n",
        "input_sequences = pad_sequences(my_input_sequences , maxlen = max_seq_len , padding = 'pre')\n",
        "print(input_sequences)"
      ],
      "metadata": {
        "colab": {
          "base_uri": "https://localhost:8080/"
        },
        "id": "BxtEni34SoIn",
        "outputId": "6bf1fd15-7973-44ae-c63a-405e344888c3"
      },
      "execution_count": null,
      "outputs": [
        {
          "output_type": "stream",
          "name": "stdout",
          "text": [
            "[[  0   0   0 ...   0  99   4]\n",
            " [  0   0   0 ...  99   4 177]\n",
            " [  0   0   0 ...   4 177  50]\n",
            " ...\n",
            " [  0   0   0 ... 176 598  25]\n",
            " [  0   0   0 ... 598  25  59]\n",
            " [  0   0   0 ...  25  59  46]]\n"
          ]
        }
      ]
    },
    {
      "cell_type": "code",
      "source": [
        "print(input_sequences[54])"
      ],
      "metadata": {
        "colab": {
          "base_uri": "https://localhost:8080/"
        },
        "id": "zmWDJPueXS2j",
        "outputId": "8b4bf952-49b7-4da9-ddf3-f5ea96520964"
      },
      "execution_count": null,
      "outputs": [
        {
          "output_type": "stream",
          "name": "stdout",
          "text": [
            "[  0   0   0   0   0   0   0   0   0   0   0   0   0   0   0   0   0   0\n",
            "   0   0   0   0   0   0   0   0   0   0   0   0   0   0   0   0   0   0\n",
            "   0   0   0   0   0   0   0   0   0   0   0   0   0   0   0   0   0   0\n",
            "   0   0   0   0   0   0   0   0   0   0   0   0   0   0   0   0   0   0\n",
            "   0   0   0   0   0   0   0   0   0   1 190]\n"
          ]
        }
      ]
    },
    {
      "cell_type": "code",
      "source": [
        "#Features for training\n",
        "X = input_sequences[: , :-1]       #Slicing of a matrix"
      ],
      "metadata": {
        "id": "NDw_CqKhYby4"
      },
      "execution_count": null,
      "outputs": []
    },
    {
      "cell_type": "code",
      "source": [
        "X"
      ],
      "metadata": {
        "colab": {
          "base_uri": "https://localhost:8080/"
        },
        "id": "Ecir7usIY9HC",
        "outputId": "d817fa7f-902b-4382-9850-dd5f2e92c700"
      },
      "execution_count": null,
      "outputs": [
        {
          "output_type": "execute_result",
          "data": {
            "text/plain": [
              "array([[  0,   0,   0, ...,   0,   0,  99],\n",
              "       [  0,   0,   0, ...,   0,  99,   4],\n",
              "       [  0,   0,   0, ...,  99,   4, 177],\n",
              "       ...,\n",
              "       [  0,   0,   0, ...,   5, 176, 598],\n",
              "       [  0,   0,   0, ..., 176, 598,  25],\n",
              "       [  0,   0,   0, ..., 598,  25,  59]], dtype=int32)"
            ]
          },
          "metadata": {},
          "execution_count": 14
        }
      ]
    },
    {
      "cell_type": "code",
      "source": [
        "print(len(X[0]))"
      ],
      "metadata": {
        "colab": {
          "base_uri": "https://localhost:8080/"
        },
        "id": "8Lhb55kCaDR3",
        "outputId": "1c5c61ba-a039-46ba-e24a-c6eb6a0035ea"
      },
      "execution_count": null,
      "outputs": [
        {
          "output_type": "stream",
          "name": "stdout",
          "text": [
            "82\n"
          ]
        }
      ]
    },
    {
      "cell_type": "code",
      "source": [
        "#Target\n",
        "y = input_sequences[: , -1]\n",
        "y"
      ],
      "metadata": {
        "colab": {
          "base_uri": "https://localhost:8080/"
        },
        "id": "NafQ3y6_Y-bB",
        "outputId": "fd6953f0-a0d6-4ff4-f2b8-4f72ebf2dbbc"
      },
      "execution_count": null,
      "outputs": [
        {
          "output_type": "execute_result",
          "data": {
            "text/plain": [
              "array([  4, 177,  50, ...,  25,  59,  46], dtype=int32)"
            ]
          },
          "metadata": {},
          "execution_count": 16
        }
      ]
    },
    {
      "cell_type": "code",
      "source": [
        "from keras.utils import to_categorical\n",
        "yt = to_categorical(y , num_classes = total_words)\n",
        "yt"
      ],
      "metadata": {
        "colab": {
          "base_uri": "https://localhost:8080/"
        },
        "id": "LVKr6RJHcTg8",
        "outputId": "86356de1-a2a8-4b31-9be4-3e7b51b19bf5"
      },
      "execution_count": null,
      "outputs": [
        {
          "output_type": "execute_result",
          "data": {
            "text/plain": [
              "array([[0., 0., 0., ..., 0., 0., 0.],\n",
              "       [0., 0., 0., ..., 0., 0., 0.],\n",
              "       [0., 0., 0., ..., 0., 0., 0.],\n",
              "       ...,\n",
              "       [0., 0., 0., ..., 0., 0., 0.],\n",
              "       [0., 0., 0., ..., 0., 0., 0.],\n",
              "       [0., 0., 0., ..., 0., 0., 0.]])"
            ]
          },
          "metadata": {},
          "execution_count": 17
        }
      ]
    },
    {
      "cell_type": "code",
      "source": [
        "yt[0]"
      ],
      "metadata": {
        "colab": {
          "base_uri": "https://localhost:8080/"
        },
        "id": "Prau04Xac0mg",
        "outputId": "05da4dc3-59bc-4eb5-c4cf-62393af4295b"
      },
      "execution_count": null,
      "outputs": [
        {
          "output_type": "execute_result",
          "data": {
            "text/plain": [
              "array([0., 0., 0., 0., 1., 0., 0., 0., 0., 0., 0., 0., 0., 0., 0., 0., 0.,\n",
              "       0., 0., 0., 0., 0., 0., 0., 0., 0., 0., 0., 0., 0., 0., 0., 0., 0.,\n",
              "       0., 0., 0., 0., 0., 0., 0., 0., 0., 0., 0., 0., 0., 0., 0., 0., 0.,\n",
              "       0., 0., 0., 0., 0., 0., 0., 0., 0., 0., 0., 0., 0., 0., 0., 0., 0.,\n",
              "       0., 0., 0., 0., 0., 0., 0., 0., 0., 0., 0., 0., 0., 0., 0., 0., 0.,\n",
              "       0., 0., 0., 0., 0., 0., 0., 0., 0., 0., 0., 0., 0., 0., 0., 0., 0.,\n",
              "       0., 0., 0., 0., 0., 0., 0., 0., 0., 0., 0., 0., 0., 0., 0., 0., 0.,\n",
              "       0., 0., 0., 0., 0., 0., 0., 0., 0., 0., 0., 0., 0., 0., 0., 0., 0.,\n",
              "       0., 0., 0., 0., 0., 0., 0., 0., 0., 0., 0., 0., 0., 0., 0., 0., 0.,\n",
              "       0., 0., 0., 0., 0., 0., 0., 0., 0., 0., 0., 0., 0., 0., 0., 0., 0.,\n",
              "       0., 0., 0., 0., 0., 0., 0., 0., 0., 0., 0., 0., 0., 0., 0., 0., 0.,\n",
              "       0., 0., 0., 0., 0., 0., 0., 0., 0., 0., 0., 0., 0., 0., 0., 0., 0.,\n",
              "       0., 0., 0., 0., 0., 0., 0., 0., 0., 0., 0., 0., 0., 0., 0., 0., 0.,\n",
              "       0., 0., 0., 0., 0., 0., 0., 0., 0., 0., 0., 0., 0., 0., 0., 0., 0.,\n",
              "       0., 0., 0., 0., 0., 0., 0., 0., 0., 0., 0., 0., 0., 0., 0., 0., 0.,\n",
              "       0., 0., 0., 0., 0., 0., 0., 0., 0., 0., 0., 0., 0., 0., 0., 0., 0.,\n",
              "       0., 0., 0., 0., 0., 0., 0., 0., 0., 0., 0., 0., 0., 0., 0., 0., 0.,\n",
              "       0., 0., 0., 0., 0., 0., 0., 0., 0., 0., 0., 0., 0., 0., 0., 0., 0.,\n",
              "       0., 0., 0., 0., 0., 0., 0., 0., 0., 0., 0., 0., 0., 0., 0., 0., 0.,\n",
              "       0., 0., 0., 0., 0., 0., 0., 0., 0., 0., 0., 0., 0., 0., 0., 0., 0.,\n",
              "       0., 0., 0., 0., 0., 0., 0., 0., 0., 0., 0., 0., 0., 0., 0., 0., 0.,\n",
              "       0., 0., 0., 0., 0., 0., 0., 0., 0., 0., 0., 0., 0., 0., 0., 0., 0.,\n",
              "       0., 0., 0., 0., 0., 0., 0., 0., 0., 0., 0., 0., 0., 0., 0., 0., 0.,\n",
              "       0., 0., 0., 0., 0., 0., 0., 0., 0., 0., 0., 0., 0., 0., 0., 0., 0.,\n",
              "       0., 0., 0., 0., 0., 0., 0., 0., 0., 0., 0., 0., 0., 0., 0., 0., 0.,\n",
              "       0., 0., 0., 0., 0., 0., 0., 0., 0., 0., 0., 0., 0., 0., 0., 0., 0.,\n",
              "       0., 0., 0., 0., 0., 0., 0., 0., 0., 0., 0., 0., 0., 0., 0., 0., 0.,\n",
              "       0., 0., 0., 0., 0., 0., 0., 0., 0., 0., 0., 0., 0., 0., 0., 0., 0.,\n",
              "       0., 0., 0., 0., 0., 0., 0., 0., 0., 0., 0., 0., 0., 0., 0., 0., 0.,\n",
              "       0., 0., 0., 0., 0., 0., 0., 0., 0., 0., 0., 0., 0., 0., 0., 0., 0.,\n",
              "       0., 0., 0., 0., 0., 0., 0., 0., 0., 0., 0., 0., 0., 0., 0., 0., 0.,\n",
              "       0., 0., 0., 0., 0., 0., 0., 0., 0., 0., 0., 0., 0., 0., 0., 0., 0.,\n",
              "       0., 0., 0., 0., 0., 0., 0., 0., 0., 0., 0., 0., 0., 0., 0., 0., 0.,\n",
              "       0., 0., 0., 0., 0., 0., 0., 0., 0., 0., 0., 0., 0., 0., 0., 0., 0.,\n",
              "       0., 0., 0., 0., 0., 0., 0., 0., 0., 0., 0., 0., 0., 0., 0., 0., 0.,\n",
              "       0., 0., 0., 0.])"
            ]
          },
          "metadata": {},
          "execution_count": 18
        }
      ]
    },
    {
      "cell_type": "code",
      "source": [
        "model = models.Sequential()\n",
        "model.add(layers.Embedding(input_dim=total_words, output_dim=50, input_length=max_seq_len-1))\n",
        "model.add(layers.SimpleRNN(82))\n",
        "model.add(layers.Dense(total_words , activation = 'softmax'))\n",
        "model.summary()"
      ],
      "metadata": {
        "colab": {
          "base_uri": "https://localhost:8080/",
          "height": 283
        },
        "id": "ikUpAk6tZZ0K",
        "outputId": "167e2c28-87fd-41e9-bbdf-d84f53850dbb"
      },
      "execution_count": null,
      "outputs": [
        {
          "output_type": "stream",
          "name": "stderr",
          "text": [
            "/usr/local/lib/python3.11/dist-packages/keras/src/layers/core/embedding.py:90: UserWarning: Argument `input_length` is deprecated. Just remove it.\n",
            "  warnings.warn(\n"
          ]
        },
        {
          "output_type": "display_data",
          "data": {
            "text/plain": [
              "\u001b[1mModel: \"sequential\"\u001b[0m\n"
            ],
            "text/html": [
              "<pre style=\"white-space:pre;overflow-x:auto;line-height:normal;font-family:Menlo,'DejaVu Sans Mono',consolas,'Courier New',monospace\"><span style=\"font-weight: bold\">Model: \"sequential\"</span>\n",
              "</pre>\n"
            ]
          },
          "metadata": {}
        },
        {
          "output_type": "display_data",
          "data": {
            "text/plain": [
              "┏━━━━━━━━━━━━━━━━━━━━━━━━━━━━━━━━━┳━━━━━━━━━━━━━━━━━━━━━━━━┳━━━━━━━━━━━━━━━┓\n",
              "┃\u001b[1m \u001b[0m\u001b[1mLayer (type)                   \u001b[0m\u001b[1m \u001b[0m┃\u001b[1m \u001b[0m\u001b[1mOutput Shape          \u001b[0m\u001b[1m \u001b[0m┃\u001b[1m \u001b[0m\u001b[1m      Param #\u001b[0m\u001b[1m \u001b[0m┃\n",
              "┡━━━━━━━━━━━━━━━━━━━━━━━━━━━━━━━━━╇━━━━━━━━━━━━━━━━━━━━━━━━╇━━━━━━━━━━━━━━━┩\n",
              "│ embedding (\u001b[38;5;33mEmbedding\u001b[0m)           │ ?                      │   \u001b[38;5;34m0\u001b[0m (unbuilt) │\n",
              "├─────────────────────────────────┼────────────────────────┼───────────────┤\n",
              "│ simple_rnn (\u001b[38;5;33mSimpleRNN\u001b[0m)          │ ?                      │   \u001b[38;5;34m0\u001b[0m (unbuilt) │\n",
              "├─────────────────────────────────┼────────────────────────┼───────────────┤\n",
              "│ dense (\u001b[38;5;33mDense\u001b[0m)                   │ ?                      │   \u001b[38;5;34m0\u001b[0m (unbuilt) │\n",
              "└─────────────────────────────────┴────────────────────────┴───────────────┘\n"
            ],
            "text/html": [
              "<pre style=\"white-space:pre;overflow-x:auto;line-height:normal;font-family:Menlo,'DejaVu Sans Mono',consolas,'Courier New',monospace\">┏━━━━━━━━━━━━━━━━━━━━━━━━━━━━━━━━━┳━━━━━━━━━━━━━━━━━━━━━━━━┳━━━━━━━━━━━━━━━┓\n",
              "┃<span style=\"font-weight: bold\"> Layer (type)                    </span>┃<span style=\"font-weight: bold\"> Output Shape           </span>┃<span style=\"font-weight: bold\">       Param # </span>┃\n",
              "┡━━━━━━━━━━━━━━━━━━━━━━━━━━━━━━━━━╇━━━━━━━━━━━━━━━━━━━━━━━━╇━━━━━━━━━━━━━━━┩\n",
              "│ embedding (<span style=\"color: #0087ff; text-decoration-color: #0087ff\">Embedding</span>)           │ ?                      │   <span style=\"color: #00af00; text-decoration-color: #00af00\">0</span> (unbuilt) │\n",
              "├─────────────────────────────────┼────────────────────────┼───────────────┤\n",
              "│ simple_rnn (<span style=\"color: #0087ff; text-decoration-color: #0087ff\">SimpleRNN</span>)          │ ?                      │   <span style=\"color: #00af00; text-decoration-color: #00af00\">0</span> (unbuilt) │\n",
              "├─────────────────────────────────┼────────────────────────┼───────────────┤\n",
              "│ dense (<span style=\"color: #0087ff; text-decoration-color: #0087ff\">Dense</span>)                   │ ?                      │   <span style=\"color: #00af00; text-decoration-color: #00af00\">0</span> (unbuilt) │\n",
              "└─────────────────────────────────┴────────────────────────┴───────────────┘\n",
              "</pre>\n"
            ]
          },
          "metadata": {}
        },
        {
          "output_type": "display_data",
          "data": {
            "text/plain": [
              "\u001b[1m Total params: \u001b[0m\u001b[38;5;34m0\u001b[0m (0.00 B)\n"
            ],
            "text/html": [
              "<pre style=\"white-space:pre;overflow-x:auto;line-height:normal;font-family:Menlo,'DejaVu Sans Mono',consolas,'Courier New',monospace\"><span style=\"font-weight: bold\"> Total params: </span><span style=\"color: #00af00; text-decoration-color: #00af00\">0</span> (0.00 B)\n",
              "</pre>\n"
            ]
          },
          "metadata": {}
        },
        {
          "output_type": "display_data",
          "data": {
            "text/plain": [
              "\u001b[1m Trainable params: \u001b[0m\u001b[38;5;34m0\u001b[0m (0.00 B)\n"
            ],
            "text/html": [
              "<pre style=\"white-space:pre;overflow-x:auto;line-height:normal;font-family:Menlo,'DejaVu Sans Mono',consolas,'Courier New',monospace\"><span style=\"font-weight: bold\"> Trainable params: </span><span style=\"color: #00af00; text-decoration-color: #00af00\">0</span> (0.00 B)\n",
              "</pre>\n"
            ]
          },
          "metadata": {}
        },
        {
          "output_type": "display_data",
          "data": {
            "text/plain": [
              "\u001b[1m Non-trainable params: \u001b[0m\u001b[38;5;34m0\u001b[0m (0.00 B)\n"
            ],
            "text/html": [
              "<pre style=\"white-space:pre;overflow-x:auto;line-height:normal;font-family:Menlo,'DejaVu Sans Mono',consolas,'Courier New',monospace\"><span style=\"font-weight: bold\"> Non-trainable params: </span><span style=\"color: #00af00; text-decoration-color: #00af00\">0</span> (0.00 B)\n",
              "</pre>\n"
            ]
          },
          "metadata": {}
        }
      ]
    },
    {
      "cell_type": "code",
      "source": [
        "X.shape"
      ],
      "metadata": {
        "colab": {
          "base_uri": "https://localhost:8080/"
        },
        "id": "XlOmtFXFU2Ds",
        "outputId": "8f40bea7-ea31-4a12-edf8-0bd0229e477e"
      },
      "execution_count": null,
      "outputs": [
        {
          "output_type": "execute_result",
          "data": {
            "text/plain": [
              "(1371, 82)"
            ]
          },
          "metadata": {},
          "execution_count": 21
        }
      ]
    },
    {
      "cell_type": "code",
      "source": [
        "model.compile(loss = 'categorical_crossentropy' , optimizer='adam' , metrics = ['accuracy'] )\n",
        "model.fit(X,yt,epochs=100 ,  batch_size=20)"
      ],
      "metadata": {
        "colab": {
          "base_uri": "https://localhost:8080/"
        },
        "id": "IMJWoWWyeEl-",
        "outputId": "603f9b1b-4000-43f5-e2e4-a7a375e33c89"
      },
      "execution_count": null,
      "outputs": [
        {
          "output_type": "stream",
          "name": "stdout",
          "text": [
            "Epoch 1/100\n",
            "\u001b[1m69/69\u001b[0m \u001b[32m━━━━━━━━━━━━━━━━━━━━\u001b[0m\u001b[37m\u001b[0m \u001b[1m3s\u001b[0m 20ms/step - accuracy: 0.1113 - loss: 4.9371\n",
            "Epoch 2/100\n",
            "\u001b[1m69/69\u001b[0m \u001b[32m━━━━━━━━━━━━━━━━━━━━\u001b[0m\u001b[37m\u001b[0m \u001b[1m1s\u001b[0m 20ms/step - accuracy: 0.1388 - loss: 4.6235\n",
            "Epoch 3/100\n",
            "\u001b[1m69/69\u001b[0m \u001b[32m━━━━━━━━━━━━━━━━━━━━\u001b[0m\u001b[37m\u001b[0m \u001b[1m1s\u001b[0m 20ms/step - accuracy: 0.1718 - loss: 4.3407\n",
            "Epoch 4/100\n",
            "\u001b[1m69/69\u001b[0m \u001b[32m━━━━━━━━━━━━━━━━━━━━\u001b[0m\u001b[37m\u001b[0m \u001b[1m1s\u001b[0m 20ms/step - accuracy: 0.2323 - loss: 4.0530\n",
            "Epoch 5/100\n",
            "\u001b[1m69/69\u001b[0m \u001b[32m━━━━━━━━━━━━━━━━━━━━\u001b[0m\u001b[37m\u001b[0m \u001b[1m3s\u001b[0m 22ms/step - accuracy: 0.2913 - loss: 3.8029\n",
            "Epoch 6/100\n",
            "\u001b[1m69/69\u001b[0m \u001b[32m━━━━━━━━━━━━━━━━━━━━\u001b[0m\u001b[37m\u001b[0m \u001b[1m3s\u001b[0m 26ms/step - accuracy: 0.3744 - loss: 3.4341\n",
            "Epoch 7/100\n",
            "\u001b[1m69/69\u001b[0m \u001b[32m━━━━━━━━━━━━━━━━━━━━\u001b[0m\u001b[37m\u001b[0m \u001b[1m2s\u001b[0m 20ms/step - accuracy: 0.4435 - loss: 3.1966\n",
            "Epoch 8/100\n",
            "\u001b[1m69/69\u001b[0m \u001b[32m━━━━━━━━━━━━━━━━━━━━\u001b[0m\u001b[37m\u001b[0m \u001b[1m1s\u001b[0m 20ms/step - accuracy: 0.5217 - loss: 2.9346\n",
            "Epoch 9/100\n",
            "\u001b[1m69/69\u001b[0m \u001b[32m━━━━━━━━━━━━━━━━━━━━\u001b[0m\u001b[37m\u001b[0m \u001b[1m1s\u001b[0m 20ms/step - accuracy: 0.6245 - loss: 2.5640\n",
            "Epoch 10/100\n",
            "\u001b[1m69/69\u001b[0m \u001b[32m━━━━━━━━━━━━━━━━━━━━\u001b[0m\u001b[37m\u001b[0m \u001b[1m3s\u001b[0m 20ms/step - accuracy: 0.6425 - loss: 2.3431\n",
            "Epoch 11/100\n",
            "\u001b[1m69/69\u001b[0m \u001b[32m━━━━━━━━━━━━━━━━━━━━\u001b[0m\u001b[37m\u001b[0m \u001b[1m4s\u001b[0m 34ms/step - accuracy: 0.7107 - loss: 2.0892\n",
            "Epoch 12/100\n",
            "\u001b[1m69/69\u001b[0m \u001b[32m━━━━━━━━━━━━━━━━━━━━\u001b[0m\u001b[37m\u001b[0m \u001b[1m2s\u001b[0m 22ms/step - accuracy: 0.7568 - loss: 1.8561\n",
            "Epoch 13/100\n",
            "\u001b[1m69/69\u001b[0m \u001b[32m━━━━━━━━━━━━━━━━━━━━\u001b[0m\u001b[37m\u001b[0m \u001b[1m2s\u001b[0m 20ms/step - accuracy: 0.8169 - loss: 1.6393\n",
            "Epoch 14/100\n",
            "\u001b[1m69/69\u001b[0m \u001b[32m━━━━━━━━━━━━━━━━━━━━\u001b[0m\u001b[37m\u001b[0m \u001b[1m1s\u001b[0m 20ms/step - accuracy: 0.8703 - loss: 1.4027\n",
            "Epoch 15/100\n",
            "\u001b[1m69/69\u001b[0m \u001b[32m━━━━━━━━━━━━━━━━━━━━\u001b[0m\u001b[37m\u001b[0m \u001b[1m1s\u001b[0m 20ms/step - accuracy: 0.8915 - loss: 1.2477\n",
            "Epoch 16/100\n",
            "\u001b[1m69/69\u001b[0m \u001b[32m━━━━━━━━━━━━━━━━━━━━\u001b[0m\u001b[37m\u001b[0m \u001b[1m1s\u001b[0m 20ms/step - accuracy: 0.8898 - loss: 1.1226\n",
            "Epoch 17/100\n",
            "\u001b[1m69/69\u001b[0m \u001b[32m━━━━━━━━━━━━━━━━━━━━\u001b[0m\u001b[37m\u001b[0m \u001b[1m3s\u001b[0m 22ms/step - accuracy: 0.9263 - loss: 0.9630\n",
            "Epoch 18/100\n",
            "\u001b[1m69/69\u001b[0m \u001b[32m━━━━━━━━━━━━━━━━━━━━\u001b[0m\u001b[37m\u001b[0m \u001b[1m3s\u001b[0m 24ms/step - accuracy: 0.9475 - loss: 0.8203\n",
            "Epoch 19/100\n",
            "\u001b[1m69/69\u001b[0m \u001b[32m━━━━━━━━━━━━━━━━━━━━\u001b[0m\u001b[37m\u001b[0m \u001b[1m1s\u001b[0m 20ms/step - accuracy: 0.9610 - loss: 0.7195\n",
            "Epoch 20/100\n",
            "\u001b[1m69/69\u001b[0m \u001b[32m━━━━━━━━━━━━━━━━━━━━\u001b[0m\u001b[37m\u001b[0m \u001b[1m1s\u001b[0m 20ms/step - accuracy: 0.9576 - loss: 0.6484\n",
            "Epoch 21/100\n",
            "\u001b[1m69/69\u001b[0m \u001b[32m━━━━━━━━━━━━━━━━━━━━\u001b[0m\u001b[37m\u001b[0m \u001b[1m1s\u001b[0m 20ms/step - accuracy: 0.9769 - loss: 0.5398\n",
            "Epoch 22/100\n",
            "\u001b[1m69/69\u001b[0m \u001b[32m━━━━━━━━━━━━━━━━━━━━\u001b[0m\u001b[37m\u001b[0m \u001b[1m3s\u001b[0m 20ms/step - accuracy: 0.9688 - loss: 0.5116\n",
            "Epoch 23/100\n",
            "\u001b[1m69/69\u001b[0m \u001b[32m━━━━━━━━━━━━━━━━━━━━\u001b[0m\u001b[37m\u001b[0m \u001b[1m3s\u001b[0m 23ms/step - accuracy: 0.9760 - loss: 0.4356\n",
            "Epoch 24/100\n",
            "\u001b[1m69/69\u001b[0m \u001b[32m━━━━━━━━━━━━━━━━━━━━\u001b[0m\u001b[37m\u001b[0m \u001b[1m2s\u001b[0m 33ms/step - accuracy: 0.9798 - loss: 0.3984\n",
            "Epoch 25/100\n",
            "\u001b[1m69/69\u001b[0m \u001b[32m━━━━━━━━━━━━━━━━━━━━\u001b[0m\u001b[37m\u001b[0m \u001b[1m2s\u001b[0m 20ms/step - accuracy: 0.9798 - loss: 0.3566\n",
            "Epoch 26/100\n",
            "\u001b[1m69/69\u001b[0m \u001b[32m━━━━━━━━━━━━━━━━━━━━\u001b[0m\u001b[37m\u001b[0m \u001b[1m3s\u001b[0m 20ms/step - accuracy: 0.9793 - loss: 0.3357\n",
            "Epoch 27/100\n",
            "\u001b[1m69/69\u001b[0m \u001b[32m━━━━━━━━━━━━━━━━━━━━\u001b[0m\u001b[37m\u001b[0m \u001b[1m3s\u001b[0m 20ms/step - accuracy: 0.9808 - loss: 0.2862\n",
            "Epoch 28/100\n",
            "\u001b[1m69/69\u001b[0m \u001b[32m━━━━━━━━━━━━━━━━━━━━\u001b[0m\u001b[37m\u001b[0m \u001b[1m3s\u001b[0m 20ms/step - accuracy: 0.9827 - loss: 0.2568\n",
            "Epoch 29/100\n",
            "\u001b[1m69/69\u001b[0m \u001b[32m━━━━━━━━━━━━━━━━━━━━\u001b[0m\u001b[37m\u001b[0m \u001b[1m3s\u001b[0m 30ms/step - accuracy: 0.9804 - loss: 0.2417\n",
            "Epoch 30/100\n",
            "\u001b[1m69/69\u001b[0m \u001b[32m━━━━━━━━━━━━━━━━━━━━\u001b[0m\u001b[37m\u001b[0m \u001b[1m1s\u001b[0m 20ms/step - accuracy: 0.9863 - loss: 0.2153\n",
            "Epoch 31/100\n",
            "\u001b[1m69/69\u001b[0m \u001b[32m━━━━━━━━━━━━━━━━━━━━\u001b[0m\u001b[37m\u001b[0m \u001b[1m1s\u001b[0m 20ms/step - accuracy: 0.9863 - loss: 0.2015\n",
            "Epoch 32/100\n",
            "\u001b[1m69/69\u001b[0m \u001b[32m━━━━━━━━━━━━━━━━━━━━\u001b[0m\u001b[37m\u001b[0m \u001b[1m3s\u001b[0m 20ms/step - accuracy: 0.9812 - loss: 0.1904\n",
            "Epoch 33/100\n",
            "\u001b[1m69/69\u001b[0m \u001b[32m━━━━━━━━━━━━━━━━━━━━\u001b[0m\u001b[37m\u001b[0m \u001b[1m1s\u001b[0m 20ms/step - accuracy: 0.9870 - loss: 0.1674\n",
            "Epoch 34/100\n",
            "\u001b[1m69/69\u001b[0m \u001b[32m━━━━━━━━━━━━━━━━━━━━\u001b[0m\u001b[37m\u001b[0m \u001b[1m1s\u001b[0m 20ms/step - accuracy: 0.9834 - loss: 0.1737\n",
            "Epoch 35/100\n",
            "\u001b[1m69/69\u001b[0m \u001b[32m━━━━━━━━━━━━━━━━━━━━\u001b[0m\u001b[37m\u001b[0m \u001b[1m3s\u001b[0m 33ms/step - accuracy: 0.9912 - loss: 0.1413\n",
            "Epoch 36/100\n",
            "\u001b[1m69/69\u001b[0m \u001b[32m━━━━━━━━━━━━━━━━━━━━\u001b[0m\u001b[37m\u001b[0m \u001b[1m2s\u001b[0m 21ms/step - accuracy: 0.9877 - loss: 0.1385\n",
            "Epoch 37/100\n",
            "\u001b[1m69/69\u001b[0m \u001b[32m━━━━━━━━━━━━━━━━━━━━\u001b[0m\u001b[37m\u001b[0m \u001b[1m1s\u001b[0m 20ms/step - accuracy: 0.9893 - loss: 0.1344\n",
            "Epoch 38/100\n",
            "\u001b[1m69/69\u001b[0m \u001b[32m━━━━━━━━━━━━━━━━━━━━\u001b[0m\u001b[37m\u001b[0m \u001b[1m1s\u001b[0m 20ms/step - accuracy: 0.9860 - loss: 0.1209\n",
            "Epoch 39/100\n",
            "\u001b[1m69/69\u001b[0m \u001b[32m━━━━━━━━━━━━━━━━━━━━\u001b[0m\u001b[37m\u001b[0m \u001b[1m3s\u001b[0m 20ms/step - accuracy: 0.9879 - loss: 0.1102\n",
            "Epoch 40/100\n",
            "\u001b[1m69/69\u001b[0m \u001b[32m━━━━━━━━━━━━━━━━━━━━\u001b[0m\u001b[37m\u001b[0m \u001b[1m3s\u001b[0m 20ms/step - accuracy: 0.9869 - loss: 0.1075\n",
            "Epoch 41/100\n",
            "\u001b[1m69/69\u001b[0m \u001b[32m━━━━━━━━━━━━━━━━━━━━\u001b[0m\u001b[37m\u001b[0m \u001b[1m4s\u001b[0m 34ms/step - accuracy: 0.9820 - loss: 0.1099\n",
            "Epoch 42/100\n",
            "\u001b[1m69/69\u001b[0m \u001b[32m━━━━━━━━━━━━━━━━━━━━\u001b[0m\u001b[37m\u001b[0m \u001b[1m2s\u001b[0m 20ms/step - accuracy: 0.9877 - loss: 0.0937\n",
            "Epoch 43/100\n",
            "\u001b[1m69/69\u001b[0m \u001b[32m━━━━━━━━━━━━━━━━━━━━\u001b[0m\u001b[37m\u001b[0m \u001b[1m1s\u001b[0m 20ms/step - accuracy: 0.9895 - loss: 0.0890\n",
            "Epoch 44/100\n",
            "\u001b[1m69/69\u001b[0m \u001b[32m━━━━━━━━━━━━━━━━━━━━\u001b[0m\u001b[37m\u001b[0m \u001b[1m1s\u001b[0m 20ms/step - accuracy: 0.9795 - loss: 0.1333\n",
            "Epoch 45/100\n",
            "\u001b[1m69/69\u001b[0m \u001b[32m━━━━━━━━━━━━━━━━━━━━\u001b[0m\u001b[37m\u001b[0m \u001b[1m3s\u001b[0m 20ms/step - accuracy: 0.9389 - loss: 0.4606\n",
            "Epoch 46/100\n",
            "\u001b[1m69/69\u001b[0m \u001b[32m━━━━━━━━━━━━━━━━━━━━\u001b[0m\u001b[37m\u001b[0m \u001b[1m3s\u001b[0m 20ms/step - accuracy: 0.9698 - loss: 0.2579\n",
            "Epoch 47/100\n",
            "\u001b[1m69/69\u001b[0m \u001b[32m━━━━━━━━━━━━━━━━━━━━\u001b[0m\u001b[37m\u001b[0m \u001b[1m3s\u001b[0m 29ms/step - accuracy: 0.9798 - loss: 0.1586\n",
            "Epoch 48/100\n",
            "\u001b[1m69/69\u001b[0m \u001b[32m━━━━━━━━━━━━━━━━━━━━\u001b[0m\u001b[37m\u001b[0m \u001b[1m2s\u001b[0m 20ms/step - accuracy: 0.9822 - loss: 0.1459\n",
            "Epoch 49/100\n",
            "\u001b[1m69/69\u001b[0m \u001b[32m━━━━━━━━━━━━━━━━━━━━\u001b[0m\u001b[37m\u001b[0m \u001b[1m1s\u001b[0m 20ms/step - accuracy: 0.9837 - loss: 0.1190\n",
            "Epoch 50/100\n",
            "\u001b[1m69/69\u001b[0m \u001b[32m━━━━━━━━━━━━━━━━━━━━\u001b[0m\u001b[37m\u001b[0m \u001b[1m1s\u001b[0m 20ms/step - accuracy: 0.9848 - loss: 0.1043\n",
            "Epoch 51/100\n",
            "\u001b[1m69/69\u001b[0m \u001b[32m━━━━━━━━━━━━━━━━━━━━\u001b[0m\u001b[37m\u001b[0m \u001b[1m3s\u001b[0m 20ms/step - accuracy: 0.9860 - loss: 0.0956\n",
            "Epoch 52/100\n",
            "\u001b[1m69/69\u001b[0m \u001b[32m━━━━━━━━━━━━━━━━━━━━\u001b[0m\u001b[37m\u001b[0m \u001b[1m3s\u001b[0m 25ms/step - accuracy: 0.9794 - loss: 0.1003\n",
            "Epoch 53/100\n",
            "\u001b[1m69/69\u001b[0m \u001b[32m━━━━━━━━━━━━━━━━━━━━\u001b[0m\u001b[37m\u001b[0m \u001b[1m3s\u001b[0m 24ms/step - accuracy: 0.9814 - loss: 0.0916\n",
            "Epoch 54/100\n",
            "\u001b[1m69/69\u001b[0m \u001b[32m━━━━━━━━━━━━━━━━━━━━\u001b[0m\u001b[37m\u001b[0m \u001b[1m2s\u001b[0m 20ms/step - accuracy: 0.9896 - loss: 0.0685\n",
            "Epoch 55/100\n",
            "\u001b[1m69/69\u001b[0m \u001b[32m━━━━━━━━━━━━━━━━━━━━\u001b[0m\u001b[37m\u001b[0m \u001b[1m1s\u001b[0m 20ms/step - accuracy: 0.9892 - loss: 0.0737\n",
            "Epoch 56/100\n",
            "\u001b[1m69/69\u001b[0m \u001b[32m━━━━━━━━━━━━━━━━━━━━\u001b[0m\u001b[37m\u001b[0m \u001b[1m3s\u001b[0m 20ms/step - accuracy: 0.9894 - loss: 0.0637\n",
            "Epoch 57/100\n",
            "\u001b[1m69/69\u001b[0m \u001b[32m━━━━━━━━━━━━━━━━━━━━\u001b[0m\u001b[37m\u001b[0m \u001b[1m1s\u001b[0m 20ms/step - accuracy: 0.9866 - loss: 0.0689\n",
            "Epoch 58/100\n",
            "\u001b[1m69/69\u001b[0m \u001b[32m━━━━━━━━━━━━━━━━━━━━\u001b[0m\u001b[37m\u001b[0m \u001b[1m3s\u001b[0m 33ms/step - accuracy: 0.9907 - loss: 0.0632\n",
            "Epoch 59/100\n",
            "\u001b[1m69/69\u001b[0m \u001b[32m━━━━━━━━━━━━━━━━━━━━\u001b[0m\u001b[37m\u001b[0m \u001b[1m2s\u001b[0m 24ms/step - accuracy: 0.9830 - loss: 0.0674\n",
            "Epoch 60/100\n",
            "\u001b[1m69/69\u001b[0m \u001b[32m━━━━━━━━━━━━━━━━━━━━\u001b[0m\u001b[37m\u001b[0m \u001b[1m2s\u001b[0m 20ms/step - accuracy: 0.9865 - loss: 0.0613\n",
            "Epoch 61/100\n",
            "\u001b[1m69/69\u001b[0m \u001b[32m━━━━━━━━━━━━━━━━━━━━\u001b[0m\u001b[37m\u001b[0m \u001b[1m3s\u001b[0m 20ms/step - accuracy: 0.9838 - loss: 0.0627\n",
            "Epoch 62/100\n",
            "\u001b[1m69/69\u001b[0m \u001b[32m━━━━━━━━━━━━━━━━━━━━\u001b[0m\u001b[37m\u001b[0m \u001b[1m3s\u001b[0m 20ms/step - accuracy: 0.9826 - loss: 0.0612\n",
            "Epoch 63/100\n",
            "\u001b[1m69/69\u001b[0m \u001b[32m━━━━━━━━━━━━━━━━━━━━\u001b[0m\u001b[37m\u001b[0m \u001b[1m3s\u001b[0m 30ms/step - accuracy: 0.9829 - loss: 0.0601\n",
            "Epoch 64/100\n",
            "\u001b[1m69/69\u001b[0m \u001b[32m━━━━━━━━━━━━━━━━━━━━\u001b[0m\u001b[37m\u001b[0m \u001b[1m2s\u001b[0m 27ms/step - accuracy: 0.9901 - loss: 0.0583\n",
            "Epoch 65/100\n",
            "\u001b[1m69/69\u001b[0m \u001b[32m━━━━━━━━━━━━━━━━━━━━\u001b[0m\u001b[37m\u001b[0m \u001b[1m2s\u001b[0m 20ms/step - accuracy: 0.9801 - loss: 0.0628\n",
            "Epoch 66/100\n",
            "\u001b[1m69/69\u001b[0m \u001b[32m━━━━━━━━━━━━━━━━━━━━\u001b[0m\u001b[37m\u001b[0m \u001b[1m1s\u001b[0m 20ms/step - accuracy: 0.9888 - loss: 0.0433\n",
            "Epoch 67/100\n",
            "\u001b[1m69/69\u001b[0m \u001b[32m━━━━━━━━━━━━━━━━━━━━\u001b[0m\u001b[37m\u001b[0m \u001b[1m3s\u001b[0m 20ms/step - accuracy: 0.9790 - loss: 0.0594\n",
            "Epoch 68/100\n",
            "\u001b[1m69/69\u001b[0m \u001b[32m━━━━━━━━━━━━━━━━━━━━\u001b[0m\u001b[37m\u001b[0m \u001b[1m1s\u001b[0m 20ms/step - accuracy: 0.9891 - loss: 0.0443\n",
            "Epoch 69/100\n",
            "\u001b[1m69/69\u001b[0m \u001b[32m━━━━━━━━━━━━━━━━━━━━\u001b[0m\u001b[37m\u001b[0m \u001b[1m3s\u001b[0m 28ms/step - accuracy: 0.9841 - loss: 0.0495\n",
            "Epoch 70/100\n",
            "\u001b[1m69/69\u001b[0m \u001b[32m━━━━━━━━━━━━━━━━━━━━\u001b[0m\u001b[37m\u001b[0m \u001b[1m2s\u001b[0m 22ms/step - accuracy: 0.9827 - loss: 0.0572\n",
            "Epoch 71/100\n",
            "\u001b[1m69/69\u001b[0m \u001b[32m━━━━━━━━━━━━━━━━━━━━\u001b[0m\u001b[37m\u001b[0m \u001b[1m2s\u001b[0m 20ms/step - accuracy: 0.9884 - loss: 0.0442\n",
            "Epoch 72/100\n",
            "\u001b[1m69/69\u001b[0m \u001b[32m━━━━━━━━━━━━━━━━━━━━\u001b[0m\u001b[37m\u001b[0m \u001b[1m1s\u001b[0m 20ms/step - accuracy: 0.9824 - loss: 0.0522\n",
            "Epoch 73/100\n",
            "\u001b[1m69/69\u001b[0m \u001b[32m━━━━━━━━━━━━━━━━━━━━\u001b[0m\u001b[37m\u001b[0m \u001b[1m1s\u001b[0m 20ms/step - accuracy: 0.9880 - loss: 0.0378\n",
            "Epoch 74/100\n",
            "\u001b[1m69/69\u001b[0m \u001b[32m━━━━━━━━━━━━━━━━━━━━\u001b[0m\u001b[37m\u001b[0m \u001b[1m3s\u001b[0m 20ms/step - accuracy: 0.9900 - loss: 0.0389\n",
            "Epoch 75/100\n",
            "\u001b[1m69/69\u001b[0m \u001b[32m━━━━━━━━━━━━━━━━━━━━\u001b[0m\u001b[37m\u001b[0m \u001b[1m4s\u001b[0m 35ms/step - accuracy: 0.9875 - loss: 0.0372\n",
            "Epoch 76/100\n",
            "\u001b[1m69/69\u001b[0m \u001b[32m━━━━━━━━━━━━━━━━━━━━\u001b[0m\u001b[37m\u001b[0m \u001b[1m2s\u001b[0m 20ms/step - accuracy: 0.9826 - loss: 0.0427\n",
            "Epoch 77/100\n",
            "\u001b[1m69/69\u001b[0m \u001b[32m━━━━━━━━━━━━━━━━━━━━\u001b[0m\u001b[37m\u001b[0m \u001b[1m3s\u001b[0m 20ms/step - accuracy: 0.9909 - loss: 0.0349\n",
            "Epoch 78/100\n",
            "\u001b[1m69/69\u001b[0m \u001b[32m━━━━━━━━━━━━━━━━━━━━\u001b[0m\u001b[37m\u001b[0m \u001b[1m3s\u001b[0m 20ms/step - accuracy: 0.9891 - loss: 0.0362\n",
            "Epoch 79/100\n",
            "\u001b[1m69/69\u001b[0m \u001b[32m━━━━━━━━━━━━━━━━━━━━\u001b[0m\u001b[37m\u001b[0m \u001b[1m1s\u001b[0m 20ms/step - accuracy: 0.9862 - loss: 0.0443\n",
            "Epoch 80/100\n",
            "\u001b[1m69/69\u001b[0m \u001b[32m━━━━━━━━━━━━━━━━━━━━\u001b[0m\u001b[37m\u001b[0m \u001b[1m1s\u001b[0m 20ms/step - accuracy: 0.9856 - loss: 0.0403\n",
            "Epoch 81/100\n",
            "\u001b[1m69/69\u001b[0m \u001b[32m━━━━━━━━━━━━━━━━━━━━\u001b[0m\u001b[37m\u001b[0m \u001b[1m2s\u001b[0m 28ms/step - accuracy: 0.9844 - loss: 0.0459\n",
            "Epoch 82/100\n",
            "\u001b[1m69/69\u001b[0m \u001b[32m━━━━━━━━━━━━━━━━━━━━\u001b[0m\u001b[37m\u001b[0m \u001b[1m2s\u001b[0m 30ms/step - accuracy: 0.9822 - loss: 0.0374\n",
            "Epoch 83/100\n",
            "\u001b[1m69/69\u001b[0m \u001b[32m━━━━━━━━━━━━━━━━━━━━\u001b[0m\u001b[37m\u001b[0m \u001b[1m2s\u001b[0m 20ms/step - accuracy: 0.9889 - loss: 0.0331\n",
            "Epoch 84/100\n",
            "\u001b[1m69/69\u001b[0m \u001b[32m━━━━━━━━━━━━━━━━━━━━\u001b[0m\u001b[37m\u001b[0m \u001b[1m1s\u001b[0m 20ms/step - accuracy: 0.9840 - loss: 0.0472\n",
            "Epoch 85/100\n",
            "\u001b[1m69/69\u001b[0m \u001b[32m━━━━━━━━━━━━━━━━━━━━\u001b[0m\u001b[37m\u001b[0m \u001b[1m1s\u001b[0m 20ms/step - accuracy: 0.9838 - loss: 0.0397\n",
            "Epoch 86/100\n",
            "\u001b[1m69/69\u001b[0m \u001b[32m━━━━━━━━━━━━━━━━━━━━\u001b[0m\u001b[37m\u001b[0m \u001b[1m1s\u001b[0m 20ms/step - accuracy: 0.9852 - loss: 0.0362\n",
            "Epoch 87/100\n",
            "\u001b[1m69/69\u001b[0m \u001b[32m━━━━━━━━━━━━━━━━━━━━\u001b[0m\u001b[37m\u001b[0m \u001b[1m3s\u001b[0m 20ms/step - accuracy: 0.9875 - loss: 0.0371\n",
            "Epoch 88/100\n",
            "\u001b[1m69/69\u001b[0m \u001b[32m━━━━━━━━━━━━━━━━━━━━\u001b[0m\u001b[37m\u001b[0m \u001b[1m3s\u001b[0m 32ms/step - accuracy: 0.9875 - loss: 0.0384\n",
            "Epoch 89/100\n",
            "\u001b[1m69/69\u001b[0m \u001b[32m━━━━━━━━━━━━━━━━━━━━\u001b[0m\u001b[37m\u001b[0m \u001b[1m2s\u001b[0m 20ms/step - accuracy: 0.9918 - loss: 0.0264\n",
            "Epoch 90/100\n",
            "\u001b[1m69/69\u001b[0m \u001b[32m━━━━━━━━━━━━━━━━━━━━\u001b[0m\u001b[37m\u001b[0m \u001b[1m3s\u001b[0m 20ms/step - accuracy: 0.9850 - loss: 0.0335\n",
            "Epoch 91/100\n",
            "\u001b[1m69/69\u001b[0m \u001b[32m━━━━━━━━━━━━━━━━━━━━\u001b[0m\u001b[37m\u001b[0m \u001b[1m1s\u001b[0m 21ms/step - accuracy: 0.9833 - loss: 0.0414\n",
            "Epoch 92/100\n",
            "\u001b[1m69/69\u001b[0m \u001b[32m━━━━━━━━━━━━━━━━━━━━\u001b[0m\u001b[37m\u001b[0m \u001b[1m3s\u001b[0m 20ms/step - accuracy: 0.9771 - loss: 0.0481\n",
            "Epoch 93/100\n",
            "\u001b[1m69/69\u001b[0m \u001b[32m━━━━━━━━━━━━━━━━━━━━\u001b[0m\u001b[37m\u001b[0m \u001b[1m1s\u001b[0m 21ms/step - accuracy: 0.9856 - loss: 0.0361\n",
            "Epoch 94/100\n",
            "\u001b[1m69/69\u001b[0m \u001b[32m━━━━━━━━━━━━━━━━━━━━\u001b[0m\u001b[37m\u001b[0m \u001b[1m3s\u001b[0m 25ms/step - accuracy: 0.9807 - loss: 0.0499\n",
            "Epoch 95/100\n",
            "\u001b[1m69/69\u001b[0m \u001b[32m━━━━━━━━━━━━━━━━━━━━\u001b[0m\u001b[37m\u001b[0m \u001b[1m1s\u001b[0m 20ms/step - accuracy: 0.9910 - loss: 0.0312\n",
            "Epoch 96/100\n",
            "\u001b[1m69/69\u001b[0m \u001b[32m━━━━━━━━━━━━━━━━━━━━\u001b[0m\u001b[37m\u001b[0m \u001b[1m3s\u001b[0m 20ms/step - accuracy: 0.9880 - loss: 0.0405\n",
            "Epoch 97/100\n",
            "\u001b[1m69/69\u001b[0m \u001b[32m━━━━━━━━━━━━━━━━━━━━\u001b[0m\u001b[37m\u001b[0m \u001b[1m3s\u001b[0m 20ms/step - accuracy: 0.9870 - loss: 0.0331\n",
            "Epoch 98/100\n",
            "\u001b[1m69/69\u001b[0m \u001b[32m━━━━━━━━━━━━━━━━━━━━\u001b[0m\u001b[37m\u001b[0m \u001b[1m3s\u001b[0m 21ms/step - accuracy: 0.9860 - loss: 0.0357\n",
            "Epoch 99/100\n",
            "\u001b[1m69/69\u001b[0m \u001b[32m━━━━━━━━━━━━━━━━━━━━\u001b[0m\u001b[37m\u001b[0m \u001b[1m2s\u001b[0m 36ms/step - accuracy: 0.9889 - loss: 0.0306\n",
            "Epoch 100/100\n",
            "\u001b[1m69/69\u001b[0m \u001b[32m━━━━━━━━━━━━━━━━━━━━\u001b[0m\u001b[37m\u001b[0m \u001b[1m1s\u001b[0m 21ms/step - accuracy: 0.9873 - loss: 0.0319\n"
          ]
        },
        {
          "output_type": "execute_result",
          "data": {
            "text/plain": [
              "<keras.src.callbacks.history.History at 0x79b5e983e790>"
            ]
          },
          "metadata": {},
          "execution_count": 24
        }
      ]
    },
    {
      "cell_type": "code",
      "source": [
        "'''\n",
        "review_words = []\n",
        "for val,id in imdb.get_word_index().items():\n",
        "  #print(val,id)\n",
        "  if id in xtrain[0]:\n",
        "    review_words.append(val)\n",
        "\n",
        "print(review_words)\n",
        "'''"
      ],
      "metadata": {
        "id": "g-qTK7A-hk19"
      },
      "execution_count": null,
      "outputs": []
    },
    {
      "cell_type": "code",
      "source": [
        "input_text = 'India'\n",
        "predict_next_words = 30\n",
        "\n",
        "for k in range(predict_next_words):\n",
        "  #print(mytokenizer.texts_to_sequences([input_text])[0])\n",
        "  token_list = mytokenizer.texts_to_sequences([input_text])[0]\n",
        "  token_list = pad_sequences([token_list] , maxlen = max_seq_len - 1, padding = 'pre')\n",
        "  #print(token_list)\n",
        "  predicted = np.argmax(model.predict(token_list) , axis = 1)\n",
        "  output_word = \"\"\n",
        "  for val,id in mytokenizer.word_index.items():\n",
        "    if id == predicted:\n",
        "      output_word = val\n",
        "      break\n",
        "  input_text += \" \" + output_word\n",
        "\n",
        "print(input_text)"
      ],
      "metadata": {
        "colab": {
          "base_uri": "https://localhost:8080/"
        },
        "id": "FwHX5ojzefXa",
        "outputId": "2f9ad35e-e0a9-4222-ccfc-8006c980fb25"
      },
      "execution_count": null,
      "outputs": [
        {
          "output_type": "stream",
          "name": "stdout",
          "text": [
            "\u001b[1m1/1\u001b[0m \u001b[32m━━━━━━━━━━━━━━━━━━━━\u001b[0m\u001b[37m\u001b[0m \u001b[1m0s\u001b[0m 187ms/step\n",
            "\u001b[1m1/1\u001b[0m \u001b[32m━━━━━━━━━━━━━━━━━━━━\u001b[0m\u001b[37m\u001b[0m \u001b[1m0s\u001b[0m 43ms/step\n",
            "\u001b[1m1/1\u001b[0m \u001b[32m━━━━━━━━━━━━━━━━━━━━\u001b[0m\u001b[37m\u001b[0m \u001b[1m0s\u001b[0m 40ms/step\n",
            "\u001b[1m1/1\u001b[0m \u001b[32m━━━━━━━━━━━━━━━━━━━━\u001b[0m\u001b[37m\u001b[0m \u001b[1m0s\u001b[0m 42ms/step\n",
            "\u001b[1m1/1\u001b[0m \u001b[32m━━━━━━━━━━━━━━━━━━━━\u001b[0m\u001b[37m\u001b[0m \u001b[1m0s\u001b[0m 42ms/step\n",
            "\u001b[1m1/1\u001b[0m \u001b[32m━━━━━━━━━━━━━━━━━━━━\u001b[0m\u001b[37m\u001b[0m \u001b[1m0s\u001b[0m 43ms/step\n",
            "\u001b[1m1/1\u001b[0m \u001b[32m━━━━━━━━━━━━━━━━━━━━\u001b[0m\u001b[37m\u001b[0m \u001b[1m0s\u001b[0m 43ms/step\n",
            "\u001b[1m1/1\u001b[0m \u001b[32m━━━━━━━━━━━━━━━━━━━━\u001b[0m\u001b[37m\u001b[0m \u001b[1m0s\u001b[0m 44ms/step\n",
            "\u001b[1m1/1\u001b[0m \u001b[32m━━━━━━━━━━━━━━━━━━━━\u001b[0m\u001b[37m\u001b[0m \u001b[1m0s\u001b[0m 42ms/step\n",
            "\u001b[1m1/1\u001b[0m \u001b[32m━━━━━━━━━━━━━━━━━━━━\u001b[0m\u001b[37m\u001b[0m \u001b[1m0s\u001b[0m 40ms/step\n",
            "\u001b[1m1/1\u001b[0m \u001b[32m━━━━━━━━━━━━━━━━━━━━\u001b[0m\u001b[37m\u001b[0m \u001b[1m0s\u001b[0m 41ms/step\n",
            "\u001b[1m1/1\u001b[0m \u001b[32m━━━━━━━━━━━━━━━━━━━━\u001b[0m\u001b[37m\u001b[0m \u001b[1m0s\u001b[0m 40ms/step\n",
            "\u001b[1m1/1\u001b[0m \u001b[32m━━━━━━━━━━━━━━━━━━━━\u001b[0m\u001b[37m\u001b[0m \u001b[1m0s\u001b[0m 39ms/step\n",
            "\u001b[1m1/1\u001b[0m \u001b[32m━━━━━━━━━━━━━━━━━━━━\u001b[0m\u001b[37m\u001b[0m \u001b[1m0s\u001b[0m 38ms/step\n",
            "\u001b[1m1/1\u001b[0m \u001b[32m━━━━━━━━━━━━━━━━━━━━\u001b[0m\u001b[37m\u001b[0m \u001b[1m0s\u001b[0m 38ms/step\n",
            "\u001b[1m1/1\u001b[0m \u001b[32m━━━━━━━━━━━━━━━━━━━━\u001b[0m\u001b[37m\u001b[0m \u001b[1m0s\u001b[0m 39ms/step\n",
            "\u001b[1m1/1\u001b[0m \u001b[32m━━━━━━━━━━━━━━━━━━━━\u001b[0m\u001b[37m\u001b[0m \u001b[1m0s\u001b[0m 38ms/step\n",
            "\u001b[1m1/1\u001b[0m \u001b[32m━━━━━━━━━━━━━━━━━━━━\u001b[0m\u001b[37m\u001b[0m \u001b[1m0s\u001b[0m 38ms/step\n",
            "\u001b[1m1/1\u001b[0m \u001b[32m━━━━━━━━━━━━━━━━━━━━\u001b[0m\u001b[37m\u001b[0m \u001b[1m0s\u001b[0m 41ms/step\n",
            "\u001b[1m1/1\u001b[0m \u001b[32m━━━━━━━━━━━━━━━━━━━━\u001b[0m\u001b[37m\u001b[0m \u001b[1m0s\u001b[0m 44ms/step\n",
            "\u001b[1m1/1\u001b[0m \u001b[32m━━━━━━━━━━━━━━━━━━━━\u001b[0m\u001b[37m\u001b[0m \u001b[1m0s\u001b[0m 42ms/step\n",
            "\u001b[1m1/1\u001b[0m \u001b[32m━━━━━━━━━━━━━━━━━━━━\u001b[0m\u001b[37m\u001b[0m \u001b[1m0s\u001b[0m 42ms/step\n",
            "\u001b[1m1/1\u001b[0m \u001b[32m━━━━━━━━━━━━━━━━━━━━\u001b[0m\u001b[37m\u001b[0m \u001b[1m0s\u001b[0m 41ms/step\n",
            "\u001b[1m1/1\u001b[0m \u001b[32m━━━━━━━━━━━━━━━━━━━━\u001b[0m\u001b[37m\u001b[0m \u001b[1m0s\u001b[0m 40ms/step\n",
            "\u001b[1m1/1\u001b[0m \u001b[32m━━━━━━━━━━━━━━━━━━━━\u001b[0m\u001b[37m\u001b[0m \u001b[1m0s\u001b[0m 40ms/step\n",
            "\u001b[1m1/1\u001b[0m \u001b[32m━━━━━━━━━━━━━━━━━━━━\u001b[0m\u001b[37m\u001b[0m \u001b[1m0s\u001b[0m 42ms/step\n",
            "\u001b[1m1/1\u001b[0m \u001b[32m━━━━━━━━━━━━━━━━━━━━\u001b[0m\u001b[37m\u001b[0m \u001b[1m0s\u001b[0m 40ms/step\n",
            "\u001b[1m1/1\u001b[0m \u001b[32m━━━━━━━━━━━━━━━━━━━━\u001b[0m\u001b[37m\u001b[0m \u001b[1m0s\u001b[0m 40ms/step\n",
            "\u001b[1m1/1\u001b[0m \u001b[32m━━━━━━━━━━━━━━━━━━━━\u001b[0m\u001b[37m\u001b[0m \u001b[1m0s\u001b[0m 44ms/step\n",
            "\u001b[1m1/1\u001b[0m \u001b[32m━━━━━━━━━━━━━━━━━━━━\u001b[0m\u001b[37m\u001b[0m \u001b[1m0s\u001b[0m 38ms/step\n",
            "India will proceed with a 3bn purchase of the battle tested mq 9b predator drones from general atomics which will also set up a facility in india the drones will be\n"
          ]
        }
      ]
    },
    {
      "cell_type": "markdown",
      "source": [
        "**LSTM**"
      ],
      "metadata": {
        "id": "Vq3m00crW_v_"
      }
    },
    {
      "cell_type": "code",
      "source": [
        "model_lstm = models.Sequential()\n",
        "model_lstm.add(layers.Embedding(input_dim=total_words, output_dim=50, input_length=max_seq_len-1))\n",
        "model_lstm.add(layers.LSTM(82))\n",
        "model_lstm.add(layers.Dense(total_words , activation = 'softmax'))\n",
        "model_lstm.summary()"
      ],
      "metadata": {
        "id": "NrQx9ZPCgFZB",
        "colab": {
          "base_uri": "https://localhost:8080/",
          "height": 283
        },
        "outputId": "ea9814b3-caa7-4626-f14e-2c2061df4f35"
      },
      "execution_count": null,
      "outputs": [
        {
          "output_type": "stream",
          "name": "stderr",
          "text": [
            "/usr/local/lib/python3.11/dist-packages/keras/src/layers/core/embedding.py:90: UserWarning: Argument `input_length` is deprecated. Just remove it.\n",
            "  warnings.warn(\n"
          ]
        },
        {
          "output_type": "display_data",
          "data": {
            "text/plain": [
              "\u001b[1mModel: \"sequential_1\"\u001b[0m\n"
            ],
            "text/html": [
              "<pre style=\"white-space:pre;overflow-x:auto;line-height:normal;font-family:Menlo,'DejaVu Sans Mono',consolas,'Courier New',monospace\"><span style=\"font-weight: bold\">Model: \"sequential_1\"</span>\n",
              "</pre>\n"
            ]
          },
          "metadata": {}
        },
        {
          "output_type": "display_data",
          "data": {
            "text/plain": [
              "┏━━━━━━━━━━━━━━━━━━━━━━━━━━━━━━━━━┳━━━━━━━━━━━━━━━━━━━━━━━━┳━━━━━━━━━━━━━━━┓\n",
              "┃\u001b[1m \u001b[0m\u001b[1mLayer (type)                   \u001b[0m\u001b[1m \u001b[0m┃\u001b[1m \u001b[0m\u001b[1mOutput Shape          \u001b[0m\u001b[1m \u001b[0m┃\u001b[1m \u001b[0m\u001b[1m      Param #\u001b[0m\u001b[1m \u001b[0m┃\n",
              "┡━━━━━━━━━━━━━━━━━━━━━━━━━━━━━━━━━╇━━━━━━━━━━━━━━━━━━━━━━━━╇━━━━━━━━━━━━━━━┩\n",
              "│ embedding_1 (\u001b[38;5;33mEmbedding\u001b[0m)         │ ?                      │   \u001b[38;5;34m0\u001b[0m (unbuilt) │\n",
              "├─────────────────────────────────┼────────────────────────┼───────────────┤\n",
              "│ lstm (\u001b[38;5;33mLSTM\u001b[0m)                     │ ?                      │   \u001b[38;5;34m0\u001b[0m (unbuilt) │\n",
              "├─────────────────────────────────┼────────────────────────┼───────────────┤\n",
              "│ dense_1 (\u001b[38;5;33mDense\u001b[0m)                 │ ?                      │   \u001b[38;5;34m0\u001b[0m (unbuilt) │\n",
              "└─────────────────────────────────┴────────────────────────┴───────────────┘\n"
            ],
            "text/html": [
              "<pre style=\"white-space:pre;overflow-x:auto;line-height:normal;font-family:Menlo,'DejaVu Sans Mono',consolas,'Courier New',monospace\">┏━━━━━━━━━━━━━━━━━━━━━━━━━━━━━━━━━┳━━━━━━━━━━━━━━━━━━━━━━━━┳━━━━━━━━━━━━━━━┓\n",
              "┃<span style=\"font-weight: bold\"> Layer (type)                    </span>┃<span style=\"font-weight: bold\"> Output Shape           </span>┃<span style=\"font-weight: bold\">       Param # </span>┃\n",
              "┡━━━━━━━━━━━━━━━━━━━━━━━━━━━━━━━━━╇━━━━━━━━━━━━━━━━━━━━━━━━╇━━━━━━━━━━━━━━━┩\n",
              "│ embedding_1 (<span style=\"color: #0087ff; text-decoration-color: #0087ff\">Embedding</span>)         │ ?                      │   <span style=\"color: #00af00; text-decoration-color: #00af00\">0</span> (unbuilt) │\n",
              "├─────────────────────────────────┼────────────────────────┼───────────────┤\n",
              "│ lstm (<span style=\"color: #0087ff; text-decoration-color: #0087ff\">LSTM</span>)                     │ ?                      │   <span style=\"color: #00af00; text-decoration-color: #00af00\">0</span> (unbuilt) │\n",
              "├─────────────────────────────────┼────────────────────────┼───────────────┤\n",
              "│ dense_1 (<span style=\"color: #0087ff; text-decoration-color: #0087ff\">Dense</span>)                 │ ?                      │   <span style=\"color: #00af00; text-decoration-color: #00af00\">0</span> (unbuilt) │\n",
              "└─────────────────────────────────┴────────────────────────┴───────────────┘\n",
              "</pre>\n"
            ]
          },
          "metadata": {}
        },
        {
          "output_type": "display_data",
          "data": {
            "text/plain": [
              "\u001b[1m Total params: \u001b[0m\u001b[38;5;34m0\u001b[0m (0.00 B)\n"
            ],
            "text/html": [
              "<pre style=\"white-space:pre;overflow-x:auto;line-height:normal;font-family:Menlo,'DejaVu Sans Mono',consolas,'Courier New',monospace\"><span style=\"font-weight: bold\"> Total params: </span><span style=\"color: #00af00; text-decoration-color: #00af00\">0</span> (0.00 B)\n",
              "</pre>\n"
            ]
          },
          "metadata": {}
        },
        {
          "output_type": "display_data",
          "data": {
            "text/plain": [
              "\u001b[1m Trainable params: \u001b[0m\u001b[38;5;34m0\u001b[0m (0.00 B)\n"
            ],
            "text/html": [
              "<pre style=\"white-space:pre;overflow-x:auto;line-height:normal;font-family:Menlo,'DejaVu Sans Mono',consolas,'Courier New',monospace\"><span style=\"font-weight: bold\"> Trainable params: </span><span style=\"color: #00af00; text-decoration-color: #00af00\">0</span> (0.00 B)\n",
              "</pre>\n"
            ]
          },
          "metadata": {}
        },
        {
          "output_type": "display_data",
          "data": {
            "text/plain": [
              "\u001b[1m Non-trainable params: \u001b[0m\u001b[38;5;34m0\u001b[0m (0.00 B)\n"
            ],
            "text/html": [
              "<pre style=\"white-space:pre;overflow-x:auto;line-height:normal;font-family:Menlo,'DejaVu Sans Mono',consolas,'Courier New',monospace\"><span style=\"font-weight: bold\"> Non-trainable params: </span><span style=\"color: #00af00; text-decoration-color: #00af00\">0</span> (0.00 B)\n",
              "</pre>\n"
            ]
          },
          "metadata": {}
        }
      ]
    },
    {
      "cell_type": "code",
      "source": [
        "model_lstm.compile(loss = 'categorical_crossentropy' , optimizer='adam' , metrics = ['accuracy'] )\n",
        "model_lstm.fit(X,yt,epochs=100 ,  batch_size=20)"
      ],
      "metadata": {
        "colab": {
          "base_uri": "https://localhost:8080/"
        },
        "id": "rB_0n3r5XJvI",
        "outputId": "b7eaf089-fec1-4228-ec42-e1e14105513e"
      },
      "execution_count": null,
      "outputs": [
        {
          "output_type": "stream",
          "name": "stdout",
          "text": [
            "Epoch 1/100\n",
            "\u001b[1m69/69\u001b[0m \u001b[32m━━━━━━━━━━━━━━━━━━━━\u001b[0m\u001b[37m\u001b[0m \u001b[1m5s\u001b[0m 39ms/step - accuracy: 0.0365 - loss: 6.3018\n",
            "Epoch 2/100\n",
            "\u001b[1m69/69\u001b[0m \u001b[32m━━━━━━━━━━━━━━━━━━━━\u001b[0m\u001b[37m\u001b[0m \u001b[1m5s\u001b[0m 43ms/step - accuracy: 0.0537 - loss: 5.7679\n",
            "Epoch 3/100\n",
            "\u001b[1m69/69\u001b[0m \u001b[32m━━━━━━━━━━━━━━━━━━━━\u001b[0m\u001b[37m\u001b[0m \u001b[1m3s\u001b[0m 40ms/step - accuracy: 0.0469 - loss: 5.7474\n",
            "Epoch 4/100\n",
            "\u001b[1m69/69\u001b[0m \u001b[32m━━━━━━━━━━━━━━━━━━━━\u001b[0m\u001b[37m\u001b[0m \u001b[1m5s\u001b[0m 41ms/step - accuracy: 0.0627 - loss: 5.6415\n",
            "Epoch 5/100\n",
            "\u001b[1m69/69\u001b[0m \u001b[32m━━━━━━━━━━━━━━━━━━━━\u001b[0m\u001b[37m\u001b[0m \u001b[1m4s\u001b[0m 54ms/step - accuracy: 0.0668 - loss: 5.4652\n",
            "Epoch 6/100\n",
            "\u001b[1m69/69\u001b[0m \u001b[32m━━━━━━━━━━━━━━━━━━━━\u001b[0m\u001b[37m\u001b[0m \u001b[1m4s\u001b[0m 39ms/step - accuracy: 0.0496 - loss: 5.5244\n",
            "Epoch 7/100\n",
            "\u001b[1m69/69\u001b[0m \u001b[32m━━━━━━━━━━━━━━━━━━━━\u001b[0m\u001b[37m\u001b[0m \u001b[1m6s\u001b[0m 45ms/step - accuracy: 0.0710 - loss: 5.3281\n",
            "Epoch 8/100\n",
            "\u001b[1m69/69\u001b[0m \u001b[32m━━━━━━━━━━━━━━━━━━━━\u001b[0m\u001b[37m\u001b[0m \u001b[1m5s\u001b[0m 39ms/step - accuracy: 0.0669 - loss: 5.2241\n",
            "Epoch 9/100\n",
            "\u001b[1m69/69\u001b[0m \u001b[32m━━━━━━━━━━━━━━━━━━━━\u001b[0m\u001b[37m\u001b[0m \u001b[1m5s\u001b[0m 39ms/step - accuracy: 0.0745 - loss: 5.0576\n",
            "Epoch 10/100\n",
            "\u001b[1m69/69\u001b[0m \u001b[32m━━━━━━━━━━━━━━━━━━━━\u001b[0m\u001b[37m\u001b[0m \u001b[1m5s\u001b[0m 44ms/step - accuracy: 0.0947 - loss: 4.8865\n",
            "Epoch 11/100\n",
            "\u001b[1m69/69\u001b[0m \u001b[32m━━━━━━━━━━━━━━━━━━━━\u001b[0m\u001b[37m\u001b[0m \u001b[1m5s\u001b[0m 39ms/step - accuracy: 0.1067 - loss: 4.7228\n",
            "Epoch 12/100\n",
            "\u001b[1m69/69\u001b[0m \u001b[32m━━━━━━━━━━━━━━━━━━━━\u001b[0m\u001b[37m\u001b[0m \u001b[1m3s\u001b[0m 39ms/step - accuracy: 0.1053 - loss: 4.5920\n",
            "Epoch 13/100\n",
            "\u001b[1m69/69\u001b[0m \u001b[32m━━━━━━━━━━━━━━━━━━━━\u001b[0m\u001b[37m\u001b[0m \u001b[1m4s\u001b[0m 56ms/step - accuracy: 0.1398 - loss: 4.3854\n",
            "Epoch 14/100\n",
            "\u001b[1m69/69\u001b[0m \u001b[32m━━━━━━━━━━━━━━━━━━━━\u001b[0m\u001b[37m\u001b[0m \u001b[1m3s\u001b[0m 40ms/step - accuracy: 0.1415 - loss: 4.2710\n",
            "Epoch 15/100\n",
            "\u001b[1m69/69\u001b[0m \u001b[32m━━━━━━━━━━━━━━━━━━━━\u001b[0m\u001b[37m\u001b[0m \u001b[1m3s\u001b[0m 39ms/step - accuracy: 0.1362 - loss: 4.1625\n",
            "Epoch 16/100\n",
            "\u001b[1m69/69\u001b[0m \u001b[32m━━━━━━━━━━━━━━━━━━━━\u001b[0m\u001b[37m\u001b[0m \u001b[1m6s\u001b[0m 56ms/step - accuracy: 0.1607 - loss: 4.0492\n",
            "Epoch 17/100\n",
            "\u001b[1m69/69\u001b[0m \u001b[32m━━━━━━━━━━━━━━━━━━━━\u001b[0m\u001b[37m\u001b[0m \u001b[1m4s\u001b[0m 40ms/step - accuracy: 0.1809 - loss: 3.9082\n",
            "Epoch 18/100\n",
            "\u001b[1m69/69\u001b[0m \u001b[32m━━━━━━━━━━━━━━━━━━━━\u001b[0m\u001b[37m\u001b[0m \u001b[1m3s\u001b[0m 39ms/step - accuracy: 0.2047 - loss: 3.7248\n",
            "Epoch 19/100\n",
            "\u001b[1m69/69\u001b[0m \u001b[32m━━━━━━━━━━━━━━━━━━━━\u001b[0m\u001b[37m\u001b[0m \u001b[1m3s\u001b[0m 39ms/step - accuracy: 0.2219 - loss: 3.6762\n",
            "Epoch 20/100\n",
            "\u001b[1m69/69\u001b[0m \u001b[32m━━━━━━━━━━━━━━━━━━━━\u001b[0m\u001b[37m\u001b[0m \u001b[1m5s\u001b[0m 39ms/step - accuracy: 0.2348 - loss: 3.5059\n",
            "Epoch 21/100\n",
            "\u001b[1m69/69\u001b[0m \u001b[32m━━━━━━━━━━━━━━━━━━━━\u001b[0m\u001b[37m\u001b[0m \u001b[1m5s\u001b[0m 39ms/step - accuracy: 0.2836 - loss: 3.3698\n",
            "Epoch 22/100\n",
            "\u001b[1m69/69\u001b[0m \u001b[32m━━━━━━━━━━━━━━━━━━━━\u001b[0m\u001b[37m\u001b[0m \u001b[1m6s\u001b[0m 52ms/step - accuracy: 0.3041 - loss: 3.2243\n",
            "Epoch 23/100\n",
            "\u001b[1m69/69\u001b[0m \u001b[32m━━━━━━━━━━━━━━━━━━━━\u001b[0m\u001b[37m\u001b[0m \u001b[1m3s\u001b[0m 39ms/step - accuracy: 0.3335 - loss: 3.1443\n",
            "Epoch 24/100\n",
            "\u001b[1m69/69\u001b[0m \u001b[32m━━━━━━━━━━━━━━━━━━━━\u001b[0m\u001b[37m\u001b[0m \u001b[1m3s\u001b[0m 39ms/step - accuracy: 0.3863 - loss: 3.0219\n",
            "Epoch 25/100\n",
            "\u001b[1m69/69\u001b[0m \u001b[32m━━━━━━━━━━━━━━━━━━━━\u001b[0m\u001b[37m\u001b[0m \u001b[1m6s\u001b[0m 57ms/step - accuracy: 0.4071 - loss: 2.9091\n",
            "Epoch 26/100\n",
            "\u001b[1m69/69\u001b[0m \u001b[32m━━━━━━━━━━━━━━━━━━━━\u001b[0m\u001b[37m\u001b[0m \u001b[1m3s\u001b[0m 39ms/step - accuracy: 0.4319 - loss: 2.8199\n",
            "Epoch 27/100\n",
            "\u001b[1m69/69\u001b[0m \u001b[32m━━━━━━━━━━━━━━━━━━━━\u001b[0m\u001b[37m\u001b[0m \u001b[1m5s\u001b[0m 39ms/step - accuracy: 0.4608 - loss: 2.6886\n",
            "Epoch 28/100\n",
            "\u001b[1m69/69\u001b[0m \u001b[32m━━━━━━━━━━━━━━━━━━━━\u001b[0m\u001b[37m\u001b[0m \u001b[1m3s\u001b[0m 50ms/step - accuracy: 0.5138 - loss: 2.5284\n",
            "Epoch 29/100\n",
            "\u001b[1m69/69\u001b[0m \u001b[32m━━━━━━━━━━━━━━━━━━━━\u001b[0m\u001b[37m\u001b[0m \u001b[1m3s\u001b[0m 45ms/step - accuracy: 0.5226 - loss: 2.4696\n",
            "Epoch 30/100\n",
            "\u001b[1m69/69\u001b[0m \u001b[32m━━━━━━━━━━━━━━━━━━━━\u001b[0m\u001b[37m\u001b[0m \u001b[1m3s\u001b[0m 39ms/step - accuracy: 0.5477 - loss: 2.3945\n",
            "Epoch 31/100\n",
            "\u001b[1m69/69\u001b[0m \u001b[32m━━━━━━━━━━━━━━━━━━━━\u001b[0m\u001b[37m\u001b[0m \u001b[1m5s\u001b[0m 40ms/step - accuracy: 0.6235 - loss: 2.2280\n",
            "Epoch 32/100\n",
            "\u001b[1m69/69\u001b[0m \u001b[32m━━━━━━━━━━━━━━━━━━━━\u001b[0m\u001b[37m\u001b[0m \u001b[1m5s\u001b[0m 40ms/step - accuracy: 0.6255 - loss: 2.1434\n",
            "Epoch 33/100\n",
            "\u001b[1m69/69\u001b[0m \u001b[32m━━━━━━━━━━━━━━━━━━━━\u001b[0m\u001b[37m\u001b[0m \u001b[1m3s\u001b[0m 39ms/step - accuracy: 0.6409 - loss: 2.0545\n",
            "Epoch 34/100\n",
            "\u001b[1m69/69\u001b[0m \u001b[32m━━━━━━━━━━━━━━━━━━━━\u001b[0m\u001b[37m\u001b[0m \u001b[1m3s\u001b[0m 39ms/step - accuracy: 0.6815 - loss: 1.9364\n",
            "Epoch 35/100\n",
            "\u001b[1m69/69\u001b[0m \u001b[32m━━━━━━━━━━━━━━━━━━━━\u001b[0m\u001b[37m\u001b[0m \u001b[1m5s\u001b[0m 41ms/step - accuracy: 0.6794 - loss: 1.8950\n",
            "Epoch 36/100\n",
            "\u001b[1m69/69\u001b[0m \u001b[32m━━━━━━━━━━━━━━━━━━━━\u001b[0m\u001b[37m\u001b[0m \u001b[1m5s\u001b[0m 39ms/step - accuracy: 0.7007 - loss: 1.7906\n",
            "Epoch 37/100\n",
            "\u001b[1m69/69\u001b[0m \u001b[32m━━━━━━━━━━━━━━━━━━━━\u001b[0m\u001b[37m\u001b[0m \u001b[1m6s\u001b[0m 56ms/step - accuracy: 0.7243 - loss: 1.7059\n",
            "Epoch 38/100\n",
            "\u001b[1m69/69\u001b[0m \u001b[32m━━━━━━━━━━━━━━━━━━━━\u001b[0m\u001b[37m\u001b[0m \u001b[1m4s\u001b[0m 39ms/step - accuracy: 0.7453 - loss: 1.6498\n",
            "Epoch 39/100\n",
            "\u001b[1m69/69\u001b[0m \u001b[32m━━━━━━━━━━━━━━━━━━━━\u001b[0m\u001b[37m\u001b[0m \u001b[1m3s\u001b[0m 40ms/step - accuracy: 0.7672 - loss: 1.5345\n",
            "Epoch 40/100\n",
            "\u001b[1m69/69\u001b[0m \u001b[32m━━━━━━━━━━━━━━━━━━━━\u001b[0m\u001b[37m\u001b[0m \u001b[1m6s\u001b[0m 55ms/step - accuracy: 0.7843 - loss: 1.5212\n",
            "Epoch 41/100\n",
            "\u001b[1m69/69\u001b[0m \u001b[32m━━━━━━━━━━━━━━━━━━━━\u001b[0m\u001b[37m\u001b[0m \u001b[1m3s\u001b[0m 39ms/step - accuracy: 0.8058 - loss: 1.4055\n",
            "Epoch 42/100\n",
            "\u001b[1m69/69\u001b[0m \u001b[32m━━━━━━━━━━━━━━━━━━━━\u001b[0m\u001b[37m\u001b[0m \u001b[1m3s\u001b[0m 39ms/step - accuracy: 0.8262 - loss: 1.3270\n",
            "Epoch 43/100\n",
            "\u001b[1m69/69\u001b[0m \u001b[32m━━━━━━━━━━━━━━━━━━━━\u001b[0m\u001b[37m\u001b[0m \u001b[1m3s\u001b[0m 39ms/step - accuracy: 0.8357 - loss: 1.2598\n",
            "Epoch 44/100\n",
            "\u001b[1m69/69\u001b[0m \u001b[32m━━━━━━━━━━━━━━━━━━━━\u001b[0m\u001b[37m\u001b[0m \u001b[1m5s\u001b[0m 39ms/step - accuracy: 0.8637 - loss: 1.1865\n",
            "Epoch 45/100\n",
            "\u001b[1m69/69\u001b[0m \u001b[32m━━━━━━━━━━━━━━━━━━━━\u001b[0m\u001b[37m\u001b[0m \u001b[1m5s\u001b[0m 39ms/step - accuracy: 0.8784 - loss: 1.1316\n",
            "Epoch 46/100\n",
            "\u001b[1m69/69\u001b[0m \u001b[32m━━━━━━━━━━━━━━━━━━━━\u001b[0m\u001b[37m\u001b[0m \u001b[1m6s\u001b[0m 51ms/step - accuracy: 0.8753 - loss: 1.0790\n",
            "Epoch 47/100\n",
            "\u001b[1m69/69\u001b[0m \u001b[32m━━━━━━━━━━━━━━━━━━━━\u001b[0m\u001b[37m\u001b[0m \u001b[1m3s\u001b[0m 40ms/step - accuracy: 0.8654 - loss: 1.0583\n",
            "Epoch 48/100\n",
            "\u001b[1m69/69\u001b[0m \u001b[32m━━━━━━━━━━━━━━━━━━━━\u001b[0m\u001b[37m\u001b[0m \u001b[1m3s\u001b[0m 39ms/step - accuracy: 0.8786 - loss: 1.0016\n",
            "Epoch 49/100\n",
            "\u001b[1m69/69\u001b[0m \u001b[32m━━━━━━━━━━━━━━━━━━━━\u001b[0m\u001b[37m\u001b[0m \u001b[1m3s\u001b[0m 39ms/step - accuracy: 0.9038 - loss: 0.9191\n",
            "Epoch 50/100\n",
            "\u001b[1m69/69\u001b[0m \u001b[32m━━━━━━━━━━━━━━━━━━━━\u001b[0m\u001b[37m\u001b[0m \u001b[1m5s\u001b[0m 39ms/step - accuracy: 0.9128 - loss: 0.8589\n",
            "Epoch 51/100\n",
            "\u001b[1m69/69\u001b[0m \u001b[32m━━━━━━━━━━━━━━━━━━━━\u001b[0m\u001b[37m\u001b[0m \u001b[1m3s\u001b[0m 39ms/step - accuracy: 0.9105 - loss: 0.8099\n",
            "Epoch 52/100\n",
            "\u001b[1m69/69\u001b[0m \u001b[32m━━━━━━━━━━━━━━━━━━━━\u001b[0m\u001b[37m\u001b[0m \u001b[1m6s\u001b[0m 52ms/step - accuracy: 0.9256 - loss: 0.7628\n",
            "Epoch 53/100\n",
            "\u001b[1m69/69\u001b[0m \u001b[32m━━━━━━━━━━━━━━━━━━━━\u001b[0m\u001b[37m\u001b[0m \u001b[1m4s\u001b[0m 39ms/step - accuracy: 0.9258 - loss: 0.7429\n",
            "Epoch 54/100\n",
            "\u001b[1m69/69\u001b[0m \u001b[32m━━━━━━━━━━━━━━━━━━━━\u001b[0m\u001b[37m\u001b[0m \u001b[1m5s\u001b[0m 39ms/step - accuracy: 0.9226 - loss: 0.7167\n",
            "Epoch 55/100\n",
            "\u001b[1m69/69\u001b[0m \u001b[32m━━━━━━━━━━━━━━━━━━━━\u001b[0m\u001b[37m\u001b[0m \u001b[1m4s\u001b[0m 57ms/step - accuracy: 0.9375 - loss: 0.6664\n",
            "Epoch 56/100\n",
            "\u001b[1m69/69\u001b[0m \u001b[32m━━━━━━━━━━━━━━━━━━━━\u001b[0m\u001b[37m\u001b[0m \u001b[1m4s\u001b[0m 40ms/step - accuracy: 0.9363 - loss: 0.6403\n",
            "Epoch 57/100\n",
            "\u001b[1m69/69\u001b[0m \u001b[32m━━━━━━━━━━━━━━━━━━━━\u001b[0m\u001b[37m\u001b[0m \u001b[1m5s\u001b[0m 40ms/step - accuracy: 0.9497 - loss: 0.5849\n",
            "Epoch 58/100\n",
            "\u001b[1m69/69\u001b[0m \u001b[32m━━━━━━━━━━━━━━━━━━━━\u001b[0m\u001b[37m\u001b[0m \u001b[1m4s\u001b[0m 57ms/step - accuracy: 0.9451 - loss: 0.5657\n",
            "Epoch 59/100\n",
            "\u001b[1m69/69\u001b[0m \u001b[32m━━━━━━━━━━━━━━━━━━━━\u001b[0m\u001b[37m\u001b[0m \u001b[1m4s\u001b[0m 39ms/step - accuracy: 0.9595 - loss: 0.5322\n",
            "Epoch 60/100\n",
            "\u001b[1m69/69\u001b[0m \u001b[32m━━━━━━━━━━━━━━━━━━━━\u001b[0m\u001b[37m\u001b[0m \u001b[1m5s\u001b[0m 39ms/step - accuracy: 0.9468 - loss: 0.5343\n",
            "Epoch 61/100\n",
            "\u001b[1m69/69\u001b[0m \u001b[32m━━━━━━━━━━━━━━━━━━━━\u001b[0m\u001b[37m\u001b[0m \u001b[1m5s\u001b[0m 39ms/step - accuracy: 0.9596 - loss: 0.4802\n",
            "Epoch 62/100\n",
            "\u001b[1m69/69\u001b[0m \u001b[32m━━━━━━━━━━━━━━━━━━━━\u001b[0m\u001b[37m\u001b[0m \u001b[1m3s\u001b[0m 40ms/step - accuracy: 0.9709 - loss: 0.4429\n",
            "Epoch 63/100\n",
            "\u001b[1m69/69\u001b[0m \u001b[32m━━━━━━━━━━━━━━━━━━━━\u001b[0m\u001b[37m\u001b[0m \u001b[1m6s\u001b[0m 47ms/step - accuracy: 0.9597 - loss: 0.4632\n",
            "Epoch 64/100\n",
            "\u001b[1m69/69\u001b[0m \u001b[32m━━━━━━━━━━━━━━━━━━━━\u001b[0m\u001b[37m\u001b[0m \u001b[1m5s\u001b[0m 40ms/step - accuracy: 0.9710 - loss: 0.4323\n",
            "Epoch 65/100\n",
            "\u001b[1m69/69\u001b[0m \u001b[32m━━━━━━━━━━━━━━━━━━━━\u001b[0m\u001b[37m\u001b[0m \u001b[1m5s\u001b[0m 39ms/step - accuracy: 0.9706 - loss: 0.4041\n",
            "Epoch 66/100\n",
            "\u001b[1m69/69\u001b[0m \u001b[32m━━━━━━━━━━━━━━━━━━━━\u001b[0m\u001b[37m\u001b[0m \u001b[1m5s\u001b[0m 44ms/step - accuracy: 0.9720 - loss: 0.3918\n",
            "Epoch 67/100\n",
            "\u001b[1m69/69\u001b[0m \u001b[32m━━━━━━━━━━━━━━━━━━━━\u001b[0m\u001b[37m\u001b[0m \u001b[1m5s\u001b[0m 40ms/step - accuracy: 0.9719 - loss: 0.3757\n",
            "Epoch 68/100\n",
            "\u001b[1m69/69\u001b[0m \u001b[32m━━━━━━━━━━━━━━━━━━━━\u001b[0m\u001b[37m\u001b[0m \u001b[1m6s\u001b[0m 56ms/step - accuracy: 0.9753 - loss: 0.3531\n",
            "Epoch 69/100\n",
            "\u001b[1m69/69\u001b[0m \u001b[32m━━━━━━━━━━━━━━━━━━━━\u001b[0m\u001b[37m\u001b[0m \u001b[1m4s\u001b[0m 39ms/step - accuracy: 0.9761 - loss: 0.3509\n",
            "Epoch 70/100\n",
            "\u001b[1m69/69\u001b[0m \u001b[32m━━━━━━━━━━━━━━━━━━━━\u001b[0m\u001b[37m\u001b[0m \u001b[1m3s\u001b[0m 39ms/step - accuracy: 0.9688 - loss: 0.3336\n",
            "Epoch 71/100\n",
            "\u001b[1m69/69\u001b[0m \u001b[32m━━━━━━━━━━━━━━━━━━━━\u001b[0m\u001b[37m\u001b[0m \u001b[1m6s\u001b[0m 57ms/step - accuracy: 0.9761 - loss: 0.3127\n",
            "Epoch 72/100\n",
            "\u001b[1m69/69\u001b[0m \u001b[32m━━━━━━━━━━━━━━━━━━━━\u001b[0m\u001b[37m\u001b[0m \u001b[1m3s\u001b[0m 40ms/step - accuracy: 0.9790 - loss: 0.3060\n",
            "Epoch 73/100\n",
            "\u001b[1m69/69\u001b[0m \u001b[32m━━━━━━━━━━━━━━━━━━━━\u001b[0m\u001b[37m\u001b[0m \u001b[1m5s\u001b[0m 40ms/step - accuracy: 0.9818 - loss: 0.2782\n",
            "Epoch 74/100\n",
            "\u001b[1m69/69\u001b[0m \u001b[32m━━━━━━━━━━━━━━━━━━━━\u001b[0m\u001b[37m\u001b[0m \u001b[1m4s\u001b[0m 55ms/step - accuracy: 0.9752 - loss: 0.2793\n",
            "Epoch 75/100\n",
            "\u001b[1m69/69\u001b[0m \u001b[32m━━━━━━━━━━━━━━━━━━━━\u001b[0m\u001b[37m\u001b[0m \u001b[1m3s\u001b[0m 42ms/step - accuracy: 0.9802 - loss: 0.2615\n",
            "Epoch 76/100\n",
            "\u001b[1m69/69\u001b[0m \u001b[32m━━━━━━━━━━━━━━━━━━━━\u001b[0m\u001b[37m\u001b[0m \u001b[1m5s\u001b[0m 40ms/step - accuracy: 0.9832 - loss: 0.2460\n",
            "Epoch 77/100\n",
            "\u001b[1m69/69\u001b[0m \u001b[32m━━━━━━━━━━━━━━━━━━━━\u001b[0m\u001b[37m\u001b[0m \u001b[1m3s\u001b[0m 42ms/step - accuracy: 0.9820 - loss: 0.2430\n",
            "Epoch 78/100\n",
            "\u001b[1m69/69\u001b[0m \u001b[32m━━━━━━━━━━━━━━━━━━━━\u001b[0m\u001b[37m\u001b[0m \u001b[1m5s\u001b[0m 39ms/step - accuracy: 0.9804 - loss: 0.2263\n",
            "Epoch 79/100\n",
            "\u001b[1m69/69\u001b[0m \u001b[32m━━━━━━━━━━━━━━━━━━━━\u001b[0m\u001b[37m\u001b[0m \u001b[1m3s\u001b[0m 40ms/step - accuracy: 0.9773 - loss: 0.2356\n",
            "Epoch 80/100\n",
            "\u001b[1m69/69\u001b[0m \u001b[32m━━━━━━━━━━━━━━━━━━━━\u001b[0m\u001b[37m\u001b[0m \u001b[1m3s\u001b[0m 40ms/step - accuracy: 0.9805 - loss: 0.2189\n",
            "Epoch 81/100\n",
            "\u001b[1m69/69\u001b[0m \u001b[32m━━━━━━━━━━━━━━━━━━━━\u001b[0m\u001b[37m\u001b[0m \u001b[1m4s\u001b[0m 57ms/step - accuracy: 0.9808 - loss: 0.2028\n",
            "Epoch 82/100\n",
            "\u001b[1m69/69\u001b[0m \u001b[32m━━━━━━━━━━━━━━━━━━━━\u001b[0m\u001b[37m\u001b[0m \u001b[1m3s\u001b[0m 40ms/step - accuracy: 0.9811 - loss: 0.1914\n",
            "Epoch 83/100\n",
            "\u001b[1m69/69\u001b[0m \u001b[32m━━━━━━━━━━━━━━━━━━━━\u001b[0m\u001b[37m\u001b[0m \u001b[1m5s\u001b[0m 40ms/step - accuracy: 0.9889 - loss: 0.1779\n",
            "Epoch 84/100\n",
            "\u001b[1m69/69\u001b[0m \u001b[32m━━━━━━━━━━━━━━━━━━━━\u001b[0m\u001b[37m\u001b[0m \u001b[1m6s\u001b[0m 51ms/step - accuracy: 0.9822 - loss: 0.1811\n",
            "Epoch 85/100\n",
            "\u001b[1m69/69\u001b[0m \u001b[32m━━━━━━━━━━━━━━━━━━━━\u001b[0m\u001b[37m\u001b[0m \u001b[1m4s\u001b[0m 40ms/step - accuracy: 0.9874 - loss: 0.1719\n",
            "Epoch 86/100\n",
            "\u001b[1m69/69\u001b[0m \u001b[32m━━━━━━━━━━━━━━━━━━━━\u001b[0m\u001b[37m\u001b[0m \u001b[1m3s\u001b[0m 39ms/step - accuracy: 0.9864 - loss: 0.1717\n",
            "Epoch 87/100\n",
            "\u001b[1m69/69\u001b[0m \u001b[32m━━━━━━━━━━━━━━━━━━━━\u001b[0m\u001b[37m\u001b[0m \u001b[1m4s\u001b[0m 56ms/step - accuracy: 0.9832 - loss: 0.1591\n",
            "Epoch 88/100\n",
            "\u001b[1m69/69\u001b[0m \u001b[32m━━━━━━━━━━━━━━━━━━━━\u001b[0m\u001b[37m\u001b[0m \u001b[1m3s\u001b[0m 41ms/step - accuracy: 0.9880 - loss: 0.1479\n",
            "Epoch 89/100\n",
            "\u001b[1m69/69\u001b[0m \u001b[32m━━━━━━━━━━━━━━━━━━━━\u001b[0m\u001b[37m\u001b[0m \u001b[1m5s\u001b[0m 40ms/step - accuracy: 0.9789 - loss: 0.1569\n",
            "Epoch 90/100\n",
            "\u001b[1m69/69\u001b[0m \u001b[32m━━━━━━━━━━━━━━━━━━━━\u001b[0m\u001b[37m\u001b[0m \u001b[1m6s\u001b[0m 56ms/step - accuracy: 0.9827 - loss: 0.1497\n",
            "Epoch 91/100\n",
            "\u001b[1m69/69\u001b[0m \u001b[32m━━━━━━━━━━━━━━━━━━━━\u001b[0m\u001b[37m\u001b[0m \u001b[1m4s\u001b[0m 39ms/step - accuracy: 0.9843 - loss: 0.1402\n",
            "Epoch 92/100\n",
            "\u001b[1m69/69\u001b[0m \u001b[32m━━━━━━━━━━━━━━━━━━━━\u001b[0m\u001b[37m\u001b[0m \u001b[1m5s\u001b[0m 42ms/step - accuracy: 0.9912 - loss: 0.1295\n",
            "Epoch 93/100\n",
            "\u001b[1m69/69\u001b[0m \u001b[32m━━━━━━━━━━━━━━━━━━━━\u001b[0m\u001b[37m\u001b[0m \u001b[1m5s\u001b[0m 39ms/step - accuracy: 0.9845 - loss: 0.1334\n",
            "Epoch 94/100\n",
            "\u001b[1m69/69\u001b[0m \u001b[32m━━━━━━━━━━━━━━━━━━━━\u001b[0m\u001b[37m\u001b[0m \u001b[1m3s\u001b[0m 39ms/step - accuracy: 0.9832 - loss: 0.1412\n",
            "Epoch 95/100\n",
            "\u001b[1m69/69\u001b[0m \u001b[32m━━━━━━━━━━━━━━━━━━━━\u001b[0m\u001b[37m\u001b[0m \u001b[1m6s\u001b[0m 56ms/step - accuracy: 0.9902 - loss: 0.1171\n",
            "Epoch 96/100\n",
            "\u001b[1m69/69\u001b[0m \u001b[32m━━━━━━━━━━━━━━━━━━━━\u001b[0m\u001b[37m\u001b[0m \u001b[1m4s\u001b[0m 40ms/step - accuracy: 0.9873 - loss: 0.1151\n",
            "Epoch 97/100\n",
            "\u001b[1m69/69\u001b[0m \u001b[32m━━━━━━━━━━━━━━━━━━━━\u001b[0m\u001b[37m\u001b[0m \u001b[1m3s\u001b[0m 40ms/step - accuracy: 0.9859 - loss: 0.1136\n",
            "Epoch 98/100\n",
            "\u001b[1m69/69\u001b[0m \u001b[32m━━━━━━━━━━━━━━━━━━━━\u001b[0m\u001b[37m\u001b[0m \u001b[1m3s\u001b[0m 40ms/step - accuracy: 0.9857 - loss: 0.1113\n",
            "Epoch 99/100\n",
            "\u001b[1m69/69\u001b[0m \u001b[32m━━━━━━━━━━━━━━━━━━━━\u001b[0m\u001b[37m\u001b[0m \u001b[1m5s\u001b[0m 40ms/step - accuracy: 0.9854 - loss: 0.1042\n",
            "Epoch 100/100\n",
            "\u001b[1m69/69\u001b[0m \u001b[32m━━━━━━━━━━━━━━━━━━━━\u001b[0m\u001b[37m\u001b[0m \u001b[1m3s\u001b[0m 40ms/step - accuracy: 0.9844 - loss: 0.1065\n"
          ]
        },
        {
          "output_type": "execute_result",
          "data": {
            "text/plain": [
              "<keras.src.callbacks.history.History at 0x79b5322139d0>"
            ]
          },
          "metadata": {},
          "execution_count": 26
        }
      ]
    },
    {
      "cell_type": "code",
      "source": [
        "input_text = 'India'\n",
        "predict_next_words = 30\n",
        "\n",
        "for k in range(predict_next_words):\n",
        "  #print(mytokenizer.texts_to_sequences([input_text])[0])\n",
        "  token_list = mytokenizer.texts_to_sequences([input_text])[0]\n",
        "  token_list = pad_sequences([token_list] , maxlen = max_seq_len - 1, padding = 'pre')\n",
        "  #print(token_list)\n",
        "  predicted = np.argmax(model_lstm.predict(token_list) , axis = 1)\n",
        "  output_word = \"\"\n",
        "  for val,id in mytokenizer.word_index.items():\n",
        "    if id == predicted:\n",
        "      output_word = val\n",
        "      break\n",
        "  input_text += \" \" + output_word\n",
        "\n",
        "print(input_text)"
      ],
      "metadata": {
        "colab": {
          "base_uri": "https://localhost:8080/"
        },
        "id": "O9XShONoY43q",
        "outputId": "6b661172-2f66-4993-ba34-91ac5d7c5e3e"
      },
      "execution_count": null,
      "outputs": [
        {
          "output_type": "stream",
          "name": "stdout",
          "text": [
            "\u001b[1m1/1\u001b[0m \u001b[32m━━━━━━━━━━━━━━━━━━━━\u001b[0m\u001b[37m\u001b[0m \u001b[1m0s\u001b[0m 197ms/step\n",
            "\u001b[1m1/1\u001b[0m \u001b[32m━━━━━━━━━━━━━━━━━━━━\u001b[0m\u001b[37m\u001b[0m \u001b[1m0s\u001b[0m 42ms/step\n",
            "\u001b[1m1/1\u001b[0m \u001b[32m━━━━━━━━━━━━━━━━━━━━\u001b[0m\u001b[37m\u001b[0m \u001b[1m0s\u001b[0m 42ms/step\n",
            "\u001b[1m1/1\u001b[0m \u001b[32m━━━━━━━━━━━━━━━━━━━━\u001b[0m\u001b[37m\u001b[0m \u001b[1m0s\u001b[0m 46ms/step\n",
            "\u001b[1m1/1\u001b[0m \u001b[32m━━━━━━━━━━━━━━━━━━━━\u001b[0m\u001b[37m\u001b[0m \u001b[1m0s\u001b[0m 55ms/step\n",
            "\u001b[1m1/1\u001b[0m \u001b[32m━━━━━━━━━━━━━━━━━━━━\u001b[0m\u001b[37m\u001b[0m \u001b[1m0s\u001b[0m 46ms/step\n",
            "\u001b[1m1/1\u001b[0m \u001b[32m━━━━━━━━━━━━━━━━━━━━\u001b[0m\u001b[37m\u001b[0m \u001b[1m0s\u001b[0m 44ms/step\n",
            "\u001b[1m1/1\u001b[0m \u001b[32m━━━━━━━━━━━━━━━━━━━━\u001b[0m\u001b[37m\u001b[0m \u001b[1m0s\u001b[0m 42ms/step\n",
            "\u001b[1m1/1\u001b[0m \u001b[32m━━━━━━━━━━━━━━━━━━━━\u001b[0m\u001b[37m\u001b[0m \u001b[1m0s\u001b[0m 46ms/step\n",
            "\u001b[1m1/1\u001b[0m \u001b[32m━━━━━━━━━━━━━━━━━━━━\u001b[0m\u001b[37m\u001b[0m \u001b[1m0s\u001b[0m 43ms/step\n",
            "\u001b[1m1/1\u001b[0m \u001b[32m━━━━━━━━━━━━━━━━━━━━\u001b[0m\u001b[37m\u001b[0m \u001b[1m0s\u001b[0m 42ms/step\n",
            "\u001b[1m1/1\u001b[0m \u001b[32m━━━━━━━━━━━━━━━━━━━━\u001b[0m\u001b[37m\u001b[0m \u001b[1m0s\u001b[0m 40ms/step\n",
            "\u001b[1m1/1\u001b[0m \u001b[32m━━━━━━━━━━━━━━━━━━━━\u001b[0m\u001b[37m\u001b[0m \u001b[1m0s\u001b[0m 49ms/step\n",
            "\u001b[1m1/1\u001b[0m \u001b[32m━━━━━━━━━━━━━━━━━━━━\u001b[0m\u001b[37m\u001b[0m \u001b[1m0s\u001b[0m 40ms/step\n",
            "\u001b[1m1/1\u001b[0m \u001b[32m━━━━━━━━━━━━━━━━━━━━\u001b[0m\u001b[37m\u001b[0m \u001b[1m0s\u001b[0m 40ms/step\n",
            "\u001b[1m1/1\u001b[0m \u001b[32m━━━━━━━━━━━━━━━━━━━━\u001b[0m\u001b[37m\u001b[0m \u001b[1m0s\u001b[0m 47ms/step\n",
            "\u001b[1m1/1\u001b[0m \u001b[32m━━━━━━━━━━━━━━━━━━━━\u001b[0m\u001b[37m\u001b[0m \u001b[1m0s\u001b[0m 50ms/step\n",
            "\u001b[1m1/1\u001b[0m \u001b[32m━━━━━━━━━━━━━━━━━━━━\u001b[0m\u001b[37m\u001b[0m \u001b[1m0s\u001b[0m 44ms/step\n",
            "\u001b[1m1/1\u001b[0m \u001b[32m━━━━━━━━━━━━━━━━━━━━\u001b[0m\u001b[37m\u001b[0m \u001b[1m0s\u001b[0m 45ms/step\n",
            "\u001b[1m1/1\u001b[0m \u001b[32m━━━━━━━━━━━━━━━━━━━━\u001b[0m\u001b[37m\u001b[0m \u001b[1m0s\u001b[0m 44ms/step\n",
            "\u001b[1m1/1\u001b[0m \u001b[32m━━━━━━━━━━━━━━━━━━━━\u001b[0m\u001b[37m\u001b[0m \u001b[1m0s\u001b[0m 44ms/step\n",
            "\u001b[1m1/1\u001b[0m \u001b[32m━━━━━━━━━━━━━━━━━━━━\u001b[0m\u001b[37m\u001b[0m \u001b[1m0s\u001b[0m 42ms/step\n",
            "\u001b[1m1/1\u001b[0m \u001b[32m━━━━━━━━━━━━━━━━━━━━\u001b[0m\u001b[37m\u001b[0m \u001b[1m0s\u001b[0m 45ms/step\n",
            "\u001b[1m1/1\u001b[0m \u001b[32m━━━━━━━━━━━━━━━━━━━━\u001b[0m\u001b[37m\u001b[0m \u001b[1m0s\u001b[0m 41ms/step\n",
            "\u001b[1m1/1\u001b[0m \u001b[32m━━━━━━━━━━━━━━━━━━━━\u001b[0m\u001b[37m\u001b[0m \u001b[1m0s\u001b[0m 43ms/step\n",
            "\u001b[1m1/1\u001b[0m \u001b[32m━━━━━━━━━━━━━━━━━━━━\u001b[0m\u001b[37m\u001b[0m \u001b[1m0s\u001b[0m 49ms/step\n",
            "\u001b[1m1/1\u001b[0m \u001b[32m━━━━━━━━━━━━━━━━━━━━\u001b[0m\u001b[37m\u001b[0m \u001b[1m0s\u001b[0m 40ms/step\n",
            "\u001b[1m1/1\u001b[0m \u001b[32m━━━━━━━━━━━━━━━━━━━━\u001b[0m\u001b[37m\u001b[0m \u001b[1m0s\u001b[0m 45ms/step\n",
            "\u001b[1m1/1\u001b[0m \u001b[32m━━━━━━━━━━━━━━━━━━━━\u001b[0m\u001b[37m\u001b[0m \u001b[1m0s\u001b[0m 44ms/step\n",
            "\u001b[1m1/1\u001b[0m \u001b[32m━━━━━━━━━━━━━━━━━━━━\u001b[0m\u001b[37m\u001b[0m \u001b[1m0s\u001b[0m 46ms/step\n",
            "India never wanted to be seen in one camp or the other or to be seen as junior strategic partner to a global superpower mr modi has not left the ideals\n"
          ]
        }
      ]
    },
    {
      "cell_type": "code",
      "source": [],
      "metadata": {
        "id": "AtwZhb4vazSi"
      },
      "execution_count": null,
      "outputs": []
    }
  ]
}